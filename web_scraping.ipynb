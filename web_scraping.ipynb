{
 "cells": [
  {
   "cell_type": "markdown",
   "metadata": {},
   "source": [
    "# Module 1 - Lab: Web scraping\n",
    "\n",
    "Publicly available web data can be gathered from web sources in one of two ways.\n",
    "\n",
    "1. **Via web scraping**: reading and parsing source code from a web page.\n",
    "2. **Via Application Program Interfaces (API)**: sending HTTP requests using a website's predefined set of protocols for requesting data. \n",
    "\n",
    "This lab provides a quick introduction along with some example code for the first method, web scraping.\n",
    "\n",
    "## Web scraping\n",
    "A normal web scraping workflow goes something like the following:\n",
    "1. Read<sup>1</sup> into an R environment the website source code, known as Extensible Markup Language (XML), associated with a specified URL. XML is similar to HTML only its designed for storing rather than displaying data.\n",
    "2. Parse the XML document via elements (e.g., `<p>...</p>`) and attributes (e.g., `<h1 screen-name=\"internet_user\">`). Elements, or the nodes used to extract certain sections of source code, can be identified with tags (name of HTML tag, e.g., `p`), classes (denoted with an initial period, e.g., `.post`), and ids (denoted with an initial pound sign, e.g., `#main`) as according to CSS selectors or XPath.\n",
    "3. Organize parsed values into lists, data frames, etc.\n",
    "\n",
    "<sup>1</sup>To capture dynamic content, users can also use a Selenium driver/headless browser (for an example [see this StackExchange thread](https://stackoverflow.com/questions/29861117/r-rvest-scraping-a-dynamic-ecommerce-page); cf, [non-Selenium alternative version](https://gist.github.com/hrbrmstr/4cabe4af87bd2c5fe664b0b44a574366)). ***NOTE***: This course won't actually cover this web scraping method, though it may come in handy to know that it exists."
   ]
  },
  {
   "cell_type": "markdown",
   "metadata": {},
   "source": [
    "### Web scraping in R\n",
    "The {rvest} package makes web scraping in R easy."
   ]
  },
  {
   "cell_type": "code",
   "execution_count": 1,
   "metadata": {
    "collapsed": true,
    "scrolled": true
   },
   "outputs": [],
   "source": [
    "## load rvest\n",
    "suppressPackageStartupMessages(library(rvest))"
   ]
  },
  {
   "cell_type": "markdown",
   "metadata": {},
   "source": [
    "The two most important functions are `read_html()`, which is actually imported from the {xml2} package by {rvest}, and `html_nodes()`.\n",
    "\n",
    "`read_html()` reads the content associated with a given URL into an R session and then stores it as an object of class `xml_document`."
   ]
  },
  {
   "cell_type": "code",
   "execution_count": 2,
   "metadata": {},
   "outputs": [
    {
     "data": {
      "text/plain": [
       "{xml_document}\n",
       "<html>\n",
       "[1] <head>\\n<meta http-equiv=\"Content-Type\" content=\"text/html; charset=UTF-8 ...\n",
       "[2] <body>\\n    <div id=\"slider\" class=\"fullwidth cycle-slideshow\" data-cycle ..."
      ]
     },
     "metadata": {},
     "output_type": "display_data"
    }
   ],
   "source": [
    "## read a websites XML\n",
    "(h <- read_html(\"https://www.tiobe.com/tiobe-index/r/\"))"
   ]
  },
  {
   "cell_type": "markdown",
   "metadata": {},
   "source": [
    "`html_nodes()` filters an xml document by CSS selector(s) or XPath values."
   ]
  },
  {
   "cell_type": "code",
   "execution_count": 3,
   "metadata": {},
   "outputs": [
    {
     "data": {
      "text/plain": [
       "{xml_nodeset (3)}\n",
       "[1] <p>TIOBE releases TICS 9.0.0 with over 200 improvements, a.o., TQI Securi ...\n",
       "[2] <p>Programming language C is the language of 2017 in the TIOBE index (mos ...\n",
       "[3] <p>The NavKit project has the best TIOBE Quality Indicator (TQI) score of ..."
      ]
     },
     "metadata": {},
     "output_type": "display_data"
    }
   ],
   "source": [
    "## html_nodes\n",
    "h %>%\n",
    "  html_nodes(\"div p\") "
   ]
  },
  {
   "cell_type": "markdown",
   "metadata": {},
   "source": [
    "Other useful functions include `html_text()` (for extracting text), `html_attr()` (for extracting XML attribute values), and `html_table()` (for extracting tables)."
   ]
  },
  {
   "cell_type": "code",
   "execution_count": 4,
   "metadata": {},
   "outputs": [
    {
     "data": {
      "text/html": [
       "<ol class=list-inline>\n",
       "\t<li>'TIOBE releases TICS 9.0.0 with over 200 improvements, a.o., TQI Security, Root Cause Analysis and Simulink support.'</li>\n",
       "\t<li>'Programming language C is the language of 2017 in the TIOBE index (most increase in ratings in one year).'</li>\n",
       "\t<li>'The NavKit project has the best TIOBE Quality Indicator (TQI) score of more than 3,000 industrial projects.'</li>\n",
       "</ol>\n"
      ],
      "text/latex": [
       "\\begin{enumerate*}\n",
       "\\item 'TIOBE releases TICS 9.0.0 with over 200 improvements, a.o., TQI Security, Root Cause Analysis and Simulink support.'\n",
       "\\item 'Programming language C is the language of 2017 in the TIOBE index (most increase in ratings in one year).'\n",
       "\\item 'The NavKit project has the best TIOBE Quality Indicator (TQI) score of more than 3,000 industrial projects.'\n",
       "\\end{enumerate*}\n"
      ],
      "text/markdown": [
       "1. 'TIOBE releases TICS 9.0.0 with over 200 improvements, a.o., TQI Security, Root Cause Analysis and Simulink support.'\n",
       "2. 'Programming language C is the language of 2017 in the TIOBE index (most increase in ratings in one year).'\n",
       "3. 'The NavKit project has the best TIOBE Quality Indicator (TQI) score of more than 3,000 industrial projects.'\n",
       "\n",
       "\n"
      ],
      "text/plain": [
       "[1] \"TIOBE releases TICS 9.0.0 with over 200 improvements, a.o., TQI Security, Root Cause Analysis and Simulink support.\"\n",
       "[2] \"Programming language C is the language of 2017 in the TIOBE index (most increase in ratings in one year).\"          \n",
       "[3] \"The NavKit project has the best TIOBE Quality Indicator (TQI) score of more than 3,000 industrial projects.\"        "
      ]
     },
     "metadata": {},
     "output_type": "display_data"
    },
    {
     "data": {
      "text/html": [
       "<ol class=list-inline>\n",
       "\t<li>NA</li>\n",
       "\t<li>NA</li>\n",
       "\t<li>'60'</li>\n",
       "\t<li>'60'</li>\n",
       "\t<li>'60'</li>\n",
       "</ol>\n"
      ],
      "text/latex": [
       "\\begin{enumerate*}\n",
       "\\item NA\n",
       "\\item NA\n",
       "\\item '60'\n",
       "\\item '60'\n",
       "\\item '60'\n",
       "\\end{enumerate*}\n"
      ],
      "text/markdown": [
       "1. NA\n",
       "2. NA\n",
       "3. '60'\n",
       "4. '60'\n",
       "5. '60'\n",
       "\n",
       "\n"
      ],
      "text/plain": [
       "[1] NA   NA   \"60\" \"60\" \"60\""
      ]
     },
     "metadata": {},
     "output_type": "display_data"
    }
   ],
   "source": [
    "## return the paragraph text\n",
    "h %>%\n",
    "  html_nodes(\"div p\") %>%\n",
    "  html_text(trim = TRUE)\n",
    "\n",
    "## return attribute value\n",
    "h %>%\n",
    "  html_nodes(\"img\") %>%\n",
    "  html_attr(\"width\")"
   ]
  },
  {
   "cell_type": "markdown",
   "metadata": {},
   "source": [
    "More in-depth examples of web scraping using the {httr} package can be found in this week's labs notebooks."
   ]
  }
 ],
 "metadata": {
  "kernelspec": {
   "display_name": "R",
   "language": "R",
   "name": "ir"
  },
  "language_info": {
   "codemirror_mode": "r",
   "file_extension": ".r",
   "mimetype": "text/x-r-source",
   "name": "R",
   "pygments_lexer": "r",
   "version": "3.4.1"
  }
 },
 "nbformat": 4,
 "nbformat_minor": 2
}
