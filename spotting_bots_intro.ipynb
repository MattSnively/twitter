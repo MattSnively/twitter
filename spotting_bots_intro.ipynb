{
 "cells": [
  {
   "cell_type": "markdown",
   "metadata": {},
   "source": [
    "# Module 5 Practice\n",
    "\n",
    "In this module we will practice extracting and comparing features between probable-bots and probable-not-bots."
   ]
  },
  {
   "cell_type": "markdown",
   "metadata": {},
   "source": [
    "### Extract features\n",
    "\n",
    "In machine learning, feature extraction refers to the process of defining features of the data via numeric variables. Machine learning isn't restricted by theory, so any number you can come up with that's derived from the data at hand will work. With that said, theoretically meaningful features are better predictors than spurious relationships due to noise, so it's not usually a good idea to find completely unrelated numbers to line-up with each observation. A good rule of thumb with this data would be to keep feature extraction limited to what you can extract out of the provided data set.\n",
    "\n",
    "If you haven't guessed it yet, the task for this week's module will be to classify whether accounts are bot or not bots using features extracted from Twitter users data. And to extract the features, go ahead and load the tidyverse."
   ]
  },
  {
   "cell_type": "code",
   "execution_count": 1,
   "metadata": {
    "collapsed": true
   },
   "outputs": [],
   "source": [
    "## load tidyverse\n",
    "suppressPackageStartupMessages(library(tidyverse))"
   ]
  },
  {
   "cell_type": "markdown",
   "metadata": {},
   "source": [
    "For this practice notebook, I extracted several features, split the data into training and test sets (making sure that the training set has an equal number of bots and not-bots), modeled the data using the {gbm} package, and then compared predicted to actual bot/not-bot classifications. The steps are listed below. In this week's exercise you'll only be asked to (a) come up with at least 3 new features, (b) play around the parameters in the gbm model, and (c) report the percent correct for classifications of the bots and non-bots in the test data set. "
   ]
  },
  {
   "cell_type": "markdown",
   "metadata": {},
   "source": [
    "## Data\n",
    "\n",
    "For the data, I collected data on about 6,697 Twitter accounts. I believe 4,243 of those accounts are genuine (non-automated) accounts and 2,454 are bots. I then randomly split the data set into a **training** set and a **test** set. In the training data, I made sure there were equal numbers of bots versus non-bots. Since we are not using the test data to build our actual model, it is not important to have equal group sizes in the test data set.\n",
    "\n",
    "### 1. Load the data"
   ]
  },
  {
   "cell_type": "code",
   "execution_count": 2,
   "metadata": {
    "collapsed": true,
    "scrolled": true
   },
   "outputs": [],
   "source": [
    "## read in the data (train and test)\n",
    "train <- readRDS(\"../data/train.rds\")\n",
    "test <- readRDS(\"../data/test.rds\")"
   ]
  },
  {
   "cell_type": "markdown",
   "metadata": {},
   "source": [
    "### 2. How many bots and non-bots are in each data set?"
   ]
  },
  {
   "cell_type": "code",
   "execution_count": 3,
   "metadata": {},
   "outputs": [
    {
     "data": {
      "text/plain": [
       "train_bot\n",
       "   0    1 \n",
       "1604 1604 "
      ]
     },
     "metadata": {},
     "output_type": "display_data"
    },
    {
     "data": {
      "text/plain": [
       "test_bot\n",
       "   0    1 \n",
       "2437  799 "
      ]
     },
     "metadata": {},
     "output_type": "display_data"
    }
   ],
   "source": [
    "## bot == 1, not-bot == 0\n",
    "table(train_bot = train$bot)\n",
    "table(test_bot = test$bot)"
   ]
  },
  {
   "cell_type": "markdown",
   "metadata": {
    "collapsed": true,
    "scrolled": true
   },
   "source": [
    "### 3. Come up with 6 new features (numeric predictors)"
   ]
  },
  {
   "cell_type": "code",
   "execution_count": 4,
   "metadata": {
    "collapsed": true
   },
   "outputs": [],
   "source": [
    "## feature extraction\n",
    "is_num <- function(x) is.numeric(x) | is.integer(x)\n",
    "extract_features <- function(data) {\n",
    "    ## mutate 6 new features\n",
    "    data %>% \n",
    "        mutate(\n",
    "            'bio_chars' = nchar(description),\n",
    "            'verified' = as.integer(verified),\n",
    "            'years' = as.integer(difftime(Sys.time(), account_created_at, \"days\")) / 365,\n",
    "            ## i added one here so it wouldn't return NaN or undefined values (0 / x)\n",
    "            'tweets_to_followers' = (statuses_count + 1) / (followers_count + 1),\n",
    "            'statuses_rate' = statuses_count / years,\n",
    "            ## i added one here so it wouldn't return NaN or undefined values (0 / x)\n",
    "            'ff_ratio' = (followers_count + 1) / (friends_count + followers_count + 1)) %>%\n",
    "        ## return only numeric variables\n",
    "        select_if(is_num)\n",
    "}\n",
    "\n",
    "ftrain <- extract_features(train)\n",
    "ftest <- extract_features(test)"
   ]
  },
  {
   "cell_type": "markdown",
   "metadata": {},
   "source": [
    "### 4. Merge the data sets, group by the `bot` variable (whether the observations are bots), and summarise the numeric variables."
   ]
  },
  {
   "cell_type": "code",
   "execution_count": 5,
   "metadata": {
    "scrolled": true
   },
   "outputs": [
    {
     "data": {
      "text/html": [
       "<table>\n",
       "<thead><tr><th scope=col>bot</th><th scope=col>followers_count</th><th scope=col>friends_count</th><th scope=col>listed_count</th><th scope=col>statuses_count</th><th scope=col>favourites_count</th><th scope=col>verified</th><th scope=col>bio_chars</th><th scope=col>years</th><th scope=col>tweets_to_followers</th><th scope=col>statuses_rate</th><th scope=col>ff_ratio</th></tr></thead>\n",
       "<tbody>\n",
       "\t<tr><td>0        </td><td>1497     </td><td>338      </td><td>24       </td><td>21596    </td><td>6406     </td><td>0        </td><td>67       </td><td>5.600000 </td><td>11.811940</td><td>4913.503 </td><td>0.7878366</td></tr>\n",
       "\t<tr><td>1        </td><td> 857     </td><td>249      </td><td>21       </td><td> 5491    </td><td>  94     </td><td>0        </td><td>97       </td><td>3.989041 </td><td> 8.531579</td><td>1504.555 </td><td>0.6463078</td></tr>\n",
       "</tbody>\n",
       "</table>\n"
      ],
      "text/latex": [
       "\\begin{tabular}{r|llllllllllll}\n",
       " bot & followers\\_count & friends\\_count & listed\\_count & statuses\\_count & favourites\\_count & verified & bio\\_chars & years & tweets\\_to\\_followers & statuses\\_rate & ff\\_ratio\\\\\n",
       "\\hline\n",
       "\t 0         & 1497      & 338       & 24        & 21596     & 6406      & 0         & 67        & 5.600000  & 11.811940 & 4913.503  & 0.7878366\\\\\n",
       "\t 1         &  857      & 249       & 21        &  5491     &   94      & 0         & 97        & 3.989041  &  8.531579 & 1504.555  & 0.6463078\\\\\n",
       "\\end{tabular}\n"
      ],
      "text/markdown": [
       "\n",
       "bot | followers_count | friends_count | listed_count | statuses_count | favourites_count | verified | bio_chars | years | tweets_to_followers | statuses_rate | ff_ratio | \n",
       "|---|---|\n",
       "| 0         | 1497      | 338       | 24        | 21596     | 6406      | 0         | 67        | 5.600000  | 11.811940 | 4913.503  | 0.7878366 | \n",
       "| 1         |  857      | 249       | 21        |  5491     |   94      | 0         | 97        | 3.989041  |  8.531579 | 1504.555  | 0.6463078 | \n",
       "\n",
       "\n"
      ],
      "text/plain": [
       "  bot followers_count friends_count listed_count statuses_count\n",
       "1 0   1497            338           24           21596         \n",
       "2 1    857            249           21            5491         \n",
       "  favourites_count verified bio_chars years    tweets_to_followers\n",
       "1 6406             0        67        5.600000 11.811940          \n",
       "2   94             0        97        3.989041  8.531579          \n",
       "  statuses_rate ff_ratio \n",
       "1 4913.503      0.7878366\n",
       "2 1504.555      0.6463078"
      ]
     },
     "metadata": {},
     "output_type": "display_data"
    }
   ],
   "source": [
    "bind_rows(ftrain, ftest) %>%\n",
    "    group_by(bot) %>%\n",
    "    summarise_if(is_num, median, na.rm = TRUE)"
   ]
  },
  {
   "cell_type": "markdown",
   "metadata": {},
   "source": [
    "### 5. Train a model predicting whether each observation is a bot."
   ]
  },
  {
   "cell_type": "code",
   "execution_count": 6,
   "metadata": {
    "collapsed": true,
    "scrolled": true
   },
   "outputs": [],
   "source": [
    "## load gbm package\n",
    "suppressPackageStartupMessages(library(gbm))"
   ]
  },
  {
   "cell_type": "code",
   "execution_count": 7,
   "metadata": {
    "collapsed": true
   },
   "outputs": [],
   "source": [
    "## number of trees\n",
    "n_trees <- 500\n",
    "\n",
    "## set params and run model (~ . means use all other variables)\n",
    "m1 <- gbm(bot ~ .,\n",
    "          data = ftrain,\n",
    "          n.trees = n_trees,\n",
    "          interaction.depth = 4,\n",
    "          cv.folds = 2,\n",
    "          verbose = FALSE,\n",
    "          distribution = \"bernoulli\",\n",
    "          n.minobsinnode = 10,\n",
    "          shrinkage = .025)"
   ]
  },
  {
   "cell_type": "markdown",
   "metadata": {},
   "source": [
    "### 6. Summarise the model by looking up the relative influence of each feature."
   ]
  },
  {
   "cell_type": "code",
   "execution_count": 8,
   "metadata": {},
   "outputs": [
    {
     "data": {
      "text/html": [
       "<table>\n",
       "<thead><tr><th></th><th scope=col>var</th><th scope=col>rel.inf</th></tr></thead>\n",
       "<tbody>\n",
       "\t<tr><th scope=row>ff_ratio</th><td>ff_ratio           </td><td>32.319320          </td></tr>\n",
       "\t<tr><th scope=row>friends_count</th><td>friends_count      </td><td>25.430048          </td></tr>\n",
       "\t<tr><th scope=row>favourites_count</th><td>favourites_count   </td><td>20.351480          </td></tr>\n",
       "\t<tr><th scope=row>statuses_rate</th><td>statuses_rate      </td><td> 4.903556          </td></tr>\n",
       "\t<tr><th scope=row>listed_count</th><td>listed_count       </td><td> 4.402853          </td></tr>\n",
       "\t<tr><th scope=row>tweets_to_followers</th><td>tweets_to_followers</td><td> 2.753572          </td></tr>\n",
       "\t<tr><th scope=row>followers_count</th><td>followers_count    </td><td> 2.286390          </td></tr>\n",
       "\t<tr><th scope=row>bio_chars</th><td>bio_chars          </td><td> 2.260802          </td></tr>\n",
       "\t<tr><th scope=row>years</th><td>years              </td><td> 2.064818          </td></tr>\n",
       "\t<tr><th scope=row>statuses_count</th><td>statuses_count     </td><td> 1.944522          </td></tr>\n",
       "\t<tr><th scope=row>verified</th><td>verified           </td><td> 1.282638          </td></tr>\n",
       "</tbody>\n",
       "</table>\n"
      ],
      "text/latex": [
       "\\begin{tabular}{r|ll}\n",
       "  & var & rel.inf\\\\\n",
       "\\hline\n",
       "\tff\\_ratio & ff\\_ratio            & 32.319320            \\\\\n",
       "\tfriends\\_count & friends\\_count       & 25.430048            \\\\\n",
       "\tfavourites\\_count & favourites\\_count    & 20.351480            \\\\\n",
       "\tstatuses\\_rate & statuses\\_rate       &  4.903556            \\\\\n",
       "\tlisted\\_count & listed\\_count        &  4.402853            \\\\\n",
       "\ttweets\\_to\\_followers & tweets\\_to\\_followers &  2.753572              \\\\\n",
       "\tfollowers\\_count & followers\\_count     &  2.286390            \\\\\n",
       "\tbio\\_chars & bio\\_chars           &  2.260802            \\\\\n",
       "\tyears & years               &  2.064818          \\\\\n",
       "\tstatuses\\_count & statuses\\_count      &  1.944522            \\\\\n",
       "\tverified & verified            &  1.282638          \\\\\n",
       "\\end{tabular}\n"
      ],
      "text/markdown": [
       "\n",
       "| <!--/--> | var | rel.inf | \n",
       "|---|---|---|---|---|---|---|---|---|---|---|\n",
       "| ff_ratio | ff_ratio            | 32.319320           | \n",
       "| friends_count | friends_count       | 25.430048           | \n",
       "| favourites_count | favourites_count    | 20.351480           | \n",
       "| statuses_rate | statuses_rate       |  4.903556           | \n",
       "| listed_count | listed_count        |  4.402853           | \n",
       "| tweets_to_followers | tweets_to_followers |  2.753572           | \n",
       "| followers_count | followers_count     |  2.286390           | \n",
       "| bio_chars | bio_chars           |  2.260802           | \n",
       "| years | years               |  2.064818           | \n",
       "| statuses_count | statuses_count      |  1.944522           | \n",
       "| verified | verified            |  1.282638           | \n",
       "\n",
       "\n"
      ],
      "text/plain": [
       "                    var                 rel.inf  \n",
       "ff_ratio            ff_ratio            32.319320\n",
       "friends_count       friends_count       25.430048\n",
       "favourites_count    favourites_count    20.351480\n",
       "statuses_rate       statuses_rate        4.903556\n",
       "listed_count        listed_count         4.402853\n",
       "tweets_to_followers tweets_to_followers  2.753572\n",
       "followers_count     followers_count      2.286390\n",
       "bio_chars           bio_chars            2.260802\n",
       "years               years                2.064818\n",
       "statuses_count      statuses_count       1.944522\n",
       "verified            verified             1.282638"
      ]
     },
     "metadata": {},
     "output_type": "display_data"
    }
   ],
   "source": [
    "summary(m1, plotit = FALSE)"
   ]
  },
  {
   "cell_type": "markdown",
   "metadata": {},
   "source": [
    "### 7. Check percent correct on training data set."
   ]
  },
  {
   "cell_type": "code",
   "execution_count": 9,
   "metadata": {
    "collapsed": true
   },
   "outputs": [],
   "source": [
    "ftrain$pred <- predict(m1, n.trees = n_trees, type = \"response\")"
   ]
  },
  {
   "cell_type": "code",
   "execution_count": 10,
   "metadata": {
    "scrolled": true
   },
   "outputs": [
    {
     "name": "stderr",
     "output_type": "stream",
     "text": [
      "The model was 89.3% accurate when classifying bots.\n",
      "\n",
      "The model was 92.3% accurate when classifying non-bots.\n",
      "\n",
      "Overall, the model was correct 90.8% of the time.\n"
     ]
    }
   ],
   "source": [
    "percent_correct <- function(x) {\n",
    "    x <- table(correct = x$pred > .5, bot = x$bot)\n",
    "    pc <- round((x[2, 2]) / sum(x[, 2]), 3)\n",
    "    pc <- as.character(pc * 100)\n",
    "    message(sprintf(\"The model was %s%% accurate when classifying bots.\\n\", pc))\n",
    "    pc <- round((x[1, 1]) / sum(x[, 1]), 3)\n",
    "    pc <- as.character(pc * 100)\n",
    "    message(sprintf(\"The model was %s%% accurate when classifying non-bots.\\n\", pc))\n",
    "    pc <- round((x[1, 1] + x[2, 2]) / sum(c(x[, 1], x[, 2])), 3)\n",
    "    pc <- as.character(pc * 100)\n",
    "    message(sprintf(\"Overall, the model was correct %s%% of the time.\", pc))\n",
    "}\n",
    "percent_correct(ftrain)"
   ]
  },
  {
   "cell_type": "markdown",
   "metadata": {},
   "source": [
    "### 8. Now, for the final task, classify the test data and report the percent correct again."
   ]
  },
  {
   "cell_type": "code",
   "execution_count": 11,
   "metadata": {},
   "outputs": [
    {
     "name": "stderr",
     "output_type": "stream",
     "text": [
      "The model was 86.9% accurate when classifying bots.\n",
      "\n",
      "The model was 89% accurate when classifying non-bots.\n",
      "\n",
      "Overall, the model was correct 88.5% of the time.\n"
     ]
    }
   ],
   "source": [
    "ftest$pred <- predict(m1, newdata = ftest, n.trees = n_trees, type = \"response\")\n",
    "percent_correct(ftest)"
   ]
  },
  {
   "cell_type": "code",
   "execution_count": null,
   "metadata": {
    "collapsed": true
   },
   "outputs": [],
   "source": []
  }
 ],
 "metadata": {
  "kernelspec": {
   "display_name": "R",
   "language": "R",
   "name": "ir"
  },
  "language_info": {
   "codemirror_mode": "r",
   "file_extension": ".r",
   "mimetype": "text/x-r-source",
   "name": "R",
   "pygments_lexer": "r",
   "version": "3.4.1"
  }
 },
 "nbformat": 4,
 "nbformat_minor": 2
}
