{
 "cells": [
  {
   "cell_type": "markdown",
   "metadata": {},
   "source": [
    "# Module 4: Practice\n",
    "\n",
    "This week's exercises examines different methods of collecting Twitter data in realtime. Before we start doing any specific tasks, load rtweet and the tidyverse."
   ]
  },
  {
   "cell_type": "code",
   "execution_count": 1,
   "metadata": {
    "collapsed": true
   },
   "outputs": [],
   "source": [
    "library(rtweet)\n",
    "suppressPackageStartupMessages(library(tidyverse))"
   ]
  },
  {
   "cell_type": "markdown",
   "metadata": {},
   "source": [
    "### 1. Use the `statuses/sample` API to stream a \"random sample\" of tweets for 5 minutes."
   ]
  },
  {
   "cell_type": "code",
   "execution_count": 2,
   "metadata": {
    "scrolled": true
   },
   "outputs": [
    {
     "name": "stderr",
     "output_type": "stream",
     "text": [
      "Streaming tweets for 300 seconds...\n"
     ]
    },
    {
     "name": "stdout",
     "output_type": "stream",
     "text": [
      "Downloading: 5.3 MB       "
     ]
    },
    {
     "name": "stderr",
     "output_type": "stream",
     "text": [
      "Finished streaming tweets!\n",
      "opening file input connection.\n"
     ]
    },
    {
     "name": "stdout",
     "output_type": "stream",
     "text": [
      "\r",
      " Found 500 records...\r",
      " Found 1000 records...\r",
      " Found 1500 records...\r",
      " Found 2000 records...\r",
      " Found 2500 records...\r",
      " Found 3000 records...\r",
      " Found 3500 records...\r",
      " Found 3577 records...\r",
      " Imported 3577 records. Simplifying...\n"
     ]
    },
    {
     "name": "stderr",
     "output_type": "stream",
     "text": [
      "closing file input connection.\n"
     ]
    }
   ],
   "source": [
    "st1 <- stream_tweets(timeout = 60 * 5)"
   ]
  },
  {
   "cell_type": "markdown",
   "metadata": {},
   "source": [
    "### 2. Try to exploit the `statuses/filter/track` API to get as many tweets as indiscriminately as you can for 5 minutes. Here's I've given you two different hacks I quickly came up with for doing this:"
   ]
  },
  {
   "cell_type": "code",
   "execution_count": 9,
   "metadata": {},
   "outputs": [
    {
     "name": "stderr",
     "output_type": "stream",
     "text": [
      "Streaming tweets for 300 seconds...\n"
     ]
    },
    {
     "name": "stdout",
     "output_type": "stream",
     "text": [
      "Downloading: 3.5 MB       "
     ]
    },
    {
     "name": "stderr",
     "output_type": "stream",
     "text": [
      "Finished streaming tweets!\n",
      "opening file input connection.\n"
     ]
    },
    {
     "name": "stdout",
     "output_type": "stream",
     "text": [
      "\r",
      " Found 500 records...\r",
      " Found 1000 records...\r",
      " Found 1500 records...\r",
      " Found 2000 records...\r",
      " Found 2214 records...\r",
      " Imported 2214 records. Simplifying...\n"
     ]
    },
    {
     "name": "stderr",
     "output_type": "stream",
     "text": [
      "closing file input connection.\n"
     ]
    }
   ],
   "source": [
    "## i went to : https://www.google.com/search?q=language+translation \n",
    "## and translated the word \"the\" into the following languages:\n",
    "## arabic, chinese, finnish, french, german, hindi, indonesian, japanese, mongolian, portugese, russian, spanish\n",
    "qthe <- \"و,和,ja,the,et,und,तथा,dan,そして,e,과,болон,e,а также,ve,y\"\n",
    "\n",
    "## i wanted to find a way to search for spaces. the plus sign operates like a space, so i figured I'd try\n",
    "## something weird like this\n",
    "qpunct <- \"+-,+.,+ \"\n",
    "\n",
    "## enter qthe or qpunct in the first argument below\n",
    "st2 <- stream_tweets(qpunct, timeout = 60 * 5)"
   ]
  },
  {
   "cell_type": "markdown",
   "metadata": {},
   "source": [
    "### 3. Use the `statuses/filter/locations` API to stream tweets from all over the world for 5 minutes."
   ]
  },
  {
   "cell_type": "code",
   "execution_count": 4,
   "metadata": {},
   "outputs": [
    {
     "name": "stderr",
     "output_type": "stream",
     "text": [
      "Streaming tweets for 300 seconds...\n"
     ]
    },
    {
     "name": "stdout",
     "output_type": "stream",
     "text": [
      "Downloading: 4.3 MB       "
     ]
    },
    {
     "name": "stderr",
     "output_type": "stream",
     "text": [
      "Finished streaming tweets!\n",
      "opening file input connection.\n"
     ]
    },
    {
     "name": "stdout",
     "output_type": "stream",
     "text": [
      "\r",
      " Found 500 records...\r",
      " Found 1000 records...\r",
      " Found 1500 records...\r",
      " Found 2000 records...\r",
      " Found 2500 records...\r",
      " Found 3000 records...\r",
      " Found 3225 records...\r",
      " Imported 3225 records. Simplifying...\n"
     ]
    },
    {
     "name": "stderr",
     "output_type": "stream",
     "text": [
      "closing file input connection.\n"
     ]
    }
   ],
   "source": [
    "st3 <- stream_tweets(lookup_coords(\"world\"), timeout = 60 * 5)"
   ]
  },
  {
   "cell_type": "markdown",
   "metadata": {},
   "source": [
    "### 4. Merge the tweets data with the users data for each of the 3 data sets gathered in 1-3."
   ]
  },
  {
   "cell_type": "code",
   "execution_count": 5,
   "metadata": {
    "collapsed": true
   },
   "outputs": [],
   "source": [
    "## function to join\n",
    "join_rtweet <- function(x) {\n",
    "    users <- users_data(x)\n",
    "    users <- users[, names(users) != \"screen_name\"]\n",
    "    users <- users[!duplicated(users$user_id), ]\n",
    "    dplyr::left_join(x, users, by = \"user_id\")\n",
    "}\n",
    "\n",
    "## merge tweets and users data for each\n",
    "st1 <- join_rtweet(st1)\n",
    "st2 <- join_rtweet(st2)\n",
    "st3 <- join_rtweet(st3)"
   ]
  },
  {
   "cell_type": "markdown",
   "metadata": {},
   "source": [
    "### 5. (a) Create a new variable named `stream_method` for each of the data sets. Using the strings `\"statuses/sample\"`, `\"statuses/filter/track\"`, and `\"statuses/filter/locations\"`, assign the values for the new variable in each data set appropriately. (b) Merge all three data sets into a single data set."
   ]
  },
  {
   "cell_type": "code",
   "execution_count": 6,
   "metadata": {
    "collapsed": true
   },
   "outputs": [],
   "source": [
    "## create stream_method variable\n",
    "st1$stream_method <- \"statuses/sample\"\n",
    "st2$stream_method <- \"statuses/filter/track\"\n",
    "st3$stream_method <- \"statuses/filter/locations\"\n",
    "\n",
    "## bind by row all three data sets\n",
    "st <- rbind(st1, st2, st3)"
   ]
  },
  {
   "cell_type": "markdown",
   "metadata": {},
   "source": [
    "### 6. Extract the following features as numeric variables (use names in parentheses when provided):\n",
    "+ account_created_at \n",
    "+ is_retweet \n",
    "+ is_quote\n",
    "+ is_reply (reply_to_status_id)\n",
    "+ is_verified (verified)\n",
    "+ tweet_chars (text)\n",
    "+ bio_chars (description)\n",
    "+ hashtags (hashtags),\n",
    "+ mentions (mentions_user_id)\n",
    "+ medias (ext_media_url)\n",
    "+ lang_en (lang)\n",
    "+ lang_pt (lang)\n",
    "+ lang_es (lang)\n",
    "+ lang_ja (lang)\n",
    "+ lang_other (lang)\n",
    "\n",
    "Hint: use the function `count_elems()` defined below to count the number of hashtags, mentions, and media attachments."
   ]
  },
  {
   "cell_type": "code",
   "execution_count": 7,
   "metadata": {
    "collapsed": true,
    "scrolled": true
   },
   "outputs": [],
   "source": [
    "## create function to count number of hashtags, media attachments, and mentions\n",
    "count_elems <- function(x) {\n",
    "    sapply(x, function(x) {\n",
    "        ifelse(length(x) == 0L || (length(x) == 1L && is.na(x)), \n",
    "               0L, length(x))\n",
    "    })\n",
    "}\n",
    "\n",
    "## hint: Twitter uses language ISO codes and these are a few of the popular languages. for our purposes,\n",
    "## including english/not-english, would work to illustrate whether we are disproportionately sampling \n",
    "## from english tweets\n",
    "\n",
    "## extract and convert features to numeric\n",
    "st_features <- st %>%\n",
    "    mutate(\n",
    "        account_created_at = as.numeric(account_created_at),\n",
    "        ## I converted the account creation date to years from the oldest account's origin date\n",
    "        account_created_at = (max(account_created_at) - account_created_at) / (60 * 60 * 24 * 365),\n",
    "        is_retweet = as.integer(is_retweet),\n",
    "        is_quote = as.integer(is_quote),\n",
    "        is_reply = as.integer(!is.na(reply_to_status_id)),\n",
    "        is_verified = as.integer(verified),\n",
    "        tweet_chars = stringi::stri_width(text),\n",
    "        bio_chars = ifelse(is.na(description), 0L, stringi::stri_width(description)),\n",
    "        hashtags = count_elems(hashtags),\n",
    "        mentions = count_elems(mentions_user_id),\n",
    "        medias = count_elems(ext_media_url),\n",
    "        lang_en = as.integer(lang == \"en\"),\n",
    "        lang_pt = as.integer(lang == \"pt\"),\n",
    "        lang_es = as.integer(lang == \"es\"),\n",
    "        lang_ja = as.integer(lang == \"ja\"),\n",
    "        lang_other = as.integer(!lang %in% c(\"en\", \"pt\", \"es\", \"ja\"))) %>%\n",
    "    mutate_if(is.integer, as.numeric) %>%\n",
    "    select(stream_method, account_created_at, is_retweet, is_quote, is_reply,\n",
    "           is_verified, tweet_chars, bio_chars, hashtags, mentions, medias, lang_en:lang_other)"
   ]
  },
  {
   "cell_type": "markdown",
   "metadata": {},
   "source": [
    "### 7. Group by stream_method, summarise, and plot displaying the mean of each streaming method for each numeric variable."
   ]
  },
  {
   "cell_type": "code",
   "execution_count": 8,
   "metadata": {
    "scrolled": false
   },
   "outputs": [
    {
     "data": {},
     "metadata": {},
     "output_type": "display_data"
    },
    {
     "data": {
      "image/png": "[encoded data removed]",
      "text/plain": [
       "plot without title"
      ]
     },
     "metadata": {},
     "output_type": "display_data"
    }
   ],
   "source": [
    "## group, summarise, and then plot\n",
    "st_features %>%\n",
    "    group_by(stream_method) %>%\n",
    "    summarise_if(is.numeric, mean) %>%\n",
    "    gather(var, mean, -stream_method) %>%\n",
    "    ggplot(aes(x = var, y = mean, fill = stream_method)) + \n",
    "    geom_col(size = .1, colour = \"black\", width = .7, \n",
    "             position = position_dodge(width = .8)) + \n",
    "    theme_minimal() + \n",
    "    facet_wrap( ~ var, scales = \"free\", ncol = 4) + \n",
    "    theme(plot.title = element_text(face = \"bold\"),\n",
    "          legend.position = \"bottom\", \n",
    "          axis.text.y = element_blank(),\n",
    "          legend.title = element_blank(),\n",
    "          strip.text = element_blank()) + \n",
    "    labs(title = \"Comparing collection methods of realtime Twitter data\",\n",
    "        subtitle = \"Mean estimates of features across three methods\",\n",
    "        x = NULL, y = NULL)"
   ]
  },
  {
   "cell_type": "markdown",
   "metadata": {},
   "source": [
    "### 8. Based on the graphic you created in the previous step, which method would be best if the goal was to get a representative snapshot on Twitter? There is no wrong answer here. Briefly describe strengths and weaknesses of each and then make a judgment call."
   ]
  },
  {
   "cell_type": "markdown",
   "metadata": {},
   "source": [
    "> type your answer below - it should probably take you around 6-10 sentences\n"
   ]
  },
  {
   "cell_type": "markdown",
   "metadata": {},
   "source": [
    "All three methods have strengths and weaknesses, so there's no clear-cut answer. What is the best way to describe a \"representative\" snapshot of Twitter? My first instinct is to look for tweets that contribute towards a \"conversation\"--tweets that are original, use hashtags, and come from a respected (verified) source. With that in mind, the \"locations\" filter pulled the most verified tweets and also has basically no retweets, so high marks for original content. The random sampling pulled the most hashtags, came from a well-balanced mix of languages, and had a low number of quoted tweets. The tracking method had a good mix of quoted/reply tweets as well, but a low number of verified tweets. \n",
    "\n",
    "Okay, the more I look at the data the more I think the random sampling was the best. I was initially thinking I would penalize a method for having too many retweets, but that's a very large part of how tweets are shared on twitter. It's a low-effort, high-impact \"co-sign\" to a message. Combined with high marks for hashtag use and medium verification count, I think it was the best result for a twitter snapshot."
   ]
  }
 ],
 "metadata": {
  "kernelspec": {
   "display_name": "R",
   "language": "R",
   "name": "ir"
  },
  "language_info": {
   "codemirror_mode": "r",
   "file_extension": ".r",
   "mimetype": "text/x-r-source",
   "name": "R",
   "pygments_lexer": "r",
   "version": "3.4.1"
  }
 },
 "nbformat": 4,
 "nbformat_minor": 2
}
