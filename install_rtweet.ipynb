{
 "cells": [
  {
   "cell_type": "markdown",
   "metadata": {},
   "source": [
    "# Lab 3.0 - rtweet package"
   ]
  },
  {
   "cell_type": "markdown",
   "metadata": {},
   "source": [
    "This lab covers two issues related to use of the rtweet package that we need to deal with. First, how to make sure rtweet is installed and available. Second, how to generate your own rtweet token.\n",
    "\n",
    "## Installing rtweet\n",
    "\n",
    "At the time of writing this, the rtweet package has not been installed [by default] for users on the DSA server. That should change soon. However, in the event that it is still not installed by the time you start working on this module, I thought it best to include a mini-lab showing you how to install the [rtweet package from CRAN](https://cran.r-project.org/package=rtweet).\n",
    "\n",
    "You can check to see if rtweet is installed and available for your DSA account by running the code below. If the output says `FALSE`, then proceed with instructions for how to install rtweet. If the output says `TRUE` then you can skip down to the section on creating your own token."
   ]
  },
  {
   "cell_type": "code",
   "execution_count": 1,
   "metadata": {},
   "outputs": [
    {
     "data": {
      "text/html": [
       "TRUE"
      ],
      "text/latex": [
       "TRUE"
      ],
      "text/markdown": [
       "TRUE"
      ],
      "text/plain": [
       "[1] TRUE"
      ]
     },
     "metadata": {},
     "output_type": "display_data"
    }
   ],
   "source": [
    "## check whether rtweet is already installed\n",
    "(requireNamespace(\"rtweet\", quietly = TRUE))"
   ]
  },
  {
   "cell_type": "markdown",
   "metadata": {},
   "source": [
    "In your `modules/module3` directory, there should be a file called `rlib.R`. In that file, the following code can be found:\n",
    "\n",
    "    ## create lib directory\n",
    "    home_dir <- normalizePath(\"~\")\n",
    "    rlib <- file.path(home_dir, \"r-lib\")\n",
    "\n",
    "    if (!dir.exists(rlib)) {\n",
    "        dir.create(rlib)\n",
    "    }\n",
    "\n",
    "    ## install rtweet\n",
    "    if (!\"rtweet\" %in% list.files(rlib)) {\n",
    "        install.packages(\"rtweet\", lib = rlib)\n",
    "    }\n",
    "\n",
    "    .libPaths(new = rlib)\n",
    "\n",
    "Essentially, what this code does is create a directory (`r-lib`) in your home directory where you can install new packages. This is necessary because you likely won't have *write* access in the default R library directories. The above code then installs rtweet and adds the new `r-lib` directory to the current session's library path (meaning, R will make sure to look in that library when you try to load/use rtweet). It's possible to hardwire this updated path into all of your R sessions, but because this method of installing rtweet should only be temporary, we will stick with a temporary solution for the time being. Thus, for now, you will need to run the following line of code at the start of any module 3 notebook that uses rtweet:"
   ]
  },
  {
   "cell_type": "code",
   "execution_count": 2,
   "metadata": {
    "collapsed": true
   },
   "outputs": [],
   "source": [
    "## source rlib script (install and store rtweet)\n",
    "source(\"../rlib.R\")"
   ]
  },
  {
   "cell_type": "markdown",
   "metadata": {},
   "source": [
    "## Creating your own token\n",
    "\n",
    "As mentioned in the previous module, the process of creating a Twitter API token [for use in the rtweet package] requires an interactive R session. This is because users must authorize **from their own Twitter accounts** the rtweet app (via an embedded rtweet token). Following OAuth protocol, this allows users to create their own user-specific token.\n",
    "\n",
    "Because we are working on a server in a jupyterhub environment, however, it's both difficult and probably weird to have you authorize a Twitter app on behalf of your own Twitter account using the DSA server. So, instead, as the previous module covered, a Twitter token has been created and saved for use by everyone in this course.\n",
    "\n",
    "The downside to everyone using the same token is that we will hit Twitter's rate limit that much faster. This is particularly relevant now that we will start ramping up what we ask for--in terms of data--from Twitter.\n",
    "\n",
    "So, in the interest of minimizing headaches for you, I'd like you to follow the steps below, which describe how to create a Twitter token on your local machine and, then, how to upload the token for use in your jupyterhub sessions."
   ]
  },
  {
   "cell_type": "markdown",
   "metadata": {},
   "source": [
    "### 1. Install R\n",
    "\n",
    "If you've already installed R [and Rstudio], then you can skip to step #2.\n",
    "\n",
    "*Technically, you only need to install R. So if you're comfortable with another interface, feel free to ignore the assumption that you'll be using Rstudio. If you're new to using R and you're not an emacs fanatic (I can say that because I am one), then I recommend using Rstudio as it really makes using R quite easy.*\n",
    "\n",
    "#### a. Download R (the programming language/environment)\n",
    "- Download R from CRAN\n",
    "    - Mac: https://cran.r-project.org/bin/macosx/ (\"R-3.4.3.pkg\")\n",
    "    - PC: https://cran.r-project.org/bin/windows/ (\"base\")\n",
    "    - Linux: https://cran.r-project.org/bin/linux/ (follow links to appropriate version)\n",
    "- Double click the downloaded file (in your downloads folder or wherever it downloaded to) and follow the installation instructions (it'll ask about save location, etc.; just say yes to everything).\n",
    "\n",
    "#### b. Download Rstudio (graphical interface that makes using R a lot easier)\n",
    "- Go here: https://www.rstudio.com/products/rstudio/download/#download\n",
    "- Under \"Installers for Supported Platforms\", select the appropriate version given your computer's OS. For example, on my Macbook air, I would select \"RStudio 1.1.419 - Mac OS X 10.6+ (64-bit)\".\n",
    "- Once the file is downloaded, double click the downloaded file and follow the installation instructions (it'll ask about save location, etc.; just say yes to everything).\n",
    "\n",
    "### 2. Create and save token\n",
    "- Launch R (if you're using Rstudio, then double click Rstudio in your Applications/Program folder)\n",
    "- Install rtweet (enter the following code in your local R/Rstudio session):\n",
    "    `install.packages(\"rtweet\")`\n",
    "- Create a twitter token (enter the following code in your local R/Rstudio session):\n",
    "    `token <- rtweet:::rtweet_token_()`\n",
    "- Save the token in a memorable location (enter code similar to the following in your local R/Rstudio session):\n",
    "    `saveRDS(token, \"~/Desktop/token.rds\")`\n",
    "\n",
    "### 3. Upload token to DSA server\n",
    "- In the file directory/home screen for jupyterhub, click the `upload` button found toward the top right of your screen. Browse your local machine for the token file you saved in step #2.\n",
    "- Execute the following code (if you get an error, it's probably because you named the token something else or saved the token in not-your-home-directory)."
   ]
  },
  {
   "cell_type": "code",
   "execution_count": 2,
   "metadata": {
    "collapsed": true
   },
   "outputs": [],
   "source": [
    "## read-in twitter token/environment variable function\n",
    "source(\"set_renv_token.R\")\n",
    "\n",
    "## set ~/token.rds as your TWITTER_PAT environment variable (make sure override = TRUE)\n",
    "set_renv_token(\"~/twitter_token.rds\", override = TRUE)"
   ]
  }
 ],
 "metadata": {
  "kernelspec": {
   "display_name": "R",
   "language": "R",
   "name": "ir"
  },
  "language_info": {
   "codemirror_mode": "r",
   "file_extension": ".r",
   "mimetype": "text/x-r-source",
   "name": "R",
   "pygments_lexer": "r",
   "version": "3.4.1"
  }
 },
 "nbformat": 4,
 "nbformat_minor": 2
}
