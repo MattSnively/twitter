{
 "cells": [
  {
   "cell_type": "markdown",
   "metadata": {},
   "source": [
    "# Module 5 Exercises\n",
    "\n",
    "This week's exercises expand on the practice notebook, which extracted and compared features (users data collected from Twitter's REST API) between probable-bots and probable-non-bots. "
   ]
  },
  {
   "cell_type": "markdown",
   "metadata": {},
   "source": [
    "### Extracting features\n",
    "\n",
    "Before the specific tasks, load the tidyverse."
   ]
  },
  {
   "cell_type": "code",
   "execution_count": 8,
   "metadata": {
    "collapsed": true
   },
   "outputs": [],
   "source": [
    "## load tidyverse\n",
    "suppressPackageStartupMessages(library(tidyverse))"
   ]
  },
  {
   "cell_type": "markdown",
   "metadata": {},
   "source": [
    "## Data\n",
    "\n",
    "For the data, data were collected on 6,697 Twitter accounts. Of these accounnts, 4,243 are considered to be genuine (non-automated) accounts and 2,454 are considered \"bots\" (accounts that are automated and/or part of a larger coordinated network of accounts). The data were then randomly split into a **training** data set and a **test** data set. In the training data, there are an equal number of bots versus non-bots. Since the test data is not actually used to build the model, it is not important to have equal group sizes in the test data set.\n",
    "\n",
    "### 1. Load the data"
   ]
  },
  {
   "cell_type": "code",
   "execution_count": 9,
   "metadata": {
    "collapsed": true,
    "scrolled": true
   },
   "outputs": [],
   "source": [
    "## read in the data (train and test)\n",
    "train <- readRDS(\"../data/train.rds\")\n",
    "test <- readRDS(\"../data/test.rds\")"
   ]
  },
  {
   "cell_type": "markdown",
   "metadata": {},
   "source": [
    "### 2. How many bots and non-bots are in each data set?"
   ]
  },
  {
   "cell_type": "code",
   "execution_count": 10,
   "metadata": {},
   "outputs": [
    {
     "data": {
      "text/plain": [
       "train_bot\n",
       "   0    1 \n",
       "1604 1604 "
      ]
     },
     "metadata": {},
     "output_type": "display_data"
    },
    {
     "data": {
      "text/plain": [
       "test_bot\n",
       "   0    1 \n",
       "2437  799 "
      ]
     },
     "metadata": {},
     "output_type": "display_data"
    }
   ],
   "source": [
    "## bot == 1, not-bot == 0\n",
    "table(train_bot = train$bot)\n",
    "table(test_bot = test$bot)"
   ]
  },
  {
   "cell_type": "code",
   "execution_count": 11,
   "metadata": {},
   "outputs": [
    {
     "name": "stdout",
     "output_type": "stream",
     "text": [
      "Classes 'tbl_df', 'tbl' and 'data.frame':\t3208 obs. of  21 variables:\n",
      " $ user_id               : chr  \"251344965\" \"17621767\" \"6267142\" \"795736816192081920\" ...\n",
      " $ name                  : chr  \"Videodisc <U+25B3>\" \"Policy Innovations\" \"Ethan Brown <U+0001F916>\" \"Galaxi16\" ...\n",
      " $ screen_name           : chr  \"RolexSound\" \"carnegiePI\" \"ethanwbrown\" \"Galaxi162\" ...\n",
      " $ location              : chr  \"Barcelona\" \"New York, NY\" \"Zurich, Switzerland\" \"\" ...\n",
      " $ description           : chr  \"I'm not a bot . Music . Drawing . Videogames . Sweet Gig.holo.gram booking dani@divined.com https://t.co/jlLMxj\"| __truncated__ \"Policy Innovations is the @carnegiecouncil magazine for #socialinnovation and global ethics. We talk about doer\"| __truncated__ \"AI, algorithms, physics, and the rest <U+2022> Machine learning @squirro <U+2022> Building a bot army: @portman\"| __truncated__ \"\" ...\n",
      " $ url                   : chr  \"https://t.co/QnrvTrhJqP\" \"http://t.co/k2DZ1mSSgt\" \"https://t.co/aP5PVNh5Y0\" NA ...\n",
      " $ protected             : logi  FALSE FALSE FALSE FALSE FALSE FALSE ...\n",
      " $ followers_count       : int  656 7351 260 329 617 236 972 516 326 81 ...\n",
      " $ friends_count         : int  2154 2177 462 548 5 217 7 491 58 233 ...\n",
      " $ listed_count          : int  17 520 11 1 31 47 20 2 7 284 ...\n",
      " $ statuses_count        : int  2058 12428 1449 50098 5491 25066 43789 16221 11895 2971 ...\n",
      " $ favourites_count      : int  2832 610 420 46056 30 0 0 14358 26113 401 ...\n",
      " $ account_created_at    : POSIXct, format: \"2011-02-12 23:27:11\" \"2008-11-25 15:34:39\" ...\n",
      " $ verified              : logi  FALSE FALSE FALSE FALSE FALSE FALSE ...\n",
      " $ profile_url           : chr  \"https://t.co/QnrvTrhJqP\" \"http://t.co/k2DZ1mSSgt\" \"https://t.co/aP5PVNh5Y0\" NA ...\n",
      " $ profile_expanded_url  : chr  \"http://soundcloud.com/dani-2-1\" \"http://www.policyinnovations.org/\" \"http://ewb.io\" NA ...\n",
      " $ account_lang          : chr  \"es\" \"en\" \"en\" \"en\" ...\n",
      " $ profile_banner_url    : chr  \"https://pbs.twimg.com/profile_banners/251344965/1348617963\" \"https://pbs.twimg.com/profile_banners/17621767/1401994458\" \"https://pbs.twimg.com/profile_banners/6267142/1400178984\" NA ...\n",
      " $ profile_background_url: chr  \"http://pbs.twimg.com/profile_background_images/368592356/n706264595_302460_3073.jpg\" \"http://pbs.twimg.com/profile_background_images/3789941/twitter_bg.jpg\" \"http://abs.twimg.com/images/themes/theme1/bg.png\" NA ...\n",
      " $ profile_image_url     : chr  \"http://pbs.twimg.com/profile_images/378800000549950978/e3f968184de02ab072d0dedce7407fd5_normal.jpeg\" \"http://pbs.twimg.com/profile_images/71115716/bulb_medium_normal.jpg\" \"http://pbs.twimg.com/profile_images/733281939197677569/bkSkYZ_O_normal.jpg\" \"http://abs.twimg.com/sticky/default_profile_images/default_profile_normal.png\" ...\n",
      " $ bot                   : int  1 1 1 1 1 1 1 1 1 1 ...\n"
     ]
    }
   ],
   "source": [
    "str(train)"
   ]
  },
  {
   "cell_type": "code",
   "execution_count": 12,
   "metadata": {},
   "outputs": [
    {
     "data": {
      "text/plain": [
       "   user_id              name           screen_name          location        \n",
       " Length:3208        Length:3208        Length:3208        Length:3208       \n",
       " Class :character   Class :character   Class :character   Class :character  \n",
       " Mode  :character   Mode  :character   Mode  :character   Mode  :character  \n",
       "                                                                            \n",
       "                                                                            \n",
       "                                                                            \n",
       " description            url            protected       followers_count \n",
       " Length:3208        Length:3208        Mode :logical   Min.   :     0  \n",
       " Class :character   Class :character   FALSE:3208      1st Qu.:   398  \n",
       " Mode  :character   Mode  :character                   Median :  1170  \n",
       "                                                       Mean   : 11635  \n",
       "                                                       3rd Qu.:  3558  \n",
       "                                                       Max.   :596211  \n",
       " friends_count     listed_count     statuses_count    favourites_count\n",
       " Min.   :     0   Min.   :    0.0   Min.   :      2   Min.   :     0  \n",
       " 1st Qu.:    83   1st Qu.:    6.0   1st Qu.:   2659   1st Qu.:    38  \n",
       " Median :   301   Median :   22.0   Median :  11652   Median :  1592  \n",
       " Mean   :  1454   Mean   :  200.1   Mean   :  46168   Mean   : 14242  \n",
       " 3rd Qu.:   896   3rd Qu.:   90.0   3rd Qu.:  40335   3rd Qu.: 11994  \n",
       " Max.   :380160   Max.   :14320.0   Max.   :4500852   Max.   :623673  \n",
       " account_created_at             verified       profile_url       \n",
       " Min.   :2006-10-24 15:03:37   Mode :logical   Length:3208       \n",
       " 1st Qu.:2010-12-06 16:06:38   FALSE:3050      Class :character  \n",
       " Median :2013-05-25 13:01:55   TRUE :158       Mode  :character  \n",
       " Mean   :2013-03-20 06:44:55                                     \n",
       " 3rd Qu.:2015-08-12 09:51:00                                     \n",
       " Max.   :2018-01-27 21:59:48                                     \n",
       " profile_expanded_url account_lang       profile_banner_url\n",
       " Length:3208          Length:3208        Length:3208       \n",
       " Class :character     Class :character   Class :character  \n",
       " Mode  :character     Mode  :character   Mode  :character  \n",
       "                                                           \n",
       "                                                           \n",
       "                                                           \n",
       " profile_background_url profile_image_url       bot     \n",
       " Length:3208            Length:3208        Min.   :0.0  \n",
       " Class :character       Class :character   1st Qu.:0.0  \n",
       " Mode  :character       Mode  :character   Median :0.5  \n",
       "                                           Mean   :0.5  \n",
       "                                           3rd Qu.:1.0  \n",
       "                                           Max.   :1.0  "
      ]
     },
     "metadata": {},
     "output_type": "display_data"
    }
   ],
   "source": [
    "summary(train)"
   ]
  },
  {
   "cell_type": "markdown",
   "metadata": {
    "collapsed": true,
    "scrolled": true
   },
   "source": [
    "### 3. Come up with at least 3 NEW features (numeric predictors). In other words, create 3 features IN ADDITION TO the ones provided to you below (i.e., `bio_chars`, `verified`, `years`, `tweets_to_followers`, `statuses_rate`, and `ff_ratio`)."
   ]
  },
  {
   "cell_type": "code",
   "execution_count": 17,
   "metadata": {},
   "outputs": [],
   "source": [
    "## feature extraction\n",
    "is_num <- function(x) is.numeric(x) | is.integer(x)\n",
    "extract_features <- function(data) {\n",
    "    ## mutate 9 total features\n",
    "    data %>% \n",
    "        mutate(\n",
    "            ## your new variables should go below here\n",
    "            'bio_chars' = nchar(description),\n",
    "            'verified' = as.integer(verified),\n",
    "            'years' = as.integer(difftime(Sys.time(), account_created_at, \"days\")) / 365,\n",
    "            ## i added one here so it wouldn't return NaN or undefined values (0 / x)\n",
    "            'tweets_to_followers' = (statuses_count + 1) / (followers_count + 1),\n",
    "            'statuses_rate' = statuses_count / years,\n",
    "            #start_new\n",
    "            ##'protected' = as.integer(protected),(doesn't work--no variation)\n",
    "            'oc' = (favourites_count +1) / (statuses_count +1),\n",
    "            'id_chars' = nchar(user_id),\n",
    "            'list_rate' = listed_count / years,\n",
    "            #end_new\n",
    "            ## i added one here so it wouldn't return NaN or undefined values (0 / x)\n",
    "            'ff_ratio' = (followers_count + 1) / (friends_count + followers_count + 1)) %>%\n",
    "        ## return only numeric variables\n",
    "        select_if(is_num)\n",
    "}\n",
    "\n",
    "## apply function to training and test data sets\n",
    "ftrain <- extract_features(train)\n",
    "ftest <- extract_features(test)"
   ]
  },
  {
   "cell_type": "markdown",
   "metadata": {},
   "source": [
    "### 4. Merge the data sets, `group_by` the `bot` variable (whether an account is considered a bot), and summarise the numeric variables by estimating the median of each."
   ]
  },
  {
   "cell_type": "code",
   "execution_count": 18,
   "metadata": {
    "scrolled": true
   },
   "outputs": [
    {
     "data": {
      "text/html": [
       "<table>\n",
       "<thead><tr><th scope=col>bot</th><th scope=col>followers_count</th><th scope=col>friends_count</th><th scope=col>listed_count</th><th scope=col>statuses_count</th><th scope=col>favourites_count</th><th scope=col>verified</th><th scope=col>bio_chars</th><th scope=col>years</th><th scope=col>tweets_to_followers</th><th scope=col>statuses_rate</th><th scope=col>oc</th><th scope=col>id_chars</th><th scope=col>list_rate</th><th scope=col>ff_ratio</th></tr></thead>\n",
       "<tbody>\n",
       "\t<tr><td>0         </td><td>1497      </td><td>338       </td><td>24        </td><td>21596     </td><td>6406      </td><td>0         </td><td>67        </td><td>5.600000  </td><td>11.811940 </td><td>4913.503  </td><td>0.41113347</td><td> 9        </td><td>5.568268  </td><td>0.7878366 </td></tr>\n",
       "\t<tr><td>1         </td><td> 857      </td><td>249       </td><td>21        </td><td> 5491     </td><td>  94      </td><td>0         </td><td>97        </td><td>3.989041  </td><td> 8.531579 </td><td>1504.555  </td><td>0.02459016</td><td>10        </td><td>6.033058  </td><td>0.6463078 </td></tr>\n",
       "</tbody>\n",
       "</table>\n"
      ],
      "text/latex": [
       "\\begin{tabular}{r|lllllllllllllll}\n",
       " bot & followers\\_count & friends\\_count & listed\\_count & statuses\\_count & favourites\\_count & verified & bio\\_chars & years & tweets\\_to\\_followers & statuses\\_rate & oc & id\\_chars & list\\_rate & ff\\_ratio\\\\\n",
       "\\hline\n",
       "\t 0          & 1497       & 338        & 24         & 21596      & 6406       & 0          & 67         & 5.600000   & 11.811940  & 4913.503   & 0.41113347 &  9         & 5.568268   & 0.7878366 \\\\\n",
       "\t 1          &  857       & 249        & 21         &  5491      &   94       & 0          & 97         & 3.989041   &  8.531579  & 1504.555   & 0.02459016 & 10         & 6.033058   & 0.6463078 \\\\\n",
       "\\end{tabular}\n"
      ],
      "text/markdown": [
       "\n",
       "bot | followers_count | friends_count | listed_count | statuses_count | favourites_count | verified | bio_chars | years | tweets_to_followers | statuses_rate | oc | id_chars | list_rate | ff_ratio | \n",
       "|---|---|\n",
       "| 0          | 1497       | 338        | 24         | 21596      | 6406       | 0          | 67         | 5.600000   | 11.811940  | 4913.503   | 0.41113347 |  9         | 5.568268   | 0.7878366  | \n",
       "| 1          |  857       | 249        | 21         |  5491      |   94       | 0          | 97         | 3.989041   |  8.531579  | 1504.555   | 0.02459016 | 10         | 6.033058   | 0.6463078  | \n",
       "\n",
       "\n"
      ],
      "text/plain": [
       "  bot followers_count friends_count listed_count statuses_count\n",
       "1 0   1497            338           24           21596         \n",
       "2 1    857            249           21            5491         \n",
       "  favourites_count verified bio_chars years    tweets_to_followers\n",
       "1 6406             0        67        5.600000 11.811940          \n",
       "2   94             0        97        3.989041  8.531579          \n",
       "  statuses_rate oc         id_chars list_rate ff_ratio \n",
       "1 4913.503      0.41113347  9       5.568268  0.7878366\n",
       "2 1504.555      0.02459016 10       6.033058  0.6463078"
      ]
     },
     "metadata": {},
     "output_type": "display_data"
    }
   ],
   "source": [
    "bind_rows(ftrain, ftest) %>%\n",
    "    group_by(bot) %>%\n",
    "    summarise_if(is_num, median, na.rm = TRUE)"
   ]
  },
  {
   "cell_type": "markdown",
   "metadata": {},
   "source": [
    "### 5. Train a gradient boosted model (gbm) predicting whether each observation is a bot. Adjust the parameter values passed to the `gbm()` function (read the documentation to figure out what you can do and what everything means) and try to maximize the quality of your model (hint: make sure not to overfit model; the goal is accuracy on the TEST set)."
   ]
  },
  {
   "cell_type": "code",
   "execution_count": 15,
   "metadata": {
    "collapsed": true,
    "scrolled": true
   },
   "outputs": [],
   "source": [
    "## load gbm package\n",
    "suppressPackageStartupMessages(library(gbm))\n",
    "\n",
    "## view documentation for gbm() function (in gbm package)\n",
    "?gbm"
   ]
  },
  {
   "cell_type": "code",
   "execution_count": 19,
   "metadata": {},
   "outputs": [],
   "source": [
    "## number of trees\n",
    "n_trees <- 500\n",
    "\n",
    "## set params and run model (~ . means use all other variables)\n",
    "m1 <- gbm(bot ~ .,\n",
    "          data = ftrain,\n",
    "          n.trees = n_trees,\n",
    "          interaction.depth = 4,\n",
    "          cv.folds = 2,\n",
    "          verbose = FALSE,\n",
    "          distribution = \"bernoulli\",\n",
    "          n.minobsinnode = 10,\n",
    "          shrinkage = .025)"
   ]
  },
  {
   "cell_type": "markdown",
   "metadata": {},
   "source": [
    "### 6. Summarise the model by estimating the relative influence of each feature."
   ]
  },
  {
   "cell_type": "code",
   "execution_count": 20,
   "metadata": {},
   "outputs": [
    {
     "data": {
      "text/html": [
       "<table>\n",
       "<thead><tr><th></th><th scope=col>var</th><th scope=col>rel.inf</th></tr></thead>\n",
       "<tbody>\n",
       "\t<tr><th scope=row>ff_ratio</th><td>ff_ratio           </td><td>31.72876082        </td></tr>\n",
       "\t<tr><th scope=row>friends_count</th><td>friends_count      </td><td>24.77079543        </td></tr>\n",
       "\t<tr><th scope=row>favourites_count</th><td>favourites_count   </td><td>18.12039093        </td></tr>\n",
       "\t<tr><th scope=row>statuses_rate</th><td>statuses_rate      </td><td> 4.37805558        </td></tr>\n",
       "\t<tr><th scope=row>oc</th><td>oc                 </td><td> 4.27969152        </td></tr>\n",
       "\t<tr><th scope=row>tweets_to_followers</th><td>tweets_to_followers</td><td> 2.54595990        </td></tr>\n",
       "\t<tr><th scope=row>listed_count</th><td>listed_count       </td><td> 2.53100173        </td></tr>\n",
       "\t<tr><th scope=row>list_rate</th><td>list_rate          </td><td> 2.39954488        </td></tr>\n",
       "\t<tr><th scope=row>followers_count</th><td>followers_count    </td><td> 2.20358961        </td></tr>\n",
       "\t<tr><th scope=row>bio_chars</th><td>bio_chars          </td><td> 2.09915049        </td></tr>\n",
       "\t<tr><th scope=row>years</th><td>years              </td><td> 1.87178159        </td></tr>\n",
       "\t<tr><th scope=row>statuses_count</th><td>statuses_count     </td><td> 1.74493031        </td></tr>\n",
       "\t<tr><th scope=row>verified</th><td>verified           </td><td> 1.31565497        </td></tr>\n",
       "\t<tr><th scope=row>id_chars</th><td>id_chars           </td><td> 0.01069225        </td></tr>\n",
       "</tbody>\n",
       "</table>\n"
      ],
      "text/latex": [
       "\\begin{tabular}{r|ll}\n",
       "  & var & rel.inf\\\\\n",
       "\\hline\n",
       "\tff\\_ratio & ff\\_ratio            & 31.72876082          \\\\\n",
       "\tfriends\\_count & friends\\_count       & 24.77079543          \\\\\n",
       "\tfavourites\\_count & favourites\\_count    & 18.12039093          \\\\\n",
       "\tstatuses\\_rate & statuses\\_rate       &  4.37805558          \\\\\n",
       "\toc & oc                  &  4.27969152        \\\\\n",
       "\ttweets\\_to\\_followers & tweets\\_to\\_followers &  2.54595990            \\\\\n",
       "\tlisted\\_count & listed\\_count        &  2.53100173          \\\\\n",
       "\tlist\\_rate & list\\_rate           &  2.39954488          \\\\\n",
       "\tfollowers\\_count & followers\\_count     &  2.20358961          \\\\\n",
       "\tbio\\_chars & bio\\_chars           &  2.09915049          \\\\\n",
       "\tyears & years               &  1.87178159        \\\\\n",
       "\tstatuses\\_count & statuses\\_count      &  1.74493031          \\\\\n",
       "\tverified & verified            &  1.31565497        \\\\\n",
       "\tid\\_chars & id\\_chars            &  0.01069225          \\\\\n",
       "\\end{tabular}\n"
      ],
      "text/markdown": [
       "\n",
       "| <!--/--> | var | rel.inf | \n",
       "|---|---|---|---|---|---|---|---|---|---|---|---|---|---|\n",
       "| ff_ratio | ff_ratio            | 31.72876082         | \n",
       "| friends_count | friends_count       | 24.77079543         | \n",
       "| favourites_count | favourites_count    | 18.12039093         | \n",
       "| statuses_rate | statuses_rate       |  4.37805558         | \n",
       "| oc | oc                  |  4.27969152         | \n",
       "| tweets_to_followers | tweets_to_followers |  2.54595990         | \n",
       "| listed_count | listed_count        |  2.53100173         | \n",
       "| list_rate | list_rate           |  2.39954488         | \n",
       "| followers_count | followers_count     |  2.20358961         | \n",
       "| bio_chars | bio_chars           |  2.09915049         | \n",
       "| years | years               |  1.87178159         | \n",
       "| statuses_count | statuses_count      |  1.74493031         | \n",
       "| verified | verified            |  1.31565497         | \n",
       "| id_chars | id_chars            |  0.01069225         | \n",
       "\n",
       "\n"
      ],
      "text/plain": [
       "                    var                 rel.inf    \n",
       "ff_ratio            ff_ratio            31.72876082\n",
       "friends_count       friends_count       24.77079543\n",
       "favourites_count    favourites_count    18.12039093\n",
       "statuses_rate       statuses_rate        4.37805558\n",
       "oc                  oc                   4.27969152\n",
       "tweets_to_followers tweets_to_followers  2.54595990\n",
       "listed_count        listed_count         2.53100173\n",
       "list_rate           list_rate            2.39954488\n",
       "followers_count     followers_count      2.20358961\n",
       "bio_chars           bio_chars            2.09915049\n",
       "years               years                1.87178159\n",
       "statuses_count      statuses_count       1.74493031\n",
       "verified            verified             1.31565497\n",
       "id_chars            id_chars             0.01069225"
      ]
     },
     "metadata": {},
     "output_type": "display_data"
    }
   ],
   "source": [
    "summary(m1, plotit = FALSE)"
   ]
  },
  {
   "cell_type": "markdown",
   "metadata": {},
   "source": [
    "### 7. Check the percent correct for predictions of the training data set."
   ]
  },
  {
   "cell_type": "code",
   "execution_count": 21,
   "metadata": {
    "collapsed": true
   },
   "outputs": [],
   "source": [
    "## classify probability of bot for each observation in training set\n",
    "ftrain$pred <- predict(m1, n.trees = n_trees, type = \"response\")"
   ]
  },
  {
   "cell_type": "code",
   "execution_count": 22,
   "metadata": {
    "scrolled": true
   },
   "outputs": [
    {
     "name": "stderr",
     "output_type": "stream",
     "text": [
      "The model was 89.71% accurate when classifying bots.\n",
      "\n",
      "The model was 92.96% accurate when classifying non-bots.\n",
      "\n",
      "Overall, the model was correct 91.3% of the time.\n"
     ]
    }
   ],
   "source": [
    "## write a function to print out the percent correct (overall; for bots, and for non-bots)\n",
    "percent_correct <- function(x) {\n",
    "    x <- table(correct = x$pred > .5, bot = x$bot)\n",
    "    pc <- round((x[2, 2]) / sum(x[, 2]), 4)\n",
    "    pc <- as.character(pc * 100)\n",
    "    message(sprintf(\"The model was %s%% accurate when classifying bots.\\n\", pc))\n",
    "    pc <- round((x[1, 1]) / sum(x[, 1]), 4)\n",
    "    pc <- as.character(pc * 100)\n",
    "    message(sprintf(\"The model was %s%% accurate when classifying non-bots.\\n\", pc))\n",
    "    pc <- round((x[1, 1] + x[2, 2]) / sum(c(x[, 1], x[, 2])), 3)\n",
    "    pc <- as.character(pc * 100)\n",
    "    message(sprintf(\"Overall, the model was correct %s%% of the time.\", pc))\n",
    "}\n",
    "percent_correct(ftrain)"
   ]
  },
  {
   "cell_type": "markdown",
   "metadata": {},
   "source": [
    "### 8. Now, for the final task, classify the test data and report the percent correct for the predictions of the test data set."
   ]
  },
  {
   "cell_type": "code",
   "execution_count": 23,
   "metadata": {},
   "outputs": [
    {
     "name": "stderr",
     "output_type": "stream",
     "text": [
      "The model was 87.23% accurate when classifying bots.\n",
      "\n",
      "The model was 89.37% accurate when classifying non-bots.\n",
      "\n",
      "Overall, the model was correct 88.8% of the time.\n"
     ]
    }
   ],
   "source": [
    "ftest$pred <- predict(m1, newdata = ftest, n.trees = n_trees, type = \"response\")\n",
    "percent_correct(ftest)"
   ]
  },
  {
   "cell_type": "code",
   "execution_count": null,
   "metadata": {
    "collapsed": true
   },
   "outputs": [],
   "source": []
  }
 ],
 "metadata": {
  "kernelspec": {
   "display_name": "R",
   "language": "R",
   "name": "ir"
  },
  "language_info": {
   "codemirror_mode": "r",
   "file_extension": ".r",
   "mimetype": "text/x-r-source",
   "name": "R",
   "pygments_lexer": "r",
   "version": "3.4.1"
  }
 },
 "nbformat": 4,
 "nbformat_minor": 2
}
