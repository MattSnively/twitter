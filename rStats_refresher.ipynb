{
 "cells": [
  {
   "cell_type": "markdown",
   "metadata": {
    "collapsed": true
   },
   "source": [
    "# Module 1 - Lab 1: Rstats refresher\n",
    "\n",
    "## Overview\n",
    "- R basics (classes, objects, functions, etc.)\n",
    "- Introduction to the \"tidyverse\"\n",
    "- Loops and lapply functions\n",
    "\n",
    "## R basics\n",
    "\n",
    "### Objects\n",
    "\n",
    "In an R session, data items are referred to as *objects*. Objects represent a value and typically contain a class and/or attributes. Obejcts include numbers, character strings, and pre-loaded data (for example, the object `letters`, which is a vector of letters in the alphabet, comes loaded in interactive R sessions)."
   ]
  },
  {
   "cell_type": "code",
   "execution_count": 16,
   "metadata": {},
   "outputs": [
    {
     "data": {
      "text/html": [
       "<ol class=list-inline>\n",
       "\t<li>'a'</li>\n",
       "\t<li>'b'</li>\n",
       "\t<li>'c'</li>\n",
       "</ol>\n"
      ],
      "text/latex": [
       "\\begin{enumerate*}\n",
       "\\item 'a'\n",
       "\\item 'b'\n",
       "\\item 'c'\n",
       "\\end{enumerate*}\n"
      ],
      "text/markdown": [
       "1. 'a'\n",
       "2. 'b'\n",
       "3. 'c'\n",
       "\n",
       "\n"
      ],
      "text/plain": [
       "[1] \"a\" \"b\" \"c\""
      ]
     },
     "metadata": {},
     "output_type": "display_data"
    }
   ],
   "source": [
    "## first 3 values of letters object\n",
    "letters[1:3]"
   ]
  },
  {
   "cell_type": "markdown",
   "metadata": {},
   "source": [
    "Users can create new R obejcts by assigning names to values, using the assignment `<-` operator. For example, in the code below, the first three values in `letters` is stored in a new object `x`."
   ]
  },
  {
   "cell_type": "code",
   "execution_count": 17,
   "metadata": {},
   "outputs": [
    {
     "data": {
      "text/html": [
       "<ol class=list-inline>\n",
       "\t<li>'a'</li>\n",
       "\t<li>'b'</li>\n",
       "\t<li>'c'</li>\n",
       "</ol>\n"
      ],
      "text/latex": [
       "\\begin{enumerate*}\n",
       "\\item 'a'\n",
       "\\item 'b'\n",
       "\\item 'c'\n",
       "\\end{enumerate*}\n"
      ],
      "text/markdown": [
       "1. 'a'\n",
       "2. 'b'\n",
       "3. 'c'\n",
       "\n",
       "\n"
      ],
      "text/plain": [
       "[1] \"a\" \"b\" \"c\""
      ]
     },
     "metadata": {},
     "output_type": "display_data"
    }
   ],
   "source": [
    "## assign first 3 letters values to x\n",
    "x <- letters[1:3]\n",
    "\n",
    "## print x\n",
    "x"
   ]
  },
  {
   "cell_type": "markdown",
   "metadata": {},
   "source": [
    "The assignment `<-` operator will override previous values if the named object already exists. For example, we can override letters by storing a vector of numbers in it."
   ]
  },
  {
   "cell_type": "code",
   "execution_count": 18,
   "metadata": {
    "scrolled": true
   },
   "outputs": [
    {
     "data": {
      "text/html": [
       "<ol class=list-inline>\n",
       "\t<li>1</li>\n",
       "\t<li>2</li>\n",
       "\t<li>3</li>\n",
       "</ol>\n"
      ],
      "text/latex": [
       "\\begin{enumerate*}\n",
       "\\item 1\n",
       "\\item 2\n",
       "\\item 3\n",
       "\\end{enumerate*}\n"
      ],
      "text/markdown": [
       "1. 1\n",
       "2. 2\n",
       "3. 3\n",
       "\n",
       "\n"
      ],
      "text/plain": [
       "[1] 1 2 3"
      ]
     },
     "metadata": {},
     "output_type": "display_data"
    }
   ],
   "source": [
    "(letters <- c(1, 2, 3))"
   ]
  },
  {
   "cell_type": "markdown",
   "metadata": {},
   "source": [
    "Writing this kind of code (overriding preloaded objects or functions) can quickly create havok. To remove an object you created, use the `rm()` function."
   ]
  },
  {
   "cell_type": "code",
   "execution_count": 19,
   "metadata": {},
   "outputs": [
    {
     "data": {
      "text/html": [
       "<ol class=list-inline>\n",
       "\t<li>'a'</li>\n",
       "\t<li>'b'</li>\n",
       "\t<li>'c'</li>\n",
       "</ol>\n"
      ],
      "text/latex": [
       "\\begin{enumerate*}\n",
       "\\item 'a'\n",
       "\\item 'b'\n",
       "\\item 'c'\n",
       "\\end{enumerate*}\n"
      ],
      "text/markdown": [
       "1. 'a'\n",
       "2. 'b'\n",
       "3. 'c'\n",
       "\n",
       "\n"
      ],
      "text/plain": [
       "[1] \"a\" \"b\" \"c\""
      ]
     },
     "metadata": {},
     "output_type": "display_data"
    }
   ],
   "source": [
    "## remove letters\n",
    "rm(letters)\n",
    "\n",
    "## now the preloaded original version should remain\n",
    "letters[1:3]"
   ]
  },
  {
   "cell_type": "markdown",
   "metadata": {},
   "source": [
    "### Classes\n",
    "\n",
    "A class describes an object's type in R. Common classes are `numeric` (or `double`), `integer`, `logical`, `character`, `factor`, `list`, and `data.frame`. You can figure out an object's class using the `class()` function."
   ]
  },
  {
   "cell_type": "markdown",
   "metadata": {},
   "source": [
    "#### Numeric\n",
    "\n",
    "A `numeric` (or `double`) is a vector (n values) of floating point numbers."
   ]
  },
  {
   "cell_type": "code",
   "execution_count": 20,
   "metadata": {},
   "outputs": [
    {
     "data": {
      "text/html": [
       "'numeric'"
      ],
      "text/latex": [
       "'numeric'"
      ],
      "text/markdown": [
       "'numeric'"
      ],
      "text/plain": [
       "[1] \"numeric\""
      ]
     },
     "metadata": {},
     "output_type": "display_data"
    }
   ],
   "source": [
    "## numeric values\n",
    "class(0.5)"
   ]
  },
  {
   "cell_type": "markdown",
   "metadata": {},
   "source": [
    "#### Integer\n",
    "\n",
    "An `integer` is a vector of integer numbers."
   ]
  },
  {
   "cell_type": "code",
   "execution_count": 21,
   "metadata": {},
   "outputs": [
    {
     "data": {
      "text/html": [
       "'integer'"
      ],
      "text/latex": [
       "'integer'"
      ],
      "text/markdown": [
       "'integer'"
      ],
      "text/plain": [
       "[1] \"integer\""
      ]
     },
     "metadata": {},
     "output_type": "display_data"
    }
   ],
   "source": [
    "## use a trailing L to denote integer and not numeric\n",
    "class(1L)"
   ]
  },
  {
   "cell_type": "markdown",
   "metadata": {},
   "source": [
    "#### Logical\n",
    "\n",
    "A `logical` is a vector of boolean (true/false) values. These are often used to represent dichotomous variables (instead of 0 and 1, for example). Logical values are also used in conditionals, e.g., `if`, `ifelse`, `else`, which although we won't go into right now it's good to know."
   ]
  },
  {
   "cell_type": "code",
   "execution_count": 22,
   "metadata": {},
   "outputs": [
    {
     "data": {
      "text/html": [
       "'logical'"
      ],
      "text/latex": [
       "'logical'"
      ],
      "text/markdown": [
       "'logical'"
      ],
      "text/plain": [
       "[1] \"logical\""
      ]
     },
     "metadata": {},
     "output_type": "display_data"
    }
   ],
   "source": [
    "## logical values\n",
    "class(TRUE)"
   ]
  },
  {
   "cell_type": "markdown",
   "metadata": {},
   "source": [
    "#### Character\n",
    "\n",
    "A `character` is a vector of string (text) values."
   ]
  },
  {
   "cell_type": "code",
   "execution_count": 23,
   "metadata": {},
   "outputs": [
    {
     "data": {
      "text/html": [
       "'character'"
      ],
      "text/latex": [
       "'character'"
      ],
      "text/markdown": [
       "'character'"
      ],
      "text/plain": [
       "[1] \"character\""
      ]
     },
     "metadata": {},
     "output_type": "display_data"
    }
   ],
   "source": [
    "## character values\n",
    "class(\"This is a character string.\")"
   ]
  },
  {
   "cell_type": "markdown",
   "metadata": {},
   "source": [
    "#### Factor\n",
    "\n",
    "A `factor` is a vector of string (text) values with a fixed list of possible values (levels). "
   ]
  },
  {
   "cell_type": "code",
   "execution_count": 24,
   "metadata": {},
   "outputs": [
    {
     "data": {
      "text/html": [
       "a"
      ],
      "text/latex": [
       "a"
      ],
      "text/markdown": [
       "a"
      ],
      "text/plain": [
       "[1] a\n",
       "Levels: a b c d e f g h i j k l m n o p q r s t u v w x y z"
      ]
     },
     "metadata": {},
     "output_type": "display_data"
    }
   ],
   "source": [
    "## factor values\n",
    "(x <- factor(\"a\", levels = letters))"
   ]
  },
  {
   "cell_type": "markdown",
   "metadata": {},
   "source": [
    "Since factors assume there are a fixed set of levels, they can be annoying..."
   ]
  },
  {
   "cell_type": "code",
   "execution_count": 25,
   "metadata": {
    "collapsed": true
   },
   "outputs": [],
   "source": [
    "## factors are picky\n",
    "x[2] <- \"b\"\n",
    "#x[3] <- \"A\"\n",
    "#Warning message in `[<-.factor`(`*tmp*`, 3, value = \"A\"):\n",
    "#\"invalid factor level, NA generated\""
   ]
  },
  {
   "cell_type": "markdown",
   "metadata": {},
   "source": [
    "#### List\n",
    "\n",
    "A `list` is a vector without many restrictions (e.g., they can contain a mixture of character, numeric, logic, etc. vectors). This flexibility makes lists very common in R, but often they need to be converted to different forms prior to data analysis."
   ]
  },
  {
   "cell_type": "code",
   "execution_count": 26,
   "metadata": {
    "scrolled": true
   },
   "outputs": [
    {
     "data": {
      "text/html": [
       "<dl>\n",
       "\t<dt>$numbers</dt>\n",
       "\t\t<dd><ol class=list-inline>\n",
       "\t<li>1</li>\n",
       "\t<li>2</li>\n",
       "\t<li>3</li>\n",
       "\t<li>4</li>\n",
       "\t<li>5</li>\n",
       "\t<li>6</li>\n",
       "\t<li>7</li>\n",
       "\t<li>8</li>\n",
       "\t<li>9</li>\n",
       "</ol>\n",
       "</dd>\n",
       "\t<dt>$letters</dt>\n",
       "\t\t<dd><ol class=list-inline>\n",
       "\t<li>'a'</li>\n",
       "\t<li>'b'</li>\n",
       "\t<li>'c'</li>\n",
       "\t<li>'d'</li>\n",
       "\t<li>'e'</li>\n",
       "\t<li>'f'</li>\n",
       "\t<li>'g'</li>\n",
       "\t<li>'h'</li>\n",
       "\t<li>'i'</li>\n",
       "\t<li>'j'</li>\n",
       "\t<li>'k'</li>\n",
       "\t<li>'l'</li>\n",
       "\t<li>'m'</li>\n",
       "\t<li>'n'</li>\n",
       "\t<li>'o'</li>\n",
       "\t<li>'p'</li>\n",
       "\t<li>'q'</li>\n",
       "\t<li>'r'</li>\n",
       "\t<li>'s'</li>\n",
       "\t<li>'t'</li>\n",
       "\t<li>'u'</li>\n",
       "\t<li>'v'</li>\n",
       "\t<li>'w'</li>\n",
       "\t<li>'x'</li>\n",
       "\t<li>'y'</li>\n",
       "\t<li>'z'</li>\n",
       "</ol>\n",
       "</dd>\n",
       "</dl>\n"
      ],
      "text/latex": [
       "\\begin{description}\n",
       "\\item[\\$numbers] \\begin{enumerate*}\n",
       "\\item 1\n",
       "\\item 2\n",
       "\\item 3\n",
       "\\item 4\n",
       "\\item 5\n",
       "\\item 6\n",
       "\\item 7\n",
       "\\item 8\n",
       "\\item 9\n",
       "\\end{enumerate*}\n",
       "\n",
       "\\item[\\$letters] \\begin{enumerate*}\n",
       "\\item 'a'\n",
       "\\item 'b'\n",
       "\\item 'c'\n",
       "\\item 'd'\n",
       "\\item 'e'\n",
       "\\item 'f'\n",
       "\\item 'g'\n",
       "\\item 'h'\n",
       "\\item 'i'\n",
       "\\item 'j'\n",
       "\\item 'k'\n",
       "\\item 'l'\n",
       "\\item 'm'\n",
       "\\item 'n'\n",
       "\\item 'o'\n",
       "\\item 'p'\n",
       "\\item 'q'\n",
       "\\item 'r'\n",
       "\\item 's'\n",
       "\\item 't'\n",
       "\\item 'u'\n",
       "\\item 'v'\n",
       "\\item 'w'\n",
       "\\item 'x'\n",
       "\\item 'y'\n",
       "\\item 'z'\n",
       "\\end{enumerate*}\n",
       "\n",
       "\\end{description}\n"
      ],
      "text/markdown": [
       "$numbers\n",
       ":   1. 1\n",
       "2. 2\n",
       "3. 3\n",
       "4. 4\n",
       "5. 5\n",
       "6. 6\n",
       "7. 7\n",
       "8. 8\n",
       "9. 9\n",
       "\n",
       "\n",
       "\n",
       "$letters\n",
       ":   1. 'a'\n",
       "2. 'b'\n",
       "3. 'c'\n",
       "4. 'd'\n",
       "5. 'e'\n",
       "6. 'f'\n",
       "7. 'g'\n",
       "8. 'h'\n",
       "9. 'i'\n",
       "10. 'j'\n",
       "11. 'k'\n",
       "12. 'l'\n",
       "13. 'm'\n",
       "14. 'n'\n",
       "15. 'o'\n",
       "16. 'p'\n",
       "17. 'q'\n",
       "18. 'r'\n",
       "19. 's'\n",
       "20. 't'\n",
       "21. 'u'\n",
       "22. 'v'\n",
       "23. 'w'\n",
       "24. 'x'\n",
       "25. 'y'\n",
       "26. 'z'\n",
       "\n",
       "\n",
       "\n",
       "\n",
       "\n"
      ],
      "text/plain": [
       "$numbers\n",
       "[1] 1 2 3 4 5 6 7 8 9\n",
       "\n",
       "$letters\n",
       " [1] \"a\" \"b\" \"c\" \"d\" \"e\" \"f\" \"g\" \"h\" \"i\" \"j\" \"k\" \"l\" \"m\" \"n\" \"o\" \"p\" \"q\" \"r\" \"s\"\n",
       "[20] \"t\" \"u\" \"v\" \"w\" \"x\" \"y\" \"z\"\n"
      ]
     },
     "metadata": {},
     "output_type": "display_data"
    }
   ],
   "source": [
    "(x <- list(numbers = 1:9, letters = letters))"
   ]
  },
  {
   "cell_type": "code",
   "execution_count": 27,
   "metadata": {},
   "outputs": [
    {
     "data": {
      "text/html": [
       "'list'"
      ],
      "text/latex": [
       "'list'"
      ],
      "text/markdown": [
       "'list'"
      ],
      "text/plain": [
       "[1] \"list\""
      ]
     },
     "metadata": {},
     "output_type": "display_data"
    }
   ],
   "source": [
    "class(x)"
   ]
  },
  {
   "cell_type": "code",
   "execution_count": 28,
   "metadata": {},
   "outputs": [
    {
     "data": {
      "text/html": [
       "'integer'"
      ],
      "text/latex": [
       "'integer'"
      ],
      "text/markdown": [
       "'integer'"
      ],
      "text/plain": [
       "[1] \"integer\""
      ]
     },
     "metadata": {},
     "output_type": "display_data"
    }
   ],
   "source": [
    "class(x$numbers)"
   ]
  },
  {
   "cell_type": "code",
   "execution_count": 29,
   "metadata": {},
   "outputs": [
    {
     "data": {
      "text/html": [
       "'character'"
      ],
      "text/latex": [
       "'character'"
      ],
      "text/markdown": [
       "'character'"
      ],
      "text/plain": [
       "[1] \"character\""
      ]
     },
     "metadata": {},
     "output_type": "display_data"
    }
   ],
   "source": [
    "class(x$letters)"
   ]
  },
  {
   "cell_type": "markdown",
   "metadata": {},
   "source": [
    "#### Data.frame\n",
    "\n",
    "`data.frames` are lists with a row.names attribute and an equal number of observations (rows) per element (columns)."
   ]
  },
  {
   "cell_type": "code",
   "execution_count": 30,
   "metadata": {},
   "outputs": [],
   "source": [
    "## error due to unequal number of obs\n",
    "#(x <- data.frame(numbers = 1:9, letters = letters))\n",
    "#Error in data.frame(numbers = 1:9, letters = letters): arguments imply differing number of rows: 9, 26"
   ]
  },
  {
   "cell_type": "code",
   "execution_count": 31,
   "metadata": {},
   "outputs": [
    {
     "data": {
      "text/html": [
       "<table>\n",
       "<thead><tr><th scope=col>numbers</th><th scope=col>letters</th></tr></thead>\n",
       "<tbody>\n",
       "\t<tr><td>1</td><td>a</td></tr>\n",
       "\t<tr><td>2</td><td>b</td></tr>\n",
       "\t<tr><td>3</td><td>c</td></tr>\n",
       "\t<tr><td>4</td><td>d</td></tr>\n",
       "\t<tr><td>5</td><td>e</td></tr>\n",
       "\t<tr><td>6</td><td>f</td></tr>\n",
       "</tbody>\n",
       "</table>\n"
      ],
      "text/latex": [
       "\\begin{tabular}{r|ll}\n",
       " numbers & letters\\\\\n",
       "\\hline\n",
       "\t 1 & a\\\\\n",
       "\t 2 & b\\\\\n",
       "\t 3 & c\\\\\n",
       "\t 4 & d\\\\\n",
       "\t 5 & e\\\\\n",
       "\t 6 & f\\\\\n",
       "\\end{tabular}\n"
      ],
      "text/markdown": [
       "\n",
       "numbers | letters | \n",
       "|---|---|---|---|---|---|\n",
       "| 1 | a | \n",
       "| 2 | b | \n",
       "| 3 | c | \n",
       "| 4 | d | \n",
       "| 5 | e | \n",
       "| 6 | f | \n",
       "\n",
       "\n"
      ],
      "text/plain": [
       "  numbers letters\n",
       "1 1       a      \n",
       "2 2       b      \n",
       "3 3       c      \n",
       "4 4       d      \n",
       "5 5       e      \n",
       "6 6       f      "
      ]
     },
     "metadata": {},
     "output_type": "display_data"
    },
    {
     "data": {
      "text/html": [
       "'data.frame'"
      ],
      "text/latex": [
       "'data.frame'"
      ],
      "text/markdown": [
       "'data.frame'"
      ],
      "text/plain": [
       "[1] \"data.frame\""
      ]
     },
     "metadata": {},
     "output_type": "display_data"
    },
    {
     "data": {
      "text/html": [
       "<table>\n",
       "<thead><tr><th></th><th scope=col>mpg</th><th scope=col>cyl</th><th scope=col>disp</th><th scope=col>hp</th><th scope=col>drat</th><th scope=col>wt</th><th scope=col>qsec</th><th scope=col>vs</th><th scope=col>am</th><th scope=col>gear</th><th scope=col>carb</th></tr></thead>\n",
       "<tbody>\n",
       "\t<tr><th scope=row>Mazda RX4</th><td>21.0 </td><td>6    </td><td>160  </td><td>110  </td><td>3.90 </td><td>2.620</td><td>16.46</td><td>0    </td><td>1    </td><td>4    </td><td>4    </td></tr>\n",
       "\t<tr><th scope=row>Mazda RX4 Wag</th><td>21.0 </td><td>6    </td><td>160  </td><td>110  </td><td>3.90 </td><td>2.875</td><td>17.02</td><td>0    </td><td>1    </td><td>4    </td><td>4    </td></tr>\n",
       "\t<tr><th scope=row>Datsun 710</th><td>22.8 </td><td>4    </td><td>108  </td><td> 93  </td><td>3.85 </td><td>2.320</td><td>18.61</td><td>1    </td><td>1    </td><td>4    </td><td>1    </td></tr>\n",
       "\t<tr><th scope=row>Hornet 4 Drive</th><td>21.4 </td><td>6    </td><td>258  </td><td>110  </td><td>3.08 </td><td>3.215</td><td>19.44</td><td>1    </td><td>0    </td><td>3    </td><td>1    </td></tr>\n",
       "\t<tr><th scope=row>Hornet Sportabout</th><td>18.7 </td><td>8    </td><td>360  </td><td>175  </td><td>3.15 </td><td>3.440</td><td>17.02</td><td>0    </td><td>0    </td><td>3    </td><td>2    </td></tr>\n",
       "\t<tr><th scope=row>Valiant</th><td>18.1 </td><td>6    </td><td>225  </td><td>105  </td><td>2.76 </td><td>3.460</td><td>20.22</td><td>1    </td><td>0    </td><td>3    </td><td>1    </td></tr>\n",
       "</tbody>\n",
       "</table>\n"
      ],
      "text/latex": [
       "\\begin{tabular}{r|lllllllllll}\n",
       "  & mpg & cyl & disp & hp & drat & wt & qsec & vs & am & gear & carb\\\\\n",
       "\\hline\n",
       "\tMazda RX4 & 21.0  & 6     & 160   & 110   & 3.90  & 2.620 & 16.46 & 0     & 1     & 4     & 4    \\\\\n",
       "\tMazda RX4 Wag & 21.0  & 6     & 160   & 110   & 3.90  & 2.875 & 17.02 & 0     & 1     & 4     & 4    \\\\\n",
       "\tDatsun 710 & 22.8  & 4     & 108   &  93   & 3.85  & 2.320 & 18.61 & 1     & 1     & 4     & 1    \\\\\n",
       "\tHornet 4 Drive & 21.4  & 6     & 258   & 110   & 3.08  & 3.215 & 19.44 & 1     & 0     & 3     & 1    \\\\\n",
       "\tHornet Sportabout & 18.7  & 8     & 360   & 175   & 3.15  & 3.440 & 17.02 & 0     & 0     & 3     & 2    \\\\\n",
       "\tValiant & 18.1  & 6     & 225   & 105   & 2.76  & 3.460 & 20.22 & 1     & 0     & 3     & 1    \\\\\n",
       "\\end{tabular}\n"
      ],
      "text/markdown": [
       "\n",
       "| <!--/--> | mpg | cyl | disp | hp | drat | wt | qsec | vs | am | gear | carb | \n",
       "|---|---|---|---|---|---|\n",
       "| Mazda RX4 | 21.0  | 6     | 160   | 110   | 3.90  | 2.620 | 16.46 | 0     | 1     | 4     | 4     | \n",
       "| Mazda RX4 Wag | 21.0  | 6     | 160   | 110   | 3.90  | 2.875 | 17.02 | 0     | 1     | 4     | 4     | \n",
       "| Datsun 710 | 22.8  | 4     | 108   |  93   | 3.85  | 2.320 | 18.61 | 1     | 1     | 4     | 1     | \n",
       "| Hornet 4 Drive | 21.4  | 6     | 258   | 110   | 3.08  | 3.215 | 19.44 | 1     | 0     | 3     | 1     | \n",
       "| Hornet Sportabout | 18.7  | 8     | 360   | 175   | 3.15  | 3.440 | 17.02 | 0     | 0     | 3     | 2     | \n",
       "| Valiant | 18.1  | 6     | 225   | 105   | 2.76  | 3.460 | 20.22 | 1     | 0     | 3     | 1     | \n",
       "\n",
       "\n"
      ],
      "text/plain": [
       "                  mpg  cyl disp hp  drat wt    qsec  vs am gear carb\n",
       "Mazda RX4         21.0 6   160  110 3.90 2.620 16.46 0  1  4    4   \n",
       "Mazda RX4 Wag     21.0 6   160  110 3.90 2.875 17.02 0  1  4    4   \n",
       "Datsun 710        22.8 4   108   93 3.85 2.320 18.61 1  1  4    1   \n",
       "Hornet 4 Drive    21.4 6   258  110 3.08 3.215 19.44 1  0  3    1   \n",
       "Hornet Sportabout 18.7 8   360  175 3.15 3.440 17.02 0  0  3    2   \n",
       "Valiant           18.1 6   225  105 2.76 3.460 20.22 1  0  3    1   "
      ]
     },
     "metadata": {},
     "output_type": "display_data"
    }
   ],
   "source": [
    "## but this works\n",
    "df <- data.frame(numbers = 1:26, letters = letters)\n",
    "head(df)\n",
    "\n",
    "## class of mtcars (a pre-loaded data set)\n",
    "class(mtcars)\n",
    "\n",
    "## preview mtcars\n",
    "head(mtcars)"
   ]
  },
  {
   "cell_type": "markdown",
   "metadata": {},
   "source": [
    "Different classes enable and restrict tasks. Some tasks can only be performed on certain classes. Some function inputs require certain classes. Some functions (methods) get deployed differently depending on an object's class.\n",
    "\n",
    "In the code below, objects of different classes are added together."
   ]
  },
  {
   "cell_type": "code",
   "execution_count": 32,
   "metadata": {},
   "outputs": [
    {
     "data": {
      "text/html": [
       "2"
      ],
      "text/latex": [
       "2"
      ],
      "text/markdown": [
       "2"
      ],
      "text/plain": [
       "[1] 2"
      ]
     },
     "metadata": {},
     "output_type": "display_data"
    },
    {
     "data": {
      "text/html": [
       "'numeric'"
      ],
      "text/latex": [
       "'numeric'"
      ],
      "text/markdown": [
       "'numeric'"
      ],
      "text/plain": [
       "[1] \"numeric\""
      ]
     },
     "metadata": {},
     "output_type": "display_data"
    }
   ],
   "source": [
    "## numeric + numeric = numeric\n",
    "(x <- 0.5 + 1.5)\n",
    "class(x)"
   ]
  },
  {
   "cell_type": "code",
   "execution_count": 33,
   "metadata": {},
   "outputs": [
    {
     "data": {
      "text/html": [
       "0"
      ],
      "text/latex": [
       "0"
      ],
      "text/markdown": [
       "0"
      ],
      "text/plain": [
       "[1] 0"
      ]
     },
     "metadata": {},
     "output_type": "display_data"
    },
    {
     "data": {
      "text/html": [
       "'integer'"
      ],
      "text/latex": [
       "'integer'"
      ],
      "text/markdown": [
       "'integer'"
      ],
      "text/plain": [
       "[1] \"integer\""
      ]
     },
     "metadata": {},
     "output_type": "display_data"
    }
   ],
   "source": [
    "## integer + integer = integer\n",
    "(x <- 1L - 1L)\n",
    "class(x)"
   ]
  },
  {
   "cell_type": "code",
   "execution_count": 34,
   "metadata": {},
   "outputs": [
    {
     "data": {
      "text/html": [
       "1.5"
      ],
      "text/latex": [
       "1.5"
      ],
      "text/markdown": [
       "1.5"
      ],
      "text/plain": [
       "[1] 1.5"
      ]
     },
     "metadata": {},
     "output_type": "display_data"
    },
    {
     "data": {
      "text/html": [
       "'numeric'"
      ],
      "text/latex": [
       "'numeric'"
      ],
      "text/markdown": [
       "'numeric'"
      ],
      "text/plain": [
       "[1] \"numeric\""
      ]
     },
     "metadata": {},
     "output_type": "display_data"
    }
   ],
   "source": [
    "## integer + numeric = numeric\n",
    "(x <- 1L + .5)\n",
    "class(x)"
   ]
  },
  {
   "cell_type": "code",
   "execution_count": 35,
   "metadata": {},
   "outputs": [
    {
     "data": {
      "text/html": [
       "2"
      ],
      "text/latex": [
       "2"
      ],
      "text/markdown": [
       "2"
      ],
      "text/plain": [
       "[1] 2"
      ]
     },
     "metadata": {},
     "output_type": "display_data"
    }
   ],
   "source": [
    "## add logical values\n",
    "TRUE + FALSE + TRUE"
   ]
  },
  {
   "cell_type": "code",
   "execution_count": 36,
   "metadata": {},
   "outputs": [
    {
     "data": {
      "text/html": [
       "1"
      ],
      "text/latex": [
       "1"
      ],
      "text/markdown": [
       "1"
      ],
      "text/plain": [
       "[1] 1"
      ]
     },
     "metadata": {},
     "output_type": "display_data"
    },
    {
     "data": {
      "text/html": [
       "0"
      ],
      "text/latex": [
       "0"
      ],
      "text/markdown": [
       "0"
      ],
      "text/plain": [
       "[1] 0"
      ]
     },
     "metadata": {},
     "output_type": "display_data"
    }
   ],
   "source": [
    "## integer equivalents\n",
    "as.numeric(TRUE)\n",
    "as.numeric(FALSE)"
   ]
  },
  {
   "cell_type": "code",
   "execution_count": null,
   "metadata": {
    "collapsed": true
   },
   "outputs": [],
   "source": [
    "## can't add characters\n",
    "#\"a\" + \"b\"\n",
    "#Error in \"a\" + \"b\": non-numeric argument to binary operator"
   ]
  },
  {
   "cell_type": "markdown",
   "metadata": {},
   "source": [
    "### Functions\n",
    "\n",
    "Functions implement various tasks (consisting of primitives and/or other functions) in R. Objects can be passed along to a function's arguments (inputs) as parameters for any executed call."
   ]
  },
  {
   "cell_type": "code",
   "execution_count": 37,
   "metadata": {},
   "outputs": [
    {
     "data": {
      "text/html": [
       "<ol class=list-inline>\n",
       "\t<li>2.54791676577455</li>\n",
       "\t<li>-0.016062477518802</li>\n",
       "\t<li>-0.210790822106456</li>\n",
       "</ol>\n"
      ],
      "text/latex": [
       "\\begin{enumerate*}\n",
       "\\item 2.54791676577455\n",
       "\\item -0.016062477518802\n",
       "\\item -0.210790822106456\n",
       "\\end{enumerate*}\n"
      ],
      "text/markdown": [
       "1. 2.54791676577455\n",
       "2. -0.016062477518802\n",
       "3. -0.210790822106456\n",
       "\n",
       "\n"
      ],
      "text/plain": [
       "[1]  2.54791677 -0.01606248 -0.21079082"
      ]
     },
     "metadata": {},
     "output_type": "display_data"
    },
    {
     "data": {
      "text/html": [
       "0.773687822049765"
      ],
      "text/latex": [
       "0.773687822049765"
      ],
      "text/markdown": [
       "0.773687822049765"
      ],
      "text/plain": [
       "[1] 0.7736878"
      ]
     },
     "metadata": {},
     "output_type": "display_data"
    },
    {
     "data": {
      "text/html": [
       "-0.000659809411566718"
      ],
      "text/latex": [
       "-0.000659809411566718"
      ],
      "text/markdown": [
       "-0.000659809411566718"
      ],
      "text/plain": [
       "[1] -0.0006598094"
      ]
     },
     "metadata": {},
     "output_type": "display_data"
    },
    {
     "data": {
      "text/html": [
       "0"
      ],
      "text/latex": [
       "0"
      ],
      "text/markdown": [
       "0"
      ],
      "text/plain": [
       "[1] 0"
      ]
     },
     "metadata": {},
     "output_type": "display_data"
    }
   ],
   "source": [
    "## rnorm() function generates data points using a random normal distribution\n",
    "(x <- rnorm(3))\n",
    "\n",
    "## mean() describes the mean of numeric data\n",
    "mean(x)\n",
    "\n",
    "## increase sample size\n",
    "x <- rnorm(300)\n",
    "mean(x)\n",
    "\n",
    "## round to 2nd decimal\n",
    "round(mean(x, na.rm = TRUE), 2)"
   ]
  },
  {
   "cell_type": "markdown",
   "metadata": {},
   "source": [
    "## loops\n",
    "\n",
    "Loops are sections of code that iterate through specified tasks.\n",
    "\n",
    "### while\n",
    "\n",
    "A `while` loop executes a loop of tasks (functions) until a specified condition occurs."
   ]
  },
  {
   "cell_type": "code",
   "execution_count": 38,
   "metadata": {},
   "outputs": [
    {
     "name": "stdout",
     "output_type": "stream",
     "text": [
      "[1] 1\n",
      "[1] 2\n",
      "[1] 3\n",
      "[1] 4\n",
      "[1] 5\n"
     ]
    }
   ],
   "source": [
    "i <- 0\n",
    "while (i < 5) {\n",
    "    i <- i + 1\n",
    "    print(i)\n",
    "}"
   ]
  },
  {
   "cell_type": "markdown",
   "metadata": {},
   "source": [
    "### for\n",
    "\n",
    "While loops are dangerous, because they can go on infinitely if the condition is never achieved. It's usually better to use a `for` loop, which is a loop that iterates up to a specified maximum number of times. Most `for` loops are written to loop through a sequence of numbers rangine from 1 to n."
   ]
  },
  {
   "cell_type": "code",
   "execution_count": 39,
   "metadata": {},
   "outputs": [
    {
     "name": "stdout",
     "output_type": "stream",
     "text": [
      "[1] 1\n",
      "[1] 2\n",
      "[1] 3\n",
      "[1] 4\n",
      "[1] 5\n",
      "[1] 6\n",
      "[1] 7\n",
      "[1] 8\n",
      "[1] 9\n",
      "[1] 10\n"
     ]
    }
   ],
   "source": [
    "for (i in 1:10) {\n",
    "    print(i)\n",
    "}"
   ]
  },
  {
   "cell_type": "markdown",
   "metadata": {},
   "source": [
    "It's better to use an object to sequence along (determine the number of loops) than to specify an arbitrary number like the code above. For example, let's say we want to loop through each column of `mtcars` and round any numeric columns to 0 decimal places."
   ]
  },
  {
   "cell_type": "code",
   "execution_count": 40,
   "metadata": {},
   "outputs": [
    {
     "data": {
      "text/html": [
       "<table>\n",
       "<thead><tr><th></th><th scope=col>mpg</th><th scope=col>cyl</th><th scope=col>disp</th><th scope=col>hp</th><th scope=col>drat</th><th scope=col>wt</th><th scope=col>qsec</th><th scope=col>vs</th><th scope=col>am</th><th scope=col>gear</th><th scope=col>carb</th></tr></thead>\n",
       "<tbody>\n",
       "\t<tr><th scope=row>Mazda RX4</th><td>21 </td><td>6  </td><td>160</td><td>110</td><td>4  </td><td>3  </td><td>16 </td><td>0  </td><td>1  </td><td>4  </td><td>4  </td></tr>\n",
       "\t<tr><th scope=row>Mazda RX4 Wag</th><td>21 </td><td>6  </td><td>160</td><td>110</td><td>4  </td><td>3  </td><td>17 </td><td>0  </td><td>1  </td><td>4  </td><td>4  </td></tr>\n",
       "\t<tr><th scope=row>Datsun 710</th><td>23 </td><td>4  </td><td>108</td><td> 93</td><td>4  </td><td>2  </td><td>19 </td><td>1  </td><td>1  </td><td>4  </td><td>1  </td></tr>\n",
       "\t<tr><th scope=row>Hornet 4 Drive</th><td>21 </td><td>6  </td><td>258</td><td>110</td><td>3  </td><td>3  </td><td>19 </td><td>1  </td><td>0  </td><td>3  </td><td>1  </td></tr>\n",
       "\t<tr><th scope=row>Hornet Sportabout</th><td>19 </td><td>8  </td><td>360</td><td>175</td><td>3  </td><td>3  </td><td>17 </td><td>0  </td><td>0  </td><td>3  </td><td>2  </td></tr>\n",
       "\t<tr><th scope=row>Valiant</th><td>18 </td><td>6  </td><td>225</td><td>105</td><td>3  </td><td>3  </td><td>20 </td><td>1  </td><td>0  </td><td>3  </td><td>1  </td></tr>\n",
       "</tbody>\n",
       "</table>\n"
      ],
      "text/latex": [
       "\\begin{tabular}{r|lllllllllll}\n",
       "  & mpg & cyl & disp & hp & drat & wt & qsec & vs & am & gear & carb\\\\\n",
       "\\hline\n",
       "\tMazda RX4 & 21  & 6   & 160 & 110 & 4   & 3   & 16  & 0   & 1   & 4   & 4  \\\\\n",
       "\tMazda RX4 Wag & 21  & 6   & 160 & 110 & 4   & 3   & 17  & 0   & 1   & 4   & 4  \\\\\n",
       "\tDatsun 710 & 23  & 4   & 108 &  93 & 4   & 2   & 19  & 1   & 1   & 4   & 1  \\\\\n",
       "\tHornet 4 Drive & 21  & 6   & 258 & 110 & 3   & 3   & 19  & 1   & 0   & 3   & 1  \\\\\n",
       "\tHornet Sportabout & 19  & 8   & 360 & 175 & 3   & 3   & 17  & 0   & 0   & 3   & 2  \\\\\n",
       "\tValiant & 18  & 6   & 225 & 105 & 3   & 3   & 20  & 1   & 0   & 3   & 1  \\\\\n",
       "\\end{tabular}\n"
      ],
      "text/markdown": [
       "\n",
       "| <!--/--> | mpg | cyl | disp | hp | drat | wt | qsec | vs | am | gear | carb | \n",
       "|---|---|---|---|---|---|\n",
       "| Mazda RX4 | 21  | 6   | 160 | 110 | 4   | 3   | 16  | 0   | 1   | 4   | 4   | \n",
       "| Mazda RX4 Wag | 21  | 6   | 160 | 110 | 4   | 3   | 17  | 0   | 1   | 4   | 4   | \n",
       "| Datsun 710 | 23  | 4   | 108 |  93 | 4   | 2   | 19  | 1   | 1   | 4   | 1   | \n",
       "| Hornet 4 Drive | 21  | 6   | 258 | 110 | 3   | 3   | 19  | 1   | 0   | 3   | 1   | \n",
       "| Hornet Sportabout | 19  | 8   | 360 | 175 | 3   | 3   | 17  | 0   | 0   | 3   | 2   | \n",
       "| Valiant | 18  | 6   | 225 | 105 | 3   | 3   | 20  | 1   | 0   | 3   | 1   | \n",
       "\n",
       "\n"
      ],
      "text/plain": [
       "                  mpg cyl disp hp  drat wt qsec vs am gear carb\n",
       "Mazda RX4         21  6   160  110 4    3  16   0  1  4    4   \n",
       "Mazda RX4 Wag     21  6   160  110 4    3  17   0  1  4    4   \n",
       "Datsun 710        23  4   108   93 4    2  19   1  1  4    1   \n",
       "Hornet 4 Drive    21  6   258  110 3    3  19   1  0  3    1   \n",
       "Hornet Sportabout 19  8   360  175 3    3  17   0  0  3    2   \n",
       "Valiant           18  6   225  105 3    3  20   1  0  3    1   "
      ]
     },
     "metadata": {},
     "output_type": "display_data"
    }
   ],
   "source": [
    "for (i in seq_along(mtcars)) {\n",
    "    if (is.numeric(mtcars[, i])) {\n",
    "        mtcars[, i] <- round(mtcars[, i], 0)\n",
    "    }\n",
    "}\n",
    "head(mtcars)"
   ]
  },
  {
   "cell_type": "markdown",
   "metadata": {},
   "source": [
    "## lapply functions\n",
    "\n",
    "### lapply\n",
    "\n",
    "Another way to loop through a series of tasks, is to apply a function [programatically] to each element of a vector. The `lapply()` function does this, returning a list of lists."
   ]
  },
  {
   "cell_type": "code",
   "execution_count": 41,
   "metadata": {},
   "outputs": [
    {
     "data": {
      "text/html": [
       "<dl>\n",
       "\t<dt>$mpg</dt>\n",
       "\t\t<dd>'numeric'</dd>\n",
       "\t<dt>$cyl</dt>\n",
       "\t\t<dd>'numeric'</dd>\n",
       "\t<dt>$disp</dt>\n",
       "\t\t<dd>'numeric'</dd>\n",
       "\t<dt>$hp</dt>\n",
       "\t\t<dd>'numeric'</dd>\n",
       "\t<dt>$drat</dt>\n",
       "\t\t<dd>'numeric'</dd>\n",
       "\t<dt>$wt</dt>\n",
       "\t\t<dd>'numeric'</dd>\n",
       "</dl>\n"
      ],
      "text/latex": [
       "\\begin{description}\n",
       "\\item[\\$mpg] 'numeric'\n",
       "\\item[\\$cyl] 'numeric'\n",
       "\\item[\\$disp] 'numeric'\n",
       "\\item[\\$hp] 'numeric'\n",
       "\\item[\\$drat] 'numeric'\n",
       "\\item[\\$wt] 'numeric'\n",
       "\\end{description}\n"
      ],
      "text/markdown": [
       "$mpg\n",
       ":   'numeric'\n",
       "$cyl\n",
       ":   'numeric'\n",
       "$disp\n",
       ":   'numeric'\n",
       "$hp\n",
       ":   'numeric'\n",
       "$drat\n",
       ":   'numeric'\n",
       "$wt\n",
       ":   'numeric'\n",
       "\n",
       "\n"
      ],
      "text/plain": [
       "$mpg\n",
       "[1] \"numeric\"\n",
       "\n",
       "$cyl\n",
       "[1] \"numeric\"\n",
       "\n",
       "$disp\n",
       "[1] \"numeric\"\n",
       "\n",
       "$hp\n",
       "[1] \"numeric\"\n",
       "\n",
       "$drat\n",
       "[1] \"numeric\"\n",
       "\n",
       "$wt\n",
       "[1] \"numeric\"\n"
      ]
     },
     "metadata": {},
     "output_type": "display_data"
    },
    {
     "data": {
      "text/html": [
       "'list'"
      ],
      "text/latex": [
       "'list'"
      ],
      "text/markdown": [
       "'list'"
      ],
      "text/plain": [
       "[1] \"list\""
      ]
     },
     "metadata": {},
     "output_type": "display_data"
    }
   ],
   "source": [
    "## find class of each column\n",
    "head(lapply(mtcars, function(x) class(x)))\n",
    "\n",
    "## class of output (shorthand version of previous)\n",
    "class(lapply(mtcars, class))"
   ]
  },
  {
   "cell_type": "markdown",
   "metadata": {},
   "source": [
    "### sapply\n",
    "\n",
    "The `sapply()` function is similar, only it attempts to simplify the result."
   ]
  },
  {
   "cell_type": "code",
   "execution_count": 42,
   "metadata": {},
   "outputs": [
    {
     "data": {
      "text/html": [
       "'character'"
      ],
      "text/latex": [
       "'character'"
      ],
      "text/markdown": [
       "'character'"
      ],
      "text/plain": [
       "[1] \"character\""
      ]
     },
     "metadata": {},
     "output_type": "display_data"
    }
   ],
   "source": [
    "class(sapply(mtcars, class))"
   ]
  },
  {
   "cell_type": "markdown",
   "metadata": {},
   "source": [
    "### vapply\n",
    "\n",
    "Simplifying via `sapply()` can be a bit unpredictable. You might output objects of different classes using the same code with different inputs. To maximize control over the class and dimension of the outputs, use `vapply()` "
   ]
  },
  {
   "cell_type": "code",
   "execution_count": 43,
   "metadata": {},
   "outputs": [
    {
     "data": {
      "text/html": [
       "'character'"
      ],
      "text/latex": [
       "'character'"
      ],
      "text/markdown": [
       "'character'"
      ],
      "text/plain": [
       "[1] \"character\""
      ]
     },
     "metadata": {},
     "output_type": "display_data"
    }
   ],
   "source": [
    "class(vapply(mtcars, class, FUN.VALUE = character(1)))"
   ]
  },
  {
   "cell_type": "markdown",
   "metadata": {},
   "source": [
    "## Introduction to the \"tidyverse\"\n",
    "\n",
    "The tidyverse refers to a practically and philosophically consistent set of packages. They give R very similiar functionality to pandas in python with the added benefit of making it even easier to generate beautiful data visualizations. - Key packages: [ggplot2](http://ggplot2.tidyverse.org/), [dplyr](http://dplyr.tidyverse.org/), [tidyr](http://tidyr.tidyverse.org/), and [purrr](http://purrr.tidyverse.org/). You can load all tidyverse packages using the official tidyverse package."
   ]
  },
  {
   "cell_type": "code",
   "execution_count": 44,
   "metadata": {},
   "outputs": [
    {
     "name": "stderr",
     "output_type": "stream",
     "text": [
      "Loading tidyverse: ggplot2\n",
      "Loading tidyverse: tibble\n",
      "Loading tidyverse: tidyr\n",
      "Loading tidyverse: readr\n",
      "Loading tidyverse: purrr\n",
      "Loading tidyverse: dplyr\n",
      "Conflicts with tidy packages ---------------------------------------------------\n",
      "filter(): dplyr, stats\n",
      "lag():    dplyr, stats\n"
     ]
    }
   ],
   "source": [
    "library(tidyverse)"
   ]
  },
  {
   "cell_type": "markdown",
   "metadata": {},
   "source": [
    "### ggplot2\n",
    "\n",
    "The ggplot2 package is used for plotting data. It can take some getting used to, but it quickly becomes powerful and very flexible."
   ]
  },
  {
   "cell_type": "code",
   "execution_count": 45,
   "metadata": {},
   "outputs": [
    {
     "data": {},
     "metadata": {},
     "output_type": "display_data"
    },
    {
     "data": {
      "image/png": "[encoded data removed]",
      "text/plain": [
       "plot without title"
      ]
     },
     "metadata": {},
     "output_type": "display_data"
    }
   ],
   "source": [
    "ggplot(mtcars, aes(x = wt, y = mpg)) + \n",
    "  geom_point() + \n",
    "  geom_smooth(method = \"lm\") + \n",
    "  labs(title = \"Relationship between weight and miles per gallon\",\n",
    "       x = \"Weight\", y = \"Miles Per Gallon\")"
   ]
  },
  {
   "cell_type": "markdown",
   "metadata": {},
   "source": [
    "### dplyr\n",
    "\n",
    "The dplyr package provides key data wrangling functions for slicing, selecting, filtering, arranging, and grouping data."
   ]
  },
  {
   "cell_type": "code",
   "execution_count": 46,
   "metadata": {},
   "outputs": [
    {
     "data": {
      "text/html": [
       "<table>\n",
       "<thead><tr><th scope=col>car</th><th scope=col>cyl</th><th scope=col>mpg</th><th scope=col>wt</th></tr></thead>\n",
       "<tbody>\n",
       "\t<tr><td>Toyota Corolla</td><td>4             </td><td>34            </td><td>2             </td></tr>\n",
       "\t<tr><td>Fiat 128      </td><td>4             </td><td>32            </td><td>2             </td></tr>\n",
       "\t<tr><td>Honda Civic   </td><td>4             </td><td>30            </td><td>2             </td></tr>\n",
       "\t<tr><td>Lotus Europa  </td><td>4             </td><td>30            </td><td>2             </td></tr>\n",
       "\t<tr><td>Fiat X1-9     </td><td>4             </td><td>27            </td><td>2             </td></tr>\n",
       "\t<tr><td>Porsche 914-2 </td><td>4             </td><td>26            </td><td>2             </td></tr>\n",
       "\t<tr><td>Merc 240D     </td><td>4             </td><td>24            </td><td>3             </td></tr>\n",
       "\t<tr><td>Datsun 710    </td><td>4             </td><td>23            </td><td>2             </td></tr>\n",
       "\t<tr><td>Merc 230      </td><td>4             </td><td>23            </td><td>3             </td></tr>\n",
       "\t<tr><td>Toyota Corona </td><td>4             </td><td>22            </td><td>2             </td></tr>\n",
       "\t<tr><td>Mazda RX4     </td><td>6             </td><td>21            </td><td>3             </td></tr>\n",
       "\t<tr><td>Mazda RX4 Wag </td><td>6             </td><td>21            </td><td>3             </td></tr>\n",
       "\t<tr><td>Hornet 4 Drive</td><td>6             </td><td>21            </td><td>3             </td></tr>\n",
       "\t<tr><td>Volvo 142E    </td><td>4             </td><td>21            </td><td>3             </td></tr>\n",
       "\t<tr><td>Ferrari Dino  </td><td>6             </td><td>20            </td><td>3             </td></tr>\n",
       "\t<tr><td>Merc 280      </td><td>6             </td><td>19            </td><td>3             </td></tr>\n",
       "\t<tr><td>Valiant       </td><td>6             </td><td>18            </td><td>3             </td></tr>\n",
       "\t<tr><td>Merc 280C     </td><td>6             </td><td>18            </td><td>3             </td></tr>\n",
       "</tbody>\n",
       "</table>\n"
      ],
      "text/latex": [
       "\\begin{tabular}{r|llll}\n",
       " car & cyl & mpg & wt\\\\\n",
       "\\hline\n",
       "\t Toyota Corolla & 4              & 34             & 2             \\\\\n",
       "\t Fiat 128       & 4              & 32             & 2             \\\\\n",
       "\t Honda Civic    & 4              & 30             & 2             \\\\\n",
       "\t Lotus Europa   & 4              & 30             & 2             \\\\\n",
       "\t Fiat X1-9      & 4              & 27             & 2             \\\\\n",
       "\t Porsche 914-2  & 4              & 26             & 2             \\\\\n",
       "\t Merc 240D      & 4              & 24             & 3             \\\\\n",
       "\t Datsun 710     & 4              & 23             & 2             \\\\\n",
       "\t Merc 230       & 4              & 23             & 3             \\\\\n",
       "\t Toyota Corona  & 4              & 22             & 2             \\\\\n",
       "\t Mazda RX4      & 6              & 21             & 3             \\\\\n",
       "\t Mazda RX4 Wag  & 6              & 21             & 3             \\\\\n",
       "\t Hornet 4 Drive & 6              & 21             & 3             \\\\\n",
       "\t Volvo 142E     & 4              & 21             & 3             \\\\\n",
       "\t Ferrari Dino   & 6              & 20             & 3             \\\\\n",
       "\t Merc 280       & 6              & 19             & 3             \\\\\n",
       "\t Valiant        & 6              & 18             & 3             \\\\\n",
       "\t Merc 280C      & 6              & 18             & 3             \\\\\n",
       "\\end{tabular}\n"
      ],
      "text/markdown": [
       "\n",
       "car | cyl | mpg | wt | \n",
       "|---|---|---|---|---|---|---|---|---|---|---|---|---|---|---|---|---|---|\n",
       "| Toyota Corolla | 4              | 34             | 2              | \n",
       "| Fiat 128       | 4              | 32             | 2              | \n",
       "| Honda Civic    | 4              | 30             | 2              | \n",
       "| Lotus Europa   | 4              | 30             | 2              | \n",
       "| Fiat X1-9      | 4              | 27             | 2              | \n",
       "| Porsche 914-2  | 4              | 26             | 2              | \n",
       "| Merc 240D      | 4              | 24             | 3              | \n",
       "| Datsun 710     | 4              | 23             | 2              | \n",
       "| Merc 230       | 4              | 23             | 3              | \n",
       "| Toyota Corona  | 4              | 22             | 2              | \n",
       "| Mazda RX4      | 6              | 21             | 3              | \n",
       "| Mazda RX4 Wag  | 6              | 21             | 3              | \n",
       "| Hornet 4 Drive | 6              | 21             | 3              | \n",
       "| Volvo 142E     | 4              | 21             | 3              | \n",
       "| Ferrari Dino   | 6              | 20             | 3              | \n",
       "| Merc 280       | 6              | 19             | 3              | \n",
       "| Valiant        | 6              | 18             | 3              | \n",
       "| Merc 280C      | 6              | 18             | 3              | \n",
       "\n",
       "\n"
      ],
      "text/plain": [
       "   car            cyl mpg wt\n",
       "1  Toyota Corolla 4   34  2 \n",
       "2  Fiat 128       4   32  2 \n",
       "3  Honda Civic    4   30  2 \n",
       "4  Lotus Europa   4   30  2 \n",
       "5  Fiat X1-9      4   27  2 \n",
       "6  Porsche 914-2  4   26  2 \n",
       "7  Merc 240D      4   24  3 \n",
       "8  Datsun 710     4   23  2 \n",
       "9  Merc 230       4   23  3 \n",
       "10 Toyota Corona  4   22  2 \n",
       "11 Mazda RX4      6   21  3 \n",
       "12 Mazda RX4 Wag  6   21  3 \n",
       "13 Hornet 4 Drive 6   21  3 \n",
       "14 Volvo 142E     4   21  3 \n",
       "15 Ferrari Dino   6   20  3 \n",
       "16 Merc 280       6   19  3 \n",
       "17 Valiant        6   18  3 \n",
       "18 Merc 280C      6   18  3 "
      ]
     },
     "metadata": {},
     "output_type": "display_data"
    }
   ],
   "source": [
    "mtcars %>%\n",
    "  mutate(car = row.names(mtcars)) %>%\n",
    "  filter(cyl < 8) %>%\n",
    "  select(car, cyl, mpg, wt) %>%\n",
    "  arrange(-mpg)"
   ]
  },
  {
   "cell_type": "markdown",
   "metadata": {},
   "source": [
    "### tidyr\n",
    "\n",
    "The tidyr package makes it easy to convert data from wide to long and from long to wide. We'll have many examples of this in the coming weeks!"
   ]
  },
  {
   "cell_type": "code",
   "execution_count": 47,
   "metadata": {},
   "outputs": [
    {
     "data": {
      "text/html": [
       "<table>\n",
       "<thead><tr><th scope=col>gear</th><th scope=col>4</th><th scope=col>6</th><th scope=col>8</th></tr></thead>\n",
       "<tbody>\n",
       "\t<tr><td>3       </td><td>22.00   </td><td>19.50   </td><td>14.91667</td></tr>\n",
       "\t<tr><td>4       </td><td>26.75   </td><td>19.75   </td><td>      NA</td></tr>\n",
       "\t<tr><td>5       </td><td>28.00   </td><td>20.00   </td><td>15.50000</td></tr>\n",
       "</tbody>\n",
       "</table>\n"
      ],
      "text/latex": [
       "\\begin{tabular}{r|llll}\n",
       " gear & 4 & 6 & 8\\\\\n",
       "\\hline\n",
       "\t 3        & 22.00    & 19.50    & 14.91667\\\\\n",
       "\t 4        & 26.75    & 19.75    &       NA\\\\\n",
       "\t 5        & 28.00    & 20.00    & 15.50000\\\\\n",
       "\\end{tabular}\n"
      ],
      "text/markdown": [
       "\n",
       "gear | 4 | 6 | 8 | \n",
       "|---|---|---|\n",
       "| 3        | 22.00    | 19.50    | 14.91667 | \n",
       "| 4        | 26.75    | 19.75    |       NA | \n",
       "| 5        | 28.00    | 20.00    | 15.50000 | \n",
       "\n",
       "\n"
      ],
      "text/plain": [
       "  gear 4     6     8       \n",
       "1 3    22.00 19.50 14.91667\n",
       "2 4    26.75 19.75       NA\n",
       "3 5    28.00 20.00 15.50000"
      ]
     },
     "metadata": {},
     "output_type": "display_data"
    },
    {
     "data": {
      "text/html": [
       "<table>\n",
       "<thead><tr><th scope=col>gear</th><th scope=col>cyl</th><th scope=col>mpg</th></tr></thead>\n",
       "<tbody>\n",
       "\t<tr><td>3       </td><td>8       </td><td>14.91667</td></tr>\n",
       "\t<tr><td>5       </td><td>8       </td><td>15.50000</td></tr>\n",
       "\t<tr><td>3       </td><td>6       </td><td>19.50000</td></tr>\n",
       "\t<tr><td>4       </td><td>6       </td><td>19.75000</td></tr>\n",
       "\t<tr><td>5       </td><td>6       </td><td>20.00000</td></tr>\n",
       "\t<tr><td>3       </td><td>4       </td><td>22.00000</td></tr>\n",
       "\t<tr><td>4       </td><td>4       </td><td>26.75000</td></tr>\n",
       "\t<tr><td>5       </td><td>4       </td><td>28.00000</td></tr>\n",
       "\t<tr><td>4       </td><td>8       </td><td>      NA</td></tr>\n",
       "</tbody>\n",
       "</table>\n"
      ],
      "text/latex": [
       "\\begin{tabular}{r|lll}\n",
       " gear & cyl & mpg\\\\\n",
       "\\hline\n",
       "\t 3        & 8        & 14.91667\\\\\n",
       "\t 5        & 8        & 15.50000\\\\\n",
       "\t 3        & 6        & 19.50000\\\\\n",
       "\t 4        & 6        & 19.75000\\\\\n",
       "\t 5        & 6        & 20.00000\\\\\n",
       "\t 3        & 4        & 22.00000\\\\\n",
       "\t 4        & 4        & 26.75000\\\\\n",
       "\t 5        & 4        & 28.00000\\\\\n",
       "\t 4        & 8        &       NA\\\\\n",
       "\\end{tabular}\n"
      ],
      "text/markdown": [
       "\n",
       "gear | cyl | mpg | \n",
       "|---|---|---|---|---|---|---|---|---|\n",
       "| 3        | 8        | 14.91667 | \n",
       "| 5        | 8        | 15.50000 | \n",
       "| 3        | 6        | 19.50000 | \n",
       "| 4        | 6        | 19.75000 | \n",
       "| 5        | 6        | 20.00000 | \n",
       "| 3        | 4        | 22.00000 | \n",
       "| 4        | 4        | 26.75000 | \n",
       "| 5        | 4        | 28.00000 | \n",
       "| 4        | 8        |       NA | \n",
       "\n",
       "\n"
      ],
      "text/plain": [
       "  gear cyl mpg     \n",
       "1 3    8   14.91667\n",
       "2 5    8   15.50000\n",
       "3 3    6   19.50000\n",
       "4 4    6   19.75000\n",
       "5 5    6   20.00000\n",
       "6 3    4   22.00000\n",
       "7 4    4   26.75000\n",
       "8 5    4   28.00000\n",
       "9 4    8         NA"
      ]
     },
     "metadata": {},
     "output_type": "display_data"
    }
   ],
   "source": [
    "## convert to wide\n",
    "mtcars %>%\n",
    "    group_by(cyl, gear) %>%\n",
    "    summarise(mpg = mean(mpg)) %>%\n",
    "    spread(cyl, mpg)\n",
    "\n",
    "## convert to long\n",
    "mtcars %>%\n",
    "    group_by(cyl, gear) %>%\n",
    "    summarise(mpg = mean(mpg)) %>%\n",
    "    spread(cyl, mpg) %>%\n",
    "    gather(cyl, mpg, -gear) %>%\n",
    "    arrange(mpg)"
   ]
  }
 ],
 "metadata": {
  "kernelspec": {
   "display_name": "R",
   "language": "R",
   "name": "ir"
  },
  "language_info": {
   "codemirror_mode": "r",
   "file_extension": ".r",
   "mimetype": "text/x-r-source",
   "name": "R",
   "pygments_lexer": "r",
   "version": "3.4.1"
  }
 },
 "nbformat": 4,
 "nbformat_minor": 2
}
