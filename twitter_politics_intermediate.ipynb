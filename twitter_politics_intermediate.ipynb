{
 "cells": [
  {
   "cell_type": "markdown",
   "metadata": {},
   "source": [
    "# Module 3 exercises"
   ]
  },
  {
   "cell_type": "code",
   "execution_count": 1,
   "metadata": {
    "collapsed": true
   },
   "outputs": [],
   "source": [
    "## make sure rtweet is installed and added to lib path\n",
    "source(\"../rlib.R\")\n",
    "\n",
    "## load rtweet and tidyverse\n",
    "library(rtweet)\n",
    "suppressPackageStartupMessages(library(tidyverse))"
   ]
  },
  {
   "cell_type": "markdown",
   "metadata": {},
   "source": [
    "## 1. Search for the top account matching each of the following queries: breitbart, thinkprogress, rueters politics"
   ]
  },
  {
   "cell_type": "code",
   "execution_count": 15,
   "metadata": {
    "collapsed": true,
    "scrolled": true
   },
   "outputs": [],
   "source": [
    "## search for users using provided queries\n",
    "bb <- search_users(q=\"breitbart\", n=1, verbose=FALSE)\n"
   ]
  },
  {
   "cell_type": "code",
   "execution_count": 16,
   "metadata": {
    "collapsed": true
   },
   "outputs": [],
   "source": [
    "tp <- search_users(q=\"thinkprogress\", n=1, verbose=FALSE)"
   ]
  },
  {
   "cell_type": "code",
   "execution_count": 22,
   "metadata": {
    "collapsed": true
   },
   "outputs": [],
   "source": [
    "rp <- search_users(q=\"reuters AND politics\", n=1, verbose=FALSE)"
   ]
  },
  {
   "cell_type": "code",
   "execution_count": 18,
   "metadata": {},
   "outputs": [
    {
     "data": {
      "text/html": [
       "<table>\n",
       "<thead><tr><th scope=col>user_id</th><th scope=col>name</th><th scope=col>screen_name</th><th scope=col>location</th><th scope=col>description</th><th scope=col>url</th><th scope=col>protected</th><th scope=col>followers_count</th><th scope=col>friends_count</th><th scope=col>listed_count</th><th scope=col>statuses_count</th><th scope=col>favourites_count</th><th scope=col>account_created_at</th><th scope=col>verified</th><th scope=col>profile_url</th><th scope=col>profile_expanded_url</th><th scope=col>account_lang</th><th scope=col>profile_banner_url</th><th scope=col>profile_background_url</th><th scope=col>profile_image_url</th></tr></thead>\n",
       "<tbody>\n",
       "\t<tr><td>457984599                                                                         </td><td>Breitbart News                                                                    </td><td>BreitbartNews                                                                     </td><td>                                                                                  </td><td>News, commentary, and destruction of the political/media establishment.           </td><td>http://t.co/2sVbt3n6lO                                                            </td><td>FALSE                                                                             </td><td>912534                                                                            </td><td>146                                                                               </td><td>8074                                                                              </td><td>86324                                                                             </td><td>951                                                                               </td><td>2012-01-08 01:50:52                                                               </td><td>TRUE                                                                              </td><td>http://t.co/2sVbt3n6lO                                                            </td><td>http://breitbart.com                                                              </td><td>en                                                                                </td><td>https://pbs.twimg.com/profile_banners/457984599/1359997459                        </td><td>http://pbs.twimg.com/profile_background_images/640017675/ywh1wklfs11iwzuczgi7.jpeg</td><td>http://pbs.twimg.com/profile_images/949270171755077632/dw3M-58z_normal.jpg        </td></tr>\n",
       "</tbody>\n",
       "</table>\n"
      ],
      "text/latex": [
       "\\begin{tabular}{r|llllllllllllllllllll}\n",
       " user\\_id & name & screen\\_name & location & description & url & protected & followers\\_count & friends\\_count & listed\\_count & statuses\\_count & favourites\\_count & account\\_created\\_at & verified & profile\\_url & profile\\_expanded\\_url & account\\_lang & profile\\_banner\\_url & profile\\_background\\_url & profile\\_image\\_url\\\\\n",
       "\\hline\n",
       "\t 457984599                                                                              & Breitbart News                                                                         & BreitbartNews                                                                          &                                                                                        & News, commentary, and destruction of the political/media establishment.                & http://t.co/2sVbt3n6lO                                                                 & FALSE                                                                                  & 912534                                                                                 & 146                                                                                    & 8074                                                                                   & 86324                                                                                  & 951                                                                                    & 2012-01-08 01:50:52                                                                    & TRUE                                                                                   & http://t.co/2sVbt3n6lO                                                                 & http://breitbart.com                                                                   & en                                                                                     & https://pbs.twimg.com/profile\\_banners/457984599/1359997459                           & http://pbs.twimg.com/profile\\_background\\_images/640017675/ywh1wklfs11iwzuczgi7.jpeg & http://pbs.twimg.com/profile\\_images/949270171755077632/dw3M-58z\\_normal.jpg        \\\\\n",
       "\\end{tabular}\n"
      ],
      "text/markdown": [
       "\n",
       "user_id | name | screen_name | location | description | url | protected | followers_count | friends_count | listed_count | statuses_count | favourites_count | account_created_at | verified | profile_url | profile_expanded_url | account_lang | profile_banner_url | profile_background_url | profile_image_url | \n",
       "|---|\n",
       "| 457984599                                                                          | Breitbart News                                                                     | BreitbartNews                                                                      |                                                                                    | News, commentary, and destruction of the political/media establishment.            | http://t.co/2sVbt3n6lO                                                             | FALSE                                                                              | 912534                                                                             | 146                                                                                | 8074                                                                               | 86324                                                                              | 951                                                                                | 2012-01-08 01:50:52                                                                | TRUE                                                                               | http://t.co/2sVbt3n6lO                                                             | http://breitbart.com                                                               | en                                                                                 | https://pbs.twimg.com/profile_banners/457984599/1359997459                         | http://pbs.twimg.com/profile_background_images/640017675/ywh1wklfs11iwzuczgi7.jpeg | http://pbs.twimg.com/profile_images/949270171755077632/dw3M-58z_normal.jpg         | \n",
       "\n",
       "\n"
      ],
      "text/plain": [
       "  user_id   name           screen_name   location\n",
       "1 457984599 Breitbart News BreitbartNews         \n",
       "  description                                                            \n",
       "1 News, commentary, and destruction of the political/media establishment.\n",
       "  url                    protected followers_count friends_count listed_count\n",
       "1 http://t.co/2sVbt3n6lO FALSE     912534          146           8074        \n",
       "  statuses_count favourites_count account_created_at  verified\n",
       "1 86324          951              2012-01-08 01:50:52 TRUE    \n",
       "  profile_url            profile_expanded_url account_lang\n",
       "1 http://t.co/2sVbt3n6lO http://breitbart.com en          \n",
       "  profile_banner_url                                        \n",
       "1 https://pbs.twimg.com/profile_banners/457984599/1359997459\n",
       "  profile_background_url                                                            \n",
       "1 http://pbs.twimg.com/profile_background_images/640017675/ywh1wklfs11iwzuczgi7.jpeg\n",
       "  profile_image_url                                                         \n",
       "1 http://pbs.twimg.com/profile_images/949270171755077632/dw3M-58z_normal.jpg"
      ]
     },
     "metadata": {},
     "output_type": "display_data"
    }
   ],
   "source": [
    "head(bb)"
   ]
  },
  {
   "cell_type": "code",
   "execution_count": 19,
   "metadata": {},
   "outputs": [
    {
     "data": {
      "text/html": [
       "<table>\n",
       "<thead><tr><th scope=col>user_id</th><th scope=col>name</th><th scope=col>screen_name</th><th scope=col>location</th><th scope=col>description</th><th scope=col>url</th><th scope=col>protected</th><th scope=col>followers_count</th><th scope=col>friends_count</th><th scope=col>listed_count</th><th scope=col>statuses_count</th><th scope=col>favourites_count</th><th scope=col>account_created_at</th><th scope=col>verified</th><th scope=col>profile_url</th><th scope=col>profile_expanded_url</th><th scope=col>account_lang</th><th scope=col>profile_banner_url</th><th scope=col>profile_background_url</th><th scope=col>profile_image_url</th></tr></thead>\n",
       "<tbody>\n",
       "\t<tr><td>55355654                                                                  </td><td>ThinkProgress                                                             </td><td>thinkprogress                                                             </td><td>Washington, D.C.                                                          </td><td>Moving news forward. Founded in 2005. 0-time Fake News Award winner.      </td><td>https://t.co/zvnMIuvszS                                                   </td><td>FALSE                                                                     </td><td>850292                                                                    </td><td>876                                                                       </td><td>14204                                                                     </td><td>115656                                                                    </td><td>241                                                                       </td><td>2009-07-09 20:42:08                                                       </td><td>TRUE                                                                      </td><td>https://t.co/zvnMIuvszS                                                   </td><td>http://www.thinkprogress.org                                              </td><td>en                                                                        </td><td>https://pbs.twimg.com/profile_banners/55355654/1470649637                 </td><td>http://pbs.twimg.com/profile_background_images/365080126/tp-twitter.gif   </td><td>http://pbs.twimg.com/profile_images/762609394265632768/H_UR_W7r_normal.jpg</td></tr>\n",
       "</tbody>\n",
       "</table>\n"
      ],
      "text/latex": [
       "\\begin{tabular}{r|llllllllllllllllllll}\n",
       " user\\_id & name & screen\\_name & location & description & url & protected & followers\\_count & friends\\_count & listed\\_count & statuses\\_count & favourites\\_count & account\\_created\\_at & verified & profile\\_url & profile\\_expanded\\_url & account\\_lang & profile\\_banner\\_url & profile\\_background\\_url & profile\\_image\\_url\\\\\n",
       "\\hline\n",
       "\t 55355654                                                                           & ThinkProgress                                                                      & thinkprogress                                                                      & Washington, D.C.                                                                   & Moving news forward. Founded in 2005. 0-time Fake News Award winner.               & https://t.co/zvnMIuvszS                                                            & FALSE                                                                              & 850292                                                                             & 876                                                                                & 14204                                                                              & 115656                                                                             & 241                                                                                & 2009-07-09 20:42:08                                                                & TRUE                                                                               & https://t.co/zvnMIuvszS                                                            & http://www.thinkprogress.org                                                       & en                                                                                 & https://pbs.twimg.com/profile\\_banners/55355654/1470649637                        & http://pbs.twimg.com/profile\\_background\\_images/365080126/tp-twitter.gif        & http://pbs.twimg.com/profile\\_images/762609394265632768/H\\_UR\\_W7r\\_normal.jpg\\\\\n",
       "\\end{tabular}\n"
      ],
      "text/markdown": [
       "\n",
       "user_id | name | screen_name | location | description | url | protected | followers_count | friends_count | listed_count | statuses_count | favourites_count | account_created_at | verified | profile_url | profile_expanded_url | account_lang | profile_banner_url | profile_background_url | profile_image_url | \n",
       "|---|\n",
       "| 55355654                                                                   | ThinkProgress                                                              | thinkprogress                                                              | Washington, D.C.                                                           | Moving news forward. Founded in 2005. 0-time Fake News Award winner.       | https://t.co/zvnMIuvszS                                                    | FALSE                                                                      | 850292                                                                     | 876                                                                        | 14204                                                                      | 115656                                                                     | 241                                                                        | 2009-07-09 20:42:08                                                        | TRUE                                                                       | https://t.co/zvnMIuvszS                                                    | http://www.thinkprogress.org                                               | en                                                                         | https://pbs.twimg.com/profile_banners/55355654/1470649637                  | http://pbs.twimg.com/profile_background_images/365080126/tp-twitter.gif    | http://pbs.twimg.com/profile_images/762609394265632768/H_UR_W7r_normal.jpg | \n",
       "\n",
       "\n"
      ],
      "text/plain": [
       "  user_id  name          screen_name   location        \n",
       "1 55355654 ThinkProgress thinkprogress Washington, D.C.\n",
       "  description                                                         \n",
       "1 Moving news forward. Founded in 2005. 0-time Fake News Award winner.\n",
       "  url                     protected followers_count friends_count listed_count\n",
       "1 https://t.co/zvnMIuvszS FALSE     850292          876           14204       \n",
       "  statuses_count favourites_count account_created_at  verified\n",
       "1 115656         241              2009-07-09 20:42:08 TRUE    \n",
       "  profile_url             profile_expanded_url         account_lang\n",
       "1 https://t.co/zvnMIuvszS http://www.thinkprogress.org en          \n",
       "  profile_banner_url                                       \n",
       "1 https://pbs.twimg.com/profile_banners/55355654/1470649637\n",
       "  profile_background_url                                                 \n",
       "1 http://pbs.twimg.com/profile_background_images/365080126/tp-twitter.gif\n",
       "  profile_image_url                                                         \n",
       "1 http://pbs.twimg.com/profile_images/762609394265632768/H_UR_W7r_normal.jpg"
      ]
     },
     "metadata": {},
     "output_type": "display_data"
    }
   ],
   "source": [
    "head(tp)"
   ]
  },
  {
   "cell_type": "code",
   "execution_count": 23,
   "metadata": {},
   "outputs": [
    {
     "data": {
      "text/html": [
       "<table>\n",
       "<thead><tr><th scope=col>user_id</th><th scope=col>name</th><th scope=col>screen_name</th><th scope=col>location</th><th scope=col>description</th><th scope=col>url</th><th scope=col>protected</th><th scope=col>followers_count</th><th scope=col>friends_count</th><th scope=col>listed_count</th><th scope=col>statuses_count</th><th scope=col>favourites_count</th><th scope=col>account_created_at</th><th scope=col>verified</th><th scope=col>profile_url</th><th scope=col>profile_expanded_url</th><th scope=col>account_lang</th><th scope=col>profile_banner_url</th><th scope=col>profile_background_url</th><th scope=col>profile_image_url</th></tr></thead>\n",
       "<tbody>\n",
       "\t<tr><td>25562002                                                                                              </td><td>Reuters Politics                                                                                      </td><td>ReutersPolitics                                                                                       </td><td>United States                                                                                         </td><td>U.S. political coverage, breaking news and special investigations.                                    </td><td>http://t.co/9WYK91SfY3                                                                                </td><td>FALSE                                                                                                 </td><td>249495                                                                                                </td><td>393                                                                                                   </td><td>4610                                                                                                  </td><td>70278                                                                                                 </td><td>9                                                                                                     </td><td>2009-03-20 19:42:26                                                                                   </td><td>TRUE                                                                                                  </td><td>http://t.co/9WYK91SfY3                                                                                </td><td>http://www.reuters.com/news/politics                                                                  </td><td>en                                                                                                    </td><td>https://pbs.twimg.com/profile_banners/25562002/1431460293                                             </td><td>http://pbs.twimg.com/profile_background_images/378800000075181310/69725e6073c71f402b05297a48a00f07.png</td><td>http://pbs.twimg.com/profile_images/877265341398753280/V9xEHxMe_normal.jpg                            </td></tr>\n",
       "</tbody>\n",
       "</table>\n"
      ],
      "text/latex": [
       "\\begin{tabular}{r|llllllllllllllllllll}\n",
       " user\\_id & name & screen\\_name & location & description & url & protected & followers\\_count & friends\\_count & listed\\_count & statuses\\_count & favourites\\_count & account\\_created\\_at & verified & profile\\_url & profile\\_expanded\\_url & account\\_lang & profile\\_banner\\_url & profile\\_background\\_url & profile\\_image\\_url\\\\\n",
       "\\hline\n",
       "\t 25562002                                                                                                   & Reuters Politics                                                                                           & ReutersPolitics                                                                                            & United States                                                                                              & U.S. political coverage, breaking news and special investigations.                                         & http://t.co/9WYK91SfY3                                                                                     & FALSE                                                                                                      & 249495                                                                                                     & 393                                                                                                        & 4610                                                                                                       & 70278                                                                                                      & 9                                                                                                          & 2009-03-20 19:42:26                                                                                        & TRUE                                                                                                       & http://t.co/9WYK91SfY3                                                                                     & http://www.reuters.com/news/politics                                                                       & en                                                                                                         & https://pbs.twimg.com/profile\\_banners/25562002/1431460293                                                & http://pbs.twimg.com/profile\\_background\\_images/378800000075181310/69725e6073c71f402b05297a48a00f07.png & http://pbs.twimg.com/profile\\_images/877265341398753280/V9xEHxMe\\_normal.jpg                            \\\\\n",
       "\\end{tabular}\n"
      ],
      "text/markdown": [
       "\n",
       "user_id | name | screen_name | location | description | url | protected | followers_count | friends_count | listed_count | statuses_count | favourites_count | account_created_at | verified | profile_url | profile_expanded_url | account_lang | profile_banner_url | profile_background_url | profile_image_url | \n",
       "|---|\n",
       "| 25562002                                                                                               | Reuters Politics                                                                                       | ReutersPolitics                                                                                        | United States                                                                                          | U.S. political coverage, breaking news and special investigations.                                     | http://t.co/9WYK91SfY3                                                                                 | FALSE                                                                                                  | 249495                                                                                                 | 393                                                                                                    | 4610                                                                                                   | 70278                                                                                                  | 9                                                                                                      | 2009-03-20 19:42:26                                                                                    | TRUE                                                                                                   | http://t.co/9WYK91SfY3                                                                                 | http://www.reuters.com/news/politics                                                                   | en                                                                                                     | https://pbs.twimg.com/profile_banners/25562002/1431460293                                              | http://pbs.twimg.com/profile_background_images/378800000075181310/69725e6073c71f402b05297a48a00f07.png | http://pbs.twimg.com/profile_images/877265341398753280/V9xEHxMe_normal.jpg                             | \n",
       "\n",
       "\n"
      ],
      "text/plain": [
       "  user_id  name             screen_name     location     \n",
       "1 25562002 Reuters Politics ReutersPolitics United States\n",
       "  description                                                       \n",
       "1 U.S. political coverage, breaking news and special investigations.\n",
       "  url                    protected followers_count friends_count listed_count\n",
       "1 http://t.co/9WYK91SfY3 FALSE     249495          393           4610        \n",
       "  statuses_count favourites_count account_created_at  verified\n",
       "1 70278          9                2009-03-20 19:42:26 TRUE    \n",
       "  profile_url            profile_expanded_url                 account_lang\n",
       "1 http://t.co/9WYK91SfY3 http://www.reuters.com/news/politics en          \n",
       "  profile_banner_url                                       \n",
       "1 https://pbs.twimg.com/profile_banners/25562002/1431460293\n",
       "  profile_background_url                                                                                \n",
       "1 http://pbs.twimg.com/profile_background_images/378800000075181310/69725e6073c71f402b05297a48a00f07.png\n",
       "  profile_image_url                                                         \n",
       "1 http://pbs.twimg.com/profile_images/877265341398753280/V9xEHxMe_normal.jpg"
      ]
     },
     "metadata": {},
     "output_type": "display_data"
    }
   ],
   "source": [
    "head(rp)"
   ]
  },
  {
   "cell_type": "markdown",
   "metadata": {},
   "source": [
    "## 2. Retrieve up to 5,000 user IDs of accounts that follow @BreitbartNews on Twitter. "
   ]
  },
  {
   "cell_type": "code",
   "execution_count": 13,
   "metadata": {
    "collapsed": true
   },
   "outputs": [],
   "source": [
    "## complete the code below\n",
    "gop <- get_followers(\"BreitbartNews\", n=5000)"
   ]
  },
  {
   "cell_type": "markdown",
   "metadata": {},
   "source": [
    "## 3. Retrieve up to 5,000 user IDs of accounts that follow @thinkprogress on Twitter"
   ]
  },
  {
   "cell_type": "code",
   "execution_count": 14,
   "metadata": {
    "collapsed": true
   },
   "outputs": [],
   "source": [
    "## complete the code below\n",
    "dem <- get_followers(\"thinkprogress\",n=5000)"
   ]
  },
  {
   "cell_type": "markdown",
   "metadata": {},
   "source": [
    "## 4. Retrieve up to 5,000 user IDs of accounts that follow @ReutersPolitics on Twitter."
   ]
  },
  {
   "cell_type": "code",
   "execution_count": 24,
   "metadata": {
    "collapsed": true
   },
   "outputs": [],
   "source": [
    "## complete the code below\n",
    "mod <- get_followers(\"ReutersPolitics\",n=5000)"
   ]
  },
  {
   "cell_type": "markdown",
   "metadata": {},
   "source": [
    "## 5. Lookup users data for all 15,000 user IDs retrieved in the previous three questions."
   ]
  },
  {
   "cell_type": "code",
   "execution_count": 25,
   "metadata": {
    "collapsed": true
   },
   "outputs": [],
   "source": [
    "## complete the code below\n",
    "\n",
    "## get gop users data\n",
    "gop_data <- lookup_users(gop$user_id)"
   ]
  },
  {
   "cell_type": "code",
   "execution_count": 26,
   "metadata": {
    "collapsed": true
   },
   "outputs": [],
   "source": [
    "## complete the code below\n",
    "\n",
    "## get dem users data\n",
    "dem_data <- lookup_users(dem$user_id)"
   ]
  },
  {
   "cell_type": "code",
   "execution_count": 27,
   "metadata": {
    "collapsed": true
   },
   "outputs": [],
   "source": [
    "## complete the code below\n",
    "\n",
    "## get mod users data\n",
    "mod_data <- lookup_users(mod$user_id)"
   ]
  },
  {
   "cell_type": "markdown",
   "metadata": {},
   "source": [
    "## 6. Using the data collected in the last question, add a 'partisan' variable, identifying the observations for each group as \"gop\" (Republican), \"dem\" (Democrat), or \"mod\" (moderate). Merge the data into a single data frame."
   ]
  },
  {
   "cell_type": "code",
   "execution_count": 28,
   "metadata": {
    "collapsed": true
   },
   "outputs": [],
   "source": [
    "## complete the code below\n",
    "\n",
    "## create \"partisan\" grouping variable\n",
    "gop_data$partisan <- \"gop\"\n",
    "dem_data$partisan <- \"dem\"\n",
    "mod_data$partisan <- \"mod\"\n",
    "\n",
    "## merge into single data frame\n",
    "data <- bind_rows(gop_data, dem_data, mod_data)"
   ]
  },
  {
   "cell_type": "code",
   "execution_count": 29,
   "metadata": {},
   "outputs": [
    {
     "data": {
      "text/html": [
       "<table>\n",
       "<thead><tr><th scope=col>user_id</th><th scope=col>name</th><th scope=col>screen_name</th><th scope=col>location</th><th scope=col>description</th><th scope=col>url</th><th scope=col>protected</th><th scope=col>followers_count</th><th scope=col>friends_count</th><th scope=col>listed_count</th><th scope=col>⋯</th><th scope=col>favourites_count</th><th scope=col>account_created_at</th><th scope=col>verified</th><th scope=col>profile_url</th><th scope=col>profile_expanded_url</th><th scope=col>account_lang</th><th scope=col>profile_banner_url</th><th scope=col>profile_background_url</th><th scope=col>profile_image_url</th><th scope=col>partisan</th></tr></thead>\n",
       "<tbody>\n",
       "\t<tr><td>961111057539518464                                                             </td><td>Taking Back Left                                                               </td><td>TakingBackLeft                                                                 </td><td>                                                                               </td><td>Some odd animu girl talking politics and things                                </td><td>NA                                                                             </td><td>FALSE                                                                          </td><td> 1                                                                             </td><td>104                                                                            </td><td>0                                                                              </td><td><U+22EF>                                                                       </td><td>  0                                                                            </td><td>2018-02-07 05:35:07                                                            </td><td>FALSE                                                                          </td><td>NA                                                                             </td><td>NA                                                                             </td><td>en                                                                             </td><td>https://pbs.twimg.com/profile_banners/961111057539518464/1517986182            </td><td>NA                                                                             </td><td>http://pbs.twimg.com/profile_images/961112620592922625/6yYXATVq_normal.jpg     </td><td>gop                                                                            </td></tr>\n",
       "\t<tr><td>960907606452613120                                                             </td><td>WhereWeGoOneWeGoAll                                                            </td><td>SwampBGone                                                                     </td><td>Not Russia                                                                     </td><td>#QANON #MAGA #DRAINTHESWAP #RELEASETHEMEMOS #BUILDTHEWALL #THESEPEOPLEARESTUPID</td><td>NA                                                                             </td><td>FALSE                                                                          </td><td>30                                                                             </td><td>113                                                                            </td><td>0                                                                              </td><td><U+22EF>                                                                       </td><td> 12                                                                            </td><td>2018-02-06 16:06:40                                                            </td><td>FALSE                                                                          </td><td>NA                                                                             </td><td>NA                                                                             </td><td>en                                                                             </td><td>NA                                                                             </td><td>NA                                                                             </td><td>http://pbs.twimg.com/profile_images/961122743784747009/fmAzbb1p_normal.jpg     </td><td>gop                                                                            </td></tr>\n",
       "\t<tr><td>893775348680110080                                                                                                                                                     </td><td><span style=white-space:pre-wrap>Browny             </span>                                                                                                            </td><td>Browny19411980                                                                                                                                                         </td><td>Republic of Korea                                                                                                                                                      </td><td><span style=white-space:pre-wrap>&lt;U+C790&gt;&lt;U+C5F0&gt;&lt;U+C744&gt;&lt;U+C0AC&gt;&lt;U+B791&gt;&lt;U+D569&gt;&lt;U+B2C8&gt;&lt;U+B2E4&gt;               </span></td><td>NA                                                                                                                                                                     </td><td>FALSE                                                                                                                                                                  </td><td>19                                                                                                                                                                     </td><td>334                                                                                                                                                                    </td><td>0                                                                                                                                                                      </td><td><U+22EF>                                                                                                                                                               </td><td>157                                                                                                                                                                    </td><td>2017-08-05 10:07:03                                                                                                                                                    </td><td>FALSE                                                                                                                                                                  </td><td>NA                                                                                                                                                                     </td><td>NA                                                                                                                                                                     </td><td>ko                                                                                                                                                                     </td><td><span style=white-space:pre-wrap>NA                                                                 </span>                                                            </td><td>NA                                                                                                                                                                     </td><td>http://pbs.twimg.com/profile_images/959730079982002176/aD9InTzt_normal.jpg                                                                                             </td><td>gop                                                                                                                                                                    </td></tr>\n",
       "</tbody>\n",
       "</table>\n"
      ],
      "text/latex": [
       "\\begin{tabular}{r|lllllllllllllllllllll}\n",
       " user\\_id & name & screen\\_name & location & description & url & protected & followers\\_count & friends\\_count & listed\\_count & ⋯ & favourites\\_count & account\\_created\\_at & verified & profile\\_url & profile\\_expanded\\_url & account\\_lang & profile\\_banner\\_url & profile\\_background\\_url & profile\\_image\\_url & partisan\\\\\n",
       "\\hline\n",
       "\t 961111057539518464                                                              & Taking Back Left                                                                & TakingBackLeft                                                                  &                                                                                 & Some odd animu girl talking politics and things                                 & NA                                                                              & FALSE                                                                           &  1                                                                              & 104                                                                             & 0                                                                               & <U+22EF>                                                                        &   0                                                                             & 2018-02-07 05:35:07                                                             & FALSE                                                                           & NA                                                                              & NA                                                                              & en                                                                              & https://pbs.twimg.com/profile\\_banners/961111057539518464/1517986182           & NA                                                                              & http://pbs.twimg.com/profile\\_images/961112620592922625/6yYXATVq\\_normal.jpg  & gop                                                                            \\\\\n",
       "\t 960907606452613120                                                                          & WhereWeGoOneWeGoAll                                                                         & SwampBGone                                                                                  & Not Russia                                                                                  & \\#QANON \\#MAGA \\#DRAINTHESWAP \\#RELEASETHEMEMOS \\#BUILDTHEWALL \\#THESEPEOPLEARESTUPID & NA                                                                                          & FALSE                                                                                       & 30                                                                                          & 113                                                                                         & 0                                                                                           & <U+22EF>                                                                                    &  12                                                                                         & 2018-02-06 16:06:40                                                                         & FALSE                                                                                       & NA                                                                                          & NA                                                                                          & en                                                                                          & NA                                                                                          & NA                                                                                          & http://pbs.twimg.com/profile\\_images/961122743784747009/fmAzbb1p\\_normal.jpg              & gop                                                                                        \\\\\n",
       "\t 893775348680110080                                                              & Browny                                                                          & Browny19411980                                                                  & Republic of Korea                                                               & <U+C790><U+C5F0><U+C744><U+C0AC><U+B791><U+D569><U+B2C8><U+B2E4>                & NA                                                                              & FALSE                                                                           & 19                                                                              & 334                                                                             & 0                                                                               & <U+22EF>                                                                        & 157                                                                             & 2017-08-05 10:07:03                                                             & FALSE                                                                           & NA                                                                              & NA                                                                              & ko                                                                              & NA                                                                              & NA                                                                              & http://pbs.twimg.com/profile\\_images/959730079982002176/aD9InTzt\\_normal.jpg  & gop                                                                            \\\\\n",
       "\\end{tabular}\n"
      ],
      "text/markdown": [
       "\n",
       "user_id | name | screen_name | location | description | url | protected | followers_count | friends_count | listed_count | ⋯ | favourites_count | account_created_at | verified | profile_url | profile_expanded_url | account_lang | profile_banner_url | profile_background_url | profile_image_url | partisan | \n",
       "|---|---|---|\n",
       "| 961111057539518464                                                              | Taking Back Left                                                                | TakingBackLeft                                                                  |                                                                                 | Some odd animu girl talking politics and things                                 | NA                                                                              | FALSE                                                                           |  1                                                                              | 104                                                                             | 0                                                                               | <U+22EF>                                                                        |   0                                                                             | 2018-02-07 05:35:07                                                             | FALSE                                                                           | NA                                                                              | NA                                                                              | en                                                                              | https://pbs.twimg.com/profile_banners/961111057539518464/1517986182             | NA                                                                              | http://pbs.twimg.com/profile_images/961112620592922625/6yYXATVq_normal.jpg      | gop                                                                             | \n",
       "| 960907606452613120                                                              | WhereWeGoOneWeGoAll                                                             | SwampBGone                                                                      | Not Russia                                                                      | #QANON #MAGA #DRAINTHESWAP #RELEASETHEMEMOS #BUILDTHEWALL #THESEPEOPLEARESTUPID | NA                                                                              | FALSE                                                                           | 30                                                                              | 113                                                                             | 0                                                                               | <U+22EF>                                                                        |  12                                                                             | 2018-02-06 16:06:40                                                             | FALSE                                                                           | NA                                                                              | NA                                                                              | en                                                                              | NA                                                                              | NA                                                                              | http://pbs.twimg.com/profile_images/961122743784747009/fmAzbb1p_normal.jpg      | gop                                                                             | \n",
       "| 893775348680110080                                                              | Browny                                                                          | Browny19411980                                                                  | Republic of Korea                                                               | <U+C790><U+C5F0><U+C744><U+C0AC><U+B791><U+D569><U+B2C8><U+B2E4>                | NA                                                                              | FALSE                                                                           | 19                                                                              | 334                                                                             | 0                                                                               | <U+22EF>                                                                        | 157                                                                             | 2017-08-05 10:07:03                                                             | FALSE                                                                           | NA                                                                              | NA                                                                              | ko                                                                              | NA                                                                              | NA                                                                              | http://pbs.twimg.com/profile_images/959730079982002176/aD9InTzt_normal.jpg      | gop                                                                             | \n",
       "\n",
       "\n"
      ],
      "text/plain": [
       "  user_id            name                screen_name    location         \n",
       "1 961111057539518464 Taking Back Left    TakingBackLeft                  \n",
       "2 960907606452613120 WhereWeGoOneWeGoAll SwampBGone     Not Russia       \n",
       "3 893775348680110080 Browny              Browny19411980 Republic of Korea\n",
       "  description                                                                    \n",
       "1 Some odd animu girl talking politics and things                                \n",
       "2 #QANON #MAGA #DRAINTHESWAP #RELEASETHEMEMOS #BUILDTHEWALL #THESEPEOPLEARESTUPID\n",
       "3 <U+C790><U+C5F0><U+C744><U+C0AC><U+B791><U+D569><U+B2C8><U+B2E4>               \n",
       "  url protected followers_count friends_count listed_count <U+22EF>  \n",
       "1 NA  FALSE      1              104           0            <U+22EF>\n",
       "2 NA  FALSE     30              113           0            <U+22EF>\n",
       "3 NA  FALSE     19              334           0            <U+22EF>\n",
       "  favourites_count account_created_at  verified profile_url\n",
       "1   0              2018-02-07 05:35:07 FALSE    NA         \n",
       "2  12              2018-02-06 16:06:40 FALSE    NA         \n",
       "3 157              2017-08-05 10:07:03 FALSE    NA         \n",
       "  profile_expanded_url account_lang\n",
       "1 NA                   en          \n",
       "2 NA                   en          \n",
       "3 NA                   ko          \n",
       "  profile_banner_url                                                 \n",
       "1 https://pbs.twimg.com/profile_banners/961111057539518464/1517986182\n",
       "2 NA                                                                 \n",
       "3 NA                                                                 \n",
       "  profile_background_url\n",
       "1 NA                    \n",
       "2 NA                    \n",
       "3 NA                    \n",
       "  profile_image_url                                                         \n",
       "1 http://pbs.twimg.com/profile_images/961112620592922625/6yYXATVq_normal.jpg\n",
       "2 http://pbs.twimg.com/profile_images/961122743784747009/fmAzbb1p_normal.jpg\n",
       "3 http://pbs.twimg.com/profile_images/959730079982002176/aD9InTzt_normal.jpg\n",
       "  partisan\n",
       "1 gop     \n",
       "2 gop     \n",
       "3 gop     "
      ]
     },
     "metadata": {},
     "output_type": "display_data"
    }
   ],
   "source": [
    "head(data,3)"
   ]
  },
  {
   "cell_type": "code",
   "execution_count": 30,
   "metadata": {},
   "outputs": [
    {
     "data": {
      "text/plain": [
       "   user_id              name           screen_name          location        \n",
       " Length:15000       Length:15000       Length:15000       Length:15000      \n",
       " Class :character   Class :character   Class :character   Class :character  \n",
       " Mode  :character   Mode  :character   Mode  :character   Mode  :character  \n",
       "                                                                            \n",
       "                                                                            \n",
       "                                                                            \n",
       " description            url            protected       followers_count  \n",
       " Length:15000       Length:15000       Mode :logical   Min.   :      0  \n",
       " Class :character   Class :character   FALSE:13414     1st Qu.:      8  \n",
       " Mode  :character   Mode  :character   TRUE :1586      Median :     44  \n",
       "                                                       Mean   :   1133  \n",
       "                                                       3rd Qu.:    222  \n",
       "                                                       Max.   :1094202  \n",
       " friends_count      listed_count     statuses_count      favourites_count \n",
       " Min.   :      1   Min.   :   0.00   Min.   :      0.0   Min.   :      0  \n",
       " 1st Qu.:    101   1st Qu.:   0.00   1st Qu.:      7.0   1st Qu.:     10  \n",
       " Median :    318   Median :   0.00   Median :    137.5   Median :    155  \n",
       " Mean   :   1191   Mean   :  12.35   Mean   :   3781.9   Mean   :   3293  \n",
       " 3rd Qu.:    939   3rd Qu.:   2.00   3rd Qu.:   1391.5   3rd Qu.:   1382  \n",
       " Max.   :1001526   Max.   :5561.00   Max.   :1802101.0   Max.   :1374445  \n",
       " account_created_at             verified       profile_url       \n",
       " Min.   :2006-12-23 22:32:27   Mode :logical   Length:15000      \n",
       " 1st Qu.:2011-12-13 15:54:52   FALSE:14908     Class :character  \n",
       " Median :2016-02-29 01:00:47   TRUE :92        Mode  :character  \n",
       " Mean   :2014-11-22 07:40:08                                     \n",
       " 3rd Qu.:2017-12-18 17:07:59                                     \n",
       " Max.   :2018-02-07 06:20:19                                     \n",
       " profile_expanded_url account_lang       profile_banner_url\n",
       " Length:15000         Length:15000       Length:15000      \n",
       " Class :character     Class :character   Class :character  \n",
       " Mode  :character     Mode  :character   Mode  :character  \n",
       "                                                           \n",
       "                                                           \n",
       "                                                           \n",
       " profile_background_url profile_image_url    partisan        \n",
       " Length:15000           Length:15000       Length:15000      \n",
       " Class :character       Class :character   Class :character  \n",
       " Mode  :character       Mode  :character   Mode  :character  \n",
       "                                                             \n",
       "                                                             \n",
       "                                                             "
      ]
     },
     "metadata": {},
     "output_type": "display_data"
    }
   ],
   "source": [
    "summary(data)"
   ]
  },
  {
   "cell_type": "code",
   "execution_count": 32,
   "metadata": {},
   "outputs": [
    {
     "data": {
      "text/plain": [
       " followers_count   friends_count      listed_count     statuses_count     \n",
       " Min.   :      0   Min.   :      1   Min.   :   0.00   Min.   :      0.0  \n",
       " 1st Qu.:      8   1st Qu.:    101   1st Qu.:   0.00   1st Qu.:      7.0  \n",
       " Median :     44   Median :    318   Median :   0.00   Median :    137.5  \n",
       " Mean   :   1133   Mean   :   1191   Mean   :  12.35   Mean   :   3781.9  \n",
       " 3rd Qu.:    222   3rd Qu.:    939   3rd Qu.:   2.00   3rd Qu.:   1391.5  \n",
       " Max.   :1094202   Max.   :1001526   Max.   :5561.00   Max.   :1802101.0  \n",
       " favourites_count \n",
       " Min.   :      0  \n",
       " 1st Qu.:     10  \n",
       " Median :    155  \n",
       " Mean   :   3293  \n",
       " 3rd Qu.:   1382  \n",
       " Max.   :1374445  "
      ]
     },
     "metadata": {},
     "output_type": "display_data"
    }
   ],
   "source": [
    "integer<-data[c(8:12)]\n",
    "summary(integer)"
   ]
  },
  {
   "cell_type": "markdown",
   "metadata": {},
   "source": [
    "## 7. Group by partisan [group] and summarise all integer class features. Print the summary data. "
   ]
  },
  {
   "cell_type": "code",
   "execution_count": 34,
   "metadata": {
    "scrolled": true
   },
   "outputs": [
    {
     "data": {
      "text/html": [
       "<table>\n",
       "<thead><tr><th scope=col>partisan</th><th scope=col>followers</th><th scope=col>friends</th><th scope=col>listed</th><th scope=col>statuses</th><th scope=col>favorites</th></tr></thead>\n",
       "<tbody>\n",
       "\t<tr><td>dem      </td><td>1222.6908</td><td>1442.9976</td><td>16.0074  </td><td>4810.765 </td><td>5013.200 </td></tr>\n",
       "\t<tr><td>gop      </td><td> 688.4288</td><td> 737.6902</td><td> 7.2148  </td><td>1947.109 </td><td>1406.899 </td></tr>\n",
       "\t<tr><td>mod      </td><td>1488.4514</td><td>1393.0304</td><td>13.8288  </td><td>4587.756 </td><td>3458.057 </td></tr>\n",
       "</tbody>\n",
       "</table>\n"
      ],
      "text/latex": [
       "\\begin{tabular}{r|llllll}\n",
       " partisan & followers & friends & listed & statuses & favorites\\\\\n",
       "\\hline\n",
       "\t dem       & 1222.6908 & 1442.9976 & 16.0074   & 4810.765  & 5013.200 \\\\\n",
       "\t gop       &  688.4288 &  737.6902 &  7.2148   & 1947.109  & 1406.899 \\\\\n",
       "\t mod       & 1488.4514 & 1393.0304 & 13.8288   & 4587.756  & 3458.057 \\\\\n",
       "\\end{tabular}\n"
      ],
      "text/markdown": [
       "\n",
       "partisan | followers | friends | listed | statuses | favorites | \n",
       "|---|---|---|\n",
       "| dem       | 1222.6908 | 1442.9976 | 16.0074   | 4810.765  | 5013.200  | \n",
       "| gop       |  688.4288 |  737.6902 |  7.2148   | 1947.109  | 1406.899  | \n",
       "| mod       | 1488.4514 | 1393.0304 | 13.8288   | 4587.756  | 3458.057  | \n",
       "\n",
       "\n"
      ],
      "text/plain": [
       "  partisan followers friends   listed  statuses favorites\n",
       "1 dem      1222.6908 1442.9976 16.0074 4810.765 5013.200 \n",
       "2 gop       688.4288  737.6902  7.2148 1947.109 1406.899 \n",
       "3 mod      1488.4514 1393.0304 13.8288 4587.756 3458.057 "
      ]
     },
     "metadata": {},
     "output_type": "display_data"
    }
   ],
   "source": [
    "## complete the code below\n",
    "\n",
    "## PRINT: group by partisan and summarise integer vars\n",
    "data %>%\n",
    "  group_by(partisan) %>%\n",
    "summarise(\n",
    "    followers=mean(followers_count,na.rm=TRUE),\n",
    "    friends=mean(friends_count,na.rm=TRUE),\n",
    "    listed=mean(listed_count,na.rm=TRUE),\n",
    "    statuses=mean(statuses_count,na.rm=TRUE),\n",
    "    favorites=mean(favourites_count,na.rm=TRUE))"
   ]
  },
  {
   "cell_type": "markdown",
   "metadata": {},
   "source": [
    "## 8. Plot the summary data you calculated in the previous question."
   ]
  },
  {
   "cell_type": "code",
   "execution_count": 37,
   "metadata": {},
   "outputs": [
    {
     "data": {},
     "metadata": {},
     "output_type": "display_data"
    },
    {
     "data": {
      "image/png": "[encoded data removed]",
      "text/plain": [
       "plot without title"
      ]
     },
     "metadata": {},
     "output_type": "display_data"
    }
   ],
   "source": [
    "## complete the code below\n",
    "\n",
    "## PLOT: group by partisan and summarise integer vars\n",
    "data %>%\n",
    "    mutate(Following = factor(partisan, labels = c(\"Breitbart\", \"ThinkProgress\", \"ReutersPolitics\"))) %>%\n",
    "    group_by(Following) %>%\n",
    "    summarise(\n",
    "    followers=mean(followers_count,na.rm=TRUE),\n",
    "    friends=mean(friends_count,na.rm=TRUE),\n",
    "    listed=mean(listed_count,na.rm=TRUE),\n",
    "    statuses=mean(statuses_count,na.rm=TRUE),\n",
    "    favorites=mean(favourites_count,na.rm=TRUE)) %>%\n",
    "    gather(var, count, -Following) %>%\n",
    "    ggplot(aes(x = Following, y = count, fill = Following)) + \n",
    "    geom_col() + \n",
    "    facet_wrap(~ var, ncol = 2, scales = \"free_y\") + \n",
    "    theme_bw(base_size = 10) + \n",
    "    theme(plot.title = element_text(face = \"bold\")) + \n",
    "    scale_fill_manual(values = c(Breitbart = \"red2\", ThinkProgress = \"blue\", ReutersPolitics = \"purple\")) + \n",
    "    labs(\n",
    "        title = \"User stats for followers of Breitbart, ThinkProgress, and Reuters Politics\",\n",
    "        subtitle = \"Mean number of integer variables by group (n = 1000)\", \n",
    "        x = NULL, y = \"Count\")"
   ]
  },
  {
   "cell_type": "markdown",
   "metadata": {},
   "source": [
    "## 9. From the data returned in the previous three questions, randomly select 5 users from each group (gop, dem, and mod). Prior to sampling, make sure to remove all users that (a) appear in more than one group, (b) have \"protected\" accounts, or (c) are \"verified\" users. Combine all sampled users into a single data frame that includes a 'group' variable to identify each observation with its respective group (gop, dem, or mod)."
   ]
  },
  {
   "cell_type": "code",
   "execution_count": 39,
   "metadata": {
    "collapsed": true
   },
   "outputs": [],
   "source": [
    "## complete the code below\n",
    "smps <- function(..., n) {\n",
    "    dots <- list(...)\n",
    "    groups <- names(dots)\n",
    "    user_ids <- lapply(dots, \"[[\", \"user_id\")\n",
    "    for (i in seq_along(dots)) {\n",
    "        ## filter out users found in other groups and protected users\n",
    "        dots[[i]] <- filter(\n",
    "            dots[[i]], \n",
    "            !user_id %in% unlist(user_ids[-i]) & !protected & verified\n",
    "        )\n",
    "        dots[[i]]$group <- groups[i]\n",
    "    }\n",
    "    sample_users <- function(x, n) x[x$user_id %in% sample(x$user_id, n), ]\n",
    "    out <- lapply(dots, sample_users, n)\n",
    "    bind_rows(out)\n",
    "}\n",
    "\n",
    "## filter and sample 5 from each group\n",
    "smps <- smps(gop = gop_data, dem = dem_data, mod = mod_data, n = 5)"
   ]
  },
  {
   "cell_type": "markdown",
   "metadata": {},
   "source": [
    "## 10. Get the friends of each account sampled in the previous question. Identify which accounts are followed by at least 3 users and then print a frequency table with their screen names."
   ]
  },
  {
   "cell_type": "code",
   "execution_count": 42,
   "metadata": {
    "scrolled": false
   },
   "outputs": [
    {
     "name": "stderr",
     "output_type": "stream",
     "text": [
      "Warning message:\n",
      "\"Rate limit exceeded\"Warning message:\n",
      "\"Rate limit exceeded\"Warning message:\n",
      "\"Rate limit exceeded\"Warning message:\n",
      "\"Rate limit exceeded\"Warning message:\n",
      "\"Rate limit exceeded\"Warning message:\n",
      "\"Rate limit exceeded\"Warning message:\n",
      "\"Rate limit exceeded\"Warning message:\n",
      "\"Rate limit exceeded\"Warning message:\n",
      "\"Rate limit exceeded\"Warning message:\n",
      "\"Rate limit exceeded\"Warning message:\n",
      "\"Rate limit exceeded\"Warning message:\n",
      "\"Rate limit exceeded\"Warning message:\n",
      "\"Rate limit exceeded\"Warning message:\n",
      "\"Rate limit exceeded\"Warning message:\n",
      "\"Rate limit exceeded\""
     ]
    },
    {
     "ename": "ERROR",
     "evalue": "Error in summarise_impl(.data, dots): argument is of length zero\n",
     "output_type": "error",
     "traceback": [
      "Error in summarise_impl(.data, dots): argument is of length zero\nTraceback:\n",
      "1. smps %>% group_by(group) %>% summarise(freq = list(get_top_names(fds)))",
      "2. withVisible(eval(quote(`_fseq`(`_lhs`)), env, env))",
      "3. eval(quote(`_fseq`(`_lhs`)), env, env)",
      "4. eval(quote(`_fseq`(`_lhs`)), env, env)",
      "5. `_fseq`(`_lhs`)",
      "6. freduce(value, `_function_list`)",
      "7. withVisible(function_list[[k]](value))",
      "8. function_list[[k]](value)",
      "9. summarise(., freq = list(get_top_names(fds)))",
      "10. summarise.tbl_df(., freq = list(get_top_names(fds)))",
      "11. summarise_impl(.data, dots)"
     ]
    }
   ],
   "source": [
    "## your code goes here\n",
    "## get friends for each sampled user\n",
    "fds <- lapply(smps$user_id, get_friends, verbose = FALSE)\n",
    "\n",
    "## add the list of data frames to smps as a list column\n",
    "smps$fds <- I(fds)\n",
    "\n",
    "## create function to identify accounts followed by at least three users and then lookup their screen names\n",
    "popular <- function(x, n = 3) {\n",
    "    tbl <- sort(table(unlist(x)), decreasing = TRUE)\n",
    "    if (length(tbl) > n) {\n",
    "        tbl <- tbl[seq_len(n)]\n",
    "    }\n",
    "    sns <- lookup_users(names(tbl))\n",
    "    sns$screen_name\n",
    "}"
   ]
  },
  {
   "cell_type": "code",
   "execution_count": null,
   "metadata": {
    "collapsed": true
   },
   "outputs": [],
   "source": [
    "## print out frequency table associated with popular accounts\n",
    "smps %>% \n",
    "    group_by(group) %>%\n",
    "    summarise(\n",
    "        freq = list(popular(fds))\n",
    "    )"
   ]
  },
  {
   "cell_type": "code",
   "execution_count": null,
   "metadata": {
    "collapsed": true
   },
   "outputs": [],
   "source": []
  }
 ],
 "metadata": {
  "kernelspec": {
   "display_name": "R",
   "language": "R",
   "name": "ir"
  },
  "language_info": {
   "codemirror_mode": "r",
   "file_extension": ".r",
   "mimetype": "text/x-r-source",
   "name": "R",
   "pygments_lexer": "r",
   "version": "3.4.1"
  }
 },
 "nbformat": 4,
 "nbformat_minor": 2
}
