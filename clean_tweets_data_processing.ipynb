{
 "cells": [
  {
   "cell_type": "markdown",
   "metadata": {},
   "source": [
    "## Exercises\n",
    "\n",
    "The exercises this week fous on language processing. Specifically, the following prompts ask you to clean/prep text for data analysis. As with most things, there are multiple ways (base functions or functions from other packagess) to accomplish each task. Pick whichever way makes the most sense to you.\n",
    "\n",
    "### 1. Read the `uss` data set and store the `text` variable as object `s`."
   ]
  },
  {
   "cell_type": "code",
   "execution_count": 59,
   "metadata": {
    "collapsed": true
   },
   "outputs": [],
   "source": [
    "suppressPackageStartupMessages(library(tidyverse))"
   ]
  },
  {
   "cell_type": "code",
   "execution_count": 60,
   "metadata": {
    "collapsed": true
   },
   "outputs": [],
   "source": [
    "## this one is done for you\n",
    "s <- readRDS(\"../data/uss-tweets.rds\")\n",
    "s <- s$text"
   ]
  },
  {
   "cell_type": "code",
   "execution_count": 61,
   "metadata": {},
   "outputs": [
    {
     "data": {
      "text/plain": [
       "   Length     Class      Mode \n",
       "     9898 character character "
      ]
     },
     "metadata": {},
     "output_type": "display_data"
    }
   ],
   "source": [
    "summary(s)"
   ]
  },
  {
   "cell_type": "code",
   "execution_count": 62,
   "metadata": {},
   "outputs": [
    {
     "name": "stdout",
     "output_type": "stream",
     "text": [
      " chr [1:9898] \"<U+201C>We bested the Saints!<U+201D> <U+2014>My four-year-old grandson Joe\\n\\n<U+201C>Holy moly!!!<U+201D> <U+\"| __truncated__ ...\n"
     ]
    }
   ],
   "source": [
    "str(s)"
   ]
  },
  {
   "cell_type": "markdown",
   "metadata": {},
   "source": [
    "### 2. Transform the character vector `s` into strings with only lower case."
   ]
  },
  {
   "cell_type": "code",
   "execution_count": 63,
   "metadata": {
    "collapsed": true
   },
   "outputs": [],
   "source": [
    "s <- tolower(s)"
   ]
  },
  {
   "cell_type": "code",
   "execution_count": 64,
   "metadata": {},
   "outputs": [
    {
     "data": {
      "text/html": [
       "<ol class=list-inline>\n",
       "\t<li>'\\u201cwe bested the saints!\\u201d \\u2014my four-year-old grandson joe\\n\\n\\u201choly moly!!!\\u201d \\u2014me https://t.co/gszrdeyjx9'</li>\n",
       "\t<li>'hey everybody, i have something that\\'s really important to share: tina smith, our new u.s. senator for minnesota, has shown time and time again that she\\'s committed to fighting for you, and now we need to do the same for her. so please do something for me. follow @tinasmithmn. https://t.co/bkgnserhmq'</li>\n",
       "\t<li>'working on behalf of the people of minnesota has been the honor of my life and i could not have done this without the help of my family, friends, and supporters. thank you. https://t.co/fqwc5qyhhp'</li>\n",
       "</ol>\n"
      ],
      "text/latex": [
       "\\begin{enumerate*}\n",
       "\\item '\\textbackslash{}u201cwe bested the saints!\\textbackslash{}u201d \\textbackslash{}u2014my four-year-old grandson joe\\textbackslash{}n\\textbackslash{}n\\textbackslash{}u201choly moly!!!\\textbackslash{}u201d \\textbackslash{}u2014me https://t.co/gszrdeyjx9'\n",
       "\\item 'hey everybody, i have something that\\textbackslash{}'s really important to share: tina smith, our new u.s. senator for minnesota, has shown time and time again that she\\textbackslash{}'s committed to fighting for you, and now we need to do the same for her. so please do something for me. follow @tinasmithmn. https://t.co/bkgnserhmq'\n",
       "\\item 'working on behalf of the people of minnesota has been the honor of my life and i could not have done this without the help of my family, friends, and supporters. thank you. https://t.co/fqwc5qyhhp'\n",
       "\\end{enumerate*}\n"
      ],
      "text/markdown": [
       "1. '\\u201cwe bested the saints!\\u201d \\u2014my four-year-old grandson joe\\n\\n\\u201choly moly!!!\\u201d \\u2014me https://t.co/gszrdeyjx9'\n",
       "2. 'hey everybody, i have something that\\'s really important to share: tina smith, our new u.s. senator for minnesota, has shown time and time again that she\\'s committed to fighting for you, and now we need to do the same for her. so please do something for me. follow @tinasmithmn. https://t.co/bkgnserhmq'\n",
       "3. 'working on behalf of the people of minnesota has been the honor of my life and i could not have done this without the help of my family, friends, and supporters. thank you. https://t.co/fqwc5qyhhp'\n",
       "\n",
       "\n"
      ],
      "text/plain": [
       "[1] \"<U+201C>we bested the saints!<U+201D> <U+2014>my four-year-old grandson joe\\n\\n<U+201C>holy moly!!!<U+201D> <U+2014>me https://t.co/gszrdeyjx9\"                                                                                                                                                               \n",
       "[2] \"hey everybody, i have something that's really important to share: tina smith, our new u.s. senator for minnesota, has shown time and time again that she's committed to fighting for you, and now we need to do the same for her. so please do something for me. follow @tinasmithmn. https://t.co/bkgnserhmq\"\n",
       "[3] \"working on behalf of the people of minnesota has been the honor of my life and i could not have done this without the help of my family, friends, and supporters. thank you. https://t.co/fqwc5qyhhp\"                                                                                                         "
      ]
     },
     "metadata": {},
     "output_type": "display_data"
    }
   ],
   "source": [
    "head(s,3)"
   ]
  },
  {
   "cell_type": "markdown",
   "metadata": {},
   "source": [
    "### 3. Remove all screen names from `s`."
   ]
  },
  {
   "cell_type": "code",
   "execution_count": 65,
   "metadata": {
    "collapsed": true
   },
   "outputs": [],
   "source": [
    "s <- stringr::str_replace_all(s, \"@\\\\S+\", \"\")"
   ]
  },
  {
   "cell_type": "markdown",
   "metadata": {},
   "source": [
    "### 4. Remove all URLs from  `s`."
   ]
  },
  {
   "cell_type": "code",
   "execution_count": 66,
   "metadata": {
    "collapsed": true
   },
   "outputs": [],
   "source": [
    "s <- stringr::str_replace_all(s, \"https?:[[:graph:]]+\", \"\")"
   ]
  },
  {
   "cell_type": "code",
   "execution_count": 67,
   "metadata": {},
   "outputs": [
    {
     "data": {
      "text/html": [
       "<ol class=list-inline>\n",
       "\t<li>'\\u201cwe bested the saints!\\u201d \\u2014my four-year-old grandson joe\\n\\n\\u201choly moly!!!\\u201d \\u2014me '</li>\n",
       "\t<li><span style=white-space:pre-wrap>'hey everybody, i have something that\\'s really important to share: tina smith, our new u.s. senator for minnesota, has shown time and time again that she\\'s committed to fighting for you, and now we need to do the same for her. so please do something for me. follow  '</span></li>\n",
       "\t<li>'working on behalf of the people of minnesota has been the honor of my life and i could not have done this without the help of my family, friends, and supporters. thank you. '</li>\n",
       "\t<li>'today we honor those who have defended our country. on #veteransday\\u2014and everyday\\u2014i\\'m fighting to keep our promises made to mn veterans. '</li>\n",
       "\t<li><span style=white-space:pre-wrap>'congratulations  who was elected to minneapolis city council. jeremiah\\'s progressive vision will move ward 5 and the whole city forward. '</span></li>\n",
       "</ol>\n"
      ],
      "text/latex": [
       "\\begin{enumerate*}\n",
       "\\item '\\textbackslash{}u201cwe bested the saints!\\textbackslash{}u201d \\textbackslash{}u2014my four-year-old grandson joe\\textbackslash{}n\\textbackslash{}n\\textbackslash{}u201choly moly!!!\\textbackslash{}u201d \\textbackslash{}u2014me '\n",
       "\\item 'hey everybody, i have something that\\textbackslash{}'s really important to share: tina smith, our new u.s. senator for minnesota, has shown time and time again that she\\textbackslash{}'s committed to fighting for you, and now we need to do the same for her. so please do something for me. follow  '\n",
       "\\item 'working on behalf of the people of minnesota has been the honor of my life and i could not have done this without the help of my family, friends, and supporters. thank you. '\n",
       "\\item 'today we honor those who have defended our country. on \\#veteransday\\textbackslash{}u2014and everyday\\textbackslash{}u2014i\\textbackslash{}'m fighting to keep our promises made to mn veterans. '\n",
       "\\item 'congratulations  who was elected to minneapolis city council. jeremiah\\textbackslash{}'s progressive vision will move ward 5 and the whole city forward. '\n",
       "\\end{enumerate*}\n"
      ],
      "text/markdown": [
       "1. '\\u201cwe bested the saints!\\u201d \\u2014my four-year-old grandson joe\\n\\n\\u201choly moly!!!\\u201d \\u2014me '\n",
       "2. <span style=white-space:pre-wrap>'hey everybody, i have something that\\'s really important to share: tina smith, our new u.s. senator for minnesota, has shown time and time again that she\\'s committed to fighting for you, and now we need to do the same for her. so please do something for me. follow  '</span>\n",
       "3. 'working on behalf of the people of minnesota has been the honor of my life and i could not have done this without the help of my family, friends, and supporters. thank you. '\n",
       "4. 'today we honor those who have defended our country. on #veteransday\\u2014and everyday\\u2014i\\'m fighting to keep our promises made to mn veterans. '\n",
       "5. <span style=white-space:pre-wrap>'congratulations  who was elected to minneapolis city council. jeremiah\\'s progressive vision will move ward 5 and the whole city forward. '</span>\n",
       "\n",
       "\n"
      ],
      "text/plain": [
       "[1] \"<U+201C>we bested the saints!<U+201D> <U+2014>my four-year-old grandson joe\\n\\n<U+201C>holy moly!!!<U+201D> <U+2014>me \"                                                                                                                                                  \n",
       "[2] \"hey everybody, i have something that's really important to share: tina smith, our new u.s. senator for minnesota, has shown time and time again that she's committed to fighting for you, and now we need to do the same for her. so please do something for me. follow  \"\n",
       "[3] \"working on behalf of the people of minnesota has been the honor of my life and i could not have done this without the help of my family, friends, and supporters. thank you. \"                                                                                            \n",
       "[4] \"today we honor those who have defended our country. on #veteransday<U+2014>and everyday<U+2014>i'm fighting to keep our promises made to mn veterans. \"                                                                                                                   \n",
       "[5] \"congratulations  who was elected to minneapolis city council. jeremiah's progressive vision will move ward 5 and the whole city forward. \"                                                                                                                                "
      ]
     },
     "metadata": {},
     "output_type": "display_data"
    }
   ],
   "source": [
    "#test\n",
    "head(s,5)"
   ]
  },
  {
   "cell_type": "markdown",
   "metadata": {},
   "source": [
    "### 5. Remove all hashtags from  `s`."
   ]
  },
  {
   "cell_type": "code",
   "execution_count": 68,
   "metadata": {
    "collapsed": true
   },
   "outputs": [],
   "source": [
    "s <- stringr::str_replace_all(s, \"#\", \"\")"
   ]
  },
  {
   "cell_type": "code",
   "execution_count": 69,
   "metadata": {},
   "outputs": [
    {
     "data": {
      "text/html": [
       "<ol class=list-inline>\n",
       "\t<li>'\\u201cwe bested the saints!\\u201d \\u2014my four-year-old grandson joe\\n\\n\\u201choly moly!!!\\u201d \\u2014me '</li>\n",
       "\t<li><span style=white-space:pre-wrap>'hey everybody, i have something that\\'s really important to share: tina smith, our new u.s. senator for minnesota, has shown time and time again that she\\'s committed to fighting for you, and now we need to do the same for her. so please do something for me. follow  '</span></li>\n",
       "\t<li>'working on behalf of the people of minnesota has been the honor of my life and i could not have done this without the help of my family, friends, and supporters. thank you. '</li>\n",
       "\t<li>'today we honor those who have defended our country. on veteransday\\u2014and everyday\\u2014i\\'m fighting to keep our promises made to mn veterans. '</li>\n",
       "</ol>\n"
      ],
      "text/latex": [
       "\\begin{enumerate*}\n",
       "\\item '\\textbackslash{}u201cwe bested the saints!\\textbackslash{}u201d \\textbackslash{}u2014my four-year-old grandson joe\\textbackslash{}n\\textbackslash{}n\\textbackslash{}u201choly moly!!!\\textbackslash{}u201d \\textbackslash{}u2014me '\n",
       "\\item 'hey everybody, i have something that\\textbackslash{}'s really important to share: tina smith, our new u.s. senator for minnesota, has shown time and time again that she\\textbackslash{}'s committed to fighting for you, and now we need to do the same for her. so please do something for me. follow  '\n",
       "\\item 'working on behalf of the people of minnesota has been the honor of my life and i could not have done this without the help of my family, friends, and supporters. thank you. '\n",
       "\\item 'today we honor those who have defended our country. on veteransday\\textbackslash{}u2014and everyday\\textbackslash{}u2014i\\textbackslash{}'m fighting to keep our promises made to mn veterans. '\n",
       "\\end{enumerate*}\n"
      ],
      "text/markdown": [
       "1. '\\u201cwe bested the saints!\\u201d \\u2014my four-year-old grandson joe\\n\\n\\u201choly moly!!!\\u201d \\u2014me '\n",
       "2. <span style=white-space:pre-wrap>'hey everybody, i have something that\\'s really important to share: tina smith, our new u.s. senator for minnesota, has shown time and time again that she\\'s committed to fighting for you, and now we need to do the same for her. so please do something for me. follow  '</span>\n",
       "3. 'working on behalf of the people of minnesota has been the honor of my life and i could not have done this without the help of my family, friends, and supporters. thank you. '\n",
       "4. 'today we honor those who have defended our country. on veteransday\\u2014and everyday\\u2014i\\'m fighting to keep our promises made to mn veterans. '\n",
       "\n",
       "\n"
      ],
      "text/plain": [
       "[1] \"<U+201C>we bested the saints!<U+201D> <U+2014>my four-year-old grandson joe\\n\\n<U+201C>holy moly!!!<U+201D> <U+2014>me \"                                                                                                                                                  \n",
       "[2] \"hey everybody, i have something that's really important to share: tina smith, our new u.s. senator for minnesota, has shown time and time again that she's committed to fighting for you, and now we need to do the same for her. so please do something for me. follow  \"\n",
       "[3] \"working on behalf of the people of minnesota has been the honor of my life and i could not have done this without the help of my family, friends, and supporters. thank you. \"                                                                                            \n",
       "[4] \"today we honor those who have defended our country. on veteransday<U+2014>and everyday<U+2014>i'm fighting to keep our promises made to mn veterans. \"                                                                                                                    "
      ]
     },
     "metadata": {},
     "output_type": "display_data"
    }
   ],
   "source": [
    "#test\n",
    "head(s,4)"
   ]
  },
  {
   "cell_type": "markdown",
   "metadata": {},
   "source": [
    "### 6. Remove all punctuation that appears outside of (before or after) words in  `s`."
   ]
  },
  {
   "cell_type": "code",
   "execution_count": 70,
   "metadata": {
    "collapsed": true
   },
   "outputs": [],
   "source": [
    "s <- stringr::str_replace_all(s, \"[[:punct:]]+\\\\b|\\\\b[[:punct:]]+\", \"\")"
   ]
  },
  {
   "cell_type": "code",
   "execution_count": 71,
   "metadata": {},
   "outputs": [
    {
     "data": {
      "text/html": [
       "<ol class=list-inline>\n",
       "\t<li>'we bested the saints my fouryearold grandson joe\\n\\nholy moly me '</li>\n",
       "\t<li><span style=white-space:pre-wrap>'hey everybody i have something thats really important to share tina smith our new us senator for minnesota has shown time and time again that shes committed to fighting for you and now we need to do the same for her so please do something for me follow  '</span></li>\n",
       "\t<li>'working on behalf of the people of minnesota has been the honor of my life and i could not have done this without the help of my family friends and supporters thank you '</li>\n",
       "</ol>\n"
      ],
      "text/latex": [
       "\\begin{enumerate*}\n",
       "\\item 'we bested the saints my fouryearold grandson joe\\textbackslash{}n\\textbackslash{}nholy moly me '\n",
       "\\item 'hey everybody i have something thats really important to share tina smith our new us senator for minnesota has shown time and time again that shes committed to fighting for you and now we need to do the same for her so please do something for me follow  '\n",
       "\\item 'working on behalf of the people of minnesota has been the honor of my life and i could not have done this without the help of my family friends and supporters thank you '\n",
       "\\end{enumerate*}\n"
      ],
      "text/markdown": [
       "1. 'we bested the saints my fouryearold grandson joe\\n\\nholy moly me '\n",
       "2. <span style=white-space:pre-wrap>'hey everybody i have something thats really important to share tina smith our new us senator for minnesota has shown time and time again that shes committed to fighting for you and now we need to do the same for her so please do something for me follow  '</span>\n",
       "3. 'working on behalf of the people of minnesota has been the honor of my life and i could not have done this without the help of my family friends and supporters thank you '\n",
       "\n",
       "\n"
      ],
      "text/plain": [
       "[1] \"we bested the saints my fouryearold grandson joe\\n\\nholy moly me \"                                                                                                                                                                                             \n",
       "[2] \"hey everybody i have something thats really important to share tina smith our new us senator for minnesota has shown time and time again that shes committed to fighting for you and now we need to do the same for her so please do something for me follow  \"\n",
       "[3] \"working on behalf of the people of minnesota has been the honor of my life and i could not have done this without the help of my family friends and supporters thank you \"                                                                                     "
      ]
     },
     "metadata": {},
     "output_type": "display_data"
    }
   ],
   "source": [
    "#test\n",
    "head(s,3)"
   ]
  },
  {
   "cell_type": "markdown",
   "metadata": {},
   "source": [
    "### 7. Remove extra white space (new lines (\\n), tabs (\\t), two or more consecutive spaces, and space at beginning or end of strings) from  `s`."
   ]
  },
  {
   "cell_type": "code",
   "execution_count": 78,
   "metadata": {},
   "outputs": [],
   "source": [
    "s <- stringr::str_replace_all(s, \"\\\\n+\", \"\")\n",
    "s <- stringr::str_replace_all(s, \"\\\\t+\", \"\")\n",
    "s <- stringr::str_replace_all(s, \"[[\\\\s]]+\\\\A|[[\\\\s]]+\\\\Z\", \"\")"
   ]
  },
  {
   "cell_type": "code",
   "execution_count": 79,
   "metadata": {},
   "outputs": [
    {
     "data": {
      "text/html": [
       "<ol class=list-inline>\n",
       "\t<li>'we bested the saints my fouryearold grandson joeholy moly me'</li>\n",
       "\t<li>'hey everybody i have something thats really important to share tina smith our new us senator for minnesota has shown time and time again that shes committed to fighting for you and now we need to do the same for her so please do something for me follow'</li>\n",
       "\t<li>'working on behalf of the people of minnesota has been the honor of my life and i could not have done this without the help of my family friends and supporters thank you'</li>\n",
       "\t<li>'today we honor those who have defended our country on veteransdayand everydayim fighting to keep our promises made to mn veterans'</li>\n",
       "\t<li><span style=white-space:pre-wrap>'congratulations  who was elected to minneapolis city council jeremiahs progressive vision will move ward 5 and the whole city forward'</span></li>\n",
       "\t<li><span style=white-space:pre-wrap>'congratulations  who made history yesterday in becoming the first african american mayor of saint paul melvin has a clear vision for the future of saint paul and i know we can count on him to build a city that works for everyone who calls it home'</span></li>\n",
       "</ol>\n"
      ],
      "text/latex": [
       "\\begin{enumerate*}\n",
       "\\item 'we bested the saints my fouryearold grandson joeholy moly me'\n",
       "\\item 'hey everybody i have something thats really important to share tina smith our new us senator for minnesota has shown time and time again that shes committed to fighting for you and now we need to do the same for her so please do something for me follow'\n",
       "\\item 'working on behalf of the people of minnesota has been the honor of my life and i could not have done this without the help of my family friends and supporters thank you'\n",
       "\\item 'today we honor those who have defended our country on veteransdayand everydayim fighting to keep our promises made to mn veterans'\n",
       "\\item 'congratulations  who was elected to minneapolis city council jeremiahs progressive vision will move ward 5 and the whole city forward'\n",
       "\\item 'congratulations  who made history yesterday in becoming the first african american mayor of saint paul melvin has a clear vision for the future of saint paul and i know we can count on him to build a city that works for everyone who calls it home'\n",
       "\\end{enumerate*}\n"
      ],
      "text/markdown": [
       "1. 'we bested the saints my fouryearold grandson joeholy moly me'\n",
       "2. 'hey everybody i have something thats really important to share tina smith our new us senator for minnesota has shown time and time again that shes committed to fighting for you and now we need to do the same for her so please do something for me follow'\n",
       "3. 'working on behalf of the people of minnesota has been the honor of my life and i could not have done this without the help of my family friends and supporters thank you'\n",
       "4. 'today we honor those who have defended our country on veteransdayand everydayim fighting to keep our promises made to mn veterans'\n",
       "5. <span style=white-space:pre-wrap>'congratulations  who was elected to minneapolis city council jeremiahs progressive vision will move ward 5 and the whole city forward'</span>\n",
       "6. <span style=white-space:pre-wrap>'congratulations  who made history yesterday in becoming the first african american mayor of saint paul melvin has a clear vision for the future of saint paul and i know we can count on him to build a city that works for everyone who calls it home'</span>\n",
       "\n",
       "\n"
      ],
      "text/plain": [
       "[1] \"we bested the saints my fouryearold grandson joeholy moly me\"                                                                                                                                                                                                \n",
       "[2] \"hey everybody i have something thats really important to share tina smith our new us senator for minnesota has shown time and time again that shes committed to fighting for you and now we need to do the same for her so please do something for me follow\"\n",
       "[3] \"working on behalf of the people of minnesota has been the honor of my life and i could not have done this without the help of my family friends and supporters thank you\"                                                                                    \n",
       "[4] \"today we honor those who have defended our country on veteransdayand everydayim fighting to keep our promises made to mn veterans\"                                                                                                                           \n",
       "[5] \"congratulations  who was elected to minneapolis city council jeremiahs progressive vision will move ward 5 and the whole city forward\"                                                                                                                       \n",
       "[6] \"congratulations  who made history yesterday in becoming the first african american mayor of saint paul melvin has a clear vision for the future of saint paul and i know we can count on him to build a city that works for everyone who calls it home\"      "
      ]
     },
     "metadata": {},
     "output_type": "display_data"
    }
   ],
   "source": [
    "#test\n",
    "head(s,6)"
   ]
  },
  {
   "cell_type": "markdown",
   "metadata": {},
   "source": [
    "### 8. Split  `s` into words (split at spaces) and unlist the returned object, storying the new vector of tokenized words as object `w`."
   ]
  },
  {
   "cell_type": "code",
   "execution_count": 100,
   "metadata": {
    "collapsed": true
   },
   "outputs": [],
   "source": [
    "## complete the following code\n",
    "w <- unlist(strsplit(s, \"\\\\s+\"), use.names = FALSE)"
   ]
  },
  {
   "cell_type": "code",
   "execution_count": 126,
   "metadata": {},
   "outputs": [
    {
     "data": {
      "text/html": [
       "<ol class=list-inline>\n",
       "\t<li>'we'</li>\n",
       "\t<li>'bested'</li>\n",
       "\t<li>'the'</li>\n",
       "\t<li>'saints'</li>\n",
       "\t<li>'my'</li>\n",
       "\t<li>'fouryearold'</li>\n",
       "\t<li>'grandson'</li>\n",
       "\t<li>'joeholy'</li>\n",
       "\t<li>'moly'</li>\n",
       "\t<li>'me'</li>\n",
       "\t<li>'hey'</li>\n",
       "\t<li>'everybody'</li>\n",
       "\t<li>'i'</li>\n",
       "\t<li>'have'</li>\n",
       "\t<li>'something'</li>\n",
       "\t<li>'thats'</li>\n",
       "\t<li>'really'</li>\n",
       "\t<li>'important'</li>\n",
       "\t<li>'to'</li>\n",
       "\t<li>'share'</li>\n",
       "\t<li>'tina'</li>\n",
       "\t<li>'smith'</li>\n",
       "\t<li>'our'</li>\n",
       "\t<li>'new'</li>\n",
       "\t<li>'us'</li>\n",
       "\t<li>'senator'</li>\n",
       "\t<li>'for'</li>\n",
       "\t<li>'minnesota'</li>\n",
       "\t<li>'has'</li>\n",
       "\t<li>'shown'</li>\n",
       "\t<li>'time'</li>\n",
       "\t<li>'and'</li>\n",
       "\t<li>'time'</li>\n",
       "\t<li>'again'</li>\n",
       "\t<li>'that'</li>\n",
       "\t<li>'shes'</li>\n",
       "\t<li>'committed'</li>\n",
       "\t<li>'to'</li>\n",
       "\t<li>'fighting'</li>\n",
       "\t<li>'for'</li>\n",
       "</ol>\n"
      ],
      "text/latex": [
       "\\begin{enumerate*}\n",
       "\\item 'we'\n",
       "\\item 'bested'\n",
       "\\item 'the'\n",
       "\\item 'saints'\n",
       "\\item 'my'\n",
       "\\item 'fouryearold'\n",
       "\\item 'grandson'\n",
       "\\item 'joeholy'\n",
       "\\item 'moly'\n",
       "\\item 'me'\n",
       "\\item 'hey'\n",
       "\\item 'everybody'\n",
       "\\item 'i'\n",
       "\\item 'have'\n",
       "\\item 'something'\n",
       "\\item 'thats'\n",
       "\\item 'really'\n",
       "\\item 'important'\n",
       "\\item 'to'\n",
       "\\item 'share'\n",
       "\\item 'tina'\n",
       "\\item 'smith'\n",
       "\\item 'our'\n",
       "\\item 'new'\n",
       "\\item 'us'\n",
       "\\item 'senator'\n",
       "\\item 'for'\n",
       "\\item 'minnesota'\n",
       "\\item 'has'\n",
       "\\item 'shown'\n",
       "\\item 'time'\n",
       "\\item 'and'\n",
       "\\item 'time'\n",
       "\\item 'again'\n",
       "\\item 'that'\n",
       "\\item 'shes'\n",
       "\\item 'committed'\n",
       "\\item 'to'\n",
       "\\item 'fighting'\n",
       "\\item 'for'\n",
       "\\end{enumerate*}\n"
      ],
      "text/markdown": [
       "1. 'we'\n",
       "2. 'bested'\n",
       "3. 'the'\n",
       "4. 'saints'\n",
       "5. 'my'\n",
       "6. 'fouryearold'\n",
       "7. 'grandson'\n",
       "8. 'joeholy'\n",
       "9. 'moly'\n",
       "10. 'me'\n",
       "11. 'hey'\n",
       "12. 'everybody'\n",
       "13. 'i'\n",
       "14. 'have'\n",
       "15. 'something'\n",
       "16. 'thats'\n",
       "17. 'really'\n",
       "18. 'important'\n",
       "19. 'to'\n",
       "20. 'share'\n",
       "21. 'tina'\n",
       "22. 'smith'\n",
       "23. 'our'\n",
       "24. 'new'\n",
       "25. 'us'\n",
       "26. 'senator'\n",
       "27. 'for'\n",
       "28. 'minnesota'\n",
       "29. 'has'\n",
       "30. 'shown'\n",
       "31. 'time'\n",
       "32. 'and'\n",
       "33. 'time'\n",
       "34. 'again'\n",
       "35. 'that'\n",
       "36. 'shes'\n",
       "37. 'committed'\n",
       "38. 'to'\n",
       "39. 'fighting'\n",
       "40. 'for'\n",
       "\n",
       "\n"
      ],
      "text/plain": [
       " [1] \"we\"          \"bested\"      \"the\"         \"saints\"      \"my\"         \n",
       " [6] \"fouryearold\" \"grandson\"    \"joeholy\"     \"moly\"        \"me\"         \n",
       "[11] \"hey\"         \"everybody\"   \"i\"           \"have\"        \"something\"  \n",
       "[16] \"thats\"       \"really\"      \"important\"   \"to\"          \"share\"      \n",
       "[21] \"tina\"        \"smith\"       \"our\"         \"new\"         \"us\"         \n",
       "[26] \"senator\"     \"for\"         \"minnesota\"   \"has\"         \"shown\"      \n",
       "[31] \"time\"        \"and\"         \"time\"        \"again\"       \"that\"       \n",
       "[36] \"shes\"        \"committed\"   \"to\"          \"fighting\"    \"for\"        "
      ]
     },
     "metadata": {},
     "output_type": "display_data"
    }
   ],
   "source": [
    "head(w,40)"
   ]
  },
  {
   "cell_type": "markdown",
   "metadata": {},
   "source": [
    "### 9. Remove common suffixes from the end of words in `w`: ing, ly, ed, and s"
   ]
  },
  {
   "cell_type": "code",
   "execution_count": 165,
   "metadata": {
    "scrolled": true
   },
   "outputs": [],
   "source": [
    "###This one really stumped me. All manner of codes from the stringi documentation failed because they corrupted too many words!\n",
    "\n",
    "#I did this instead below:"
   ]
  },
  {
   "cell_type": "code",
   "execution_count": 128,
   "metadata": {
    "collapsed": true
   },
   "outputs": [],
   "source": [
    "## use stopwords list from rtweet\n",
    "stopwords <- rtweet::stopwordslangs$word[rtweet::stopwordslangs$p > .999]\n",
    "\n",
    "## remove stopwords\n",
    "w <- lapply(w, function(x) return(x[!tolower(x) %in% c(\"\", stopwords)]))\n",
    "    \n",
    "## remove all non-letter characters and drop empty tokens\n",
    "w <- lapply(w, function(x) {\n",
    "    x <- stringr::str_replace_all(x, \"\\\\W\", \"\")\n",
    "    x[x != \"\"]\n",
    "})"
   ]
  },
  {
   "cell_type": "code",
   "execution_count": null,
   "metadata": {
    "collapsed": true
   },
   "outputs": [],
   "source": []
  },
  {
   "cell_type": "markdown",
   "metadata": {},
   "source": [
    "### 10. Create a word frequency table using  `w`. Sort using descending order (biggest numbers to smallest numbers) and then print the first 50 values."
   ]
  },
  {
   "cell_type": "code",
   "execution_count": 156,
   "metadata": {
    "collapsed": true
   },
   "outputs": [],
   "source": [
    "wds <- table(unlist(w))"
   ]
  },
  {
   "cell_type": "code",
   "execution_count": 157,
   "metadata": {},
   "outputs": [],
   "source": [
    "top_wds <- names(sort(wds, decreasing=TRUE)[1:50])"
   ]
  },
  {
   "cell_type": "code",
   "execution_count": 158,
   "metadata": {},
   "outputs": [
    {
     "data": {
      "text/html": [
       "<ol class=list-inline>\n",
       "\t<li>'senate'</li>\n",
       "\t<li>'bill'</li>\n",
       "\t<li>'bipartisan'</li>\n",
       "\t<li>'act'</li>\n",
       "\t<li>'health'</li>\n",
       "\t<li>'congress'</li>\n",
       "</ol>\n"
      ],
      "text/latex": [
       "\\begin{enumerate*}\n",
       "\\item 'senate'\n",
       "\\item 'bill'\n",
       "\\item 'bipartisan'\n",
       "\\item 'act'\n",
       "\\item 'health'\n",
       "\\item 'congress'\n",
       "\\end{enumerate*}\n"
      ],
      "text/markdown": [
       "1. 'senate'\n",
       "2. 'bill'\n",
       "3. 'bipartisan'\n",
       "4. 'act'\n",
       "5. 'health'\n",
       "6. 'congress'\n",
       "\n",
       "\n"
      ],
      "text/plain": [
       "[1] \"senate\"     \"bill\"       \"bipartisan\" \"act\"        \"health\"    \n",
       "[6] \"congress\"  "
      ]
     },
     "metadata": {},
     "output_type": "display_data"
    }
   ],
   "source": [
    "head(top_wds)"
   ]
  },
  {
   "cell_type": "code",
   "execution_count": 161,
   "metadata": {},
   "outputs": [],
   "source": [
    "t <- wds[names(wds) %in% c(top_wds)]"
   ]
  },
  {
   "cell_type": "code",
   "execution_count": 162,
   "metadata": {},
   "outputs": [],
   "source": [
    "top <- data_frame(\n",
    "    count= \"Number\",\n",
    "    word=names(t),\n",
    "    n=as.integer(t)\n",
    ")"
   ]
  },
  {
   "cell_type": "code",
   "execution_count": 164,
   "metadata": {},
   "outputs": [
    {
     "data": {
      "text/html": [
       "<table>\n",
       "<thead><tr><th scope=col>count</th><th scope=col>word</th><th scope=col>n</th></tr></thead>\n",
       "<tbody>\n",
       "\t<tr><td>Number        </td><td>senate        </td><td>709           </td></tr>\n",
       "\t<tr><td>Number        </td><td>bill          </td><td>553           </td></tr>\n",
       "\t<tr><td>Number        </td><td>bipartisan    </td><td>465           </td></tr>\n",
       "\t<tr><td>Number        </td><td>act           </td><td>460           </td></tr>\n",
       "\t<tr><td>Number        </td><td>health        </td><td>457           </td></tr>\n",
       "\t<tr><td>Number        </td><td>congress      </td><td>451           </td></tr>\n",
       "\t<tr><td>Number        </td><td>tax           </td><td>447           </td></tr>\n",
       "\t<tr><td>Number        </td><td>families      </td><td>410           </td></tr>\n",
       "\t<tr><td>Number        </td><td>american      </td><td>403           </td></tr>\n",
       "\t<tr><td>Number        </td><td>state         </td><td>389           </td></tr>\n",
       "\t<tr><td>Number        </td><td>country       </td><td>335           </td></tr>\n",
       "\t<tr><td>Number        </td><td>americans     </td><td>331           </td></tr>\n",
       "\t<tr><td>Number        </td><td>funding       </td><td>322           </td></tr>\n",
       "\t<tr><td>Number        </td><td>working       </td><td>320           </td></tr>\n",
       "\t<tr><td>Number        </td><td>protect       </td><td>319           </td></tr>\n",
       "\t<tr><td>Number        </td><td>law           </td><td>313           </td></tr>\n",
       "\t<tr><td>Number        </td><td>budget        </td><td>304           </td></tr>\n",
       "\t<tr><td>Number        </td><td>immigration   </td><td>303           </td></tr>\n",
       "\t<tr><td>Number        </td><td>proud         </td><td>300           </td></tr>\n",
       "\t<tr><td>Number        </td><td>important     </td><td>279           </td></tr>\n",
       "\t<tr><td>Number        </td><td>community     </td><td>277           </td></tr>\n",
       "\t<tr><td>Number        </td><td>government    </td><td>272           </td></tr>\n",
       "\t<tr><td>Number        </td><td>national      </td><td>267           </td></tr>\n",
       "\t<tr><td>Number        </td><td>forward       </td><td>266           </td></tr>\n",
       "\t<tr><td>Number        </td><td>jobs          </td><td>266           </td></tr>\n",
       "\t<tr><td>Number        </td><td>dreamers      </td><td>265           </td></tr>\n",
       "\t<tr><td>Number        </td><td>communities   </td><td>255           </td></tr>\n",
       "\t<tr><td>Number        </td><td>continue      </td><td>255           </td></tr>\n",
       "\t<tr><td>Number        </td><td>taxreform     </td><td>246           </td></tr>\n",
       "\t<tr><td>Number        </td><td>security      </td><td>245           </td></tr>\n",
       "\t<tr><td>Number        </td><td>hearing       </td><td>243           </td></tr>\n",
       "\t<tr><td>Number        </td><td>sotu          </td><td>239           </td></tr>\n",
       "\t<tr><td>Number        </td><td>infrastructure</td><td>236           </td></tr>\n",
       "\t<tr><td>Number        </td><td>committee     </td><td>224           </td></tr>\n",
       "\t<tr><td>Number        </td><td>veterans      </td><td>224           </td></tr>\n",
       "\t<tr><td>Number        </td><td>students      </td><td>220           </td></tr>\n",
       "\t<tr><td>Number        </td><td>plan          </td><td>219           </td></tr>\n",
       "\t<tr><td>Number        </td><td>legislation   </td><td>215           </td></tr>\n",
       "\t<tr><td>Number        </td><td>statement     </td><td>209           </td></tr>\n",
       "\t<tr><td>Number        </td><td>workers       </td><td>209           </td></tr>\n",
       "\t<tr><td>Number        </td><td>america       </td><td>208           </td></tr>\n",
       "\t<tr><td>Number        </td><td>colleagues    </td><td>208           </td></tr>\n",
       "\t<tr><td>Number        </td><td>honor         </td><td>208           </td></tr>\n",
       "\t<tr><td>Number        </td><td>military      </td><td>207           </td></tr>\n",
       "\t<tr><td>Number        </td><td>across        </td><td>206           </td></tr>\n",
       "\t<tr><td>Number        </td><td>service       </td><td>204           </td></tr>\n",
       "\t<tr><td>Number        </td><td>discuss       </td><td>203           </td></tr>\n",
       "\t<tr><td>Number        </td><td>economy       </td><td>200           </td></tr>\n",
       "\t<tr><td>Number        </td><td>nation        </td><td>194           </td></tr>\n",
       "\t<tr><td>Number        </td><td>federal       </td><td>191           </td></tr>\n",
       "</tbody>\n",
       "</table>\n"
      ],
      "text/latex": [
       "\\begin{tabular}{r|lll}\n",
       " count & word & n\\\\\n",
       "\\hline\n",
       "\t Number         & senate         & 709           \\\\\n",
       "\t Number         & bill           & 553           \\\\\n",
       "\t Number         & bipartisan     & 465           \\\\\n",
       "\t Number         & act            & 460           \\\\\n",
       "\t Number         & health         & 457           \\\\\n",
       "\t Number         & congress       & 451           \\\\\n",
       "\t Number         & tax            & 447           \\\\\n",
       "\t Number         & families       & 410           \\\\\n",
       "\t Number         & american       & 403           \\\\\n",
       "\t Number         & state          & 389           \\\\\n",
       "\t Number         & country        & 335           \\\\\n",
       "\t Number         & americans      & 331           \\\\\n",
       "\t Number         & funding        & 322           \\\\\n",
       "\t Number         & working        & 320           \\\\\n",
       "\t Number         & protect        & 319           \\\\\n",
       "\t Number         & law            & 313           \\\\\n",
       "\t Number         & budget         & 304           \\\\\n",
       "\t Number         & immigration    & 303           \\\\\n",
       "\t Number         & proud          & 300           \\\\\n",
       "\t Number         & important      & 279           \\\\\n",
       "\t Number         & community      & 277           \\\\\n",
       "\t Number         & government     & 272           \\\\\n",
       "\t Number         & national       & 267           \\\\\n",
       "\t Number         & forward        & 266           \\\\\n",
       "\t Number         & jobs           & 266           \\\\\n",
       "\t Number         & dreamers       & 265           \\\\\n",
       "\t Number         & communities    & 255           \\\\\n",
       "\t Number         & continue       & 255           \\\\\n",
       "\t Number         & taxreform      & 246           \\\\\n",
       "\t Number         & security       & 245           \\\\\n",
       "\t Number         & hearing        & 243           \\\\\n",
       "\t Number         & sotu           & 239           \\\\\n",
       "\t Number         & infrastructure & 236           \\\\\n",
       "\t Number         & committee      & 224           \\\\\n",
       "\t Number         & veterans       & 224           \\\\\n",
       "\t Number         & students       & 220           \\\\\n",
       "\t Number         & plan           & 219           \\\\\n",
       "\t Number         & legislation    & 215           \\\\\n",
       "\t Number         & statement      & 209           \\\\\n",
       "\t Number         & workers        & 209           \\\\\n",
       "\t Number         & america        & 208           \\\\\n",
       "\t Number         & colleagues     & 208           \\\\\n",
       "\t Number         & honor          & 208           \\\\\n",
       "\t Number         & military       & 207           \\\\\n",
       "\t Number         & across         & 206           \\\\\n",
       "\t Number         & service        & 204           \\\\\n",
       "\t Number         & discuss        & 203           \\\\\n",
       "\t Number         & economy        & 200           \\\\\n",
       "\t Number         & nation         & 194           \\\\\n",
       "\t Number         & federal        & 191           \\\\\n",
       "\\end{tabular}\n"
      ],
      "text/markdown": [
       "\n",
       "count | word | n | \n",
       "|---|---|---|---|---|---|---|---|---|---|---|---|---|---|---|---|---|---|---|---|---|---|---|---|---|---|---|---|---|---|---|---|---|---|---|---|---|---|---|---|---|---|---|---|---|---|---|---|---|---|\n",
       "| Number         | senate         | 709            | \n",
       "| Number         | bill           | 553            | \n",
       "| Number         | bipartisan     | 465            | \n",
       "| Number         | act            | 460            | \n",
       "| Number         | health         | 457            | \n",
       "| Number         | congress       | 451            | \n",
       "| Number         | tax            | 447            | \n",
       "| Number         | families       | 410            | \n",
       "| Number         | american       | 403            | \n",
       "| Number         | state          | 389            | \n",
       "| Number         | country        | 335            | \n",
       "| Number         | americans      | 331            | \n",
       "| Number         | funding        | 322            | \n",
       "| Number         | working        | 320            | \n",
       "| Number         | protect        | 319            | \n",
       "| Number         | law            | 313            | \n",
       "| Number         | budget         | 304            | \n",
       "| Number         | immigration    | 303            | \n",
       "| Number         | proud          | 300            | \n",
       "| Number         | important      | 279            | \n",
       "| Number         | community      | 277            | \n",
       "| Number         | government     | 272            | \n",
       "| Number         | national       | 267            | \n",
       "| Number         | forward        | 266            | \n",
       "| Number         | jobs           | 266            | \n",
       "| Number         | dreamers       | 265            | \n",
       "| Number         | communities    | 255            | \n",
       "| Number         | continue       | 255            | \n",
       "| Number         | taxreform      | 246            | \n",
       "| Number         | security       | 245            | \n",
       "| Number         | hearing        | 243            | \n",
       "| Number         | sotu           | 239            | \n",
       "| Number         | infrastructure | 236            | \n",
       "| Number         | committee      | 224            | \n",
       "| Number         | veterans       | 224            | \n",
       "| Number         | students       | 220            | \n",
       "| Number         | plan           | 219            | \n",
       "| Number         | legislation    | 215            | \n",
       "| Number         | statement      | 209            | \n",
       "| Number         | workers        | 209            | \n",
       "| Number         | america        | 208            | \n",
       "| Number         | colleagues     | 208            | \n",
       "| Number         | honor          | 208            | \n",
       "| Number         | military       | 207            | \n",
       "| Number         | across         | 206            | \n",
       "| Number         | service        | 204            | \n",
       "| Number         | discuss        | 203            | \n",
       "| Number         | economy        | 200            | \n",
       "| Number         | nation         | 194            | \n",
       "| Number         | federal        | 191            | \n",
       "\n",
       "\n"
      ],
      "text/plain": [
       "   count  word           n  \n",
       "1  Number senate         709\n",
       "2  Number bill           553\n",
       "3  Number bipartisan     465\n",
       "4  Number act            460\n",
       "5  Number health         457\n",
       "6  Number congress       451\n",
       "7  Number tax            447\n",
       "8  Number families       410\n",
       "9  Number american       403\n",
       "10 Number state          389\n",
       "11 Number country        335\n",
       "12 Number americans      331\n",
       "13 Number funding        322\n",
       "14 Number working        320\n",
       "15 Number protect        319\n",
       "16 Number law            313\n",
       "17 Number budget         304\n",
       "18 Number immigration    303\n",
       "19 Number proud          300\n",
       "20 Number important      279\n",
       "21 Number community      277\n",
       "22 Number government     272\n",
       "23 Number national       267\n",
       "24 Number forward        266\n",
       "25 Number jobs           266\n",
       "26 Number dreamers       265\n",
       "27 Number communities    255\n",
       "28 Number continue       255\n",
       "29 Number taxreform      246\n",
       "30 Number security       245\n",
       "31 Number hearing        243\n",
       "32 Number sotu           239\n",
       "33 Number infrastructure 236\n",
       "34 Number committee      224\n",
       "35 Number veterans       224\n",
       "36 Number students       220\n",
       "37 Number plan           219\n",
       "38 Number legislation    215\n",
       "39 Number statement      209\n",
       "40 Number workers        209\n",
       "41 Number america        208\n",
       "42 Number colleagues     208\n",
       "43 Number honor          208\n",
       "44 Number military       207\n",
       "45 Number across         206\n",
       "46 Number service        204\n",
       "47 Number discuss        203\n",
       "48 Number economy        200\n",
       "49 Number nation         194\n",
       "50 Number federal        191"
      ]
     },
     "metadata": {},
     "output_type": "display_data"
    }
   ],
   "source": [
    "arrange(top, desc(n))"
   ]
  }
 ],
 "metadata": {
  "kernelspec": {
   "display_name": "R",
   "language": "R",
   "name": "ir"
  },
  "language_info": {
   "codemirror_mode": "r",
   "file_extension": ".r",
   "mimetype": "text/x-r-source",
   "name": "R",
   "pygments_lexer": "r",
   "version": "3.4.1"
  }
 },
 "nbformat": 4,
 "nbformat_minor": 2
}
