{
 "cells": [
  {
   "cell_type": "markdown",
   "metadata": {},
   "source": [
    "## Practice\n",
    "\n",
    "Load the tidyverse."
   ]
  },
  {
   "cell_type": "code",
   "execution_count": 22,
   "metadata": {
    "collapsed": true
   },
   "outputs": [],
   "source": [
    "suppressPackageStartupMessages(library(tidyverse))"
   ]
  },
  {
   "cell_type": "markdown",
   "metadata": {},
   "source": [
    "### 1. Read in tweets data."
   ]
  },
  {
   "cell_type": "code",
   "execution_count": 23,
   "metadata": {
    "collapsed": true
   },
   "outputs": [],
   "source": [
    "uss <- readRDS(\"../data/uss.rds\")\n",
    "uss_tweets <- readRDS(\"../data/uss-tweets.rds\")"
   ]
  },
  {
   "cell_type": "markdown",
   "metadata": {},
   "source": [
    "### 2. Merge the two data sets (left join `uss` with `uss_tweets`)."
   ]
  },
  {
   "cell_type": "code",
   "execution_count": 24,
   "metadata": {
    "collapsed": true
   },
   "outputs": [],
   "source": [
    "uss <- left_join(uss, uss_tweets, by = \"user_id\")"
   ]
  },
  {
   "cell_type": "code",
   "execution_count": 25,
   "metadata": {},
   "outputs": [
    {
     "data": {
      "text/html": [
       "<table>\n",
       "<thead><tr><th scope=col>user_id</th><th scope=col>ideology</th><th scope=col>status_id</th><th scope=col>created_at</th><th scope=col>screen_name</th><th scope=col>text</th><th scope=col>source</th><th scope=col>display_text_width</th><th scope=col>reply_to_status_id</th><th scope=col>reply_to_user_id</th><th scope=col>⋯</th><th scope=col>retweet_verified</th><th scope=col>place_url</th><th scope=col>place_name</th><th scope=col>place_full_name</th><th scope=col>place_type</th><th scope=col>country</th><th scope=col>country_code</th><th scope=col>geo_coords</th><th scope=col>coords_coords</th><th scope=col>bbox_coords</th></tr></thead>\n",
       "<tbody>\n",
       "\t<tr><td>7334402                                                                                                                                                                                                                                                                                                                                                                                  </td><td>0.06996857                                                                                                                                                                                                                                                                                                                                                                               </td><td>952725846309195781                                                                                                                                                                                                                                                                                                                                                                       </td><td>2018-01-15 02:15:17                                                                                                                                                                                                                                                                                                                                                                      </td><td>alfranken                                                                                                                                                                                                                                                                                                                                                                                </td><td><span style=white-space:pre-wrap>&lt;U+201C&gt;We bested the Saints!&lt;U+201D&gt; &lt;U+2014&gt;My four-year-old grandson Joe\n",
       "\n",
       "&lt;U+201C&gt;Holy moly!!!&lt;U+201D&gt; &lt;U+2014&gt;Me https://t.co/gSZRDEyJX9                                                                                                                                                               </span></td><td>Twitter for iPhone                                                                                                                                                                                                                                                                                                                                                                       </td><td> 74                                                                                                                                                                                                                                                                                                                                                                                      </td><td>NA                                                                                                                                                                                                                                                                                                                                                                                       </td><td>NA                                                                                                                                                                                                                                                                                                                                                                                       </td><td><U+22EF>                                                                                                                                                                                                                                                                                                                                                                                 </td><td>NA                                                                                                                                                                                                                                                                                                                                                                                       </td><td>NA                                                                                                                                                                                                                                                                                                                                                                                       </td><td>NA                                                                                                                                                                                                                                                                                                                                                                                       </td><td>NA                                                                                                                                                                                                                                                                                                                                                                                       </td><td>NA                                                                                                                                                                                                                                                                                                                                                                                       </td><td>NA                                                                                                                                                                                                                                                                                                                                                                                       </td><td>NA                                                                                                                                                                                                                                                                                                                                                                                       </td><td>NA, NA                                                                                                                                                                                                                                                                                                                                                                                   </td><td>NA, NA                                                                                                                                                                                                                                                                                                                                                                                   </td><td>NA, NA, NA, NA, NA, NA, NA, NA                                                                                                                                                                                                                                                                                                                                                           </td></tr>\n",
       "\t<tr><td>7334402                                                                                                                                                                                                                                                                                                      </td><td>0.06996857                                                                                                                                                                                                                                                                                                   </td><td>949789000923078656                                                                                                                                                                                                                                                                                           </td><td>2018-01-06 23:45:18                                                                                                                                                                                                                                                                                          </td><td>alfranken                                                                                                                                                                                                                                                                                                    </td><td>Hey everybody, I have something that's really important to share: Tina Smith, our new U.S. Senator for Minnesota, has shown time and time again that she's committed to fighting for you, and now we need to do the same for her. So please do something for me. Follow @TinaSmithMN. https://t.co/bkgnSERHMQ</td><td>Twitter for iPhone                                                                                                                                                                                                                                                                                           </td><td>277                                                                                                                                                                                                                                                                                                          </td><td>NA                                                                                                                                                                                                                                                                                                           </td><td>NA                                                                                                                                                                                                                                                                                                           </td><td><U+22EF>                                                                                                                                                                                                                                                                                                     </td><td>NA                                                                                                                                                                                                                                                                                                           </td><td>NA                                                                                                                                                                                                                                                                                                           </td><td>NA                                                                                                                                                                                                                                                                                                           </td><td>NA                                                                                                                                                                                                                                                                                                           </td><td>NA                                                                                                                                                                                                                                                                                                           </td><td>NA                                                                                                                                                                                                                                                                                                           </td><td>NA                                                                                                                                                                                                                                                                                                           </td><td>NA, NA                                                                                                                                                                                                                                                                                                       </td><td>NA, NA                                                                                                                                                                                                                                                                                                       </td><td>NA, NA, NA, NA, NA, NA, NA, NA                                                                                                                                                                                                                                                                               </td></tr>\n",
       "</tbody>\n",
       "</table>\n"
      ],
      "text/latex": [
       "\\begin{tabular}{r|lllllllllllllllllllllllllllllllllllllllllllllllllllllllllllllllllllll}\n",
       " user\\_id & ideology & status\\_id & created\\_at & screen\\_name & text & source & display\\_text\\_width & reply\\_to\\_status\\_id & reply\\_to\\_user\\_id & ⋯ & retweet\\_verified & place\\_url & place\\_name & place\\_full\\_name & place\\_type & country & country\\_code & geo\\_coords & coords\\_coords & bbox\\_coords\\\\\n",
       "\\hline\n",
       "\t 7334402                                                                                                                                                                                                                                                                                                       & 0.06996857                                                                                                                                                                                                                                                                                                    & 952725846309195781                                                                                                                                                                                                                                                                                            & 2018-01-15 02:15:17                                                                                                                                                                                                                                                                                           & alfranken                                                                                                                                                                                                                                                                                                     & <U+201C>We bested the Saints!<U+201D> <U+2014>My four-year-old grandson Joe\n",
       "\n",
       "<U+201C>Holy moly!!!<U+201D> <U+2014>Me https://t.co/gSZRDEyJX9                                                                                                                                                                & Twitter for iPhone                                                                                                                                                                                                                                                                                            &  74                                                                                                                                                                                                                                                                                                           & NA                                                                                                                                                                                                                                                                                                            & NA                                                                                                                                                                                                                                                                                                            & <U+22EF>                                                                                                                                                                                                                                                                                                      & NA                                                                                                                                                                                                                                                                                                            & NA                                                                                                                                                                                                                                                                                                            & NA                                                                                                                                                                                                                                                                                                            & NA                                                                                                                                                                                                                                                                                                            & NA                                                                                                                                                                                                                                                                                                            & NA                                                                                                                                                                                                                                                                                                            & NA                                                                                                                                                                                                                                                                                                            & NA, NA                                                                                                                                                                                                                                                                                                        & NA, NA                                                                                                                                                                                                                                                                                                        & NA, NA, NA, NA, NA, NA, NA, NA                                                                                                                                                                                                                                                                               \\\\\n",
       "\t 7334402                                                                                                                                                                                                                                                                                                       & 0.06996857                                                                                                                                                                                                                                                                                                    & 949789000923078656                                                                                                                                                                                                                                                                                            & 2018-01-06 23:45:18                                                                                                                                                                                                                                                                                           & alfranken                                                                                                                                                                                                                                                                                                     & Hey everybody, I have something that's really important to share: Tina Smith, our new U.S. Senator for Minnesota, has shown time and time again that she's committed to fighting for you, and now we need to do the same for her. So please do something for me. Follow @TinaSmithMN. https://t.co/bkgnSERHMQ & Twitter for iPhone                                                                                                                                                                                                                                                                                            & 277                                                                                                                                                                                                                                                                                                           & NA                                                                                                                                                                                                                                                                                                            & NA                                                                                                                                                                                                                                                                                                            & <U+22EF>                                                                                                                                                                                                                                                                                                      & NA                                                                                                                                                                                                                                                                                                            & NA                                                                                                                                                                                                                                                                                                            & NA                                                                                                                                                                                                                                                                                                            & NA                                                                                                                                                                                                                                                                                                            & NA                                                                                                                                                                                                                                                                                                            & NA                                                                                                                                                                                                                                                                                                            & NA                                                                                                                                                                                                                                                                                                            & NA, NA                                                                                                                                                                                                                                                                                                        & NA, NA                                                                                                                                                                                                                                                                                                        & NA, NA, NA, NA, NA, NA, NA, NA                                                                                                                                                                                                                                                                               \\\\\n",
       "\\end{tabular}\n"
      ],
      "text/markdown": [
       "\n",
       "user_id | ideology | status_id | created_at | screen_name | text | source | display_text_width | reply_to_status_id | reply_to_user_id | ⋯ | retweet_verified | place_url | place_name | place_full_name | place_type | country | country_code | geo_coords | coords_coords | bbox_coords | \n",
       "|---|---|\n",
       "| 7334402                                                                                                                                                                                                                                                                                                       | 0.06996857                                                                                                                                                                                                                                                                                                    | 952725846309195781                                                                                                                                                                                                                                                                                            | 2018-01-15 02:15:17                                                                                                                                                                                                                                                                                           | alfranken                                                                                                                                                                                                                                                                                                     | <U+201C>We bested the Saints!<U+201D> <U+2014>My four-year-old grandson Joe\n",
       "\n",
       "<U+201C>Holy moly!!!<U+201D> <U+2014>Me https://t.co/gSZRDEyJX9                                                                                                                                                                | Twitter for iPhone                                                                                                                                                                                                                                                                                            |  74                                                                                                                                                                                                                                                                                                           | NA                                                                                                                                                                                                                                                                                                            | NA                                                                                                                                                                                                                                                                                                            | <U+22EF>                                                                                                                                                                                                                                                                                                      | NA                                                                                                                                                                                                                                                                                                            | NA                                                                                                                                                                                                                                                                                                            | NA                                                                                                                                                                                                                                                                                                            | NA                                                                                                                                                                                                                                                                                                            | NA                                                                                                                                                                                                                                                                                                            | NA                                                                                                                                                                                                                                                                                                            | NA                                                                                                                                                                                                                                                                                                            | NA, NA                                                                                                                                                                                                                                                                                                        | NA, NA                                                                                                                                                                                                                                                                                                        | NA, NA, NA, NA, NA, NA, NA, NA                                                                                                                                                                                                                                                                                | \n",
       "| 7334402                                                                                                                                                                                                                                                                                                       | 0.06996857                                                                                                                                                                                                                                                                                                    | 949789000923078656                                                                                                                                                                                                                                                                                            | 2018-01-06 23:45:18                                                                                                                                                                                                                                                                                           | alfranken                                                                                                                                                                                                                                                                                                     | Hey everybody, I have something that's really important to share: Tina Smith, our new U.S. Senator for Minnesota, has shown time and time again that she's committed to fighting for you, and now we need to do the same for her. So please do something for me. Follow @TinaSmithMN. https://t.co/bkgnSERHMQ | Twitter for iPhone                                                                                                                                                                                                                                                                                            | 277                                                                                                                                                                                                                                                                                                           | NA                                                                                                                                                                                                                                                                                                            | NA                                                                                                                                                                                                                                                                                                            | <U+22EF>                                                                                                                                                                                                                                                                                                      | NA                                                                                                                                                                                                                                                                                                            | NA                                                                                                                                                                                                                                                                                                            | NA                                                                                                                                                                                                                                                                                                            | NA                                                                                                                                                                                                                                                                                                            | NA                                                                                                                                                                                                                                                                                                            | NA                                                                                                                                                                                                                                                                                                            | NA                                                                                                                                                                                                                                                                                                            | NA, NA                                                                                                                                                                                                                                                                                                        | NA, NA                                                                                                                                                                                                                                                                                                        | NA, NA, NA, NA, NA, NA, NA, NA                                                                                                                                                                                                                                                                                | \n",
       "\n",
       "\n"
      ],
      "text/plain": [
       "  user_id ideology   status_id          created_at          screen_name\n",
       "1 7334402 0.06996857 952725846309195781 2018-01-15 02:15:17 alfranken  \n",
       "2 7334402 0.06996857 949789000923078656 2018-01-06 23:45:18 alfranken  \n",
       "  text                                                                                                                                                                                                                                                                                                         \n",
       "1 <U+201C>We bested the Saints!<U+201D> <U+2014>My four-year-old grandson Joe\\n\\n<U+201C>Holy moly!!!<U+201D> <U+2014>Me https://t.co/gSZRDEyJX9                                                                                                                                                               \n",
       "2 Hey everybody, I have something that's really important to share: Tina Smith, our new U.S. Senator for Minnesota, has shown time and time again that she's committed to fighting for you, and now we need to do the same for her. So please do something for me. Follow @TinaSmithMN. https://t.co/bkgnSERHMQ\n",
       "  source             display_text_width reply_to_status_id reply_to_user_id\n",
       "1 Twitter for iPhone  74                NA                 NA              \n",
       "2 Twitter for iPhone 277                NA                 NA              \n",
       "  <U+22EF>   retweet_verified place_url place_name place_full_name place_type\n",
       "1 <U+22EF> NA               NA        NA         NA              NA        \n",
       "2 <U+22EF> NA               NA        NA         NA              NA        \n",
       "  country country_code geo_coords coords_coords bbox_coords                   \n",
       "1 NA      NA           NA, NA     NA, NA        NA, NA, NA, NA, NA, NA, NA, NA\n",
       "2 NA      NA           NA, NA     NA, NA        NA, NA, NA, NA, NA, NA, NA, NA"
      ]
     },
     "metadata": {},
     "output_type": "display_data"
    }
   ],
   "source": [
    "head(uss,2)"
   ]
  },
  {
   "cell_type": "code",
   "execution_count": 7,
   "metadata": {},
   "outputs": [
    {
     "name": "stderr",
     "output_type": "stream",
     "text": [
      "------------------------------------------------------------------------------\n",
      "You have loaded plyr after dplyr - this is likely to cause problems.\n",
      "If you need functions from both plyr and dplyr, please load plyr first, then dplyr:\n",
      "library(plyr); library(dplyr)\n",
      "------------------------------------------------------------------------------\n",
      "\n",
      "Attaching package: 'plyr'\n",
      "\n",
      "The following objects are masked from 'package:dplyr':\n",
      "\n",
      "    arrange, count, desc, failwith, id, mutate, rename, summarise,\n",
      "    summarize\n",
      "\n",
      "The following object is masked from 'package:purrr':\n",
      "\n",
      "    compact\n",
      "\n"
     ]
    }
   ],
   "source": [
    "library(plyr)"
   ]
  },
  {
   "cell_type": "code",
   "execution_count": 26,
   "metadata": {},
   "outputs": [
    {
     "data": {
      "text/html": [
       "<table>\n",
       "<thead><tr><th scope=col>source</th><th scope=col>freq</th></tr></thead>\n",
       "<tbody>\n",
       "\t<tr><td>Buffer                </td><td>  27                  </td></tr>\n",
       "\t<tr><td>Echofon               </td><td>   1                  </td></tr>\n",
       "\t<tr><td>Hootsuite             </td><td>  69                  </td></tr>\n",
       "\t<tr><td>Instagram             </td><td>  71                  </td></tr>\n",
       "\t<tr><td>Media Studio          </td><td> 403                  </td></tr>\n",
       "\t<tr><td>Periscope             </td><td>   1                  </td></tr>\n",
       "\t<tr><td>TweetDeck             </td><td>1805                  </td></tr>\n",
       "\t<tr><td>Twitter Ads           </td><td>  24                  </td></tr>\n",
       "\t<tr><td>Twitter Ads Composer  </td><td>  35                  </td></tr>\n",
       "\t<tr><td>Twitter Lite          </td><td>   8                  </td></tr>\n",
       "\t<tr><td>Twitter Web Client    </td><td>4709                  </td></tr>\n",
       "\t<tr><td>Twitter for Android   </td><td> 103                  </td></tr>\n",
       "\t<tr><td>Twitter for BlackBerry</td><td>  13                  </td></tr>\n",
       "\t<tr><td>Twitter for iPad      </td><td> 162                  </td></tr>\n",
       "\t<tr><td>Twitter for iPhone    </td><td>2463                  </td></tr>\n",
       "\t<tr><td>Vekeo Videoes         </td><td>   4                  </td></tr>\n",
       "\t<tr><td>NA                    </td><td>   1                  </td></tr>\n",
       "</tbody>\n",
       "</table>\n"
      ],
      "text/latex": [
       "\\begin{tabular}{r|ll}\n",
       " source & freq\\\\\n",
       "\\hline\n",
       "\t Buffer                 &   27                  \\\\\n",
       "\t Echofon                &    1                  \\\\\n",
       "\t Hootsuite              &   69                  \\\\\n",
       "\t Instagram              &   71                  \\\\\n",
       "\t Media Studio           &  403                  \\\\\n",
       "\t Periscope              &    1                  \\\\\n",
       "\t TweetDeck              & 1805                  \\\\\n",
       "\t Twitter Ads            &   24                  \\\\\n",
       "\t Twitter Ads Composer   &   35                  \\\\\n",
       "\t Twitter Lite           &    8                  \\\\\n",
       "\t Twitter Web Client     & 4709                  \\\\\n",
       "\t Twitter for Android    &  103                  \\\\\n",
       "\t Twitter for BlackBerry &   13                  \\\\\n",
       "\t Twitter for iPad       &  162                  \\\\\n",
       "\t Twitter for iPhone     & 2463                  \\\\\n",
       "\t Vekeo Videoes          &    4                  \\\\\n",
       "\t NA                     &    1                  \\\\\n",
       "\\end{tabular}\n"
      ],
      "text/markdown": [
       "\n",
       "source | freq | \n",
       "|---|---|---|---|---|---|---|---|---|---|---|---|---|---|---|---|---|\n",
       "| Buffer                 |   27                   | \n",
       "| Echofon                |    1                   | \n",
       "| Hootsuite              |   69                   | \n",
       "| Instagram              |   71                   | \n",
       "| Media Studio           |  403                   | \n",
       "| Periscope              |    1                   | \n",
       "| TweetDeck              | 1805                   | \n",
       "| Twitter Ads            |   24                   | \n",
       "| Twitter Ads Composer   |   35                   | \n",
       "| Twitter Lite           |    8                   | \n",
       "| Twitter Web Client     | 4709                   | \n",
       "| Twitter for Android    |  103                   | \n",
       "| Twitter for BlackBerry |   13                   | \n",
       "| Twitter for iPad       |  162                   | \n",
       "| Twitter for iPhone     | 2463                   | \n",
       "| Vekeo Videoes          |    4                   | \n",
       "| NA                     |    1                   | \n",
       "\n",
       "\n"
      ],
      "text/plain": [
       "   source                 freq\n",
       "1  Buffer                   27\n",
       "2  Echofon                   1\n",
       "3  Hootsuite                69\n",
       "4  Instagram                71\n",
       "5  Media Studio            403\n",
       "6  Periscope                 1\n",
       "7  TweetDeck              1805\n",
       "8  Twitter Ads              24\n",
       "9  Twitter Ads Composer     35\n",
       "10 Twitter Lite              8\n",
       "11 Twitter Web Client     4709\n",
       "12 Twitter for Android     103\n",
       "13 Twitter for BlackBerry   13\n",
       "14 Twitter for iPad        162\n",
       "15 Twitter for iPhone     2463\n",
       "16 Vekeo Videoes             4\n",
       "17 NA                        1"
      ]
     },
     "metadata": {},
     "output_type": "display_data"
    }
   ],
   "source": [
    "count(uss, 'source')"
   ]
  },
  {
   "cell_type": "markdown",
   "metadata": {},
   "source": [
    "### 3. Categorize the **source** of the statuses as iphone, ipad, android, web client, or tweet deck, Store this information as a variable `mobile` in the data."
   ]
  },
  {
   "cell_type": "code",
   "execution_count": 27,
   "metadata": {
    "collapsed": true
   },
   "outputs": [],
   "source": [
    "uss <- uss %>%\n",
    "    mutate(\n",
    "        mobile = case_when(\n",
    "            grepl(\"iphone\", source, ignore.case = TRUE) ~ \"iphone\",\n",
    "            grepl(\"ipad\", source, ignore.case = TRUE) ~ \"ipad\",\n",
    "            grepl(\"android\", source, ignore.case = TRUE) ~ \"android\",\n",
    "            grepl(\"web client\", source, ignore.case = TRUE) ~ \"web client\",\n",
    "            grepl(\"tweetdeck\", source, ignore.case = TRUE) ~ \"tweetdeck\",\n",
    "            TRUE ~ \"other\"\n",
    "        )\n",
    "    )"
   ]
  },
  {
   "cell_type": "code",
   "execution_count": 28,
   "metadata": {},
   "outputs": [
    {
     "data": {
      "text/html": [
       "<table>\n",
       "<thead><tr><th scope=col>mobile</th><th scope=col>freq</th></tr></thead>\n",
       "<tbody>\n",
       "\t<tr><td>android   </td><td> 103      </td></tr>\n",
       "\t<tr><td>ipad      </td><td> 162      </td></tr>\n",
       "\t<tr><td>iphone    </td><td>2463      </td></tr>\n",
       "\t<tr><td>other     </td><td> 657      </td></tr>\n",
       "\t<tr><td>tweetdeck </td><td>1805      </td></tr>\n",
       "\t<tr><td>web client</td><td>4709      </td></tr>\n",
       "</tbody>\n",
       "</table>\n"
      ],
      "text/latex": [
       "\\begin{tabular}{r|ll}\n",
       " mobile & freq\\\\\n",
       "\\hline\n",
       "\t android    &  103      \\\\\n",
       "\t ipad       &  162      \\\\\n",
       "\t iphone     & 2463      \\\\\n",
       "\t other      &  657      \\\\\n",
       "\t tweetdeck  & 1805      \\\\\n",
       "\t web client & 4709      \\\\\n",
       "\\end{tabular}\n"
      ],
      "text/markdown": [
       "\n",
       "mobile | freq | \n",
       "|---|---|---|---|---|---|\n",
       "| android    |  103       | \n",
       "| ipad       |  162       | \n",
       "| iphone     | 2463       | \n",
       "| other      |  657       | \n",
       "| tweetdeck  | 1805       | \n",
       "| web client | 4709       | \n",
       "\n",
       "\n"
      ],
      "text/plain": [
       "  mobile     freq\n",
       "1 android     103\n",
       "2 ipad        162\n",
       "3 iphone     2463\n",
       "4 other       657\n",
       "5 tweetdeck  1805\n",
       "6 web client 4709"
      ]
     },
     "metadata": {},
     "output_type": "display_data"
    }
   ],
   "source": [
    "count(uss,'mobile')"
   ]
  },
  {
   "cell_type": "markdown",
   "metadata": {},
   "source": [
    "### 4. Compare group means of `retweet_count` and `favorite_count`."
   ]
  },
  {
   "cell_type": "code",
   "execution_count": 29,
   "metadata": {
    "scrolled": true
   },
   "outputs": [
    {
     "data": {
      "text/html": [
       "<table>\n",
       "<thead><tr><th scope=col>retweets</th><th scope=col>favorites</th></tr></thead>\n",
       "<tbody>\n",
       "\t<tr><td>465.1783</td><td>888.6977</td></tr>\n",
       "</tbody>\n",
       "</table>\n"
      ],
      "text/latex": [
       "\\begin{tabular}{r|ll}\n",
       " retweets & favorites\\\\\n",
       "\\hline\n",
       "\t 465.1783 & 888.6977\\\\\n",
       "\\end{tabular}\n"
      ],
      "text/markdown": [
       "\n",
       "retweets | favorites | \n",
       "|---|\n",
       "| 465.1783 | 888.6977 | \n",
       "\n",
       "\n"
      ],
      "text/plain": [
       "  retweets favorites\n",
       "1 465.1783 888.6977 "
      ]
     },
     "metadata": {},
     "output_type": "display_data"
    }
   ],
   "source": [
    "uss %>%\n",
    "    group_by(mobile) %>%\n",
    "    summarise(retweets = mean(retweet_count, na.rm = TRUE),\n",
    "              favorites = mean(favorite_count, na.rm = TRUE))"
   ]
  },
  {
   "cell_type": "markdown",
   "metadata": {},
   "source": [
    "### 5. Define several new features by creating the following variables\n",
    "\n",
    "tweet_chars\n",
    "n_hashtags\n",
    "n_links\n",
    "n_first_person\n",
    "n_punct\n",
    "n_mentions\n",
    "n_words\n",
    "char_per_word\n",
    "n_capitals"
   ]
  },
  {
   "cell_type": "code",
   "execution_count": 30,
   "metadata": {
    "collapsed": true
   },
   "outputs": [],
   "source": [
    "uss <- uss %>%\n",
    "    mutate(\n",
    "        tweet_chars = nchar(text),\n",
    "        n_hashtags = stringr::str_count(text, \"#\\\\S+\"),\n",
    "        n_links = stringr::str_count(text, \"https?:\"),\n",
    "        n_first_person = stringr::str_count(text, \"\\\\bI\\\\b|\\\\bme\\\\b\"),\n",
    "        n_punct = stringr::str_count(text, \"[[:punct:]]\"),\n",
    "        n_mentions = stringr::str_count(text, \"@\\\\S+\"),\n",
    "        n_words = stringr::str_count(text, \"\\\\w+\"),\n",
    "        char_per_word = tweet_chars / n_words,\n",
    "        n_capitals = stringr::str_count(text, \"[A-Z]\"))"
   ]
  },
  {
   "cell_type": "markdown",
   "metadata": {},
   "source": [
    "### 6. Group by `mobile` and compare the two groups along the features you made in the previous question\n"
   ]
  },
  {
   "cell_type": "code",
   "execution_count": 31,
   "metadata": {},
   "outputs": [
    {
     "data": {
      "text/html": [
       "<table>\n",
       "<thead><tr><th scope=col>mobile</th><th scope=col>tweet_chars</th><th scope=col>n_hashtags</th><th scope=col>n_links</th><th scope=col>n_first_person</th><th scope=col>n_punct</th><th scope=col>n_mentions</th><th scope=col>n_words</th><th scope=col>char_per_word</th><th scope=col>n_capitals</th></tr></thead>\n",
       "<tbody>\n",
       "\t<tr><td>android   </td><td>191.2524  </td><td>0.3689320 </td><td>0.6116505 </td><td>0.4757282 </td><td> 8.310680 </td><td>0.4466019 </td><td>31.80583  </td><td>6.070348  </td><td>10.980583 </td></tr>\n",
       "\t<tr><td>ipad      </td><td>131.3765  </td><td>0.5185185 </td><td>0.4444444 </td><td>0.2777778 </td><td> 7.067901 </td><td>0.4691358 </td><td>22.20370  </td><td>5.996217  </td><td> 8.209877 </td></tr>\n",
       "\t<tr><td>iphone    </td><td>160.2651  </td><td>0.4681283 </td><td>0.6146975 </td><td>0.2813642 </td><td> 8.885911 </td><td>0.9281364 </td><td>26.40723  </td><td>6.244554  </td><td>11.161592 </td></tr>\n",
       "\t<tr><td>other     </td><td>180.5686  </td><td>0.5213415 </td><td>1.0503049 </td><td>0.3307927 </td><td>10.495427 </td><td>0.3887195 </td><td>30.13110  </td><td>6.106561  </td><td>12.300305 </td></tr>\n",
       "\t<tr><td>tweetdeck </td><td>180.2704  </td><td>0.5495845 </td><td>0.7429363 </td><td>0.3218837 </td><td> 9.570637 </td><td>0.7944598 </td><td>29.40499  </td><td>6.223902  </td><td>12.224931 </td></tr>\n",
       "\t<tr><td>web client</td><td>188.2805  </td><td>0.5602039 </td><td>0.7094925 </td><td>0.3074963 </td><td> 9.858569 </td><td>0.7765980 </td><td>30.83160  </td><td>6.189428  </td><td>11.996178 </td></tr>\n",
       "</tbody>\n",
       "</table>\n"
      ],
      "text/latex": [
       "\\begin{tabular}{r|llllllllll}\n",
       " mobile & tweet\\_chars & n\\_hashtags & n\\_links & n\\_first\\_person & n\\_punct & n\\_mentions & n\\_words & char\\_per\\_word & n\\_capitals\\\\\n",
       "\\hline\n",
       "\t android    & 191.2524   & 0.3689320  & 0.6116505  & 0.4757282  &  8.310680  & 0.4466019  & 31.80583   & 6.070348   & 10.980583 \\\\\n",
       "\t ipad       & 131.3765   & 0.5185185  & 0.4444444  & 0.2777778  &  7.067901  & 0.4691358  & 22.20370   & 5.996217   &  8.209877 \\\\\n",
       "\t iphone     & 160.2651   & 0.4681283  & 0.6146975  & 0.2813642  &  8.885911  & 0.9281364  & 26.40723   & 6.244554   & 11.161592 \\\\\n",
       "\t other      & 180.5686   & 0.5213415  & 1.0503049  & 0.3307927  & 10.495427  & 0.3887195  & 30.13110   & 6.106561   & 12.300305 \\\\\n",
       "\t tweetdeck  & 180.2704   & 0.5495845  & 0.7429363  & 0.3218837  &  9.570637  & 0.7944598  & 29.40499   & 6.223902   & 12.224931 \\\\\n",
       "\t web client & 188.2805   & 0.5602039  & 0.7094925  & 0.3074963  &  9.858569  & 0.7765980  & 30.83160   & 6.189428   & 11.996178 \\\\\n",
       "\\end{tabular}\n"
      ],
      "text/markdown": [
       "\n",
       "mobile | tweet_chars | n_hashtags | n_links | n_first_person | n_punct | n_mentions | n_words | char_per_word | n_capitals | \n",
       "|---|---|---|---|---|---|\n",
       "| android    | 191.2524   | 0.3689320  | 0.6116505  | 0.4757282  |  8.310680  | 0.4466019  | 31.80583   | 6.070348   | 10.980583  | \n",
       "| ipad       | 131.3765   | 0.5185185  | 0.4444444  | 0.2777778  |  7.067901  | 0.4691358  | 22.20370   | 5.996217   |  8.209877  | \n",
       "| iphone     | 160.2651   | 0.4681283  | 0.6146975  | 0.2813642  |  8.885911  | 0.9281364  | 26.40723   | 6.244554   | 11.161592  | \n",
       "| other      | 180.5686   | 0.5213415  | 1.0503049  | 0.3307927  | 10.495427  | 0.3887195  | 30.13110   | 6.106561   | 12.300305  | \n",
       "| tweetdeck  | 180.2704   | 0.5495845  | 0.7429363  | 0.3218837  |  9.570637  | 0.7944598  | 29.40499   | 6.223902   | 12.224931  | \n",
       "| web client | 188.2805   | 0.5602039  | 0.7094925  | 0.3074963  |  9.858569  | 0.7765980  | 30.83160   | 6.189428   | 11.996178  | \n",
       "\n",
       "\n"
      ],
      "text/plain": [
       "  mobile     tweet_chars n_hashtags n_links   n_first_person n_punct  \n",
       "1 android    191.2524    0.3689320  0.6116505 0.4757282       8.310680\n",
       "2 ipad       131.3765    0.5185185  0.4444444 0.2777778       7.067901\n",
       "3 iphone     160.2651    0.4681283  0.6146975 0.2813642       8.885911\n",
       "4 other      180.5686    0.5213415  1.0503049 0.3307927      10.495427\n",
       "5 tweetdeck  180.2704    0.5495845  0.7429363 0.3218837       9.570637\n",
       "6 web client 188.2805    0.5602039  0.7094925 0.3074963       9.858569\n",
       "  n_mentions n_words  char_per_word n_capitals\n",
       "1 0.4466019  31.80583 6.070348      10.980583 \n",
       "2 0.4691358  22.20370 5.996217       8.209877 \n",
       "3 0.9281364  26.40723 6.244554      11.161592 \n",
       "4 0.3887195  30.13110 6.106561      12.300305 \n",
       "5 0.7944598  29.40499 6.223902      12.224931 \n",
       "6 0.7765980  30.83160 6.189428      11.996178 "
      ]
     },
     "metadata": {},
     "output_type": "display_data"
    }
   ],
   "source": [
    "uss %>%\n",
    "    select(mobile, tweet_chars:n_capitals) %>%\n",
    "    group_by(mobile) %>%\n",
    "    summarise_all(mean, na.rm = TRUE)"
   ]
  },
  {
   "cell_type": "code",
   "execution_count": 37,
   "metadata": {},
   "outputs": [
    {
     "name": "stdout",
     "output_type": "stream",
     "text": [
      " chr [1:9899] \"<U+201C>We bested the Saints!<U+201D> <U+2014>My four-year-old grandson Joe\\n\\n<U+201C>Holy moly!!!<U+201D> <U+\"| __truncated__ ...\n"
     ]
    }
   ],
   "source": [
    "##extra added tests\n",
    "str(uss$text)"
   ]
  },
  {
   "cell_type": "markdown",
   "metadata": {},
   "source": [
    "### 7. Clean the text- remove mentions, URLs, punctuation, and numbers."
   ]
  },
  {
   "cell_type": "code",
   "execution_count": 32,
   "metadata": {
    "collapsed": true
   },
   "outputs": [],
   "source": [
    "uss$text2 <- stringr::str_replace_all(uss$text, \"@\\\\S+\", \"\")\n",
    "uss$text2 <- stringr::str_replace_all(uss$text2, \"https?:[[:graph:]]+\", \"\")\n",
    "uss$text2 <- stringr::str_replace_all(uss$text2, \"[[:punct:]]+\\\\b|\\\\b[[:punct:]]+\", \"\")\n",
    "uss$text2 <- stringr::str_replace_all(uss$text2, \"[0-9]\", \"\")\n",
    "uss$text2 <- tolower(uss$text2)"
   ]
  },
  {
   "cell_type": "markdown",
   "metadata": {},
   "source": [
    "### 8. Tokenize text into words."
   ]
  },
  {
   "cell_type": "code",
   "execution_count": 33,
   "metadata": {
    "collapsed": true
   },
   "outputs": [],
   "source": [
    "uss$words <- strsplit(uss$text2, \"\\\\s+\")"
   ]
  },
  {
   "cell_type": "code",
   "execution_count": 34,
   "metadata": {
    "scrolled": true
   },
   "outputs": [
    {
     "data": {
      "text/html": [
       "<ol>\n",
       "\t<li><ol class=list-inline>\n",
       "\t<li>'we'</li>\n",
       "\t<li>'bested'</li>\n",
       "\t<li>'the'</li>\n",
       "\t<li>'saints'</li>\n",
       "\t<li>'my'</li>\n",
       "\t<li>'fouryearold'</li>\n",
       "\t<li>'grandson'</li>\n",
       "\t<li>'joe'</li>\n",
       "\t<li>'holy'</li>\n",
       "\t<li>'moly'</li>\n",
       "\t<li>'me'</li>\n",
       "</ol>\n",
       "</li>\n",
       "\t<li><ol class=list-inline>\n",
       "\t<li>'hey'</li>\n",
       "\t<li>'everybody'</li>\n",
       "\t<li>'i'</li>\n",
       "\t<li>'have'</li>\n",
       "\t<li>'something'</li>\n",
       "\t<li>'thats'</li>\n",
       "\t<li>'really'</li>\n",
       "\t<li>'important'</li>\n",
       "\t<li>'to'</li>\n",
       "\t<li>'share'</li>\n",
       "\t<li>'tina'</li>\n",
       "\t<li>'smith'</li>\n",
       "\t<li>'our'</li>\n",
       "\t<li>'new'</li>\n",
       "\t<li>'us'</li>\n",
       "\t<li>'senator'</li>\n",
       "\t<li>'for'</li>\n",
       "\t<li>'minnesota'</li>\n",
       "\t<li>'has'</li>\n",
       "\t<li>'shown'</li>\n",
       "\t<li>'time'</li>\n",
       "\t<li>'and'</li>\n",
       "\t<li>'time'</li>\n",
       "\t<li>'again'</li>\n",
       "\t<li>'that'</li>\n",
       "\t<li>'shes'</li>\n",
       "\t<li>'committed'</li>\n",
       "\t<li>'to'</li>\n",
       "\t<li>'fighting'</li>\n",
       "\t<li>'for'</li>\n",
       "\t<li>'you'</li>\n",
       "\t<li>'and'</li>\n",
       "\t<li>'now'</li>\n",
       "\t<li>'we'</li>\n",
       "\t<li>'need'</li>\n",
       "\t<li>'to'</li>\n",
       "\t<li>'do'</li>\n",
       "\t<li>'the'</li>\n",
       "\t<li>'same'</li>\n",
       "\t<li>'for'</li>\n",
       "\t<li>'her'</li>\n",
       "\t<li>'so'</li>\n",
       "\t<li>'please'</li>\n",
       "\t<li>'do'</li>\n",
       "\t<li>'something'</li>\n",
       "\t<li>'for'</li>\n",
       "\t<li>'me'</li>\n",
       "\t<li>'follow'</li>\n",
       "</ol>\n",
       "</li>\n",
       "\t<li><ol class=list-inline>\n",
       "\t<li>'working'</li>\n",
       "\t<li>'on'</li>\n",
       "\t<li>'behalf'</li>\n",
       "\t<li>'of'</li>\n",
       "\t<li>'the'</li>\n",
       "\t<li>'people'</li>\n",
       "\t<li>'of'</li>\n",
       "\t<li>'minnesota'</li>\n",
       "\t<li>'has'</li>\n",
       "\t<li>'been'</li>\n",
       "\t<li>'the'</li>\n",
       "\t<li>'honor'</li>\n",
       "\t<li>'of'</li>\n",
       "\t<li>'my'</li>\n",
       "\t<li>'life'</li>\n",
       "\t<li>'and'</li>\n",
       "\t<li>'i'</li>\n",
       "\t<li>'could'</li>\n",
       "\t<li>'not'</li>\n",
       "\t<li>'have'</li>\n",
       "\t<li>'done'</li>\n",
       "\t<li>'this'</li>\n",
       "\t<li>'without'</li>\n",
       "\t<li>'the'</li>\n",
       "\t<li>'help'</li>\n",
       "\t<li>'of'</li>\n",
       "\t<li>'my'</li>\n",
       "\t<li>'family'</li>\n",
       "\t<li>'friends'</li>\n",
       "\t<li>'and'</li>\n",
       "\t<li>'supporters'</li>\n",
       "\t<li>'thank'</li>\n",
       "\t<li>'you'</li>\n",
       "</ol>\n",
       "</li>\n",
       "</ol>\n"
      ],
      "text/latex": [
       "\\begin{enumerate}\n",
       "\\item \\begin{enumerate*}\n",
       "\\item 'we'\n",
       "\\item 'bested'\n",
       "\\item 'the'\n",
       "\\item 'saints'\n",
       "\\item 'my'\n",
       "\\item 'fouryearold'\n",
       "\\item 'grandson'\n",
       "\\item 'joe'\n",
       "\\item 'holy'\n",
       "\\item 'moly'\n",
       "\\item 'me'\n",
       "\\end{enumerate*}\n",
       "\n",
       "\\item \\begin{enumerate*}\n",
       "\\item 'hey'\n",
       "\\item 'everybody'\n",
       "\\item 'i'\n",
       "\\item 'have'\n",
       "\\item 'something'\n",
       "\\item 'thats'\n",
       "\\item 'really'\n",
       "\\item 'important'\n",
       "\\item 'to'\n",
       "\\item 'share'\n",
       "\\item 'tina'\n",
       "\\item 'smith'\n",
       "\\item 'our'\n",
       "\\item 'new'\n",
       "\\item 'us'\n",
       "\\item 'senator'\n",
       "\\item 'for'\n",
       "\\item 'minnesota'\n",
       "\\item 'has'\n",
       "\\item 'shown'\n",
       "\\item 'time'\n",
       "\\item 'and'\n",
       "\\item 'time'\n",
       "\\item 'again'\n",
       "\\item 'that'\n",
       "\\item 'shes'\n",
       "\\item 'committed'\n",
       "\\item 'to'\n",
       "\\item 'fighting'\n",
       "\\item 'for'\n",
       "\\item 'you'\n",
       "\\item 'and'\n",
       "\\item 'now'\n",
       "\\item 'we'\n",
       "\\item 'need'\n",
       "\\item 'to'\n",
       "\\item 'do'\n",
       "\\item 'the'\n",
       "\\item 'same'\n",
       "\\item 'for'\n",
       "\\item 'her'\n",
       "\\item 'so'\n",
       "\\item 'please'\n",
       "\\item 'do'\n",
       "\\item 'something'\n",
       "\\item 'for'\n",
       "\\item 'me'\n",
       "\\item 'follow'\n",
       "\\end{enumerate*}\n",
       "\n",
       "\\item \\begin{enumerate*}\n",
       "\\item 'working'\n",
       "\\item 'on'\n",
       "\\item 'behalf'\n",
       "\\item 'of'\n",
       "\\item 'the'\n",
       "\\item 'people'\n",
       "\\item 'of'\n",
       "\\item 'minnesota'\n",
       "\\item 'has'\n",
       "\\item 'been'\n",
       "\\item 'the'\n",
       "\\item 'honor'\n",
       "\\item 'of'\n",
       "\\item 'my'\n",
       "\\item 'life'\n",
       "\\item 'and'\n",
       "\\item 'i'\n",
       "\\item 'could'\n",
       "\\item 'not'\n",
       "\\item 'have'\n",
       "\\item 'done'\n",
       "\\item 'this'\n",
       "\\item 'without'\n",
       "\\item 'the'\n",
       "\\item 'help'\n",
       "\\item 'of'\n",
       "\\item 'my'\n",
       "\\item 'family'\n",
       "\\item 'friends'\n",
       "\\item 'and'\n",
       "\\item 'supporters'\n",
       "\\item 'thank'\n",
       "\\item 'you'\n",
       "\\end{enumerate*}\n",
       "\n",
       "\\end{enumerate}\n"
      ],
      "text/markdown": [
       "1. 1. 'we'\n",
       "2. 'bested'\n",
       "3. 'the'\n",
       "4. 'saints'\n",
       "5. 'my'\n",
       "6. 'fouryearold'\n",
       "7. 'grandson'\n",
       "8. 'joe'\n",
       "9. 'holy'\n",
       "10. 'moly'\n",
       "11. 'me'\n",
       "\n",
       "\n",
       "\n",
       "2. 1. 'hey'\n",
       "2. 'everybody'\n",
       "3. 'i'\n",
       "4. 'have'\n",
       "5. 'something'\n",
       "6. 'thats'\n",
       "7. 'really'\n",
       "8. 'important'\n",
       "9. 'to'\n",
       "10. 'share'\n",
       "11. 'tina'\n",
       "12. 'smith'\n",
       "13. 'our'\n",
       "14. 'new'\n",
       "15. 'us'\n",
       "16. 'senator'\n",
       "17. 'for'\n",
       "18. 'minnesota'\n",
       "19. 'has'\n",
       "20. 'shown'\n",
       "21. 'time'\n",
       "22. 'and'\n",
       "23. 'time'\n",
       "24. 'again'\n",
       "25. 'that'\n",
       "26. 'shes'\n",
       "27. 'committed'\n",
       "28. 'to'\n",
       "29. 'fighting'\n",
       "30. 'for'\n",
       "31. 'you'\n",
       "32. 'and'\n",
       "33. 'now'\n",
       "34. 'we'\n",
       "35. 'need'\n",
       "36. 'to'\n",
       "37. 'do'\n",
       "38. 'the'\n",
       "39. 'same'\n",
       "40. 'for'\n",
       "41. 'her'\n",
       "42. 'so'\n",
       "43. 'please'\n",
       "44. 'do'\n",
       "45. 'something'\n",
       "46. 'for'\n",
       "47. 'me'\n",
       "48. 'follow'\n",
       "\n",
       "\n",
       "\n",
       "3. 1. 'working'\n",
       "2. 'on'\n",
       "3. 'behalf'\n",
       "4. 'of'\n",
       "5. 'the'\n",
       "6. 'people'\n",
       "7. 'of'\n",
       "8. 'minnesota'\n",
       "9. 'has'\n",
       "10. 'been'\n",
       "11. 'the'\n",
       "12. 'honor'\n",
       "13. 'of'\n",
       "14. 'my'\n",
       "15. 'life'\n",
       "16. 'and'\n",
       "17. 'i'\n",
       "18. 'could'\n",
       "19. 'not'\n",
       "20. 'have'\n",
       "21. 'done'\n",
       "22. 'this'\n",
       "23. 'without'\n",
       "24. 'the'\n",
       "25. 'help'\n",
       "26. 'of'\n",
       "27. 'my'\n",
       "28. 'family'\n",
       "29. 'friends'\n",
       "30. 'and'\n",
       "31. 'supporters'\n",
       "32. 'thank'\n",
       "33. 'you'\n",
       "\n",
       "\n",
       "\n",
       "\n",
       "\n"
      ],
      "text/plain": [
       "[[1]]\n",
       " [1] \"we\"          \"bested\"      \"the\"         \"saints\"      \"my\"         \n",
       " [6] \"fouryearold\" \"grandson\"    \"joe\"         \"holy\"        \"moly\"       \n",
       "[11] \"me\"         \n",
       "\n",
       "[[2]]\n",
       " [1] \"hey\"       \"everybody\" \"i\"         \"have\"      \"something\" \"thats\"    \n",
       " [7] \"really\"    \"important\" \"to\"        \"share\"     \"tina\"      \"smith\"    \n",
       "[13] \"our\"       \"new\"       \"us\"        \"senator\"   \"for\"       \"minnesota\"\n",
       "[19] \"has\"       \"shown\"     \"time\"      \"and\"       \"time\"      \"again\"    \n",
       "[25] \"that\"      \"shes\"      \"committed\" \"to\"        \"fighting\"  \"for\"      \n",
       "[31] \"you\"       \"and\"       \"now\"       \"we\"        \"need\"      \"to\"       \n",
       "[37] \"do\"        \"the\"       \"same\"      \"for\"       \"her\"       \"so\"       \n",
       "[43] \"please\"    \"do\"        \"something\" \"for\"       \"me\"        \"follow\"   \n",
       "\n",
       "[[3]]\n",
       " [1] \"working\"    \"on\"         \"behalf\"     \"of\"         \"the\"       \n",
       " [6] \"people\"     \"of\"         \"minnesota\"  \"has\"        \"been\"      \n",
       "[11] \"the\"        \"honor\"      \"of\"         \"my\"         \"life\"      \n",
       "[16] \"and\"        \"i\"          \"could\"      \"not\"        \"have\"      \n",
       "[21] \"done\"       \"this\"       \"without\"    \"the\"        \"help\"      \n",
       "[26] \"of\"         \"my\"         \"family\"     \"friends\"    \"and\"       \n",
       "[31] \"supporters\" \"thank\"      \"you\"       \n"
      ]
     },
     "metadata": {},
     "output_type": "display_data"
    }
   ],
   "source": [
    "head(uss$words,3)"
   ]
  },
  {
   "cell_type": "code",
   "execution_count": 35,
   "metadata": {},
   "outputs": [
    {
     "data": {
      "text/html": [
       "<table>\n",
       "<thead><tr><th scope=col>user_id</th><th scope=col>ideology</th><th scope=col>status_id</th><th scope=col>created_at</th><th scope=col>screen_name</th><th scope=col>text</th><th scope=col>source</th><th scope=col>display_text_width</th><th scope=col>reply_to_status_id</th><th scope=col>reply_to_user_id</th><th scope=col>⋯</th><th scope=col>n_hashtags</th><th scope=col>n_links</th><th scope=col>n_first_person</th><th scope=col>n_punct</th><th scope=col>n_mentions</th><th scope=col>n_words</th><th scope=col>char_per_word</th><th scope=col>n_capitals</th><th scope=col>text2</th><th scope=col>words</th></tr></thead>\n",
       "<tbody>\n",
       "\t<tr><td>7334402                                                                                                                                                                                                                                                                                                                                                                                  </td><td>0.06996857                                                                                                                                                                                                                                                                                                                                                                               </td><td>952725846309195781                                                                                                                                                                                                                                                                                                                                                                       </td><td>2018-01-15 02:15:17                                                                                                                                                                                                                                                                                                                                                                      </td><td>alfranken                                                                                                                                                                                                                                                                                                                                                                                </td><td><span style=white-space:pre-wrap>&lt;U+201C&gt;We bested the Saints!&lt;U+201D&gt; &lt;U+2014&gt;My four-year-old grandson Joe\n",
       "\n",
       "&lt;U+201C&gt;Holy moly!!!&lt;U+201D&gt; &lt;U+2014&gt;Me https://t.co/gSZRDEyJX9                                                                                                                                                               </span></td><td>Twitter for iPhone                                                                                                                                                                                                                                                                                                                                                                       </td><td> 74                                                                                                                                                                                                                                                                                                                                                                                      </td><td>NA                                                                                                                                                                                                                                                                                                                                                                                       </td><td>NA                                                                                                                                                                                                                                                                                                                                                                                       </td><td><U+22EF>                                                                                                                                                                                                                                                                                                                                                                                 </td><td>0                                                                                                                                                                                                                                                                                                                                                                                        </td><td>1                                                                                                                                                                                                                                                                                                                                                                                        </td><td>0                                                                                                                                                                                                                                                                                                                                                                                        </td><td>17                                                                                                                                                                                                                                                                                                                                                                                       </td><td>0                                                                                                                                                                                                                                                                                                                                                                                        </td><td>17                                                                                                                                                                                                                                                                                                                                                                                       </td><td>5.764706                                                                                                                                                                                                                                                                                                                                                                                 </td><td>13                                                                                                                                                                                                                                                                                                                                                                                       </td><td><span style=white-space:pre-wrap>we bested the saints my fouryearold grandson joe\n",
       "\n",
       "holy moly me                                                                                                                                                                                              </span>                                                                                   </td><td><span style=white-space:pre-wrap>we         , bested     , the        , saints     , my         , fouryearold, grandson   , joe        , holy       , moly       , me         </span>                                                                                                                                                                                                    </td></tr>\n",
       "\t<tr><td>7334402                                                                                                                                                                                                                                                                                                                                                                                                                                                                                                                                       </td><td>0.06996857                                                                                                                                                                                                                                                                                                                                                                                                                                                                                                                                    </td><td>949789000923078656                                                                                                                                                                                                                                                                                                                                                                                                                                                                                                                            </td><td>2018-01-06 23:45:18                                                                                                                                                                                                                                                                                                                                                                                                                                                                                                                           </td><td>alfranken                                                                                                                                                                                                                                                                                                                                                                                                                                                                                                                                     </td><td>Hey everybody, I have something that's really important to share: Tina Smith, our new U.S. Senator for Minnesota, has shown time and time again that she's committed to fighting for you, and now we need to do the same for her. So please do something for me. Follow @TinaSmithMN. https://t.co/bkgnSERHMQ                                                                                                                                                                                                                                 </td><td>Twitter for iPhone                                                                                                                                                                                                                                                                                                                                                                                                                                                                                                                            </td><td>277                                                                                                                                                                                                                                                                                                                                                                                                                                                                                                                                           </td><td>NA                                                                                                                                                                                                                                                                                                                                                                                                                                                                                                                                            </td><td>NA                                                                                                                                                                                                                                                                                                                                                                                                                                                                                                                                            </td><td><U+22EF>                                                                                                                                                                                                                                                                                                                                                                                                                                                                                                                                      </td><td>0                                                                                                                                                                                                                                                                                                                                                                                                                                                                                                                                             </td><td>1                                                                                                                                                                                                                                                                                                                                                                                                                                                                                                                                             </td><td>2                                                                                                                                                                                                                                                                                                                                                                                                                                                                                                                                             </td><td>18                                                                                                                                                                                                                                                                                                                                                                                                                                                                                                                                            </td><td>1                                                                                                                                                                                                                                                                                                                                                                                                                                                                                                                                             </td><td>56                                                                                                                                                                                                                                                                                                                                                                                                                                                                                                                                            </td><td>5.375000                                                                                                                                                                                                                                                                                                                                                                                                                                                                                                                                      </td><td>20                                                                                                                                                                                                                                                                                                                                                                                                                                                                                                                                            </td><td>hey everybody i have something thats really important to share tina smith our new us senator for minnesota has shown time and time again that shes committed to fighting for you and now we need to do the same for her so please do something for me follow                                                                                                                                                                                                                                                                                  </td><td>hey      , everybody, i        , have     , something, thats    , really   , important, to       , share    , tina     , smith    , our      , new      , us       , senator  , for      , minnesota, has      , shown    , time     , and      , time     , again    , that     , shes     , committed, to       , fighting , for      , you      , and      , now      , we       , need     , to       , do       , the      , same     , for      , her      , so       , please   , do       , something, for      , me       , follow   </td></tr>\n",
       "\t<tr><td>7334402                                                                                                                                                                                                                                                                                                                                                                                                   </td><td>0.06996857                                                                                                                                                                                                                                                                                                                                                                                                </td><td>946543634496806912                                                                                                                                                                                                                                                                                                                                                                                        </td><td>2017-12-29 00:49:23                                                                                                                                                                                                                                                                                                                                                                                       </td><td>alfranken                                                                                                                                                                                                                                                                                                                                                                                                 </td><td>Working on behalf of the people of Minnesota has been the honor of my life and I could not have done this without the help of my family, friends, and supporters. Thank you. https://t.co/FQwc5qYhHP                                                                                                                                                                                                      </td><td>Twitter Web Client                                                                                                                                                                                                                                                                                                                                                                                        </td><td>196                                                                                                                                                                                                                                                                                                                                                                                                       </td><td>NA                                                                                                                                                                                                                                                                                                                                                                                                        </td><td>NA                                                                                                                                                                                                                                                                                                                                                                                                        </td><td><U+22EF>                                                                                                                                                                                                                                                                                                                                                                                                  </td><td>0                                                                                                                                                                                                                                                                                                                                                                                                         </td><td>1                                                                                                                                                                                                                                                                                                                                                                                                         </td><td>1                                                                                                                                                                                                                                                                                                                                                                                                         </td><td> 9                                                                                                                                                                                                                                                                                                                                                                                                        </td><td>0                                                                                                                                                                                                                                                                                                                                                                                                         </td><td>37                                                                                                                                                                                                                                                                                                                                                                                                        </td><td>5.297297                                                                                                                                                                                                                                                                                                                                                                                                  </td><td> 9                                                                                                                                                                                                                                                                                                                                                                                                        </td><td>working on behalf of the people of minnesota has been the honor of my life and i could not have done this without the help of my family friends and supporters thank you                                                                                                                                                                                                                                  </td><td>working   , on        , behalf    , of        , the       , people    , of        , minnesota , has       , been      , the       , honor     , of        , my        , life      , and       , i         , could     , not       , have      , done      , this      , without   , the       , help      , of        , my        , family    , friends   , and       , supporters, thank     , you       </td></tr>\n",
       "</tbody>\n",
       "</table>\n"
      ],
      "text/latex": [
       "\\begin{tabular}{r|lllllllllllllllllllllllllllllllllllllllllllllllllllllllllllllllllllllllllllllllll}\n",
       " user\\_id & ideology & status\\_id & created\\_at & screen\\_name & text & source & display\\_text\\_width & reply\\_to\\_status\\_id & reply\\_to\\_user\\_id & ⋯ & n\\_hashtags & n\\_links & n\\_first\\_person & n\\_punct & n\\_mentions & n\\_words & char\\_per\\_word & n\\_capitals & text2 & words\\\\\n",
       "\\hline\n",
       "\t 7334402                                                                                                                                                                                                                                                                                                       & 0.06996857                                                                                                                                                                                                                                                                                                    & 952725846309195781                                                                                                                                                                                                                                                                                            & 2018-01-15 02:15:17                                                                                                                                                                                                                                                                                           & alfranken                                                                                                                                                                                                                                                                                                     & <U+201C>We bested the Saints!<U+201D> <U+2014>My four-year-old grandson Joe\n",
       "\n",
       "<U+201C>Holy moly!!!<U+201D> <U+2014>Me https://t.co/gSZRDEyJX9                                                                                                                                                                & Twitter for iPhone                                                                                                                                                                                                                                                                                            &  74                                                                                                                                                                                                                                                                                                           & NA                                                                                                                                                                                                                                                                                                            & NA                                                                                                                                                                                                                                                                                                            & <U+22EF>                                                                                                                                                                                                                                                                                                      & 0                                                                                                                                                                                                                                                                                                             & 1                                                                                                                                                                                                                                                                                                             & 0                                                                                                                                                                                                                                                                                                             & 17                                                                                                                                                                                                                                                                                                            & 0                                                                                                                                                                                                                                                                                                             & 17                                                                                                                                                                                                                                                                                                            & 5.764706                                                                                                                                                                                                                                                                                                      & 13                                                                                                                                                                                                                                                                                                            & we bested the saints my fouryearold grandson joe\n",
       "\n",
       "holy moly me                                                                                                                                                                                                                                              & we         , bested     , the        , saints     , my         , fouryearold, grandson   , joe        , holy       , moly       , me                                                                                                                                                                         \\\\\n",
       "\t 7334402                                                                                                                                                                                                                                                                                                                                                                                                                                                                                                                                        & 0.06996857                                                                                                                                                                                                                                                                                                                                                                                                                                                                                                                                     & 949789000923078656                                                                                                                                                                                                                                                                                                                                                                                                                                                                                                                             & 2018-01-06 23:45:18                                                                                                                                                                                                                                                                                                                                                                                                                                                                                                                            & alfranken                                                                                                                                                                                                                                                                                                                                                                                                                                                                                                                                      & Hey everybody, I have something that's really important to share: Tina Smith, our new U.S. Senator for Minnesota, has shown time and time again that she's committed to fighting for you, and now we need to do the same for her. So please do something for me. Follow @TinaSmithMN. https://t.co/bkgnSERHMQ                                                                                                                                                                                                                                  & Twitter for iPhone                                                                                                                                                                                                                                                                                                                                                                                                                                                                                                                             & 277                                                                                                                                                                                                                                                                                                                                                                                                                                                                                                                                            & NA                                                                                                                                                                                                                                                                                                                                                                                                                                                                                                                                             & NA                                                                                                                                                                                                                                                                                                                                                                                                                                                                                                                                             & <U+22EF>                                                                                                                                                                                                                                                                                                                                                                                                                                                                                                                                       & 0                                                                                                                                                                                                                                                                                                                                                                                                                                                                                                                                              & 1                                                                                                                                                                                                                                                                                                                                                                                                                                                                                                                                              & 2                                                                                                                                                                                                                                                                                                                                                                                                                                                                                                                                              & 18                                                                                                                                                                                                                                                                                                                                                                                                                                                                                                                                             & 1                                                                                                                                                                                                                                                                                                                                                                                                                                                                                                                                              & 56                                                                                                                                                                                                                                                                                                                                                                                                                                                                                                                                             & 5.375000                                                                                                                                                                                                                                                                                                                                                                                                                                                                                                                                       & 20                                                                                                                                                                                                                                                                                                                                                                                                                                                                                                                                             & hey everybody i have something thats really important to share tina smith our new us senator for minnesota has shown time and time again that shes committed to fighting for you and now we need to do the same for her so please do something for me follow                                                                                                                                                                                                                                                                                   & hey      , everybody, i        , have     , something, thats    , really   , important, to       , share    , tina     , smith    , our      , new      , us       , senator  , for      , minnesota, has      , shown    , time     , and      , time     , again    , that     , shes     , committed, to       , fighting , for      , you      , and      , now      , we       , need     , to       , do       , the      , same     , for      , her      , so       , please   , do       , something, for      , me       , follow   \\\\\n",
       "\t 7334402                                                                                                                                                                                                                                                                                                                                                                                                    & 0.06996857                                                                                                                                                                                                                                                                                                                                                                                                 & 946543634496806912                                                                                                                                                                                                                                                                                                                                                                                         & 2017-12-29 00:49:23                                                                                                                                                                                                                                                                                                                                                                                        & alfranken                                                                                                                                                                                                                                                                                                                                                                                                  & Working on behalf of the people of Minnesota has been the honor of my life and I could not have done this without the help of my family, friends, and supporters. Thank you. https://t.co/FQwc5qYhHP                                                                                                                                                                                                       & Twitter Web Client                                                                                                                                                                                                                                                                                                                                                                                         & 196                                                                                                                                                                                                                                                                                                                                                                                                        & NA                                                                                                                                                                                                                                                                                                                                                                                                         & NA                                                                                                                                                                                                                                                                                                                                                                                                         & <U+22EF>                                                                                                                                                                                                                                                                                                                                                                                                   & 0                                                                                                                                                                                                                                                                                                                                                                                                          & 1                                                                                                                                                                                                                                                                                                                                                                                                          & 1                                                                                                                                                                                                                                                                                                                                                                                                          &  9                                                                                                                                                                                                                                                                                                                                                                                                         & 0                                                                                                                                                                                                                                                                                                                                                                                                          & 37                                                                                                                                                                                                                                                                                                                                                                                                         & 5.297297                                                                                                                                                                                                                                                                                                                                                                                                   &  9                                                                                                                                                                                                                                                                                                                                                                                                         & working on behalf of the people of minnesota has been the honor of my life and i could not have done this without the help of my family friends and supporters thank you                                                                                                                                                                                                                                   & working   , on        , behalf    , of        , the       , people    , of        , minnesota , has       , been      , the       , honor     , of        , my        , life      , and       , i         , could     , not       , have      , done      , this      , without   , the       , help      , of        , my        , family    , friends   , and       , supporters, thank     , you       \\\\\n",
       "\\end{tabular}\n"
      ],
      "text/markdown": [
       "\n",
       "user_id | ideology | status_id | created_at | screen_name | text | source | display_text_width | reply_to_status_id | reply_to_user_id | ⋯ | n_hashtags | n_links | n_first_person | n_punct | n_mentions | n_words | char_per_word | n_capitals | text2 | words | \n",
       "|---|---|---|\n",
       "| 7334402                                                                                                                                                                                                                                                                                                       | 0.06996857                                                                                                                                                                                                                                                                                                    | 952725846309195781                                                                                                                                                                                                                                                                                            | 2018-01-15 02:15:17                                                                                                                                                                                                                                                                                           | alfranken                                                                                                                                                                                                                                                                                                     | <U+201C>We bested the Saints!<U+201D> <U+2014>My four-year-old grandson Joe\n",
       "\n",
       "<U+201C>Holy moly!!!<U+201D> <U+2014>Me https://t.co/gSZRDEyJX9                                                                                                                                                                | Twitter for iPhone                                                                                                                                                                                                                                                                                            |  74                                                                                                                                                                                                                                                                                                           | NA                                                                                                                                                                                                                                                                                                            | NA                                                                                                                                                                                                                                                                                                            | <U+22EF>                                                                                                                                                                                                                                                                                                      | 0                                                                                                                                                                                                                                                                                                             | 1                                                                                                                                                                                                                                                                                                             | 0                                                                                                                                                                                                                                                                                                             | 17                                                                                                                                                                                                                                                                                                            | 0                                                                                                                                                                                                                                                                                                             | 17                                                                                                                                                                                                                                                                                                            | 5.764706                                                                                                                                                                                                                                                                                                      | 13                                                                                                                                                                                                                                                                                                            | we bested the saints my fouryearold grandson joe\n",
       "\n",
       "holy moly me                                                                                                                                                                                                                                              | we         , bested     , the        , saints     , my         , fouryearold, grandson   , joe        , holy       , moly       , me                                                                                                                                                                          | \n",
       "| 7334402                                                                                                                                                                                                                                                                                                                                                                                                                                                                                                                                        | 0.06996857                                                                                                                                                                                                                                                                                                                                                                                                                                                                                                                                     | 949789000923078656                                                                                                                                                                                                                                                                                                                                                                                                                                                                                                                             | 2018-01-06 23:45:18                                                                                                                                                                                                                                                                                                                                                                                                                                                                                                                            | alfranken                                                                                                                                                                                                                                                                                                                                                                                                                                                                                                                                      | Hey everybody, I have something that's really important to share: Tina Smith, our new U.S. Senator for Minnesota, has shown time and time again that she's committed to fighting for you, and now we need to do the same for her. So please do something for me. Follow @TinaSmithMN. https://t.co/bkgnSERHMQ                                                                                                                                                                                                                                  | Twitter for iPhone                                                                                                                                                                                                                                                                                                                                                                                                                                                                                                                             | 277                                                                                                                                                                                                                                                                                                                                                                                                                                                                                                                                            | NA                                                                                                                                                                                                                                                                                                                                                                                                                                                                                                                                             | NA                                                                                                                                                                                                                                                                                                                                                                                                                                                                                                                                             | <U+22EF>                                                                                                                                                                                                                                                                                                                                                                                                                                                                                                                                       | 0                                                                                                                                                                                                                                                                                                                                                                                                                                                                                                                                              | 1                                                                                                                                                                                                                                                                                                                                                                                                                                                                                                                                              | 2                                                                                                                                                                                                                                                                                                                                                                                                                                                                                                                                              | 18                                                                                                                                                                                                                                                                                                                                                                                                                                                                                                                                             | 1                                                                                                                                                                                                                                                                                                                                                                                                                                                                                                                                              | 56                                                                                                                                                                                                                                                                                                                                                                                                                                                                                                                                             | 5.375000                                                                                                                                                                                                                                                                                                                                                                                                                                                                                                                                       | 20                                                                                                                                                                                                                                                                                                                                                                                                                                                                                                                                             | hey everybody i have something thats really important to share tina smith our new us senator for minnesota has shown time and time again that shes committed to fighting for you and now we need to do the same for her so please do something for me follow                                                                                                                                                                                                                                                                                   | hey      , everybody, i        , have     , something, thats    , really   , important, to       , share    , tina     , smith    , our      , new      , us       , senator  , for      , minnesota, has      , shown    , time     , and      , time     , again    , that     , shes     , committed, to       , fighting , for      , you      , and      , now      , we       , need     , to       , do       , the      , same     , for      , her      , so       , please   , do       , something, for      , me       , follow    | \n",
       "| 7334402                                                                                                                                                                                                                                                                                                                                                                                                    | 0.06996857                                                                                                                                                                                                                                                                                                                                                                                                 | 946543634496806912                                                                                                                                                                                                                                                                                                                                                                                         | 2017-12-29 00:49:23                                                                                                                                                                                                                                                                                                                                                                                        | alfranken                                                                                                                                                                                                                                                                                                                                                                                                  | Working on behalf of the people of Minnesota has been the honor of my life and I could not have done this without the help of my family, friends, and supporters. Thank you. https://t.co/FQwc5qYhHP                                                                                                                                                                                                       | Twitter Web Client                                                                                                                                                                                                                                                                                                                                                                                         | 196                                                                                                                                                                                                                                                                                                                                                                                                        | NA                                                                                                                                                                                                                                                                                                                                                                                                         | NA                                                                                                                                                                                                                                                                                                                                                                                                         | <U+22EF>                                                                                                                                                                                                                                                                                                                                                                                                   | 0                                                                                                                                                                                                                                                                                                                                                                                                          | 1                                                                                                                                                                                                                                                                                                                                                                                                          | 1                                                                                                                                                                                                                                                                                                                                                                                                          |  9                                                                                                                                                                                                                                                                                                                                                                                                         | 0                                                                                                                                                                                                                                                                                                                                                                                                          | 37                                                                                                                                                                                                                                                                                                                                                                                                         | 5.297297                                                                                                                                                                                                                                                                                                                                                                                                   |  9                                                                                                                                                                                                                                                                                                                                                                                                         | working on behalf of the people of minnesota has been the honor of my life and i could not have done this without the help of my family friends and supporters thank you                                                                                                                                                                                                                                   | working   , on        , behalf    , of        , the       , people    , of        , minnesota , has       , been      , the       , honor     , of        , my        , life      , and       , i         , could     , not       , have      , done      , this      , without   , the       , help      , of        , my        , family    , friends   , and       , supporters, thank     , you        | \n",
       "\n",
       "\n"
      ],
      "text/plain": [
       "  user_id ideology   status_id          created_at          screen_name\n",
       "1 7334402 0.06996857 952725846309195781 2018-01-15 02:15:17 alfranken  \n",
       "2 7334402 0.06996857 949789000923078656 2018-01-06 23:45:18 alfranken  \n",
       "3 7334402 0.06996857 946543634496806912 2017-12-29 00:49:23 alfranken  \n",
       "  text                                                                                                                                                                                                                                                                                                         \n",
       "1 <U+201C>We bested the Saints!<U+201D> <U+2014>My four-year-old grandson Joe\\n\\n<U+201C>Holy moly!!!<U+201D> <U+2014>Me https://t.co/gSZRDEyJX9                                                                                                                                                               \n",
       "2 Hey everybody, I have something that's really important to share: Tina Smith, our new U.S. Senator for Minnesota, has shown time and time again that she's committed to fighting for you, and now we need to do the same for her. So please do something for me. Follow @TinaSmithMN. https://t.co/bkgnSERHMQ\n",
       "3 Working on behalf of the people of Minnesota has been the honor of my life and I could not have done this without the help of my family, friends, and supporters. Thank you. https://t.co/FQwc5qYhHP                                                                                                         \n",
       "  source             display_text_width reply_to_status_id reply_to_user_id\n",
       "1 Twitter for iPhone  74                NA                 NA              \n",
       "2 Twitter for iPhone 277                NA                 NA              \n",
       "3 Twitter Web Client 196                NA                 NA              \n",
       "  <U+22EF>   n_hashtags n_links n_first_person n_punct n_mentions n_words\n",
       "1 <U+22EF> 0          1       0              17      0          17     \n",
       "2 <U+22EF> 0          1       2              18      1          56     \n",
       "3 <U+22EF> 0          1       1               9      0          37     \n",
       "  char_per_word n_capitals\n",
       "1 5.764706      13        \n",
       "2 5.375000      20        \n",
       "3 5.297297       9        \n",
       "  text2                                                                                                                                                                                                                                                         \n",
       "1 we bested the saints my fouryearold grandson joe\\n\\nholy moly me                                                                                                                                                                                              \n",
       "2 hey everybody i have something thats really important to share tina smith our new us senator for minnesota has shown time and time again that shes committed to fighting for you and now we need to do the same for her so please do something for me follow  \n",
       "3 working on behalf of the people of minnesota has been the honor of my life and i could not have done this without the help of my family friends and supporters thank you                                                                                      \n",
       "  words                                                                                                                                                                                                                                                                                                                                                                                                                                                                                                                                         \n",
       "1 we         , bested     , the        , saints     , my         , fouryearold, grandson   , joe        , holy       , moly       , me                                                                                                                                                                                                                                                                                                                                                                                                          \n",
       "2 hey      , everybody, i        , have     , something, thats    , really   , important, to       , share    , tina     , smith    , our      , new      , us       , senator  , for      , minnesota, has      , shown    , time     , and      , time     , again    , that     , shes     , committed, to       , fighting , for      , you      , and      , now      , we       , need     , to       , do       , the      , same     , for      , her      , so       , please   , do       , something, for      , me       , follow   \n",
       "3 working   , on        , behalf    , of        , the       , people    , of        , minnesota , has       , been      , the       , honor     , of        , my        , life      , and       , i         , could     , not       , have      , done      , this      , without   , the       , help      , of        , my        , family    , friends   , and       , supporters, thank     , you                                                                                                                                           "
      ]
     },
     "metadata": {},
     "output_type": "display_data"
    }
   ],
   "source": [
    "head(uss,3)"
   ]
  },
  {
   "cell_type": "markdown",
   "metadata": {},
   "source": [
    "### 9. Remove stop words any any words that don't consist of letters."
   ]
  },
  {
   "cell_type": "code",
   "execution_count": 17,
   "metadata": {
    "collapsed": true
   },
   "outputs": [],
   "source": [
    "## use stopwords list from rtweet\n",
    "stopwords <- rtweet::stopwordslangs$word[rtweet::stopwordslangs$p > .999]\n",
    "\n",
    "## remove stopwords\n",
    "uss$words <- lapply(uss$words, function(x) return(x[!tolower(x) %in% c(\"\", stopwords)]))\n",
    "    \n",
    "## remove all non-letter characters and drop empty tokens\n",
    "uss$words <- lapply(uss$words, function(x) {\n",
    "    x <- stringr::str_replace_all(x, \"\\\\W\", \"\")\n",
    "    x[x != \"\"]\n",
    "})"
   ]
  },
  {
   "cell_type": "markdown",
   "metadata": {},
   "source": [
    "### 10. Create a word frequency table for liberal accounts (ideology scores of less than .5) and conservative accounts (ideology scores of greater than .5)."
   ]
  },
  {
   "cell_type": "code",
   "execution_count": 18,
   "metadata": {
    "collapsed": true
   },
   "outputs": [],
   "source": [
    "wds_lib <- table(unlist(uss$words[uss$ideology < .5]))\n",
    "wds_con <- table(unlist(uss$words[uss$ideology > .5]))"
   ]
  },
  {
   "cell_type": "code",
   "execution_count": 19,
   "metadata": {
    "collapsed": true
   },
   "outputs": [],
   "source": [
    "top100_con <- names(sort(wds_con, decreasing = TRUE)[1:100])\n",
    "top100_lib <- names(sort(wds_lib, decreasing = TRUE)[1:100])\n",
    "\n",
    "r <- wds_con[names(wds_con) %in% c(top100_con, top100_lib)]\n",
    "d <- wds_lib[names(wds_lib) %in% c(top100_con, top100_lib)]"
   ]
  },
  {
   "cell_type": "code",
   "execution_count": 20,
   "metadata": {},
   "outputs": [
    {
     "name": "stderr",
     "output_type": "stream",
     "text": [
      "Joining, by = c(\"ideology\", \"word\", \"n\")\n"
     ]
    },
    {
     "data": {
      "text/html": [
       "<table>\n",
       "<thead><tr><th scope=col>word</th><th scope=col>Conservative</th><th scope=col>Liberal</th><th scope=col>diff</th></tr></thead>\n",
       "<tbody>\n",
       "\t<tr><td>taxreform    </td><td>248          </td><td>  1          </td><td>-247         </td></tr>\n",
       "\t<tr><td>dreamers     </td><td> 19          </td><td>246          </td><td> 227         </td></tr>\n",
       "\t<tr><td>tax          </td><td>337          </td><td>111          </td><td>-226         </td></tr>\n",
       "\t<tr><td>senate       </td><td>441          </td><td>268          </td><td>-173         </td></tr>\n",
       "\t<tr><td>reform       </td><td>157          </td><td> 21          </td><td>-136         </td></tr>\n",
       "\t<tr><td>gun          </td><td> 19          </td><td>148          </td><td> 129         </td></tr>\n",
       "\t<tr><td>health       </td><td>170          </td><td>292          </td><td> 122         </td></tr>\n",
       "\t<tr><td>government   </td><td>195          </td><td> 77          </td><td>-118         </td></tr>\n",
       "\t<tr><td>trumps       </td><td> 26          </td><td>143          </td><td> 117         </td></tr>\n",
       "\t<tr><td>protect      </td><td>107          </td><td>213          </td><td> 106         </td></tr>\n",
       "\t<tr><td>veterans     </td><td>164          </td><td> 61          </td><td>-103         </td></tr>\n",
       "\t<tr><td>forward      </td><td>183          </td><td> 83          </td><td>-100         </td></tr>\n",
       "\t<tr><td>immigration  </td><td>201          </td><td>102          </td><td> -99         </td></tr>\n",
       "\t<tr><td>discuss      </td><td>145          </td><td> 58          </td><td> -87         </td></tr>\n",
       "\t<tr><td>republicans  </td><td> 38          </td><td>125          </td><td>  87         </td></tr>\n",
       "\t<tr><td>statement    </td><td>148          </td><td> 61          </td><td> -87         </td></tr>\n",
       "\t<tr><td>legislation  </td><td>150          </td><td> 65          </td><td> -85         </td></tr>\n",
       "\t<tr><td>violence     </td><td> 17          </td><td>102          </td><td>  85         </td></tr>\n",
       "\t<tr><td>hearing      </td><td>164          </td><td> 80          </td><td> -84         </td></tr>\n",
       "\t<tr><td>employees    </td><td> 88          </td><td>  5          </td><td> -83         </td></tr>\n",
       "\t<tr><td>joe          </td><td> 90          </td><td> 11          </td><td> -79         </td></tr>\n",
       "\t<tr><td>action       </td><td> 28          </td><td>104          </td><td>  76         </td></tr>\n",
       "\t<tr><td>plan         </td><td> 72          </td><td>148          </td><td>  76         </td></tr>\n",
       "\t<tr><td>relief       </td><td> 84          </td><td> 10          </td><td> -74         </td></tr>\n",
       "\t<tr><td>icymi        </td><td> 87          </td><td> 14          </td><td> -73         </td></tr>\n",
       "\t<tr><td>tune         </td><td>120          </td><td> 47          </td><td> -73         </td></tr>\n",
       "\t<tr><td>investigation</td><td> 12          </td><td> 84          </td><td>  72         </td></tr>\n",
       "\t<tr><td>glad         </td><td>101          </td><td> 30          </td><td> -71         </td></tr>\n",
       "\t<tr><td>benefits     </td><td> 96          </td><td> 26          </td><td> -70         </td></tr>\n",
       "\t<tr><td>honor        </td><td>139          </td><td> 69          </td><td> -70         </td></tr>\n",
       "\t<tr><td><U+22EE></td><td><U+22EE></td><td><U+22EE></td><td><U+22EE></td></tr>\n",
       "\t<tr><td>economy        </td><td>111            </td><td> 89            </td><td>-22            </td></tr>\n",
       "\t<tr><td>access         </td><td> 84            </td><td> 63            </td><td>-21            </td></tr>\n",
       "\t<tr><td>americans      </td><td>175            </td><td>156            </td><td>-19            </td></tr>\n",
       "\t<tr><td>budget         </td><td>144            </td><td>163            </td><td> 19            </td></tr>\n",
       "\t<tr><td>future         </td><td> 64            </td><td> 82            </td><td> 18            </td></tr>\n",
       "\t<tr><td>special        </td><td> 58            </td><td> 75            </td><td> 17            </td></tr>\n",
       "\t<tr><td>students       </td><td>119            </td><td>102            </td><td>-17            </td></tr>\n",
       "\t<tr><td>ive            </td><td> 44            </td><td> 60            </td><td> 16            </td></tr>\n",
       "\t<tr><td>opioid         </td><td> 86            </td><td> 70            </td><td>-16            </td></tr>\n",
       "\t<tr><td>america        </td><td> 97            </td><td>111            </td><td> 14            </td></tr>\n",
       "\t<tr><td>deal           </td><td> 70            </td><td> 83            </td><td> 13            </td></tr>\n",
       "\t<tr><td>system         </td><td> 74            </td><td> 61            </td><td>-13            </td></tr>\n",
       "\t<tr><td>todays         </td><td> 84            </td><td> 71            </td><td>-13            </td></tr>\n",
       "\t<tr><td>across         </td><td>109            </td><td> 97            </td><td>-12            </td></tr>\n",
       "\t<tr><td>million        </td><td> 79            </td><td> 89            </td><td> 10            </td></tr>\n",
       "\t<tr><td>program        </td><td> 70            </td><td> 80            </td><td> 10            </td></tr>\n",
       "\t<tr><td>cuts           </td><td> 82            </td><td> 73            </td><td> -9            </td></tr>\n",
       "\t<tr><td>local          </td><td> 68            </td><td> 77            </td><td>  9            </td></tr>\n",
       "\t<tr><td>security       </td><td>127            </td><td>118            </td><td> -9            </td></tr>\n",
       "\t<tr><td>bipartisan     </td><td>229            </td><td>236            </td><td>  7            </td></tr>\n",
       "\t<tr><td>federal        </td><td> 99            </td><td> 92            </td><td> -7            </td></tr>\n",
       "\t<tr><td>ill            </td><td> 61            </td><td> 67            </td><td>  6            </td></tr>\n",
       "\t<tr><td>states         </td><td> 85            </td><td> 91            </td><td>  6            </td></tr>\n",
       "\t<tr><td>lives          </td><td> 79            </td><td> 83            </td><td>  4            </td></tr>\n",
       "\t<tr><td>leaders        </td><td> 73            </td><td> 70            </td><td> -3            </td></tr>\n",
       "\t<tr><td>children       </td><td> 82            </td><td> 81            </td><td> -1            </td></tr>\n",
       "\t<tr><td>critical       </td><td> 63            </td><td> 62            </td><td> -1            </td></tr>\n",
       "\t<tr><td>bonuses        </td><td> 82            </td><td> NA            </td><td> NA            </td></tr>\n",
       "\t<tr><td>drilling       </td><td> NA            </td><td> 70            </td><td> NA            </td></tr>\n",
       "\t<tr><td>protectdreamers</td><td> NA            </td><td> 60            </td><td> NA            </td></tr>\n",
       "</tbody>\n",
       "</table>\n"
      ],
      "text/latex": [
       "\\begin{tabular}{r|llll}\n",
       " word & Conservative & Liberal & diff\\\\\n",
       "\\hline\n",
       "\t taxreform     & 248           &   1           & -247         \\\\\n",
       "\t dreamers      &  19           & 246           &  227         \\\\\n",
       "\t tax           & 337           & 111           & -226         \\\\\n",
       "\t senate        & 441           & 268           & -173         \\\\\n",
       "\t reform        & 157           &  21           & -136         \\\\\n",
       "\t gun           &  19           & 148           &  129         \\\\\n",
       "\t health        & 170           & 292           &  122         \\\\\n",
       "\t government    & 195           &  77           & -118         \\\\\n",
       "\t trumps        &  26           & 143           &  117         \\\\\n",
       "\t protect       & 107           & 213           &  106         \\\\\n",
       "\t veterans      & 164           &  61           & -103         \\\\\n",
       "\t forward       & 183           &  83           & -100         \\\\\n",
       "\t immigration   & 201           & 102           &  -99         \\\\\n",
       "\t discuss       & 145           &  58           &  -87         \\\\\n",
       "\t republicans   &  38           & 125           &   87         \\\\\n",
       "\t statement     & 148           &  61           &  -87         \\\\\n",
       "\t legislation   & 150           &  65           &  -85         \\\\\n",
       "\t violence      &  17           & 102           &   85         \\\\\n",
       "\t hearing       & 164           &  80           &  -84         \\\\\n",
       "\t employees     &  88           &   5           &  -83         \\\\\n",
       "\t joe           &  90           &  11           &  -79         \\\\\n",
       "\t action        &  28           & 104           &   76         \\\\\n",
       "\t plan          &  72           & 148           &   76         \\\\\n",
       "\t relief        &  84           &  10           &  -74         \\\\\n",
       "\t icymi         &  87           &  14           &  -73         \\\\\n",
       "\t tune          & 120           &  47           &  -73         \\\\\n",
       "\t investigation &  12           &  84           &   72         \\\\\n",
       "\t glad          & 101           &  30           &  -71         \\\\\n",
       "\t benefits      &  96           &  26           &  -70         \\\\\n",
       "\t honor         & 139           &  69           &  -70         \\\\\n",
       "\t <U+22EE> & <U+22EE> & <U+22EE> & <U+22EE>\\\\\n",
       "\t economy         & 111             &  89             & -22            \\\\\n",
       "\t access          &  84             &  63             & -21            \\\\\n",
       "\t americans       & 175             & 156             & -19            \\\\\n",
       "\t budget          & 144             & 163             &  19            \\\\\n",
       "\t future          &  64             &  82             &  18            \\\\\n",
       "\t special         &  58             &  75             &  17            \\\\\n",
       "\t students        & 119             & 102             & -17            \\\\\n",
       "\t ive             &  44             &  60             &  16            \\\\\n",
       "\t opioid          &  86             &  70             & -16            \\\\\n",
       "\t america         &  97             & 111             &  14            \\\\\n",
       "\t deal            &  70             &  83             &  13            \\\\\n",
       "\t system          &  74             &  61             & -13            \\\\\n",
       "\t todays          &  84             &  71             & -13            \\\\\n",
       "\t across          & 109             &  97             & -12            \\\\\n",
       "\t million         &  79             &  89             &  10            \\\\\n",
       "\t program         &  70             &  80             &  10            \\\\\n",
       "\t cuts            &  82             &  73             &  -9            \\\\\n",
       "\t local           &  68             &  77             &   9            \\\\\n",
       "\t security        & 127             & 118             &  -9            \\\\\n",
       "\t bipartisan      & 229             & 236             &   7            \\\\\n",
       "\t federal         &  99             &  92             &  -7            \\\\\n",
       "\t ill             &  61             &  67             &   6            \\\\\n",
       "\t states          &  85             &  91             &   6            \\\\\n",
       "\t lives           &  79             &  83             &   4            \\\\\n",
       "\t leaders         &  73             &  70             &  -3            \\\\\n",
       "\t children        &  82             &  81             &  -1            \\\\\n",
       "\t critical        &  63             &  62             &  -1            \\\\\n",
       "\t bonuses         &  82             &  NA             &  NA            \\\\\n",
       "\t drilling        &  NA             &  70             &  NA            \\\\\n",
       "\t protectdreamers &  NA             &  60             &  NA            \\\\\n",
       "\\end{tabular}\n"
      ],
      "text/markdown": [
       "\n",
       "word | Conservative | Liberal | diff | \n",
       "|---|---|---|---|---|---|---|---|---|---|---|---|---|---|---|---|---|---|---|---|---|---|---|---|---|---|---|---|---|---|---|---|---|---|---|---|---|---|---|---|---|---|---|---|---|---|---|---|---|---|---|---|---|---|---|---|---|---|---|---|---|\n",
       "| taxreform     | 248           |   1           | -247          | \n",
       "| dreamers      |  19           | 246           |  227          | \n",
       "| tax           | 337           | 111           | -226          | \n",
       "| senate        | 441           | 268           | -173          | \n",
       "| reform        | 157           |  21           | -136          | \n",
       "| gun           |  19           | 148           |  129          | \n",
       "| health        | 170           | 292           |  122          | \n",
       "| government    | 195           |  77           | -118          | \n",
       "| trumps        |  26           | 143           |  117          | \n",
       "| protect       | 107           | 213           |  106          | \n",
       "| veterans      | 164           |  61           | -103          | \n",
       "| forward       | 183           |  83           | -100          | \n",
       "| immigration   | 201           | 102           |  -99          | \n",
       "| discuss       | 145           |  58           |  -87          | \n",
       "| republicans   |  38           | 125           |   87          | \n",
       "| statement     | 148           |  61           |  -87          | \n",
       "| legislation   | 150           |  65           |  -85          | \n",
       "| violence      |  17           | 102           |   85          | \n",
       "| hearing       | 164           |  80           |  -84          | \n",
       "| employees     |  88           |   5           |  -83          | \n",
       "| joe           |  90           |  11           |  -79          | \n",
       "| action        |  28           | 104           |   76          | \n",
       "| plan          |  72           | 148           |   76          | \n",
       "| relief        |  84           |  10           |  -74          | \n",
       "| icymi         |  87           |  14           |  -73          | \n",
       "| tune          | 120           |  47           |  -73          | \n",
       "| investigation |  12           |  84           |   72          | \n",
       "| glad          | 101           |  30           |  -71          | \n",
       "| benefits      |  96           |  26           |  -70          | \n",
       "| honor         | 139           |  69           |  -70          | \n",
       "| <U+22EE> | <U+22EE> | <U+22EE> | <U+22EE> | \n",
       "| economy         | 111             |  89             | -22             | \n",
       "| access          |  84             |  63             | -21             | \n",
       "| americans       | 175             | 156             | -19             | \n",
       "| budget          | 144             | 163             |  19             | \n",
       "| future          |  64             |  82             |  18             | \n",
       "| special         |  58             |  75             |  17             | \n",
       "| students        | 119             | 102             | -17             | \n",
       "| ive             |  44             |  60             |  16             | \n",
       "| opioid          |  86             |  70             | -16             | \n",
       "| america         |  97             | 111             |  14             | \n",
       "| deal            |  70             |  83             |  13             | \n",
       "| system          |  74             |  61             | -13             | \n",
       "| todays          |  84             |  71             | -13             | \n",
       "| across          | 109             |  97             | -12             | \n",
       "| million         |  79             |  89             |  10             | \n",
       "| program         |  70             |  80             |  10             | \n",
       "| cuts            |  82             |  73             |  -9             | \n",
       "| local           |  68             |  77             |   9             | \n",
       "| security        | 127             | 118             |  -9             | \n",
       "| bipartisan      | 229             | 236             |   7             | \n",
       "| federal         |  99             |  92             |  -7             | \n",
       "| ill             |  61             |  67             |   6             | \n",
       "| states          |  85             |  91             |   6             | \n",
       "| lives           |  79             |  83             |   4             | \n",
       "| leaders         |  73             |  70             |  -3             | \n",
       "| children        |  82             |  81             |  -1             | \n",
       "| critical        |  63             |  62             |  -1             | \n",
       "| bonuses         |  82             |  NA             |  NA             | \n",
       "| drilling        |  NA             |  70             |  NA             | \n",
       "| protectdreamers |  NA             |  60             |  NA             | \n",
       "\n",
       "\n"
      ],
      "text/plain": [
       "       word            Conservative Liberal diff  \n",
       "1      taxreform       248            1     -247  \n",
       "2      dreamers         19          246      227  \n",
       "3      tax             337          111     -226  \n",
       "4      senate          441          268     -173  \n",
       "5      reform          157           21     -136  \n",
       "6      gun              19          148      129  \n",
       "7      health          170          292      122  \n",
       "8      government      195           77     -118  \n",
       "9      trumps           26          143      117  \n",
       "10     protect         107          213      106  \n",
       "11     veterans        164           61     -103  \n",
       "12     forward         183           83     -100  \n",
       "13     immigration     201          102      -99  \n",
       "14     discuss         145           58      -87  \n",
       "15     republicans      38          125       87  \n",
       "16     statement       148           61      -87  \n",
       "17     legislation     150           65      -85  \n",
       "18     violence         17          102       85  \n",
       "19     hearing         164           80      -84  \n",
       "20     employees        88            5      -83  \n",
       "21     joe              90           11      -79  \n",
       "22     action           28          104       76  \n",
       "23     plan             72          148       76  \n",
       "24     relief           84           10      -74  \n",
       "25     icymi            87           14      -73  \n",
       "26     tune            120           47      -73  \n",
       "27     investigation    12           84       72  \n",
       "28     glad            101           30      -71  \n",
       "29     benefits         96           26      -70  \n",
       "30     honor           139           69      -70  \n",
       "<U+22EE> <U+22EE>        <U+22EE>     <U+22EE> <U+22EE>\n",
       "112    economy         111           89     -22   \n",
       "113    access           84           63     -21   \n",
       "114    americans       175          156     -19   \n",
       "115    budget          144          163      19   \n",
       "116    future           64           82      18   \n",
       "117    special          58           75      17   \n",
       "118    students        119          102     -17   \n",
       "119    ive              44           60      16   \n",
       "120    opioid           86           70     -16   \n",
       "121    america          97          111      14   \n",
       "122    deal             70           83      13   \n",
       "123    system           74           61     -13   \n",
       "124    todays           84           71     -13   \n",
       "125    across          109           97     -12   \n",
       "126    million          79           89      10   \n",
       "127    program          70           80      10   \n",
       "128    cuts             82           73      -9   \n",
       "129    local            68           77       9   \n",
       "130    security        127          118      -9   \n",
       "131    bipartisan      229          236       7   \n",
       "132    federal          99           92      -7   \n",
       "133    ill              61           67       6   \n",
       "134    states           85           91       6   \n",
       "135    lives            79           83       4   \n",
       "136    leaders          73           70      -3   \n",
       "137    children         82           81      -1   \n",
       "138    critical         63           62      -1   \n",
       "139    bonuses          82           NA      NA   \n",
       "140    drilling         NA           70      NA   \n",
       "141    protectdreamers  NA           60      NA   "
      ]
     },
     "metadata": {},
     "output_type": "display_data"
    }
   ],
   "source": [
    "## conservative words data frame\n",
    "cdf <- data_frame(\n",
    "    ideology = \"Conservative\",\n",
    "    word = names(r),\n",
    "    n = as.integer(r)\n",
    ")\n",
    "## liberal words data frame\n",
    "ldf <- data_frame(\n",
    "    ideology = \"Liberal\",\n",
    "    word = names(d),\n",
    "    n = as.integer(d)\n",
    ")\n",
    "## merge into one\n",
    "df <- full_join(cdf, ldf)\n",
    "\n",
    "## convert to wide form (variable for each ideology group's word count)\n",
    "df <- spread(df, ideology, n)\n",
    "\n",
    "## calculate differences in word frequencies and arrange by biggest differences\n",
    "df %>%\n",
    "    mutate(diff = Liberal - Conservative) %>%\n",
    "    arrange(-abs(diff))"
   ]
  },
  {
   "cell_type": "code",
   "execution_count": null,
   "metadata": {
    "collapsed": true
   },
   "outputs": [],
   "source": []
  }
 ],
 "metadata": {
  "kernelspec": {
   "display_name": "R",
   "language": "R",
   "name": "ir"
  },
  "language_info": {
   "codemirror_mode": "r",
   "file_extension": ".r",
   "mimetype": "text/x-r-source",
   "name": "R",
   "pygments_lexer": "r",
   "version": "3.4.1"
  }
 },
 "nbformat": 4,
 "nbformat_minor": 2
}
