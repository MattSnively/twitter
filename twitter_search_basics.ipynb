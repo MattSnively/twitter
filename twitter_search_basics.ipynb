{
 "cells": [
  {
   "cell_type": "markdown",
   "metadata": {},
   "source": [
    "## Module 2: Exercises\n"
   ]
  },
  {
   "cell_type": "markdown",
   "metadata": {},
   "source": [
    "For this module, your exercises will follow a similar trajectory to the practices notebook. However, instead of retrieving data from the `search/tweets` API, you will be asked to query data from the `search/users` API."
   ]
  },
  {
   "cell_type": "markdown",
   "metadata": {},
   "source": [
    "You may copy/paste any relevant code from the practice notebook below. This is mostly only relevant for the first question."
   ]
  },
  {
   "cell_type": "markdown",
   "metadata": {},
   "source": [
    "### 1. Write a function named `load_twitter_token` to load a Twitter token using the environment variable `TWITTER_PAT`. Then load the token and store it as an object named \"token\""
   ]
  },
  {
   "cell_type": "code",
   "execution_count": 10,
   "metadata": {
    "scrolled": true
   },
   "outputs": [
    {
     "data": {
      "text/plain": [
       "<Token>\n",
       "<oauth_endpoint>\n",
       " request:   https://api.twitter.com/oauth/request_token\n",
       " authorize: https://api.twitter.com/oauth/authenticate\n",
       " access:    https://api.twitter.com/oauth/access_token\n",
       "<oauth_app> data_sci_8001\n",
       "  key:    nImVTaVIeo6tYlKnwYgxPRquQ\n",
       "  secret: <hidden>\n",
       "<credentials> oauth_token, oauth_token_secret, user_id, screen_name, x_auth_expires\n",
       "---"
      ]
     },
     "metadata": {},
     "output_type": "display_data"
    }
   ],
   "source": [
    "(token <- readRDS(\"data_sci_8001_token.rds\"))"
   ]
  },
  {
   "cell_type": "code",
   "execution_count": 11,
   "metadata": {
    "collapsed": true
   },
   "outputs": [],
   "source": [
    "## expand full path to token\n",
    "path_to_token <- normalizePath(\"data_sci_8001_token.rds\")\n",
    "\n",
    "## create env variable TWITTER_PAT (with path to saved token)\n",
    "envvar <- paste0(\"TWITTER_PAT=\", path_to_token)\n",
    "\n",
    "## save as .Renviron file (or append if the file already exists)\n",
    "cat(envvar, file = \"~/.Renviron\", fill = TRUE, append = TRUE)"
   ]
  },
  {
   "cell_type": "code",
   "execution_count": 12,
   "metadata": {},
   "outputs": [
    {
     "data": {
      "text/html": [
       "'/dsa/home/mdsmr6/DSA-STREAMING_mdsmr6/modules/module2/exercises/data_sci_8001_token.rds'"
      ],
      "text/latex": [
       "'/dsa/home/mdsmr6/DSA-STREAMING\\_mdsmr6/modules/module2/exercises/data\\_sci\\_8001\\_token.rds'"
      ],
      "text/markdown": [
       "'/dsa/home/mdsmr6/DSA-STREAMING_mdsmr6/modules/module2/exercises/data_sci_8001_token.rds'"
      ],
      "text/plain": [
       "[1] \"/dsa/home/mdsmr6/DSA-STREAMING_mdsmr6/modules/module2/exercises/data_sci_8001_token.rds\""
      ]
     },
     "metadata": {},
     "output_type": "display_data"
    }
   ],
   "source": [
    "path_to_token"
   ]
  },
  {
   "cell_type": "code",
   "execution_count": 13,
   "metadata": {},
   "outputs": [
    {
     "data": {
      "text/html": [
       "'TWITTER_PAT=/dsa/home/mdsmr6/DSA-STREAMING_mdsmr6/modules/module2/exercises/data_sci_8001_token.rds'"
      ],
      "text/latex": [
       "'TWITTER\\_PAT=/dsa/home/mdsmr6/DSA-STREAMING\\_mdsmr6/modules/module2/exercises/data\\_sci\\_8001\\_token.rds'"
      ],
      "text/markdown": [
       "'TWITTER_PAT=/dsa/home/mdsmr6/DSA-STREAMING_mdsmr6/modules/module2/exercises/data_sci_8001_token.rds'"
      ],
      "text/plain": [
       "[1] \"TWITTER_PAT=/dsa/home/mdsmr6/DSA-STREAMING_mdsmr6/modules/module2/exercises/data_sci_8001_token.rds\""
      ]
     },
     "metadata": {},
     "output_type": "display_data"
    }
   ],
   "source": [
    "envvar"
   ]
  },
  {
   "cell_type": "code",
   "execution_count": 14,
   "metadata": {
    "collapsed": true
   },
   "outputs": [],
   "source": [
    "readRenviron(\"~/.Renviron\")"
   ]
  },
  {
   "cell_type": "code",
   "execution_count": 15,
   "metadata": {},
   "outputs": [
    {
     "data": {
      "text/plain": [
       "<Token>\n",
       "<oauth_endpoint>\n",
       " request:   https://api.twitter.com/oauth/request_token\n",
       " authorize: https://api.twitter.com/oauth/authenticate\n",
       " access:    https://api.twitter.com/oauth/access_token\n",
       "<oauth_app> data_sci_8001\n",
       "  key:    nImVTaVIeo6tYlKnwYgxPRquQ\n",
       "  secret: <hidden>\n",
       "<credentials> oauth_token, oauth_token_secret, user_id, screen_name, x_auth_expires\n",
       "---"
      ]
     },
     "metadata": {},
     "output_type": "display_data"
    }
   ],
   "source": [
    "## load token function\n",
    "load_twitter_token <- function() {\n",
    "    readRDS(Sys.getenv(\"TWITTER_PAT\"))\n",
    "\n",
    "}\n",
    "\n",
    "## load token\n",
    "token <- load_twitter_token()\n",
    "\n",
    "## print token\n",
    "token"
   ]
  },
  {
   "cell_type": "code",
   "execution_count": 16,
   "metadata": {
    "collapsed": true
   },
   "outputs": [],
   "source": [
    "library(httr)"
   ]
  },
  {
   "cell_type": "markdown",
   "metadata": {},
   "source": [
    "### 2. Write a function to query [Twitter's `users/search` API](https://developer.twitter.com/en/docs/accounts-and-users/follow-search-get-users/api-reference/get-users-search). Make sure to parametricize any useful parameter variables. The function should return a response object with status code 200 (print using any method discussed in this module to show you've achieved this result). Test the function by searching for the keyword `rstats`."
   ]
  },
  {
   "cell_type": "code",
   "execution_count": 17,
   "metadata": {
    "collapsed": true
   },
   "outputs": [],
   "source": [
    "## write function to query users/search API\n",
    "search_tweeps <- function(q, page = NULL,\n",
    "                           count = 100, \n",
    "                           include_entities = TRUE) {\n",
    "    ## URL scheme and hostname\n",
    "    base_url <- \"https://api.twitter.com\"\n",
    "    ## include the API version number as part of the path\n",
    "    path <- \"1.1/users/search.json\"\n",
    "    \n",
    "\n",
    "\n",
    "    ## continue function code here\n",
    "     params <- list(\n",
    "        q = q,\n",
    "        tweet_mode = \"extended\"\n",
    ")\n",
    "    httr::GET(base_url, path=path, query=params,\n",
    "               httr::config(token = load_twitter_token()))\n",
    "}"
   ]
  },
  {
   "cell_type": "code",
   "execution_count": 18,
   "metadata": {
    "collapsed": true
   },
   "outputs": [],
   "source": [
    "## test function\n",
    "usr <- search_tweeps(\"rstats\")"
   ]
  },
  {
   "cell_type": "code",
   "execution_count": 20,
   "metadata": {},
   "outputs": [
    {
     "data": {
      "text/plain": [
       "Response [https://api.twitter.com/1.1/users/search.json?q=rstats&tweet_mode=extended]\n",
       "  Date: 2018-02-07 05:35\n",
       "  Status: 200\n",
       "  Content-Type: application/json;charset=utf-8\n",
       "  Size: 72 kB\n"
      ]
     },
     "metadata": {},
     "output_type": "display_data"
    },
    {
     "name": "stdout",
     "output_type": "stream",
     "text": [
      "[1] \"Status Code is  200\"\n"
     ]
    }
   ],
   "source": [
    "## show (print) that usr's status code == 200\n",
    "usr\n",
    "print(paste(\"Status Code is \", usr$status_code))"
   ]
  },
  {
   "cell_type": "markdown",
   "metadata": {},
   "source": [
    "### 3. (a) Write a function, `response2list()` that will convert the response objects [from Twitter] into an R lists. Then (b) use `response2list()` on `usr`. Finally, (c) preview the structure down to 2 levels of the converted object down."
   ]
  },
  {
   "cell_type": "code",
   "execution_count": 21,
   "metadata": {},
   "outputs": [
    {
     "name": "stdout",
     "output_type": "stream",
     "text": [
      "'data.frame':\t20 obs. of  43 variables:\n",
      " $ id                                : num  2.97e+09 3.42e+08 2.95e+08 4.62e+07 5.69e+06 ...\n",
      " $ id_str                            : chr  \"2973406683\" \"342250615\" \"295344317\" \"46245868\" ...\n",
      " $ name                              : chr  \"Mike Kearney<U+0001F4CA>\" \"rOpenSci\" \"One R Tip a Day\" \"David Robinson\" ...\n",
      " $ screen_name                       : chr  \"kearneymw\" \"rOpenSci\" \"RLangTip\" \"drob\" ...\n",
      " $ location                          : chr  \"Columbia, MO\" \"Berkeley, Portland, Kamloops, Utrecht\" \"\" \"New York, NY\" ...\n",
      " $ description                       : chr  \"Assistant Professor at @mujschool and MU Informatics Institute. Interested in new media, partisanship, data jou\"| __truncated__ \"rOpenSci develops #rstats-based tools to facilitate open science and access to open data. Tweets by @sckottie, \"| __truncated__ \"One tip per day M-F on the R programming language #rstats. Brought to you by the R community team at Microsoft.\" \"Chief Data Scientist at @DataCamp, #rstats fan/evangelist\" ...\n",
      " $ url                               : chr  \"https://t.co/wBaqsHTMcW\" \"https://t.co/Ijujhl8x1E\" NA \"https://t.co/5rBN2FPeB1\" ...\n",
      " $ entities                          :'data.frame':\t20 obs. of  2 variables:\n",
      "  ..$ url        :'data.frame':\t20 obs. of  1 variable:\n",
      "  ..$ description:'data.frame':\t20 obs. of  1 variable:\n",
      " $ protected                         : logi  FALSE FALSE FALSE FALSE FALSE FALSE ...\n",
      " $ followers_count                   : int  3347 17001 49443 19318 9305 2772 13415 405 20594 25174 ...\n",
      " $ friends_count                     : int  980 509 11 519 402 1275 72 403 2935 1339 ...\n",
      " $ listed_count                      : int  98 731 1384 683 618 166 451 11 1210 622 ...\n",
      " $ created_at                        : chr  \"Sun Jan 11 17:54:09 +0000 2015\" \"Mon Jul 25 18:24:54 +0000 2011\" \"Sun May 08 20:51:40 +0000 2011\" \"Wed Jun 10 22:36:18 +0000 2009\" ...\n",
      " $ favourites_count                  : int  10703 949 3 9907 11260 1177 3933 0 61220 1107 ...\n",
      " $ utc_offset                        : int  -21600 -28800 -28800 -18000 -18000 -18000 -21600 NA -18000 NA ...\n",
      " $ time_zone                         : chr  \"Central Time (US & Canada)\" \"Pacific Time (US & Canada)\" \"Pacific Time (US & Canada)\" \"Eastern Time (US & Canada)\" ...\n",
      " $ geo_enabled                       : logi  FALSE TRUE FALSE TRUE FALSE TRUE ...\n",
      " $ verified                          : logi  FALSE TRUE FALSE FALSE TRUE TRUE ...\n",
      " $ statuses_count                    : int  3264 3941 1829 8133 71826 2089 1841 8005 24045 529 ...\n",
      " $ lang                              : chr  \"en\" \"en\" \"en\" \"en\" ...\n",
      " $ status                            :'data.frame':\t20 obs. of  28 variables:\n",
      "  ..$ created_at               : chr  \"Wed Feb 07 04:32:35 +0000 2018\" \"Tue Feb 06 18:25:52 +0000 2018\" \"Tue Feb 06 17:00:02 +0000 2018\" \"Wed Feb 07 03:29:25 +0000 2018\" ...\n",
      "  ..$ id                       : num  9.61e+17 9.61e+17 9.61e+17 9.61e+17 9.61e+17 ...\n",
      "  ..$ id_str                   : chr  \"961095321483956228\" \"960942637392871424\" \"960921036224163840\" \"961079426007040000\" ...\n",
      "  ..$ full_text                : chr  \"@matt_barlowe Yep! https://t.co/ZUTpE4btUs I really like Hugo. There's an R package (blogdown) now that'll buil\"| __truncated__ \"Can't believe we forgot to tag @wmlandau in tweet about his great #rstats drake <U+0001F4E6>! for workflow repr\"| __truncated__ \"A Field Guide to the R Ecosystem: https://t.co/AHCLtpGR1P #rstats\" \"RT @basus: Interesting thread on something I've thought about over the years: programming languages are tools o\"| __truncated__ ...\n",
      "  ..$ truncated                : logi  FALSE FALSE FALSE FALSE FALSE FALSE ...\n",
      "  ..$ display_text_range       :List of 20\n",
      "  ..$ entities                 :'data.frame':\t20 obs. of  5 variables:\n",
      "  ..$ source                   : chr  \"<a href=\\\"http://twitter.com/download/iphone\\\" rel=\\\"nofollow\\\">Twitter for iPhone</a>\" \"<a href=\\\"https://about.twitter.com/products/tweetdeck\\\" rel=\\\"nofollow\\\">TweetDeck</a>\" \"<a href=\\\"https://about.twitter.com/products/tweetdeck\\\" rel=\\\"nofollow\\\">TweetDeck</a>\" \"<a href=\\\"http://twitter.com/download/iphone\\\" rel=\\\"nofollow\\\">Twitter for iPhone</a>\" ...\n",
      "  ..$ in_reply_to_status_id    : num  9.61e+17 NA NA NA NA ...\n",
      "  ..$ in_reply_to_status_id_str: chr  \"961092588068573185\" NA NA NA ...\n",
      "  ..$ in_reply_to_user_id      : num  7.6e+17 NA NA NA NA ...\n",
      "  ..$ in_reply_to_user_id_str  : chr  \"759567677539180544\" NA NA NA ...\n",
      "  ..$ in_reply_to_screen_name  : chr  \"matt_barlowe\" NA NA NA ...\n",
      "  ..$ geo                      : logi  NA NA NA NA NA NA ...\n",
      "  ..$ coordinates              : logi  NA NA NA NA NA NA ...\n",
      "  ..$ place                    : logi  NA NA NA NA NA NA ...\n",
      "  ..$ contributors             : logi  NA NA NA NA NA NA ...\n",
      "  ..$ is_quote_status          : logi  FALSE FALSE FALSE TRUE FALSE FALSE ...\n",
      "  ..$ retweet_count            : int  0 6 8 8 169 66 0 1 7 30 ...\n",
      "  ..$ favorite_count           : int  2 20 31 0 0 0 1 0 23 79 ...\n",
      "  ..$ favorited                : logi  FALSE FALSE FALSE FALSE FALSE TRUE ...\n",
      "  ..$ retweeted                : logi  FALSE FALSE FALSE FALSE FALSE TRUE ...\n",
      "  ..$ possibly_sensitive       : logi  FALSE FALSE FALSE NA NA FALSE ...\n",
      "  ..$ lang                     : chr  \"en\" \"en\" \"en\" \"en\" ...\n",
      "  ..$ extended_entities        :'data.frame':\t20 obs. of  1 variable:\n",
      "  ..$ retweeted_status         :'data.frame':\t20 obs. of  27 variables:\n",
      "  ..$ quoted_status_id         : num  NA NA NA 9.61e+17 NA ...\n",
      "  ..$ quoted_status_id_str     : chr  NA NA NA \"960897581655166976\" ...\n",
      " $ contributors_enabled              : logi  FALSE FALSE FALSE FALSE FALSE FALSE ...\n",
      " $ is_translator                     : logi  FALSE FALSE FALSE FALSE FALSE FALSE ...\n",
      " $ is_translation_enabled            : logi  FALSE FALSE FALSE FALSE FALSE FALSE ...\n",
      " $ profile_background_color          : chr  \"FFFFFF\" \"C0DEED\" \"3369B4\" \"C0DEED\" ...\n",
      " $ profile_background_image_url      : chr  \"http://pbs.twimg.com/profile_background_images/555396380810694656/AzcNcSuW.jpeg\" \"http://abs.twimg.com/images/themes/theme1/bg.png\" \"http://abs.twimg.com/images/themes/theme1/bg.png\" \"http://abs.twimg.com/images/themes/theme1/bg.png\" ...\n",
      " $ profile_background_image_url_https: chr  \"https://pbs.twimg.com/profile_background_images/555396380810694656/AzcNcSuW.jpeg\" \"https://abs.twimg.com/images/themes/theme1/bg.png\" \"https://abs.twimg.com/images/themes/theme1/bg.png\" \"https://abs.twimg.com/images/themes/theme1/bg.png\" ...\n",
      " $ profile_background_tile           : logi  FALSE FALSE FALSE FALSE FALSE FALSE ...\n",
      " $ profile_image_url                 : chr  \"http://pbs.twimg.com/profile_images/952856856627744769/pFCpd07u_normal.jpg\" \"http://pbs.twimg.com/profile_images/878348237496762368/yUU7Pefs_normal.jpg\" \"http://pbs.twimg.com/profile_images/1344530309/RLangTip_normal.png\" \"http://pbs.twimg.com/profile_images/876529727284039680/dfvG_Dy4_normal.jpg\" ...\n",
      " $ profile_image_url_https           : chr  \"https://pbs.twimg.com/profile_images/952856856627744769/pFCpd07u_normal.jpg\" \"https://pbs.twimg.com/profile_images/878348237496762368/yUU7Pefs_normal.jpg\" \"https://pbs.twimg.com/profile_images/1344530309/RLangTip_normal.png\" \"https://pbs.twimg.com/profile_images/876529727284039680/dfvG_Dy4_normal.jpg\" ...\n",
      " $ profile_banner_url                : chr  \"https://pbs.twimg.com/profile_banners/2973406683/1482876477\" \"https://pbs.twimg.com/profile_banners/342250615/1398878552\" NA \"https://pbs.twimg.com/profile_banners/46245868/1501188705\" ...\n",
      " $ profile_link_color                : chr  \"CC1111\" \"1DA1F2\" \"3369B4\" \"1DA1F2\" ...\n",
      " $ profile_sidebar_border_color      : chr  \"C0DEED\" \"C0DEED\" \"3369B4\" \"C0DEED\" ...\n",
      " $ profile_sidebar_fill_color        : chr  \"DDEEF6\" \"DDEEF6\" \"FFFFFF\" \"DDEEF6\" ...\n",
      " $ profile_text_color                : chr  \"333333\" \"333333\" \"333333\" \"333333\" ...\n",
      " $ profile_use_background_image      : logi  FALSE TRUE FALSE TRUE TRUE TRUE ...\n",
      " $ has_extended_profile              : logi  TRUE FALSE FALSE TRUE TRUE TRUE ...\n",
      " $ default_profile                   : logi  FALSE TRUE FALSE TRUE FALSE FALSE ...\n",
      " $ default_profile_image             : logi  FALSE FALSE FALSE FALSE FALSE FALSE ...\n",
      " $ following                         : logi  FALSE TRUE TRUE TRUE TRUE TRUE ...\n",
      " $ follow_request_sent               : logi  FALSE FALSE FALSE FALSE FALSE FALSE ...\n",
      " $ notifications                     : logi  FALSE FALSE FALSE FALSE FALSE FALSE ...\n",
      " $ translator_type                   : chr  \"none\" \"none\" \"none\" \"none\" ...\n"
     ]
    }
   ],
   "source": [
    "## 3a write response2list function\n",
    "response2list <- function(x) {\n",
    "    ## your function code goes in here\n",
    "    js <- httr::content(usr, as = \"text\", encoding =\"UTF-8\")\n",
    "    d<-jsonlite::fromJSON(js)\n",
    "}\n",
    "\n",
    "## 3b convert response object to R list\n",
    "usr <- response2list(usr)\n",
    "\n",
    "## 3c print usr preview 2 levels down\n",
    "str(usr,2)"
   ]
  },
  {
   "cell_type": "markdown",
   "metadata": {},
   "source": [
    "### 4. Create a data frame `usr_atomic` which consists of only non-recursive variables. Print the first 6 rows of the data frame."
   ]
  },
  {
   "cell_type": "code",
   "execution_count": 22,
   "metadata": {},
   "outputs": [
    {
     "data": {
      "text/html": [
       "<dl class=dl-horizontal>\n",
       "\t<dt>id</dt>\n",
       "\t\t<dd>TRUE</dd>\n",
       "\t<dt>id_str</dt>\n",
       "\t\t<dd>TRUE</dd>\n",
       "\t<dt>name</dt>\n",
       "\t\t<dd>TRUE</dd>\n",
       "\t<dt>screen_name</dt>\n",
       "\t\t<dd>TRUE</dd>\n",
       "\t<dt>location</dt>\n",
       "\t\t<dd>TRUE</dd>\n",
       "\t<dt>description</dt>\n",
       "\t\t<dd>TRUE</dd>\n",
       "\t<dt>url</dt>\n",
       "\t\t<dd>TRUE</dd>\n",
       "\t<dt>entities</dt>\n",
       "\t\t<dd>FALSE</dd>\n",
       "\t<dt>protected</dt>\n",
       "\t\t<dd>TRUE</dd>\n",
       "\t<dt>followers_count</dt>\n",
       "\t\t<dd>TRUE</dd>\n",
       "\t<dt>friends_count</dt>\n",
       "\t\t<dd>TRUE</dd>\n",
       "\t<dt>listed_count</dt>\n",
       "\t\t<dd>TRUE</dd>\n",
       "\t<dt>created_at</dt>\n",
       "\t\t<dd>TRUE</dd>\n",
       "\t<dt>favourites_count</dt>\n",
       "\t\t<dd>TRUE</dd>\n",
       "\t<dt>utc_offset</dt>\n",
       "\t\t<dd>TRUE</dd>\n",
       "\t<dt>time_zone</dt>\n",
       "\t\t<dd>TRUE</dd>\n",
       "\t<dt>geo_enabled</dt>\n",
       "\t\t<dd>TRUE</dd>\n",
       "\t<dt>verified</dt>\n",
       "\t\t<dd>TRUE</dd>\n",
       "\t<dt>statuses_count</dt>\n",
       "\t\t<dd>TRUE</dd>\n",
       "\t<dt>lang</dt>\n",
       "\t\t<dd>TRUE</dd>\n",
       "\t<dt>status</dt>\n",
       "\t\t<dd>FALSE</dd>\n",
       "\t<dt>contributors_enabled</dt>\n",
       "\t\t<dd>TRUE</dd>\n",
       "\t<dt>is_translator</dt>\n",
       "\t\t<dd>TRUE</dd>\n",
       "\t<dt>is_translation_enabled</dt>\n",
       "\t\t<dd>TRUE</dd>\n",
       "\t<dt>profile_background_color</dt>\n",
       "\t\t<dd>TRUE</dd>\n",
       "\t<dt>profile_background_image_url</dt>\n",
       "\t\t<dd>TRUE</dd>\n",
       "\t<dt>profile_background_image_url_https</dt>\n",
       "\t\t<dd>TRUE</dd>\n",
       "\t<dt>profile_background_tile</dt>\n",
       "\t\t<dd>TRUE</dd>\n",
       "\t<dt>profile_image_url</dt>\n",
       "\t\t<dd>TRUE</dd>\n",
       "\t<dt>profile_image_url_https</dt>\n",
       "\t\t<dd>TRUE</dd>\n",
       "\t<dt>profile_banner_url</dt>\n",
       "\t\t<dd>TRUE</dd>\n",
       "\t<dt>profile_link_color</dt>\n",
       "\t\t<dd>TRUE</dd>\n",
       "\t<dt>profile_sidebar_border_color</dt>\n",
       "\t\t<dd>TRUE</dd>\n",
       "\t<dt>profile_sidebar_fill_color</dt>\n",
       "\t\t<dd>TRUE</dd>\n",
       "\t<dt>profile_text_color</dt>\n",
       "\t\t<dd>TRUE</dd>\n",
       "\t<dt>profile_use_background_image</dt>\n",
       "\t\t<dd>TRUE</dd>\n",
       "\t<dt>has_extended_profile</dt>\n",
       "\t\t<dd>TRUE</dd>\n",
       "\t<dt>default_profile</dt>\n",
       "\t\t<dd>TRUE</dd>\n",
       "\t<dt>default_profile_image</dt>\n",
       "\t\t<dd>TRUE</dd>\n",
       "\t<dt>following</dt>\n",
       "\t\t<dd>TRUE</dd>\n",
       "\t<dt>follow_request_sent</dt>\n",
       "\t\t<dd>TRUE</dd>\n",
       "\t<dt>notifications</dt>\n",
       "\t\t<dd>TRUE</dd>\n",
       "\t<dt>translator_type</dt>\n",
       "\t\t<dd>TRUE</dd>\n",
       "</dl>\n"
      ],
      "text/latex": [
       "\\begin{description*}\n",
       "\\item[id] TRUE\n",
       "\\item[id\\textbackslash{}\\_str] TRUE\n",
       "\\item[name] TRUE\n",
       "\\item[screen\\textbackslash{}\\_name] TRUE\n",
       "\\item[location] TRUE\n",
       "\\item[description] TRUE\n",
       "\\item[url] TRUE\n",
       "\\item[entities] FALSE\n",
       "\\item[protected] TRUE\n",
       "\\item[followers\\textbackslash{}\\_count] TRUE\n",
       "\\item[friends\\textbackslash{}\\_count] TRUE\n",
       "\\item[listed\\textbackslash{}\\_count] TRUE\n",
       "\\item[created\\textbackslash{}\\_at] TRUE\n",
       "\\item[favourites\\textbackslash{}\\_count] TRUE\n",
       "\\item[utc\\textbackslash{}\\_offset] TRUE\n",
       "\\item[time\\textbackslash{}\\_zone] TRUE\n",
       "\\item[geo\\textbackslash{}\\_enabled] TRUE\n",
       "\\item[verified] TRUE\n",
       "\\item[statuses\\textbackslash{}\\_count] TRUE\n",
       "\\item[lang] TRUE\n",
       "\\item[status] FALSE\n",
       "\\item[contributors\\textbackslash{}\\_enabled] TRUE\n",
       "\\item[is\\textbackslash{}\\_translator] TRUE\n",
       "\\item[is\\textbackslash{}\\_translation\\textbackslash{}\\_enabled] TRUE\n",
       "\\item[profile\\textbackslash{}\\_background\\textbackslash{}\\_color] TRUE\n",
       "\\item[profile\\textbackslash{}\\_background\\textbackslash{}\\_image\\textbackslash{}\\_url] TRUE\n",
       "\\item[profile\\textbackslash{}\\_background\\textbackslash{}\\_image\\textbackslash{}\\_url\\textbackslash{}\\_https] TRUE\n",
       "\\item[profile\\textbackslash{}\\_background\\textbackslash{}\\_tile] TRUE\n",
       "\\item[profile\\textbackslash{}\\_image\\textbackslash{}\\_url] TRUE\n",
       "\\item[profile\\textbackslash{}\\_image\\textbackslash{}\\_url\\textbackslash{}\\_https] TRUE\n",
       "\\item[profile\\textbackslash{}\\_banner\\textbackslash{}\\_url] TRUE\n",
       "\\item[profile\\textbackslash{}\\_link\\textbackslash{}\\_color] TRUE\n",
       "\\item[profile\\textbackslash{}\\_sidebar\\textbackslash{}\\_border\\textbackslash{}\\_color] TRUE\n",
       "\\item[profile\\textbackslash{}\\_sidebar\\textbackslash{}\\_fill\\textbackslash{}\\_color] TRUE\n",
       "\\item[profile\\textbackslash{}\\_text\\textbackslash{}\\_color] TRUE\n",
       "\\item[profile\\textbackslash{}\\_use\\textbackslash{}\\_background\\textbackslash{}\\_image] TRUE\n",
       "\\item[has\\textbackslash{}\\_extended\\textbackslash{}\\_profile] TRUE\n",
       "\\item[default\\textbackslash{}\\_profile] TRUE\n",
       "\\item[default\\textbackslash{}\\_profile\\textbackslash{}\\_image] TRUE\n",
       "\\item[following] TRUE\n",
       "\\item[follow\\textbackslash{}\\_request\\textbackslash{}\\_sent] TRUE\n",
       "\\item[notifications] TRUE\n",
       "\\item[translator\\textbackslash{}\\_type] TRUE\n",
       "\\end{description*}\n"
      ],
      "text/markdown": [
       "id\n",
       ":   TRUEid_str\n",
       ":   TRUEname\n",
       ":   TRUEscreen_name\n",
       ":   TRUElocation\n",
       ":   TRUEdescription\n",
       ":   TRUEurl\n",
       ":   TRUEentities\n",
       ":   FALSEprotected\n",
       ":   TRUEfollowers_count\n",
       ":   TRUEfriends_count\n",
       ":   TRUElisted_count\n",
       ":   TRUEcreated_at\n",
       ":   TRUEfavourites_count\n",
       ":   TRUEutc_offset\n",
       ":   TRUEtime_zone\n",
       ":   TRUEgeo_enabled\n",
       ":   TRUEverified\n",
       ":   TRUEstatuses_count\n",
       ":   TRUElang\n",
       ":   TRUEstatus\n",
       ":   FALSEcontributors_enabled\n",
       ":   TRUEis_translator\n",
       ":   TRUEis_translation_enabled\n",
       ":   TRUEprofile_background_color\n",
       ":   TRUEprofile_background_image_url\n",
       ":   TRUEprofile_background_image_url_https\n",
       ":   TRUEprofile_background_tile\n",
       ":   TRUEprofile_image_url\n",
       ":   TRUEprofile_image_url_https\n",
       ":   TRUEprofile_banner_url\n",
       ":   TRUEprofile_link_color\n",
       ":   TRUEprofile_sidebar_border_color\n",
       ":   TRUEprofile_sidebar_fill_color\n",
       ":   TRUEprofile_text_color\n",
       ":   TRUEprofile_use_background_image\n",
       ":   TRUEhas_extended_profile\n",
       ":   TRUEdefault_profile\n",
       ":   TRUEdefault_profile_image\n",
       ":   TRUEfollowing\n",
       ":   TRUEfollow_request_sent\n",
       ":   TRUEnotifications\n",
       ":   TRUEtranslator_type\n",
       ":   TRUE\n",
       "\n"
      ],
      "text/plain": [
       "                                id                             id_str \n",
       "                              TRUE                               TRUE \n",
       "                              name                        screen_name \n",
       "                              TRUE                               TRUE \n",
       "                          location                        description \n",
       "                              TRUE                               TRUE \n",
       "                               url                           entities \n",
       "                              TRUE                              FALSE \n",
       "                         protected                    followers_count \n",
       "                              TRUE                               TRUE \n",
       "                     friends_count                       listed_count \n",
       "                              TRUE                               TRUE \n",
       "                        created_at                   favourites_count \n",
       "                              TRUE                               TRUE \n",
       "                        utc_offset                          time_zone \n",
       "                              TRUE                               TRUE \n",
       "                       geo_enabled                           verified \n",
       "                              TRUE                               TRUE \n",
       "                    statuses_count                               lang \n",
       "                              TRUE                               TRUE \n",
       "                            status               contributors_enabled \n",
       "                             FALSE                               TRUE \n",
       "                     is_translator             is_translation_enabled \n",
       "                              TRUE                               TRUE \n",
       "          profile_background_color       profile_background_image_url \n",
       "                              TRUE                               TRUE \n",
       "profile_background_image_url_https            profile_background_tile \n",
       "                              TRUE                               TRUE \n",
       "                 profile_image_url            profile_image_url_https \n",
       "                              TRUE                               TRUE \n",
       "                profile_banner_url                 profile_link_color \n",
       "                              TRUE                               TRUE \n",
       "      profile_sidebar_border_color         profile_sidebar_fill_color \n",
       "                              TRUE                               TRUE \n",
       "                profile_text_color       profile_use_background_image \n",
       "                              TRUE                               TRUE \n",
       "              has_extended_profile                    default_profile \n",
       "                              TRUE                               TRUE \n",
       "             default_profile_image                          following \n",
       "                              TRUE                               TRUE \n",
       "               follow_request_sent                      notifications \n",
       "                              TRUE                               TRUE \n",
       "                   translator_type \n",
       "                              TRUE "
      ]
     },
     "metadata": {},
     "output_type": "display_data"
    }
   ],
   "source": [
    "sapply(usr,is.atomic)"
   ]
  },
  {
   "cell_type": "code",
   "execution_count": 23,
   "metadata": {
    "collapsed": true
   },
   "outputs": [],
   "source": [
    "## uncomment and complete this code\n",
    "usr_atomic <- usr[ -c(8,21)]"
   ]
  },
  {
   "cell_type": "code",
   "execution_count": 24,
   "metadata": {},
   "outputs": [
    {
     "data": {
      "text/html": [
       "<dl class=dl-horizontal>\n",
       "\t<dt>id</dt>\n",
       "\t\t<dd>TRUE</dd>\n",
       "\t<dt>id_str</dt>\n",
       "\t\t<dd>TRUE</dd>\n",
       "\t<dt>name</dt>\n",
       "\t\t<dd>TRUE</dd>\n",
       "\t<dt>screen_name</dt>\n",
       "\t\t<dd>TRUE</dd>\n",
       "\t<dt>location</dt>\n",
       "\t\t<dd>TRUE</dd>\n",
       "\t<dt>description</dt>\n",
       "\t\t<dd>TRUE</dd>\n",
       "\t<dt>url</dt>\n",
       "\t\t<dd>TRUE</dd>\n",
       "\t<dt>protected</dt>\n",
       "\t\t<dd>TRUE</dd>\n",
       "\t<dt>followers_count</dt>\n",
       "\t\t<dd>TRUE</dd>\n",
       "\t<dt>friends_count</dt>\n",
       "\t\t<dd>TRUE</dd>\n",
       "\t<dt>listed_count</dt>\n",
       "\t\t<dd>TRUE</dd>\n",
       "\t<dt>created_at</dt>\n",
       "\t\t<dd>TRUE</dd>\n",
       "\t<dt>favourites_count</dt>\n",
       "\t\t<dd>TRUE</dd>\n",
       "\t<dt>utc_offset</dt>\n",
       "\t\t<dd>TRUE</dd>\n",
       "\t<dt>time_zone</dt>\n",
       "\t\t<dd>TRUE</dd>\n",
       "\t<dt>geo_enabled</dt>\n",
       "\t\t<dd>TRUE</dd>\n",
       "\t<dt>verified</dt>\n",
       "\t\t<dd>TRUE</dd>\n",
       "\t<dt>statuses_count</dt>\n",
       "\t\t<dd>TRUE</dd>\n",
       "\t<dt>lang</dt>\n",
       "\t\t<dd>TRUE</dd>\n",
       "\t<dt>contributors_enabled</dt>\n",
       "\t\t<dd>TRUE</dd>\n",
       "\t<dt>is_translator</dt>\n",
       "\t\t<dd>TRUE</dd>\n",
       "\t<dt>is_translation_enabled</dt>\n",
       "\t\t<dd>TRUE</dd>\n",
       "\t<dt>profile_background_color</dt>\n",
       "\t\t<dd>TRUE</dd>\n",
       "\t<dt>profile_background_image_url</dt>\n",
       "\t\t<dd>TRUE</dd>\n",
       "\t<dt>profile_background_image_url_https</dt>\n",
       "\t\t<dd>TRUE</dd>\n",
       "\t<dt>profile_background_tile</dt>\n",
       "\t\t<dd>TRUE</dd>\n",
       "\t<dt>profile_image_url</dt>\n",
       "\t\t<dd>TRUE</dd>\n",
       "\t<dt>profile_image_url_https</dt>\n",
       "\t\t<dd>TRUE</dd>\n",
       "\t<dt>profile_banner_url</dt>\n",
       "\t\t<dd>TRUE</dd>\n",
       "\t<dt>profile_link_color</dt>\n",
       "\t\t<dd>TRUE</dd>\n",
       "\t<dt>profile_sidebar_border_color</dt>\n",
       "\t\t<dd>TRUE</dd>\n",
       "\t<dt>profile_sidebar_fill_color</dt>\n",
       "\t\t<dd>TRUE</dd>\n",
       "\t<dt>profile_text_color</dt>\n",
       "\t\t<dd>TRUE</dd>\n",
       "\t<dt>profile_use_background_image</dt>\n",
       "\t\t<dd>TRUE</dd>\n",
       "\t<dt>has_extended_profile</dt>\n",
       "\t\t<dd>TRUE</dd>\n",
       "\t<dt>default_profile</dt>\n",
       "\t\t<dd>TRUE</dd>\n",
       "\t<dt>default_profile_image</dt>\n",
       "\t\t<dd>TRUE</dd>\n",
       "\t<dt>following</dt>\n",
       "\t\t<dd>TRUE</dd>\n",
       "\t<dt>follow_request_sent</dt>\n",
       "\t\t<dd>TRUE</dd>\n",
       "\t<dt>notifications</dt>\n",
       "\t\t<dd>TRUE</dd>\n",
       "\t<dt>translator_type</dt>\n",
       "\t\t<dd>TRUE</dd>\n",
       "</dl>\n"
      ],
      "text/latex": [
       "\\begin{description*}\n",
       "\\item[id] TRUE\n",
       "\\item[id\\textbackslash{}\\_str] TRUE\n",
       "\\item[name] TRUE\n",
       "\\item[screen\\textbackslash{}\\_name] TRUE\n",
       "\\item[location] TRUE\n",
       "\\item[description] TRUE\n",
       "\\item[url] TRUE\n",
       "\\item[protected] TRUE\n",
       "\\item[followers\\textbackslash{}\\_count] TRUE\n",
       "\\item[friends\\textbackslash{}\\_count] TRUE\n",
       "\\item[listed\\textbackslash{}\\_count] TRUE\n",
       "\\item[created\\textbackslash{}\\_at] TRUE\n",
       "\\item[favourites\\textbackslash{}\\_count] TRUE\n",
       "\\item[utc\\textbackslash{}\\_offset] TRUE\n",
       "\\item[time\\textbackslash{}\\_zone] TRUE\n",
       "\\item[geo\\textbackslash{}\\_enabled] TRUE\n",
       "\\item[verified] TRUE\n",
       "\\item[statuses\\textbackslash{}\\_count] TRUE\n",
       "\\item[lang] TRUE\n",
       "\\item[contributors\\textbackslash{}\\_enabled] TRUE\n",
       "\\item[is\\textbackslash{}\\_translator] TRUE\n",
       "\\item[is\\textbackslash{}\\_translation\\textbackslash{}\\_enabled] TRUE\n",
       "\\item[profile\\textbackslash{}\\_background\\textbackslash{}\\_color] TRUE\n",
       "\\item[profile\\textbackslash{}\\_background\\textbackslash{}\\_image\\textbackslash{}\\_url] TRUE\n",
       "\\item[profile\\textbackslash{}\\_background\\textbackslash{}\\_image\\textbackslash{}\\_url\\textbackslash{}\\_https] TRUE\n",
       "\\item[profile\\textbackslash{}\\_background\\textbackslash{}\\_tile] TRUE\n",
       "\\item[profile\\textbackslash{}\\_image\\textbackslash{}\\_url] TRUE\n",
       "\\item[profile\\textbackslash{}\\_image\\textbackslash{}\\_url\\textbackslash{}\\_https] TRUE\n",
       "\\item[profile\\textbackslash{}\\_banner\\textbackslash{}\\_url] TRUE\n",
       "\\item[profile\\textbackslash{}\\_link\\textbackslash{}\\_color] TRUE\n",
       "\\item[profile\\textbackslash{}\\_sidebar\\textbackslash{}\\_border\\textbackslash{}\\_color] TRUE\n",
       "\\item[profile\\textbackslash{}\\_sidebar\\textbackslash{}\\_fill\\textbackslash{}\\_color] TRUE\n",
       "\\item[profile\\textbackslash{}\\_text\\textbackslash{}\\_color] TRUE\n",
       "\\item[profile\\textbackslash{}\\_use\\textbackslash{}\\_background\\textbackslash{}\\_image] TRUE\n",
       "\\item[has\\textbackslash{}\\_extended\\textbackslash{}\\_profile] TRUE\n",
       "\\item[default\\textbackslash{}\\_profile] TRUE\n",
       "\\item[default\\textbackslash{}\\_profile\\textbackslash{}\\_image] TRUE\n",
       "\\item[following] TRUE\n",
       "\\item[follow\\textbackslash{}\\_request\\textbackslash{}\\_sent] TRUE\n",
       "\\item[notifications] TRUE\n",
       "\\item[translator\\textbackslash{}\\_type] TRUE\n",
       "\\end{description*}\n"
      ],
      "text/markdown": [
       "id\n",
       ":   TRUEid_str\n",
       ":   TRUEname\n",
       ":   TRUEscreen_name\n",
       ":   TRUElocation\n",
       ":   TRUEdescription\n",
       ":   TRUEurl\n",
       ":   TRUEprotected\n",
       ":   TRUEfollowers_count\n",
       ":   TRUEfriends_count\n",
       ":   TRUElisted_count\n",
       ":   TRUEcreated_at\n",
       ":   TRUEfavourites_count\n",
       ":   TRUEutc_offset\n",
       ":   TRUEtime_zone\n",
       ":   TRUEgeo_enabled\n",
       ":   TRUEverified\n",
       ":   TRUEstatuses_count\n",
       ":   TRUElang\n",
       ":   TRUEcontributors_enabled\n",
       ":   TRUEis_translator\n",
       ":   TRUEis_translation_enabled\n",
       ":   TRUEprofile_background_color\n",
       ":   TRUEprofile_background_image_url\n",
       ":   TRUEprofile_background_image_url_https\n",
       ":   TRUEprofile_background_tile\n",
       ":   TRUEprofile_image_url\n",
       ":   TRUEprofile_image_url_https\n",
       ":   TRUEprofile_banner_url\n",
       ":   TRUEprofile_link_color\n",
       ":   TRUEprofile_sidebar_border_color\n",
       ":   TRUEprofile_sidebar_fill_color\n",
       ":   TRUEprofile_text_color\n",
       ":   TRUEprofile_use_background_image\n",
       ":   TRUEhas_extended_profile\n",
       ":   TRUEdefault_profile\n",
       ":   TRUEdefault_profile_image\n",
       ":   TRUEfollowing\n",
       ":   TRUEfollow_request_sent\n",
       ":   TRUEnotifications\n",
       ":   TRUEtranslator_type\n",
       ":   TRUE\n",
       "\n"
      ],
      "text/plain": [
       "                                id                             id_str \n",
       "                              TRUE                               TRUE \n",
       "                              name                        screen_name \n",
       "                              TRUE                               TRUE \n",
       "                          location                        description \n",
       "                              TRUE                               TRUE \n",
       "                               url                          protected \n",
       "                              TRUE                               TRUE \n",
       "                   followers_count                      friends_count \n",
       "                              TRUE                               TRUE \n",
       "                      listed_count                         created_at \n",
       "                              TRUE                               TRUE \n",
       "                  favourites_count                         utc_offset \n",
       "                              TRUE                               TRUE \n",
       "                         time_zone                        geo_enabled \n",
       "                              TRUE                               TRUE \n",
       "                          verified                     statuses_count \n",
       "                              TRUE                               TRUE \n",
       "                              lang               contributors_enabled \n",
       "                              TRUE                               TRUE \n",
       "                     is_translator             is_translation_enabled \n",
       "                              TRUE                               TRUE \n",
       "          profile_background_color       profile_background_image_url \n",
       "                              TRUE                               TRUE \n",
       "profile_background_image_url_https            profile_background_tile \n",
       "                              TRUE                               TRUE \n",
       "                 profile_image_url            profile_image_url_https \n",
       "                              TRUE                               TRUE \n",
       "                profile_banner_url                 profile_link_color \n",
       "                              TRUE                               TRUE \n",
       "      profile_sidebar_border_color         profile_sidebar_fill_color \n",
       "                              TRUE                               TRUE \n",
       "                profile_text_color       profile_use_background_image \n",
       "                              TRUE                               TRUE \n",
       "              has_extended_profile                    default_profile \n",
       "                              TRUE                               TRUE \n",
       "             default_profile_image                          following \n",
       "                              TRUE                               TRUE \n",
       "               follow_request_sent                      notifications \n",
       "                              TRUE                               TRUE \n",
       "                   translator_type \n",
       "                              TRUE "
      ]
     },
     "metadata": {},
     "output_type": "display_data"
    }
   ],
   "source": [
    "sapply(usr_atomic,is.atomic)"
   ]
  },
  {
   "cell_type": "markdown",
   "metadata": {},
   "source": [
    "### 5. Now create a data frame `usr_recurs` using only recursive variables. Preview the structure of the data frame, down to the second level."
   ]
  },
  {
   "cell_type": "code",
   "execution_count": 25,
   "metadata": {
    "collapsed": true
   },
   "outputs": [],
   "source": [
    "## uncomment and complete this code\n",
    "usr_recurs <- usr[c(8,21)]"
   ]
  },
  {
   "cell_type": "code",
   "execution_count": 26,
   "metadata": {},
   "outputs": [
    {
     "data": {
      "text/html": [
       "<dl class=dl-horizontal>\n",
       "\t<dt>entities</dt>\n",
       "\t\t<dd>TRUE</dd>\n",
       "\t<dt>status</dt>\n",
       "\t\t<dd>TRUE</dd>\n",
       "</dl>\n"
      ],
      "text/latex": [
       "\\begin{description*}\n",
       "\\item[entities] TRUE\n",
       "\\item[status] TRUE\n",
       "\\end{description*}\n"
      ],
      "text/markdown": [
       "entities\n",
       ":   TRUEstatus\n",
       ":   TRUE\n",
       "\n"
      ],
      "text/plain": [
       "entities   status \n",
       "    TRUE     TRUE "
      ]
     },
     "metadata": {},
     "output_type": "display_data"
    }
   ],
   "source": [
    "sapply(usr_recurs,is.recursive)"
   ]
  },
  {
   "cell_type": "markdown",
   "metadata": {},
   "source": [
    "# ***NOTE***: use `usr_atomic` for all remaining questions."
   ]
  },
  {
   "cell_type": "markdown",
   "metadata": {},
   "source": [
    "### 6. Add a new variable, `last_tweet`, to the data frame of non-recursive variables [from question #4) that indicates the most recent tweet posted by a user. Use the `convert2posixct()` function to make sure `last_tweet` is of class `POSIXct`."
   ]
  },
  {
   "cell_type": "code",
   "execution_count": 27,
   "metadata": {},
   "outputs": [
    {
     "data": {
      "text/html": [
       "<table>\n",
       "<thead><tr><th scope=col>id</th><th scope=col>id_str</th><th scope=col>name</th><th scope=col>screen_name</th><th scope=col>location</th><th scope=col>description</th><th scope=col>url</th><th scope=col>protected</th><th scope=col>followers_count</th><th scope=col>friends_count</th><th scope=col>⋯</th><th scope=col>profile_text_color</th><th scope=col>profile_use_background_image</th><th scope=col>has_extended_profile</th><th scope=col>default_profile</th><th scope=col>default_profile_image</th><th scope=col>following</th><th scope=col>follow_request_sent</th><th scope=col>notifications</th><th scope=col>translator_type</th><th scope=col>last_tweet</th></tr></thead>\n",
       "<tbody>\n",
       "\t<tr><td>2973406683                                                                                                                                                 </td><td>2973406683                                                                                                                                                 </td><td>Mike Kearney&lt;U+0001F4CA&gt;                                                                                                                             </td><td>kearneymw                                                                                                                                                  </td><td><span style=white-space:pre-wrap>Columbia, MO                         </span>                                                                              </td><td>Assistant Professor at @mujschool and MU Informatics Institute. Interested in new media, partisanship, data journalism, data[[\"big\"]] science, and #rstats.</td><td>https://t.co/wBaqsHTMcW                                                                                                                                    </td><td>FALSE                                                                                                                                                      </td><td> 3347                                                                                                                                                      </td><td>980                                                                                                                                                        </td><td><U+22EF>                                                                                                                                                   </td><td>333333                                                                                                                                                     </td><td>FALSE                                                                                                                                                      </td><td> TRUE                                                                                                                                                      </td><td>FALSE                                                                                                                                                      </td><td>FALSE                                                                                                                                                      </td><td>FALSE                                                                                                                                                      </td><td>FALSE                                                                                                                                                      </td><td>FALSE                                                                                                                                                      </td><td>none                                                                                                                                                       </td><td>2015-01-11 11:54:09                                                                                                                                        </td></tr>\n",
       "\t<tr><td> 342250615                                                                                                                                                 </td><td>342250615                                                                                                                                                  </td><td>rOpenSci                                                                                                                                                   </td><td>rOpenSci                                                                                                                                                   </td><td>Berkeley, Portland, Kamloops, Utrecht                                                                                                                      </td><td>rOpenSci develops #rstats-based tools to facilitate open science and access to open data. Tweets by @sckottie,  @_inundata, @StefanieButland, @opencpu     </td><td>https://t.co/Ijujhl8x1E                                                                                                                                    </td><td>FALSE                                                                                                                                                      </td><td>17001                                                                                                                                                      </td><td>509                                                                                                                                                        </td><td><U+22EF>                                                                                                                                                   </td><td>333333                                                                                                                                                     </td><td> TRUE                                                                                                                                                      </td><td>FALSE                                                                                                                                                      </td><td> TRUE                                                                                                                                                      </td><td>FALSE                                                                                                                                                      </td><td> TRUE                                                                                                                                                      </td><td>FALSE                                                                                                                                                      </td><td>FALSE                                                                                                                                                      </td><td>none                                                                                                                                                       </td><td>2011-07-25 13:24:54                                                                                                                                        </td></tr>\n",
       "</tbody>\n",
       "</table>\n"
      ],
      "text/latex": [
       "\\begin{tabular}{r|llllllllllllllllllllllllllllllllllllllllll}\n",
       " id & id\\_str & name & screen\\_name & location & description & url & protected & followers\\_count & friends\\_count & ⋯ & profile\\_text\\_color & profile\\_use\\_background\\_image & has\\_extended\\_profile & default\\_profile & default\\_profile\\_image & following & follow\\_request\\_sent & notifications & translator\\_type & last\\_tweet\\\\\n",
       "\\hline\n",
       "\t 2973406683                                                                                                                                                            & 2973406683                                                                                                                                                            & Mike Kearney<U+0001F4CA>                                                                                                                                              & kearneymw                                                                                                                                                             & Columbia, MO                                                                                                                                                          & Assistant Professor at @mujschool and MU Informatics Institute. Interested in new media, partisanship, data journalism, data{[}{[}\"big\"{]}{]} science, and \\#rstats. & https://t.co/wBaqsHTMcW                                                                                                                                               & FALSE                                                                                                                                                                 &  3347                                                                                                                                                                 & 980                                                                                                                                                                   & <U+22EF>                                                                                                                                                              & 333333                                                                                                                                                                & FALSE                                                                                                                                                                 &  TRUE                                                                                                                                                                 & FALSE                                                                                                                                                                 & FALSE                                                                                                                                                                 & FALSE                                                                                                                                                                 & FALSE                                                                                                                                                                 & FALSE                                                                                                                                                                 & none                                                                                                                                                                  & 2015-01-11 11:54:09                                                                                                                                                  \\\\\n",
       "\t  342250615                                                                                                                                                      & 342250615                                                                                                                                                       & rOpenSci                                                                                                                                                        & rOpenSci                                                                                                                                                        & Berkeley, Portland, Kamloops, Utrecht                                                                                                                           & rOpenSci develops \\#rstats-based tools to facilitate open science and access to open data. Tweets by @sckottie,  @\\_inundata, @StefanieButland, @opencpu      & https://t.co/Ijujhl8x1E                                                                                                                                         & FALSE                                                                                                                                                           & 17001                                                                                                                                                           & 509                                                                                                                                                             & <U+22EF>                                                                                                                                                        & 333333                                                                                                                                                          &  TRUE                                                                                                                                                           & FALSE                                                                                                                                                           &  TRUE                                                                                                                                                           & FALSE                                                                                                                                                           &  TRUE                                                                                                                                                           & FALSE                                                                                                                                                           & FALSE                                                                                                                                                           & none                                                                                                                                                            & 2011-07-25 13:24:54                                                                                                                                            \\\\\n",
       "\\end{tabular}\n"
      ],
      "text/markdown": [
       "\n",
       "id | id_str | name | screen_name | location | description | url | protected | followers_count | friends_count | ⋯ | profile_text_color | profile_use_background_image | has_extended_profile | default_profile | default_profile_image | following | follow_request_sent | notifications | translator_type | last_tweet | \n",
       "|---|---|\n",
       "| 2973406683                                                                                                                                                  | 2973406683                                                                                                                                                  | Mike Kearney<U+0001F4CA>                                                                                                                                    | kearneymw                                                                                                                                                   | Columbia, MO                                                                                                                                                | Assistant Professor at @mujschool and MU Informatics Institute. Interested in new media, partisanship, data journalism, data[[\"big\"]] science, and #rstats. | https://t.co/wBaqsHTMcW                                                                                                                                     | FALSE                                                                                                                                                       |  3347                                                                                                                                                       | 980                                                                                                                                                         | <U+22EF>                                                                                                                                                    | 333333                                                                                                                                                      | FALSE                                                                                                                                                       |  TRUE                                                                                                                                                       | FALSE                                                                                                                                                       | FALSE                                                                                                                                                       | FALSE                                                                                                                                                       | FALSE                                                                                                                                                       | FALSE                                                                                                                                                       | none                                                                                                                                                        | 2015-01-11 11:54:09                                                                                                                                         | \n",
       "|  342250615                                                                                                                                                  | 342250615                                                                                                                                                   | rOpenSci                                                                                                                                                    | rOpenSci                                                                                                                                                    | Berkeley, Portland, Kamloops, Utrecht                                                                                                                       | rOpenSci develops #rstats-based tools to facilitate open science and access to open data. Tweets by @sckottie,  @_inundata, @StefanieButland, @opencpu      | https://t.co/Ijujhl8x1E                                                                                                                                     | FALSE                                                                                                                                                       | 17001                                                                                                                                                       | 509                                                                                                                                                         | <U+22EF>                                                                                                                                                    | 333333                                                                                                                                                      |  TRUE                                                                                                                                                       | FALSE                                                                                                                                                       |  TRUE                                                                                                                                                       | FALSE                                                                                                                                                       |  TRUE                                                                                                                                                       | FALSE                                                                                                                                                       | FALSE                                                                                                                                                       | none                                                                                                                                                        | 2011-07-25 13:24:54                                                                                                                                         | \n",
       "\n",
       "\n"
      ],
      "text/plain": [
       "  id         id_str     name                     screen_name\n",
       "1 2973406683 2973406683 Mike Kearney<U+0001F4CA> kearneymw  \n",
       "2  342250615 342250615  rOpenSci                 rOpenSci   \n",
       "  location                             \n",
       "1 Columbia, MO                         \n",
       "2 Berkeley, Portland, Kamloops, Utrecht\n",
       "  description                                                                                                                                                \n",
       "1 Assistant Professor at @mujschool and MU Informatics Institute. Interested in new media, partisanship, data journalism, data[[\"big\"]] science, and #rstats.\n",
       "2 rOpenSci develops #rstats-based tools to facilitate open science and access to open data. Tweets by @sckottie,  @_inundata, @StefanieButland, @opencpu     \n",
       "  url                     protected followers_count friends_count <U+22EF>  \n",
       "1 https://t.co/wBaqsHTMcW FALSE      3347           980           <U+22EF>\n",
       "2 https://t.co/Ijujhl8x1E FALSE     17001           509           <U+22EF>\n",
       "  profile_text_color profile_use_background_image has_extended_profile\n",
       "1 333333             FALSE                         TRUE               \n",
       "2 333333              TRUE                        FALSE               \n",
       "  default_profile default_profile_image following follow_request_sent\n",
       "1 FALSE           FALSE                 FALSE     FALSE              \n",
       "2  TRUE           FALSE                  TRUE     FALSE              \n",
       "  notifications translator_type last_tweet         \n",
       "1 FALSE         none            2015-01-11 11:54:09\n",
       "2 FALSE         none            2011-07-25 13:24:54"
      ]
     },
     "metadata": {},
     "output_type": "display_data"
    }
   ],
   "source": [
    "## function for converting characters to date times\n",
    "convert2posixct <- function(x) {\n",
    "    as.POSIXct(x, format = \"%a %b %d %T %z %Y\")\n",
    "}\n",
    "\n",
    "## convert to posixct and add status created_at as new variable named `last_tweet`\n",
    "usr_atomic$last_tweet <- convert2posixct(usr_atomic$created_at)\n",
    "head(usr_atomic,2)"
   ]
  },
  {
   "cell_type": "markdown",
   "metadata": {},
   "source": [
    "### 7. Use the `convert2posixct()` again to convert the `created_at` (user origin date-time) variable to POSIXct. Then, calculate the number of weeks since the users joined twitter (hint: use the `Sys.time()` function to get the current date-time, and `as.numeric` to convert time-diff values to \"weeks\")."
   ]
  },
  {
   "cell_type": "code",
   "execution_count": 29,
   "metadata": {},
   "outputs": [
    {
     "data": {
      "text/html": [
       "<table>\n",
       "<thead><tr><th scope=col>id</th><th scope=col>id_str</th><th scope=col>name</th><th scope=col>screen_name</th><th scope=col>location</th><th scope=col>description</th><th scope=col>url</th><th scope=col>protected</th><th scope=col>followers_count</th><th scope=col>friends_count</th><th scope=col>⋯</th><th scope=col>profile_use_background_image</th><th scope=col>has_extended_profile</th><th scope=col>default_profile</th><th scope=col>default_profile_image</th><th scope=col>following</th><th scope=col>follow_request_sent</th><th scope=col>notifications</th><th scope=col>translator_type</th><th scope=col>last_tweet</th><th scope=col>weeks_joined</th></tr></thead>\n",
       "<tbody>\n",
       "\t<tr><td>2973406683                                                                                                                                                 </td><td>2973406683                                                                                                                                                 </td><td>Mike Kearney&lt;U+0001F4CA&gt;                                                                                                                             </td><td>kearneymw                                                                                                                                                  </td><td><span style=white-space:pre-wrap>Columbia, MO                         </span>                                                                              </td><td>Assistant Professor at @mujschool and MU Informatics Institute. Interested in new media, partisanship, data journalism, data[[\"big\"]] science, and #rstats.</td><td>https://t.co/wBaqsHTMcW                                                                                                                                    </td><td>FALSE                                                                                                                                                      </td><td> 3347                                                                                                                                                      </td><td>980                                                                                                                                                        </td><td><U+22EF>                                                                                                                                                   </td><td>FALSE                                                                                                                                                      </td><td> TRUE                                                                                                                                                      </td><td>FALSE                                                                                                                                                      </td><td>FALSE                                                                                                                                                      </td><td>FALSE                                                                                                                                                      </td><td>FALSE                                                                                                                                                      </td><td>FALSE                                                                                                                                                      </td><td>none                                                                                                                                                       </td><td>2015-01-11 11:54:09                                                                                                                                        </td><td>160.3557                                                                                                                                                   </td></tr>\n",
       "\t<tr><td> 342250615                                                                                                                                                 </td><td>342250615                                                                                                                                                  </td><td>rOpenSci                                                                                                                                                   </td><td>rOpenSci                                                                                                                                                   </td><td>Berkeley, Portland, Kamloops, Utrecht                                                                                                                      </td><td>rOpenSci develops #rstats-based tools to facilitate open science and access to open data. Tweets by @sckottie,  @_inundata, @StefanieButland, @opencpu     </td><td>https://t.co/Ijujhl8x1E                                                                                                                                    </td><td>FALSE                                                                                                                                                      </td><td>17001                                                                                                                                                      </td><td>509                                                                                                                                                        </td><td><U+22EF>                                                                                                                                                   </td><td> TRUE                                                                                                                                                      </td><td>FALSE                                                                                                                                                      </td><td> TRUE                                                                                                                                                      </td><td>FALSE                                                                                                                                                      </td><td> TRUE                                                                                                                                                      </td><td>FALSE                                                                                                                                                      </td><td>FALSE                                                                                                                                                      </td><td>none                                                                                                                                                       </td><td>2011-07-25 13:24:54                                                                                                                                        </td><td>341.2098                                                                                                                                                   </td></tr>\n",
       "</tbody>\n",
       "</table>\n"
      ],
      "text/latex": [
       "\\begin{tabular}{r|lllllllllllllllllllllllllllllllllllllllllll}\n",
       " id & id\\_str & name & screen\\_name & location & description & url & protected & followers\\_count & friends\\_count & ⋯ & profile\\_use\\_background\\_image & has\\_extended\\_profile & default\\_profile & default\\_profile\\_image & following & follow\\_request\\_sent & notifications & translator\\_type & last\\_tweet & weeks\\_joined\\\\\n",
       "\\hline\n",
       "\t 2973406683                                                                                                                                                            & 2973406683                                                                                                                                                            & Mike Kearney<U+0001F4CA>                                                                                                                                              & kearneymw                                                                                                                                                             & Columbia, MO                                                                                                                                                          & Assistant Professor at @mujschool and MU Informatics Institute. Interested in new media, partisanship, data journalism, data{[}{[}\"big\"{]}{]} science, and \\#rstats. & https://t.co/wBaqsHTMcW                                                                                                                                               & FALSE                                                                                                                                                                 &  3347                                                                                                                                                                 & 980                                                                                                                                                                   & <U+22EF>                                                                                                                                                              & FALSE                                                                                                                                                                 &  TRUE                                                                                                                                                                 & FALSE                                                                                                                                                                 & FALSE                                                                                                                                                                 & FALSE                                                                                                                                                                 & FALSE                                                                                                                                                                 & FALSE                                                                                                                                                                 & none                                                                                                                                                                  & 2015-01-11 11:54:09                                                                                                                                                   & 160.3557                                                                                                                                                             \\\\\n",
       "\t  342250615                                                                                                                                                      & 342250615                                                                                                                                                       & rOpenSci                                                                                                                                                        & rOpenSci                                                                                                                                                        & Berkeley, Portland, Kamloops, Utrecht                                                                                                                           & rOpenSci develops \\#rstats-based tools to facilitate open science and access to open data. Tweets by @sckottie,  @\\_inundata, @StefanieButland, @opencpu      & https://t.co/Ijujhl8x1E                                                                                                                                         & FALSE                                                                                                                                                           & 17001                                                                                                                                                           & 509                                                                                                                                                             & <U+22EF>                                                                                                                                                        &  TRUE                                                                                                                                                           & FALSE                                                                                                                                                           &  TRUE                                                                                                                                                           & FALSE                                                                                                                                                           &  TRUE                                                                                                                                                           & FALSE                                                                                                                                                           & FALSE                                                                                                                                                           & none                                                                                                                                                            & 2011-07-25 13:24:54                                                                                                                                             & 341.2098                                                                                                                                                       \\\\\n",
       "\\end{tabular}\n"
      ],
      "text/markdown": [
       "\n",
       "id | id_str | name | screen_name | location | description | url | protected | followers_count | friends_count | ⋯ | profile_use_background_image | has_extended_profile | default_profile | default_profile_image | following | follow_request_sent | notifications | translator_type | last_tweet | weeks_joined | \n",
       "|---|---|\n",
       "| 2973406683                                                                                                                                                  | 2973406683                                                                                                                                                  | Mike Kearney<U+0001F4CA>                                                                                                                                    | kearneymw                                                                                                                                                   | Columbia, MO                                                                                                                                                | Assistant Professor at @mujschool and MU Informatics Institute. Interested in new media, partisanship, data journalism, data[[\"big\"]] science, and #rstats. | https://t.co/wBaqsHTMcW                                                                                                                                     | FALSE                                                                                                                                                       |  3347                                                                                                                                                       | 980                                                                                                                                                         | <U+22EF>                                                                                                                                                    | FALSE                                                                                                                                                       |  TRUE                                                                                                                                                       | FALSE                                                                                                                                                       | FALSE                                                                                                                                                       | FALSE                                                                                                                                                       | FALSE                                                                                                                                                       | FALSE                                                                                                                                                       | none                                                                                                                                                        | 2015-01-11 11:54:09                                                                                                                                         | 160.3557                                                                                                                                                    | \n",
       "|  342250615                                                                                                                                                  | 342250615                                                                                                                                                   | rOpenSci                                                                                                                                                    | rOpenSci                                                                                                                                                    | Berkeley, Portland, Kamloops, Utrecht                                                                                                                       | rOpenSci develops #rstats-based tools to facilitate open science and access to open data. Tweets by @sckottie,  @_inundata, @StefanieButland, @opencpu      | https://t.co/Ijujhl8x1E                                                                                                                                     | FALSE                                                                                                                                                       | 17001                                                                                                                                                       | 509                                                                                                                                                         | <U+22EF>                                                                                                                                                    |  TRUE                                                                                                                                                       | FALSE                                                                                                                                                       |  TRUE                                                                                                                                                       | FALSE                                                                                                                                                       |  TRUE                                                                                                                                                       | FALSE                                                                                                                                                       | FALSE                                                                                                                                                       | none                                                                                                                                                        | 2011-07-25 13:24:54                                                                                                                                         | 341.2098                                                                                                                                                    | \n",
       "\n",
       "\n"
      ],
      "text/plain": [
       "  id         id_str     name                     screen_name\n",
       "1 2973406683 2973406683 Mike Kearney<U+0001F4CA> kearneymw  \n",
       "2  342250615 342250615  rOpenSci                 rOpenSci   \n",
       "  location                             \n",
       "1 Columbia, MO                         \n",
       "2 Berkeley, Portland, Kamloops, Utrecht\n",
       "  description                                                                                                                                                \n",
       "1 Assistant Professor at @mujschool and MU Informatics Institute. Interested in new media, partisanship, data journalism, data[[\"big\"]] science, and #rstats.\n",
       "2 rOpenSci develops #rstats-based tools to facilitate open science and access to open data. Tweets by @sckottie,  @_inundata, @StefanieButland, @opencpu     \n",
       "  url                     protected followers_count friends_count <U+22EF>  \n",
       "1 https://t.co/wBaqsHTMcW FALSE      3347           980           <U+22EF>\n",
       "2 https://t.co/Ijujhl8x1E FALSE     17001           509           <U+22EF>\n",
       "  profile_use_background_image has_extended_profile default_profile\n",
       "1 FALSE                         TRUE                FALSE          \n",
       "2  TRUE                        FALSE                 TRUE          \n",
       "  default_profile_image following follow_request_sent notifications\n",
       "1 FALSE                 FALSE     FALSE               FALSE        \n",
       "2 FALSE                  TRUE     FALSE               FALSE        \n",
       "  translator_type last_tweet          weeks_joined\n",
       "1 none            2015-01-11 11:54:09 160.3557    \n",
       "2 none            2011-07-25 13:24:54 341.2098    "
      ]
     },
     "metadata": {},
     "output_type": "display_data"
    }
   ],
   "source": [
    "## convert created_at to class date-time\n",
    "usr_atomic$created_at <- convert2posixct(usr_atomic$created_at)\n",
    "\n",
    "## create `weeks_joined` variable and add it to `usr_atomic`\n",
    "usr_atomic$weeks_joined <- as.numeric(Sys.time() -usr_atomic$created_at)/7\n",
    "head(usr_atomic,2)"
   ]
  },
  {
   "cell_type": "markdown",
   "metadata": {},
   "source": [
    "For the next question, it's not a bad idea to load the tidyverse packages."
   ]
  },
  {
   "cell_type": "code",
   "execution_count": 32,
   "metadata": {},
   "outputs": [],
   "source": [
    "## load the tidyverse packages (dplyr, tidyr, ggplot2)\n",
    "library(tidyverse)"
   ]
  },
  {
   "cell_type": "markdown",
   "metadata": {},
   "source": [
    "### 8. Using ggplot2, plot the densities, i.e., `geom_density()`, of `statuses_count`, `friends_count`, and `followers_count` variables. (HINT: `select()` variables and then `tidyr::gather()` to convert data to long-form; it's more ggplot2 friendly)."
   ]
  },
  {
   "cell_type": "code",
   "execution_count": 33,
   "metadata": {
    "collapsed": true
   },
   "outputs": [],
   "source": [
    "## wrangle and plot using `geom_density()`\n",
    "varCol<-usr_atomic %>%\n",
    "select(statuses_count, friends_count, followers_count)"
   ]
  },
  {
   "cell_type": "code",
   "execution_count": 34,
   "metadata": {},
   "outputs": [
    {
     "data": {
      "text/html": [
       "<table>\n",
       "<thead><tr><th scope=col>statuses_count</th><th scope=col>friends_count</th><th scope=col>followers_count</th></tr></thead>\n",
       "<tbody>\n",
       "\t<tr><td>3264 </td><td>980  </td><td> 3347</td></tr>\n",
       "\t<tr><td>3941 </td><td>509  </td><td>17001</td></tr>\n",
       "</tbody>\n",
       "</table>\n"
      ],
      "text/latex": [
       "\\begin{tabular}{r|lll}\n",
       " statuses\\_count & friends\\_count & followers\\_count\\\\\n",
       "\\hline\n",
       "\t 3264  & 980   &  3347\\\\\n",
       "\t 3941  & 509   & 17001\\\\\n",
       "\\end{tabular}\n"
      ],
      "text/markdown": [
       "\n",
       "statuses_count | friends_count | followers_count | \n",
       "|---|---|\n",
       "| 3264  | 980   |  3347 | \n",
       "| 3941  | 509   | 17001 | \n",
       "\n",
       "\n"
      ],
      "text/plain": [
       "  statuses_count friends_count followers_count\n",
       "1 3264           980            3347          \n",
       "2 3941           509           17001          "
      ]
     },
     "metadata": {},
     "output_type": "display_data"
    }
   ],
   "source": [
    "head(varCol,2)"
   ]
  },
  {
   "cell_type": "code",
   "execution_count": 36,
   "metadata": {},
   "outputs": [
    {
     "data": {
      "text/html": [
       "<table>\n",
       "<thead><tr><th scope=col>Categories</th><th scope=col>Amount</th></tr></thead>\n",
       "<tbody>\n",
       "\t<tr><td>statuses_count</td><td> 3264         </td></tr>\n",
       "\t<tr><td>statuses_count</td><td> 3941         </td></tr>\n",
       "\t<tr><td>statuses_count</td><td> 1829         </td></tr>\n",
       "\t<tr><td>statuses_count</td><td> 8133         </td></tr>\n",
       "\t<tr><td>statuses_count</td><td>71826         </td></tr>\n",
       "\t<tr><td>statuses_count</td><td> 2089         </td></tr>\n",
       "</tbody>\n",
       "</table>\n"
      ],
      "text/latex": [
       "\\begin{tabular}{r|ll}\n",
       " Categories & Amount\\\\\n",
       "\\hline\n",
       "\t statuses\\_count &  3264           \\\\\n",
       "\t statuses\\_count &  3941           \\\\\n",
       "\t statuses\\_count &  1829           \\\\\n",
       "\t statuses\\_count &  8133           \\\\\n",
       "\t statuses\\_count & 71826           \\\\\n",
       "\t statuses\\_count &  2089           \\\\\n",
       "\\end{tabular}\n"
      ],
      "text/markdown": [
       "\n",
       "Categories | Amount | \n",
       "|---|---|---|---|---|---|\n",
       "| statuses_count |  3264          | \n",
       "| statuses_count |  3941          | \n",
       "| statuses_count |  1829          | \n",
       "| statuses_count |  8133          | \n",
       "| statuses_count | 71826          | \n",
       "| statuses_count |  2089          | \n",
       "\n",
       "\n"
      ],
      "text/plain": [
       "  Categories     Amount\n",
       "1 statuses_count  3264 \n",
       "2 statuses_count  3941 \n",
       "3 statuses_count  1829 \n",
       "4 statuses_count  8133 \n",
       "5 statuses_count 71826 \n",
       "6 statuses_count  2089 "
      ]
     },
     "metadata": {},
     "output_type": "display_data"
    }
   ],
   "source": [
    "singleCol<-gather(varCol,\"Categories\",\"Amount\",1:3)\n",
    "head(singleCol)"
   ]
  },
  {
   "cell_type": "code",
   "execution_count": 37,
   "metadata": {},
   "outputs": [
    {
     "data": {},
     "metadata": {},
     "output_type": "display_data"
    },
    {
     "data": {
      "image/png": "[encoded data removed]",
      "text/plain": [
       "plot without title"
      ]
     },
     "metadata": {},
     "output_type": "display_data"
    }
   ],
   "source": [
    "ggplot(singleCol, aes(x=Amount))+ geom_density(aes(group=Categories,color=Categories,fill=Categories),alpha=.5)"
   ]
  },
  {
   "cell_type": "markdown",
   "metadata": {},
   "source": [
    "### 9. Plot the histograms a second time, only this time `log()` the variables."
   ]
  },
  {
   "cell_type": "code",
   "execution_count": 38,
   "metadata": {},
   "outputs": [
    {
     "data": {
      "text/html": [
       "<table>\n",
       "<thead><tr><th scope=col>Categories</th><th scope=col>Amount</th><th scope=col>logAmount</th></tr></thead>\n",
       "<tbody>\n",
       "\t<tr><td>statuses_count</td><td> 3264         </td><td> 8.090709     </td></tr>\n",
       "\t<tr><td>statuses_count</td><td> 3941         </td><td> 8.279190     </td></tr>\n",
       "\t<tr><td>statuses_count</td><td> 1829         </td><td> 7.511525     </td></tr>\n",
       "\t<tr><td>statuses_count</td><td> 8133         </td><td> 9.003685     </td></tr>\n",
       "\t<tr><td>statuses_count</td><td>71826         </td><td>11.182002     </td></tr>\n",
       "\t<tr><td>statuses_count</td><td> 2089         </td><td> 7.644441     </td></tr>\n",
       "</tbody>\n",
       "</table>\n"
      ],
      "text/latex": [
       "\\begin{tabular}{r|lll}\n",
       " Categories & Amount & logAmount\\\\\n",
       "\\hline\n",
       "\t statuses\\_count &  3264            &  8.090709       \\\\\n",
       "\t statuses\\_count &  3941            &  8.279190       \\\\\n",
       "\t statuses\\_count &  1829            &  7.511525       \\\\\n",
       "\t statuses\\_count &  8133            &  9.003685       \\\\\n",
       "\t statuses\\_count & 71826            & 11.182002       \\\\\n",
       "\t statuses\\_count &  2089            &  7.644441       \\\\\n",
       "\\end{tabular}\n"
      ],
      "text/markdown": [
       "\n",
       "Categories | Amount | logAmount | \n",
       "|---|---|---|---|---|---|\n",
       "| statuses_count |  3264          |  8.090709      | \n",
       "| statuses_count |  3941          |  8.279190      | \n",
       "| statuses_count |  1829          |  7.511525      | \n",
       "| statuses_count |  8133          |  9.003685      | \n",
       "| statuses_count | 71826          | 11.182002      | \n",
       "| statuses_count |  2089          |  7.644441      | \n",
       "\n",
       "\n"
      ],
      "text/plain": [
       "  Categories     Amount logAmount\n",
       "1 statuses_count  3264   8.090709\n",
       "2 statuses_count  3941   8.279190\n",
       "3 statuses_count  1829   7.511525\n",
       "4 statuses_count  8133   9.003685\n",
       "5 statuses_count 71826  11.182002\n",
       "6 statuses_count  2089   7.644441"
      ]
     },
     "metadata": {},
     "output_type": "display_data"
    }
   ],
   "source": [
    "## wrangle, log variables, and plot using `geom_density()`\n",
    "singleCol$logAmount<-log(singleCol$Amount)\n",
    "head(singleCol)"
   ]
  },
  {
   "cell_type": "code",
   "execution_count": 39,
   "metadata": {
    "collapsed": true
   },
   "outputs": [],
   "source": [
    "logCol<-singleCol"
   ]
  },
  {
   "cell_type": "code",
   "execution_count": 40,
   "metadata": {},
   "outputs": [
    {
     "data": {},
     "metadata": {},
     "output_type": "display_data"
    },
    {
     "data": {
      "image/png": "[encoded data removed]",
      "text/plain": [
       "plot without title"
      ]
     },
     "metadata": {},
     "output_type": "display_data"
    }
   ],
   "source": [
    "ggplot(logCol, aes(x=logAmount))+geom_density(aes(group=Categories,color=Categories,fill=Categories),alpha=.4)"
   ]
  },
  {
   "cell_type": "markdown",
   "metadata": {},
   "source": [
    "### 10. Finally, use a generalized linear model `glm()` to model `statuses_count` using `followers_count`, `friends_count`, `verified`, `weeks_joined`, and `last_tweet` as predictors. Print the summary of the model output."
   ]
  },
  {
   "cell_type": "code",
   "execution_count": 41,
   "metadata": {
    "collapsed": true
   },
   "outputs": [],
   "source": [
    "## your code goes here\n",
    "glm<-glm(statuses_count ~ followers_count+friends_count+verified+weeks_joined+last_tweet,\n",
    "        usr_atomic,\n",
    "        family=poisson)"
   ]
  },
  {
   "cell_type": "code",
   "execution_count": 42,
   "metadata": {},
   "outputs": [
    {
     "data": {
      "text/plain": [
       "\n",
       "Call:\n",
       "glm(formula = statuses_count ~ followers_count + friends_count + \n",
       "    verified + weeks_joined + last_tweet, family = poisson, data = usr_atomic)\n",
       "\n",
       "Deviance Residuals: \n",
       "    Min       1Q   Median       3Q      Max  \n",
       "-237.57   -86.75   -14.88    54.36   237.38  \n",
       "\n",
       "Coefficients: (1 not defined because of singularities)\n",
       "                 Estimate Std. Error z value Pr(>|z|)    \n",
       "(Intercept)     7.571e+00  9.521e-03  795.20   <2e-16 ***\n",
       "followers_count 1.002e-05  2.243e-07   44.67   <2e-16 ***\n",
       "friends_count   4.738e-04  2.926e-06  161.93   <2e-16 ***\n",
       "verifiedTRUE    8.081e-01  5.080e-03  159.09   <2e-16 ***\n",
       "weeks_joined    2.635e-03  1.739e-05  151.48   <2e-16 ***\n",
       "last_tweet             NA         NA      NA       NA    \n",
       "---\n",
       "Signif. codes:  0 '***' 0.001 '**' 0.01 '*' 0.05 '.' 0.1 ' ' 1\n",
       "\n",
       "(Dispersion parameter for poisson family taken to be 1)\n",
       "\n",
       "    Null deviance: 300097  on 19  degrees of freedom\n",
       "Residual deviance: 202459  on 15  degrees of freedom\n",
       "AIC: 202676\n",
       "\n",
       "Number of Fisher Scoring iterations: 6\n"
      ]
     },
     "metadata": {},
     "output_type": "display_data"
    }
   ],
   "source": [
    "summary(glm)"
   ]
  }
 ],
 "metadata": {
  "kernelspec": {
   "display_name": "R",
   "language": "R",
   "name": "ir"
  },
  "language_info": {
   "codemirror_mode": "r",
   "file_extension": ".r",
   "mimetype": "text/x-r-source",
   "name": "R",
   "pygments_lexer": "r",
   "version": "3.4.1"
  }
 },
 "nbformat": 4,
 "nbformat_minor": 2
}
