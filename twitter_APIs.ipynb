{
 "cells": [
  {
   "cell_type": "markdown",
   "metadata": {},
   "source": [
    "## 2.1: APIs"
   ]
  },
  {
   "cell_type": "markdown",
   "metadata": {},
   "source": [
    "The two most common ways to collect publicly available web data are (1) web scraping and (2) interacting with Application Programming Interfaces (API). In the previous module, we covered some web scraping basics. In this lab, we'll start talking about how to collect data from web APIs. Thus, this lab provides a quick introduction along with some example code for working with web APIs."
   ]
  },
  {
   "cell_type": "markdown",
   "metadata": {},
   "source": [
    "## APIs\n",
    "\n",
    "Many sites make structured data easily available to users via Application Programming Interfaces (API). APIs are sets of protocols and procedures that govern the interaction between a user and a site. Websites will often maintain APIs to make it easier for users to interact with their data, which, in turn, makes it easier for third-party development while reducing strain (more efficient data delivery than XML/HTML) placed on host servers. \n",
    "\n",
    "To navigate site protocols and interact with a site's API, users send and receive HTTP requests with a web server. It is therefore important to have a basic understanding of this process as well as some familiarity with how to formulate and send HTTP requests.\n",
    "\n",
    "## URL components\n",
    "\n",
    "As you work with APIs, you'll notice the requests look a lot like the URLs you are used to seeing in web browsers. That's because APIs follow the same protocol. With this in mind, it's useful to take a second to identify the different components of URLs. Typically, URLs consist of three or four components:\n",
    "\n",
    "**Scheme**: The protocol to be used when accessing the resource. Can be either HTTP or HTTPS.\n",
    "\n",
    "**Hostname**\": The name of the domain that holds a web resource. These are sometimes followed by a port number, but because most sites use standard servers, the port number is typically omitted.\n",
    "\n",
    "**Path**. The path indicates a specific resource or access point. Paths often define what the underlying task is about.\n",
    "\n",
    "**Query**: Queries provide additional information to be used by the web resource. The name of parameters and their values are linked via equal signs `=` and parameter/value pairs are collapsed using ampersands `&`. Queiries are optional. So when they are used, they are separated from the scheme/hostname/path by a question mark `?`.\n",
    "\n"
   ]
  },
  {
   "cell_type": "markdown",
   "metadata": {},
   "source": [
    "## HTTP requests\n",
    "\n",
    "To interact with a web server, users must send and receive HTTP requests from a web server. To send and receive these requests in R, I recommend the [{httr}](https://github.com/r-lib/httr) package.\n",
    "\n",
    "HTTP protocol defines different methods that can be used to send a request message to an HTTP server. Although there are several others, the two most common request methods are GET and POST.\n",
    "\n",
    "**GET** requests are used to *retrieve* data from a web server. Here's a basic example:"
   ]
  },
  {
   "cell_type": "code",
   "execution_count": 1,
   "metadata": {},
   "outputs": [
    {
     "data": {
      "text/plain": [
       "Response [http://httpbin.org/get]\n",
       "  Date: 2018-01-31 03:50\n",
       "  Status: 200\n",
       "  Content-Type: application/json\n",
       "  Size: 327 B\n",
       "{\n",
       "  \"args\": {}, \n",
       "  \"headers\": {\n",
       "    \"Accept\": \"application/json, text/xml, application/xml, */*\", \n",
       "    \"Accept-Encoding\": \"gzip, deflate\", \n",
       "    \"Connection\": \"close\", \n",
       "    \"Host\": \"httpbin.org\", \n",
       "    \"User-Agent\": \"libcurl/7.29.0 r-curl/1.1 httr/1.2.1\"\n",
       "  }, \n",
       "  \"origin\": \"128.206.116.250\", \n",
       "..."
      ]
     },
     "metadata": {},
     "output_type": "display_data"
    }
   ],
   "source": [
    "## GET request\n",
    "r <- httr::GET(\"http://httpbin.org/get\")\n",
    "r"
   ]
  },
  {
   "cell_type": "markdown",
   "metadata": {},
   "source": [
    "For more complicated GET requests (i.e., requests that include multiple variables), parameters may also be specified in the *body* of the request. In the {httr} package, this is done by passing a named list of values to the `query` argument. In the example below, a query is sent to http://httpbin.org/get with the parameters `key1 = \"value1\"` and `key2 = \"value2\"`. If this were compiled into a single URL, it would look something like http://httpbin.org/get?key1=value1&key2=value2, which, if you open in a web browser, should return the same information as if requested in R."
   ]
  },
  {
   "cell_type": "code",
   "execution_count": 3,
   "metadata": {},
   "outputs": [
    {
     "data": {
      "text/plain": [
       "Response [http://httpbin.org/get?key1=value1&key2=value2]\n",
       "  Date: 2018-01-31 04:00\n",
       "  Status: 200\n",
       "  Content-Type: application/json\n",
       "  Size: 398 B\n",
       "{\n",
       "  \"args\": {\n",
       "    \"key1\": \"value1\", \n",
       "    \"key2\": \"value2\"\n",
       "  }, \n",
       "  \"headers\": {\n",
       "    \"Accept\": \"application/json, text/xml, application/xml, */*\", \n",
       "    \"Accept-Encoding\": \"gzip, deflate\", \n",
       "    \"Connection\": \"close\", \n",
       "    \"Host\": \"httpbin.org\", \n",
       "..."
      ]
     },
     "metadata": {},
     "output_type": "display_data"
    }
   ],
   "source": [
    "## send a GET request with parameters in body\n",
    "r <- httr::GET(\n",
    "    \"http://httpbin.org/get\", \n",
    "    query = list(key1 = \"value1\", key2 = \"value2\")\n",
    ")\n",
    "r"
   ]
  },
  {
   "cell_type": "markdown",
   "metadata": {},
   "source": [
    "**POST** requests are used to *send* data to a web server. Because the purpose of POST requests is to *send* information, the body of the request will almost always include the information to be sent to a web server."
   ]
  },
  {
   "cell_type": "code",
   "execution_count": 4,
   "metadata": {
    "collapsed": true
   },
   "outputs": [],
   "source": [
    "r <- httr::POST(\"http://httpbin.org/post\", body = list(a = 1, b = 2, c = 3))"
   ]
  },
  {
   "cell_type": "markdown",
   "metadata": {},
   "source": [
    "The data sent via POST requests can be encoded in various ways. Use the `encode` argument in the `httr::POST()` function to specify a desired encoding method:"
   ]
  },
  {
   "cell_type": "code",
   "execution_count": 5,
   "metadata": {},
   "outputs": [
    {
     "ename": "ERROR",
     "evalue": "Error in POST(url, body = body, encode = \"form\"): could not find function \"POST\"\n",
     "output_type": "error",
     "traceback": [
      "Error in POST(url, body = body, encode = \"form\"): could not find function \"POST\"\nTraceback:\n"
     ]
    }
   ],
   "source": [
    "url <- \"http://httpbin.org/post\"\n",
    "body <- list(a = 1, b = 2, c = 3)\n",
    "\n",
    "# Form encoded\n",
    "r <- POST(url, body = body, encode = \"form\")\n",
    "# Multipart encoded\n",
    "r <- POST(url, body = body, encode = \"multipart\")\n",
    "# JSON encoded\n",
    "r <- POST(url, body = body, encode = \"json\")"
   ]
  },
  {
   "cell_type": "markdown",
   "metadata": {},
   "source": [
    "To quickly summarize, for simple retrieval requests, use `httr::GET()`. For more verbose requests---e.g., when you need to upload more data than what's typically found in URLs---use `httr::POST()`.\n",
    "\n",
    "### Response status\n",
    "\n",
    "All response objects come with a response status, which will indicate whether there were any issues retrieving the response. Status code 200 means everything worked. If it's something other than 200, though, it's a sign that something didn't quite go as expected. The status code will provide the first piece of information for diagnosing the source of the problem."
   ]
  },
  {
   "cell_type": "code",
   "execution_count": 6,
   "metadata": {},
   "outputs": [
    {
     "data": {
      "text/html": [
       "<dl>\n",
       "\t<dt>$category</dt>\n",
       "\t\t<dd>'Success'</dd>\n",
       "\t<dt>$reason</dt>\n",
       "\t\t<dd>'OK'</dd>\n",
       "\t<dt>$message</dt>\n",
       "\t\t<dd>'Success: (200) OK'</dd>\n",
       "</dl>\n"
      ],
      "text/latex": [
       "\\begin{description}\n",
       "\\item[\\$category] 'Success'\n",
       "\\item[\\$reason] 'OK'\n",
       "\\item[\\$message] 'Success: (200) OK'\n",
       "\\end{description}\n"
      ],
      "text/markdown": [
       "$category\n",
       ":   'Success'\n",
       "$reason\n",
       ":   'OK'\n",
       "$message\n",
       ":   'Success: (200) OK'\n",
       "\n",
       "\n"
      ],
      "text/plain": [
       "$category\n",
       "[1] \"Success\"\n",
       "\n",
       "$reason\n",
       "[1] \"OK\"\n",
       "\n",
       "$message\n",
       "[1] \"Success: (200) OK\"\n"
      ]
     },
     "metadata": {},
     "output_type": "display_data"
    },
    {
     "data": {
      "text/html": [
       "200"
      ],
      "text/latex": [
       "200"
      ],
      "text/markdown": [
       "200"
      ],
      "text/plain": [
       "[1] 200"
      ]
     },
     "metadata": {},
     "output_type": "display_data"
    },
    {
     "data": {
      "text/html": [
       "<dl>\n",
       "\t<dt>$category</dt>\n",
       "\t\t<dd>'Client error'</dd>\n",
       "\t<dt>$reason</dt>\n",
       "\t\t<dd>'Method Not Allowed'</dd>\n",
       "\t<dt>$message</dt>\n",
       "\t\t<dd>'Client error: (405) Method Not Allowed'</dd>\n",
       "</dl>\n"
      ],
      "text/latex": [
       "\\begin{description}\n",
       "\\item[\\$category] 'Client error'\n",
       "\\item[\\$reason] 'Method Not Allowed'\n",
       "\\item[\\$message] 'Client error: (405) Method Not Allowed'\n",
       "\\end{description}\n"
      ],
      "text/markdown": [
       "$category\n",
       ":   'Client error'\n",
       "$reason\n",
       ":   'Method Not Allowed'\n",
       "$message\n",
       ":   'Client error: (405) Method Not Allowed'\n",
       "\n",
       "\n"
      ],
      "text/plain": [
       "$category\n",
       "[1] \"Client error\"\n",
       "\n",
       "$reason\n",
       "[1] \"Method Not Allowed\"\n",
       "\n",
       "$message\n",
       "[1] \"Client error: (405) Method Not Allowed\"\n"
      ]
     },
     "metadata": {},
     "output_type": "display_data"
    },
    {
     "data": {
      "text/html": [
       "405"
      ],
      "text/latex": [
       "405"
      ],
      "text/markdown": [
       "405"
      ],
      "text/plain": [
       "[1] 405"
      ]
     },
     "metadata": {},
     "output_type": "display_data"
    }
   ],
   "source": [
    "## perform simple GET and POST request \n",
    "gr <- httr::GET(\"http://httpbin.org/get\")\n",
    "pr <- httr::GET(\"http://httpbin.org/post\", body = list(a = 1, b = 2, c = 3))\n",
    "\n",
    "## GET status\n",
    "httr::http_status(gr)\n",
    "gr$status_code\n",
    "\n",
    "## POST status\n",
    "httr::http_status(pr)\n",
    "pr$status_code"
   ]
  },
  {
   "cell_type": "markdown",
   "metadata": {},
   "source": [
    "When writing functions designed to send and receive HTTP requests, there are some useful {httr} functions check and return relevant information related to the HTTP status."
   ]
  },
  {
   "cell_type": "code",
   "execution_count": 7,
   "metadata": {
    "collapsed": true
   },
   "outputs": [],
   "source": [
    "## Get an informative description:\n",
    "r <- httr::GET(\"http://httpbin.org/get\")\n",
    "httr::warn_for_status(r)\n",
    "httr::stop_for_status(r)"
   ]
  },
  {
   "cell_type": "markdown",
   "metadata": {},
   "source": [
    "#### Parse response\n",
    "Content is typically returned as xml, json, plain text, or raw. If known, the type can be found stored as `content-type` in the response headers."
   ]
  },
  {
   "cell_type": "code",
   "execution_count": 8,
   "metadata": {},
   "outputs": [
    {
     "data": {
      "text/html": [
       "'application/json'"
      ],
      "text/latex": [
       "'application/json'"
      ],
      "text/markdown": [
       "'application/json'"
      ],
      "text/plain": [
       "[1] \"application/json\""
      ]
     },
     "metadata": {},
     "output_type": "display_data"
    }
   ],
   "source": [
    "## check content type\n",
    "r$headers$`content-type`"
   ]
  },
  {
   "cell_type": "markdown",
   "metadata": {},
   "source": [
    "By default, the function `httr::content()` will parse the response object into a more usable form."
   ]
  },
  {
   "cell_type": "code",
   "execution_count": 9,
   "metadata": {},
   "outputs": [
    {
     "data": {
      "text/html": [
       "<dl>\n",
       "\t<dt>$args</dt>\n",
       "\t\t<dd><dl>\n",
       "</dl>\n",
       "</dd>\n",
       "\t<dt>$headers</dt>\n",
       "\t\t<dd><dl>\n",
       "\t<dt>$Accept</dt>\n",
       "\t\t<dd>'application/json, text/xml, application/xml, */*'</dd>\n",
       "\t<dt>$`Accept-Encoding`</dt>\n",
       "\t\t<dd>'gzip, deflate'</dd>\n",
       "\t<dt>$Connection</dt>\n",
       "\t\t<dd>'close'</dd>\n",
       "\t<dt>$Host</dt>\n",
       "\t\t<dd>'httpbin.org'</dd>\n",
       "\t<dt>$`User-Agent`</dt>\n",
       "\t\t<dd>'libcurl/7.29.0 r-curl/1.1 httr/1.2.1'</dd>\n",
       "</dl>\n",
       "</dd>\n",
       "\t<dt>$origin</dt>\n",
       "\t\t<dd>'128.206.116.250'</dd>\n",
       "\t<dt>$url</dt>\n",
       "\t\t<dd>'http://httpbin.org/get'</dd>\n",
       "</dl>\n"
      ],
      "text/latex": [
       "\\begin{description}\n",
       "\\item[\\$args] \\begin{description}\n",
       "\\end{description}\n",
       "\n",
       "\\item[\\$headers] \\begin{description}\n",
       "\\item[\\$Accept] 'application/json, text/xml, application/xml, */*'\n",
       "\\item[\\$`Accept-Encoding`] 'gzip, deflate'\n",
       "\\item[\\$Connection] 'close'\n",
       "\\item[\\$Host] 'httpbin.org'\n",
       "\\item[\\$`User-Agent`] 'libcurl/7.29.0 r-curl/1.1 httr/1.2.1'\n",
       "\\end{description}\n",
       "\n",
       "\\item[\\$origin] '128.206.116.250'\n",
       "\\item[\\$url] 'http://httpbin.org/get'\n",
       "\\end{description}\n"
      ],
      "text/markdown": [
       "$args\n",
       ":   \n",
       "\n",
       "\n",
       "$headers\n",
       ":   $Accept\n",
       ":   'application/json, text/xml, application/xml, */*'\n",
       "$`Accept-Encoding`\n",
       ":   'gzip, deflate'\n",
       "$Connection\n",
       ":   'close'\n",
       "$Host\n",
       ":   'httpbin.org'\n",
       "$`User-Agent`\n",
       ":   'libcurl/7.29.0 r-curl/1.1 httr/1.2.1'\n",
       "\n",
       "\n",
       "\n",
       "$origin\n",
       ":   '128.206.116.250'\n",
       "$url\n",
       ":   'http://httpbin.org/get'\n",
       "\n",
       "\n"
      ],
      "text/plain": [
       "$args\n",
       "named list()\n",
       "\n",
       "$headers\n",
       "$headers$Accept\n",
       "[1] \"application/json, text/xml, application/xml, */*\"\n",
       "\n",
       "$headers$`Accept-Encoding`\n",
       "[1] \"gzip, deflate\"\n",
       "\n",
       "$headers$Connection\n",
       "[1] \"close\"\n",
       "\n",
       "$headers$Host\n",
       "[1] \"httpbin.org\"\n",
       "\n",
       "$headers$`User-Agent`\n",
       "[1] \"libcurl/7.29.0 r-curl/1.1 httr/1.2.1\"\n",
       "\n",
       "\n",
       "$origin\n",
       "[1] \"128.206.116.250\"\n",
       "\n",
       "$url\n",
       "[1] \"http://httpbin.org/get\"\n"
      ]
     },
     "metadata": {},
     "output_type": "display_data"
    }
   ],
   "source": [
    "httr::content(r)"
   ]
  },
  {
   "cell_type": "markdown",
   "metadata": {},
   "source": [
    "But in most cases it's best to be explicit with the parsing method. For example, with json response objects, it's better to parse the response object as text and then to use the [{jsonlite}](https://github.com/jeroen/jsonlite) package."
   ]
  },
  {
   "cell_type": "code",
   "execution_count": 10,
   "metadata": {},
   "outputs": [
    {
     "data": {
      "text/html": [
       "<dl>\n",
       "\t<dt>$args</dt>\n",
       "\t\t<dd><dl>\n",
       "</dl>\n",
       "</dd>\n",
       "\t<dt>$headers</dt>\n",
       "\t\t<dd><dl>\n",
       "\t<dt>$Accept</dt>\n",
       "\t\t<dd>'application/json, text/xml, application/xml, */*'</dd>\n",
       "\t<dt>$`Accept-Encoding`</dt>\n",
       "\t\t<dd>'gzip, deflate'</dd>\n",
       "\t<dt>$Connection</dt>\n",
       "\t\t<dd>'close'</dd>\n",
       "\t<dt>$Host</dt>\n",
       "\t\t<dd>'httpbin.org'</dd>\n",
       "\t<dt>$`User-Agent`</dt>\n",
       "\t\t<dd>'libcurl/7.29.0 r-curl/1.1 httr/1.2.1'</dd>\n",
       "</dl>\n",
       "</dd>\n",
       "\t<dt>$origin</dt>\n",
       "\t\t<dd>'128.206.116.250'</dd>\n",
       "\t<dt>$url</dt>\n",
       "\t\t<dd>'http://httpbin.org/get'</dd>\n",
       "</dl>\n"
      ],
      "text/latex": [
       "\\begin{description}\n",
       "\\item[\\$args] \\begin{description}\n",
       "\\end{description}\n",
       "\n",
       "\\item[\\$headers] \\begin{description}\n",
       "\\item[\\$Accept] 'application/json, text/xml, application/xml, */*'\n",
       "\\item[\\$`Accept-Encoding`] 'gzip, deflate'\n",
       "\\item[\\$Connection] 'close'\n",
       "\\item[\\$Host] 'httpbin.org'\n",
       "\\item[\\$`User-Agent`] 'libcurl/7.29.0 r-curl/1.1 httr/1.2.1'\n",
       "\\end{description}\n",
       "\n",
       "\\item[\\$origin] '128.206.116.250'\n",
       "\\item[\\$url] 'http://httpbin.org/get'\n",
       "\\end{description}\n"
      ],
      "text/markdown": [
       "$args\n",
       ":   \n",
       "\n",
       "\n",
       "$headers\n",
       ":   $Accept\n",
       ":   'application/json, text/xml, application/xml, */*'\n",
       "$`Accept-Encoding`\n",
       ":   'gzip, deflate'\n",
       "$Connection\n",
       ":   'close'\n",
       "$Host\n",
       ":   'httpbin.org'\n",
       "$`User-Agent`\n",
       ":   'libcurl/7.29.0 r-curl/1.1 httr/1.2.1'\n",
       "\n",
       "\n",
       "\n",
       "$origin\n",
       ":   '128.206.116.250'\n",
       "$url\n",
       ":   'http://httpbin.org/get'\n",
       "\n",
       "\n"
      ],
      "text/plain": [
       "$args\n",
       "named list()\n",
       "\n",
       "$headers\n",
       "$headers$Accept\n",
       "[1] \"application/json, text/xml, application/xml, */*\"\n",
       "\n",
       "$headers$`Accept-Encoding`\n",
       "[1] \"gzip, deflate\"\n",
       "\n",
       "$headers$Connection\n",
       "[1] \"close\"\n",
       "\n",
       "$headers$Host\n",
       "[1] \"httpbin.org\"\n",
       "\n",
       "$headers$`User-Agent`\n",
       "[1] \"libcurl/7.29.0 r-curl/1.1 httr/1.2.1\"\n",
       "\n",
       "\n",
       "$origin\n",
       "[1] \"128.206.116.250\"\n",
       "\n",
       "$url\n",
       "[1] \"http://httpbin.org/get\"\n"
      ]
     },
     "metadata": {},
     "output_type": "display_data"
    }
   ],
   "source": [
    "## specify encoding optional (defaults to UTF-8)\n",
    "txt <- httr::content(r, as = \"text\", encoding = \"UTF-8\")\n",
    "\n",
    "## convert json text to R list object\n",
    "jsonlite::fromJSON(txt)"
   ]
  },
  {
   "cell_type": "markdown",
   "metadata": {},
   "source": [
    "When HTML markup (XML) is returned, it's best to convert the response object to an `xml_document()` (and then extract nodes using the [{rvest}](https://github.com/hadley/rvest) package."
   ]
  },
  {
   "cell_type": "code",
   "execution_count": 11,
   "metadata": {},
   "outputs": [
    {
     "data": {
      "text/plain": [
       "{xml_document}\n",
       "<html>\n",
       "[1] <body><slideshow title=\"Sample Slide Show\" date=\"Date of publication\" aut ..."
      ]
     },
     "metadata": {},
     "output_type": "display_data"
    }
   ],
   "source": [
    "## GET xml content\n",
    "r <- httr::GET(\"http://httpbin.org/xml\")\n",
    "\n",
    "## convert to xml_document\n",
    "xml2::read_html(r)"
   ]
  },
  {
   "cell_type": "markdown",
   "metadata": {},
   "source": [
    "## Authorization (ouath) methods\n",
    "\n",
    "To interact with many APIs, users must be authorized. This process includes providing a unique key or token. The method used by Twitter (OAuth 1.0) is explained in greater detail in [lab 2.2](oauth.ipynb)."
   ]
  }
 ],
 "metadata": {
  "kernelspec": {
   "display_name": "R",
   "language": "R",
   "name": "ir"
  },
  "language_info": {
   "codemirror_mode": "r",
   "file_extension": ".r",
   "mimetype": "text/x-r-source",
   "name": "R",
   "pygments_lexer": "r",
   "version": "3.4.1"
  }
 },
 "nbformat": 4,
 "nbformat_minor": 2
}
