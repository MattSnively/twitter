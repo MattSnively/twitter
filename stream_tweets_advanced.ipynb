{
 "cells": [
  {
   "cell_type": "markdown",
   "metadata": {},
   "source": [
    "# Module 4: Exercises\n",
    "\n",
    "This week's exercises examines different methods of collecting Twitter data in realtime. Before we start doing any specific tasks, load rtweet and the tidyverse."
   ]
  },
  {
   "cell_type": "code",
   "execution_count": 1,
   "metadata": {
    "collapsed": true
   },
   "outputs": [],
   "source": [
    "library(rtweet)\n",
    "suppressPackageStartupMessages(library(tidyverse))"
   ]
  },
  {
   "cell_type": "markdown",
   "metadata": {},
   "source": [
    "### 1. Use the `statuses/sample` API to stream a \"random sample\" of tweets for 5 minutes."
   ]
  },
  {
   "cell_type": "code",
   "execution_count": 2,
   "metadata": {
    "scrolled": true
   },
   "outputs": [
    {
     "name": "stderr",
     "output_type": "stream",
     "text": [
      "Streaming tweets for 300 seconds...\n"
     ]
    },
    {
     "name": "stdout",
     "output_type": "stream",
     "text": [
      "Downloading: 2.7 MB       "
     ]
    },
    {
     "name": "stderr",
     "output_type": "stream",
     "text": [
      "Finished streaming tweets!\n",
      "opening file input connection.\n"
     ]
    },
    {
     "name": "stdout",
     "output_type": "stream",
     "text": [
      "\r",
      " Found 500 records...\r",
      " Found 1000 records...\r",
      " Found 1500 records...\r",
      " Found 1749 records...\r",
      " Imported 1749 records. Simplifying...\n"
     ]
    },
    {
     "name": "stderr",
     "output_type": "stream",
     "text": [
      "closing file input connection.\n"
     ]
    }
   ],
   "source": [
    "st1 <- stream_tweets(timeout = 60 * 5)"
   ]
  },
  {
   "cell_type": "markdown",
   "metadata": {},
   "source": [
    "### 2. Come up with your own method of exploiting the `statuses/filter/track` API to get as many tweets as indiscriminately as you can for 5 minutes."
   ]
  },
  {
   "cell_type": "code",
   "execution_count": 3,
   "metadata": {},
   "outputs": [
    {
     "name": "stderr",
     "output_type": "stream",
     "text": [
      "Streaming tweets for 300 seconds...\n"
     ]
    },
    {
     "name": "stdout",
     "output_type": "stream",
     "text": [
      "Downloading: 6.7 MB       "
     ]
    },
    {
     "name": "stderr",
     "output_type": "stream",
     "text": [
      "Finished streaming tweets!\n",
      "opening file input connection.\n"
     ]
    },
    {
     "name": "stdout",
     "output_type": "stream",
     "text": [
      "\r",
      " Found 500 records...\r",
      " Found 1000 records...\r",
      " Found 1500 records...\r",
      " Found 2000 records...\r",
      " Found 2500 records...\r",
      " Found 3000 records...\r",
      " Found 3500 records...\r",
      " Found 3721 records...\r",
      " Imported 3721 records. Simplifying...\n"
     ]
    },
    {
     "name": "stderr",
     "output_type": "stream",
     "text": [
      "closing file input connection.\n"
     ]
    }
   ],
   "source": [
    "## complete the code below\n",
    "## I chose the top trending items from the time of my stream\n",
    "qtrend <- \"shaun white,#bachelorwintergames,#internetfriendsday,#blacklightning,#rexcomus,gold,michael cohen,#RHOBH,steven adams\"\n",
    "\n",
    "st2 <- stream_tweets(qtrend, timeout = 60 * 5)"
   ]
  },
  {
   "cell_type": "markdown",
   "metadata": {},
   "source": [
    "### 3. Let's compare the two methods above with a generous query using `search_tweets()`."
   ]
  },
  {
   "cell_type": "code",
   "execution_count": 4,
   "metadata": {},
   "outputs": [
    {
     "name": "stderr",
     "output_type": "stream",
     "text": [
      "Searching for tweets...\n",
      "This may take a few seconds...\n",
      "Finished collecting tweets!\n"
     ]
    }
   ],
   "source": [
    "st3 <- search_tweets(\n",
    "    \"lang:de OR lang:el OR lang:hi OR lang:ko OR lang:it OR lang:af OR lang:und OR lang:tr OR lang:ru OR lang:pt OR lang:ja OR lang:in OR lang:fr OR lang:es OR lang:en OR lang:ar\",\n",
    "    n = 13000)"
   ]
  },
  {
   "cell_type": "markdown",
   "metadata": {},
   "source": [
    "### 4. Merge the tweets data with the users data for each of the 3 data sets gathered in 1-3."
   ]
  },
  {
   "cell_type": "code",
   "execution_count": 5,
   "metadata": {
    "collapsed": true
   },
   "outputs": [],
   "source": [
    "## function to join\n",
    "join_rtweet <- function(x) {\n",
    "    users <- users_data(x)\n",
    "    users <- users[, names(users) != \"screen_name\"]\n",
    "    users <- users[!duplicated(users$user_id), ]\n",
    "    dplyr::left_join(x, users, by = \"user_id\")\n",
    "}\n",
    "\n",
    "## merge tweets and users data for each\n",
    "st1 <- join_rtweet(st1)\n",
    "st2 <- join_rtweet(st2)\n",
    "st3 <- join_rtweet(st3)"
   ]
  },
  {
   "cell_type": "markdown",
   "metadata": {},
   "source": [
    "### 5. (a) Create a new variable named `stream_method` for each of the data sets. Using the strings `\"statuses/sample\"`, `\"statuses/filter/track\"`, and `\"statuses/filter/locations\"`, assign the values for the new variable in each data set appropriately. (b) Merge all three data sets into a single data set."
   ]
  },
  {
   "cell_type": "code",
   "execution_count": 6,
   "metadata": {
    "collapsed": true
   },
   "outputs": [],
   "source": [
    "## create stream_method variable\n",
    "st1$stream_method <- \"statuses/sample\"\n",
    "st2$stream_method <- \"statuses/filter/track\"\n",
    "st3$stream_method <- \"statuses/filter/locations\"\n",
    "## bind by row all three data sets\n",
    "st <- rbind(st1, st2, st3)"
   ]
  },
  {
   "cell_type": "markdown",
   "metadata": {},
   "source": [
    "### 6. Extract the following features as numeric variables (use names in parentheses when provided):\n",
    "+ is_retweet \n",
    "+ is_quote\n",
    "+ is_reply (reply_to_status_id)\n",
    "+ is_verified (verified)\n",
    "+ tweet_chars (text)\n",
    "+ bio_chars (description)\n",
    "+ hashtags (hashtags),\n",
    "+ mentions (mentions_user_id)\n",
    "+ lang_en (lang)\n",
    "+ lang_pt (lang)\n",
    "+ lang_es (lang)\n",
    "+ lang_ja (lang)\n",
    "+ lang_other (lang)\n",
    "\n",
    "Hint: use the function `count_elems()` defined below to count the number of hashtags, mentions, and media attachments."
   ]
  },
  {
   "cell_type": "code",
   "execution_count": 7,
   "metadata": {
    "collapsed": true,
    "scrolled": true
   },
   "outputs": [],
   "source": [
    "## create function to count number of hashtags, media attachments, and mentions\n",
    "count_elems <- function(x) {\n",
    "    sapply(x, function(x) {\n",
    "        ifelse(length(x) == 0L || (length(x) == 1L && is.na(x)), \n",
    "               0L, length(x))\n",
    "    })\n",
    "}\n",
    "\n",
    "st_features <- st %>%\n",
    "    mutate(\n",
    "        account_created_at = as.numeric(account_created_at),\n",
    "        ## I converted the account creation date to years from the oldest account's origin date\n",
    "        account_created_at = (max(account_created_at) - account_created_at) / (60 * 60 * 24 * 365),\n",
    "        is_retweet = as.integer(is_retweet),\n",
    "        is_quote = as.integer(is_quote),\n",
    "        is_reply = as.integer(!is.na(reply_to_status_id)),\n",
    "        is_verified = as.integer(verified),\n",
    "        tweet_chars = stringi::stri_width(text),\n",
    "        bio_chars = ifelse(is.na(description), 0L, stringi::stri_width(description)),\n",
    "        hashtags = count_elems(hashtags),\n",
    "        mentions = count_elems(mentions_user_id),\n",
    "        medias = count_elems(ext_media_url),\n",
    "        lang_en = as.integer(lang == \"en\"),\n",
    "        lang_pt = as.integer(lang == \"pt\"),\n",
    "        lang_es = as.integer(lang == \"es\"),\n",
    "        lang_ja = as.integer(lang == \"ja\"),\n",
    "        lang_other = as.integer(!lang %in% c(\"en\", \"pt\", \"es\", \"ja\"))) %>%\n",
    "    mutate_if(is.integer, as.numeric) %>%\n",
    "    select(stream_method, account_created_at, is_retweet, is_quote, is_reply,\n",
    "           is_verified, tweet_chars, bio_chars, hashtags, mentions, medias, lang_en:lang_other)\n"
   ]
  },
  {
   "cell_type": "markdown",
   "metadata": {},
   "source": [
    "### 7. Group by stream_method, summarise, and plot displaying the mean of each streaming method for each numeric variable."
   ]
  },
  {
   "cell_type": "code",
   "execution_count": 8,
   "metadata": {
    "scrolled": false
   },
   "outputs": [
    {
     "data": {},
     "metadata": {},
     "output_type": "display_data"
    },
    {
     "data": {
      "image/png": "[encoded data removed]",
      "text/plain": [
       "plot without title"
      ]
     },
     "metadata": {},
     "output_type": "display_data"
    }
   ],
   "source": [
    "## group, summarise, and then plot\n",
    "## group, summarise, and then plot\n",
    "st_features %>%\n",
    "    group_by(stream_method) %>%\n",
    "    summarise_if(is.numeric, mean) %>%\n",
    "    gather(var, mean, -stream_method) %>%\n",
    "    ggplot(aes(x = var, y = mean, fill = stream_method)) + \n",
    "    geom_col(size = .1, colour = \"black\", width = .7, \n",
    "             position = position_dodge(width = .8)) + \n",
    "    theme_minimal() + \n",
    "    facet_wrap( ~ var, scales = \"free\", ncol = 4) + \n",
    "    theme(plot.title = element_text(face = \"bold\"),\n",
    "          legend.position = \"bottom\", \n",
    "          axis.text.y = element_blank(),\n",
    "          legend.title = element_blank(),\n",
    "          strip.text = element_blank()) + \n",
    "    labs(title = \"Comparing collection methods of realtime Twitter data\",\n",
    "        subtitle = \"Mean estimates of features across three methods\",\n",
    "        x = NULL, y = NULL)"
   ]
  },
  {
   "cell_type": "markdown",
   "metadata": {},
   "source": [
    "### 8. Based on the graphic you created in the previous step, which method would be best if the goal was to get a representative snapshot on Twitter? There is no wrong answer here. Briefly describe strengths and weaknesses of each and then make a judgment call."
   ]
  },
  {
   "cell_type": "markdown",
   "metadata": {},
   "source": [
    "> type your answer below - it should probably take you around 6-10 sentences\n"
   ]
  },
  {
   "cell_type": "markdown",
   "metadata": {},
   "source": [
    "Unlike in the practice, I'll use process of elimination to find the best method this time. \n",
    "\n",
    "First, using the \"trending\" method is great for pulling hashtags, retweets, and quotes... but it's REALLY limited to English language tweets. So if you want a good representation of English language tweets, it's ideal... but since it eliminates such a large portion of all other tweets, it's out.\n",
    "\n",
    "The other two methods look very similar in results--the random sample pulled more quoted tweets, but fewer replies. Random sampled slightly more hashtags, but fewer verified users. I think the verified user stat might be misleading--there are proportionately very few verified users compared to the overall number of users, so I think having a lower count there might not be so bad. I think that pushes me into thinking the random sample is best for a representative snapshot. It's well-balanced in many categories, as one would expect from a random sampling. "
   ]
  }
 ],
 "metadata": {
  "kernelspec": {
   "display_name": "R",
   "language": "R",
   "name": "ir"
  },
  "language_info": {
   "codemirror_mode": "r",
   "file_extension": ".r",
   "mimetype": "text/x-r-source",
   "name": "R",
   "pygments_lexer": "r",
   "version": "3.4.1"
  }
 },
 "nbformat": 4,
 "nbformat_minor": 2
}
