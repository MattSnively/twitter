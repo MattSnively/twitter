{
 "cells": [
  {
   "cell_type": "markdown",
   "metadata": {},
   "source": [
    "# Module 3 practice"
   ]
  },
  {
   "cell_type": "code",
   "execution_count": 1,
   "metadata": {
    "collapsed": true
   },
   "outputs": [],
   "source": [
    "## make sure rtweet is installed and added to lib path\n",
    "source(\"../rlib.R\")\n",
    "\n",
    "## load rtweet and tidyverse\n",
    "library(rtweet)\n",
    "suppressPackageStartupMessages(library(tidyverse))"
   ]
  },
  {
   "cell_type": "markdown",
   "metadata": {},
   "source": [
    "## 1. Search for the top account matching each of the following queries: fox news, msnbc, cnn"
   ]
  },
  {
   "cell_type": "code",
   "execution_count": 2,
   "metadata": {
    "scrolled": true
   },
   "outputs": [],
   "source": [
    "## search for users\n",
    "foxnews <- search_users(\"fox news\", n = 1, verbose = FALSE)\n",
    "msnbc <- search_users(\"msnbc\", n = 1, verbose = FALSE)\n",
    "cnn <- search_users(\"cnn\", n = 1, verbose = FALSE)"
   ]
  },
  {
   "cell_type": "markdown",
   "metadata": {},
   "source": [
    "## 2. Retrieve up to 1,000 user IDs of accounts that follow @FoxNews on Twitter. "
   ]
  },
  {
   "cell_type": "code",
   "execution_count": 3,
   "metadata": {
    "collapsed": true
   },
   "outputs": [],
   "source": [
    "## get followers\n",
    "gop <- get_followers(\"FoxNews\", n = 1000)"
   ]
  },
  {
   "cell_type": "markdown",
   "metadata": {},
   "source": [
    "## 3. Retrieve up to 1,000 user IDs of accounts that follow @msnbc on Twitter"
   ]
  },
  {
   "cell_type": "code",
   "execution_count": 4,
   "metadata": {
    "collapsed": true
   },
   "outputs": [],
   "source": [
    "## get followers\n",
    "dem <- get_followers(\"msnbc\", n = 1000)"
   ]
  },
  {
   "cell_type": "markdown",
   "metadata": {},
   "source": [
    "## 4. Retrieve up to 1,000 user IDs of accounts that follow @cnn on Twitter."
   ]
  },
  {
   "cell_type": "code",
   "execution_count": 5,
   "metadata": {
    "collapsed": true
   },
   "outputs": [],
   "source": [
    "## get followers\n",
    "mod <- get_followers(\"cnn\", n = 1000)"
   ]
  },
  {
   "cell_type": "markdown",
   "metadata": {},
   "source": [
    "## 5. Lookup users data for all 3,000 user IDs retrieved in the previous three questions."
   ]
  },
  {
   "cell_type": "code",
   "execution_count": 6,
   "metadata": {
    "collapsed": true
   },
   "outputs": [],
   "source": [
    "## get gop users data\n",
    "gop_data <- lookup_users(gop$user_id)"
   ]
  },
  {
   "cell_type": "code",
   "execution_count": 7,
   "metadata": {
    "collapsed": true
   },
   "outputs": [],
   "source": [
    "## get dem users data\n",
    "dem_data <- lookup_users(dem$user_id)"
   ]
  },
  {
   "cell_type": "code",
   "execution_count": 8,
   "metadata": {
    "collapsed": true
   },
   "outputs": [],
   "source": [
    "## get mod users data\n",
    "mod_data <- lookup_users(mod$user_id)"
   ]
  },
  {
   "cell_type": "markdown",
   "metadata": {},
   "source": [
    "## 6. Using the data collected in the last question, add a 'partisan' variable, identifying the observations for each group as \"gop\" (Republican), \"dem\" (Democrat), or \"mod\" (moderate). Merge the data into a single data frame."
   ]
  },
  {
   "cell_type": "code",
   "execution_count": 9,
   "metadata": {
    "collapsed": true
   },
   "outputs": [],
   "source": [
    "## create \"partisan\" grouping variable\n",
    "gop_data$partisan <- \"gop\"\n",
    "dem_data$partisan <- \"dem\"\n",
    "mod_data$partisan <- \"mod\"\n",
    "\n",
    "## merge into single data frame\n",
    "data <- bind_rows(gop_data, dem_data, mod_data)"
   ]
  },
  {
   "cell_type": "code",
   "execution_count": 14,
   "metadata": {},
   "outputs": [
    {
     "data": {
      "text/html": [
       "<table>\n",
       "<thead><tr><th scope=col>user_id</th><th scope=col>name</th><th scope=col>screen_name</th><th scope=col>location</th><th scope=col>description</th><th scope=col>url</th><th scope=col>protected</th><th scope=col>followers_count</th><th scope=col>friends_count</th><th scope=col>listed_count</th><th scope=col>⋯</th><th scope=col>favourites_count</th><th scope=col>account_created_at</th><th scope=col>verified</th><th scope=col>profile_url</th><th scope=col>profile_expanded_url</th><th scope=col>account_lang</th><th scope=col>profile_banner_url</th><th scope=col>profile_background_url</th><th scope=col>profile_image_url</th><th scope=col>partisan</th></tr></thead>\n",
       "<tbody>\n",
       "\t<tr><td>2986630051                                                                                                                        </td><td>Hank Yamamoto                                                                                                                     </td><td>hank2614                                                                                                                          </td><td>                                                                                                                                  </td><td>                                                                                                                                  </td><td>NA                                                                                                                                </td><td>FALSE                                                                                                                             </td><td>   3                                                                                                                              </td><td> 74                                                                                                                               </td><td>0                                                                                                                                 </td><td><U+22EF>                                                                                                                          </td><td>  3                                                                                                                               </td><td>2015-01-17 07:17:20                                                                                                               </td><td>FALSE                                                                                                                             </td><td>NA                                                                                                                                </td><td>NA                                                                                                                                </td><td>ja                                                                                                                                </td><td>NA                                                                                                                                </td><td>http://abs.twimg.com/images/themes/theme1/bg.png                                                                                  </td><td>http://pbs.twimg.com/profile_images/940847417607499777/nR9u9P1P_normal.jpg                                                        </td><td>gop                                                                                                                               </td></tr>\n",
       "\t<tr><td>1260912264                                                                                                                                                                </td><td>Lidice Ald&lt;U+00E1&gt;s                                                                                                                                                 </td><td>Lidicealdas64                                                                                                                                                             </td><td>Ecuador                                                                                                                                                                   </td><td><span style=white-space:pre-wrap>Concejal de Guayaquil  por Alianza Pais, Zurda tiempo completo. Seguidora de Sabina,  de la Pastorutti y de los amigos de siempre.</span></td><td>https://t.co/ZpkyPgVaJ7                                                                                                                                                   </td><td>FALSE                                                                                                                                                                     </td><td>1510                                                                                                                                                                      </td><td>774                                                                                                                                                                       </td><td>4                                                                                                                                                                         </td><td><U+22EF>                                                                                                                                                                  </td><td>139                                                                                                                                                                       </td><td>2013-03-12 02:40:38                                                                                                                                                       </td><td>FALSE                                                                                                                                                                     </td><td>https://t.co/ZpkyPgVaJ7                                                                                                                                                   </td><td>https://www.facebook.com/LidiceAldas                                                                                                                                      </td><td>es                                                                                                                                                                        </td><td>https://pbs.twimg.com/profile_banners/1260912264/1513133515                                                                                                               </td><td>http://abs.twimg.com/images/themes/theme1/bg.png                                                                                                                          </td><td>http://pbs.twimg.com/profile_images/900653132161658881/C-9QQsNj_normal.jpg                                                                                                </td><td>gop                                                                                                                                                                       </td></tr>\n",
       "</tbody>\n",
       "</table>\n"
      ],
      "text/latex": [
       "\\begin{tabular}{r|lllllllllllllllllllll}\n",
       " user\\_id & name & screen\\_name & location & description & url & protected & followers\\_count & friends\\_count & listed\\_count & ⋯ & favourites\\_count & account\\_created\\_at & verified & profile\\_url & profile\\_expanded\\_url & account\\_lang & profile\\_banner\\_url & profile\\_background\\_url & profile\\_image\\_url & partisan\\\\\n",
       "\\hline\n",
       "\t 2986630051                                                                                                                         & Hank Yamamoto                                                                                                                      & hank2614                                                                                                                           &                                                                                                                                    &                                                                                                                                    & NA                                                                                                                                 & FALSE                                                                                                                              &    3                                                                                                                               &  74                                                                                                                                & 0                                                                                                                                  & <U+22EF>                                                                                                                           &   3                                                                                                                                & 2015-01-17 07:17:20                                                                                                                & FALSE                                                                                                                              & NA                                                                                                                                 & NA                                                                                                                                 & ja                                                                                                                                 & NA                                                                                                                                 & http://abs.twimg.com/images/themes/theme1/bg.png                                                                                   & http://pbs.twimg.com/profile\\_images/940847417607499777/nR9u9P1P\\_normal.jpg                                                     & gop                                                                                                                               \\\\\n",
       "\t 1260912264                                                                                                                         & Lidice Ald<U+00E1>s                                                                                                                & Lidicealdas64                                                                                                                      & Ecuador                                                                                                                            & Concejal de Guayaquil  por Alianza Pais, Zurda tiempo completo. Seguidora de Sabina,  de la Pastorutti y de los amigos de siempre. & https://t.co/ZpkyPgVaJ7                                                                                                            & FALSE                                                                                                                              & 1510                                                                                                                               & 774                                                                                                                                & 4                                                                                                                                  & <U+22EF>                                                                                                                           & 139                                                                                                                                & 2013-03-12 02:40:38                                                                                                                & FALSE                                                                                                                              & https://t.co/ZpkyPgVaJ7                                                                                                            & https://www.facebook.com/LidiceAldas                                                                                               & es                                                                                                                                 & https://pbs.twimg.com/profile\\_banners/1260912264/1513133515                                                                      & http://abs.twimg.com/images/themes/theme1/bg.png                                                                                   & http://pbs.twimg.com/profile\\_images/900653132161658881/C-9QQsNj\\_normal.jpg                                                     & gop                                                                                                                               \\\\\n",
       "\\end{tabular}\n"
      ],
      "text/markdown": [
       "\n",
       "user_id | name | screen_name | location | description | url | protected | followers_count | friends_count | listed_count | ⋯ | favourites_count | account_created_at | verified | profile_url | profile_expanded_url | account_lang | profile_banner_url | profile_background_url | profile_image_url | partisan | \n",
       "|---|---|\n",
       "| 2986630051                                                                                                                         | Hank Yamamoto                                                                                                                      | hank2614                                                                                                                           |                                                                                                                                    |                                                                                                                                    | NA                                                                                                                                 | FALSE                                                                                                                              |    3                                                                                                                               |  74                                                                                                                                | 0                                                                                                                                  | <U+22EF>                                                                                                                           |   3                                                                                                                                | 2015-01-17 07:17:20                                                                                                                | FALSE                                                                                                                              | NA                                                                                                                                 | NA                                                                                                                                 | ja                                                                                                                                 | NA                                                                                                                                 | http://abs.twimg.com/images/themes/theme1/bg.png                                                                                   | http://pbs.twimg.com/profile_images/940847417607499777/nR9u9P1P_normal.jpg                                                         | gop                                                                                                                                | \n",
       "| 1260912264                                                                                                                         | Lidice Ald<U+00E1>s                                                                                                                | Lidicealdas64                                                                                                                      | Ecuador                                                                                                                            | Concejal de Guayaquil  por Alianza Pais, Zurda tiempo completo. Seguidora de Sabina,  de la Pastorutti y de los amigos de siempre. | https://t.co/ZpkyPgVaJ7                                                                                                            | FALSE                                                                                                                              | 1510                                                                                                                               | 774                                                                                                                                | 4                                                                                                                                  | <U+22EF>                                                                                                                           | 139                                                                                                                                | 2013-03-12 02:40:38                                                                                                                | FALSE                                                                                                                              | https://t.co/ZpkyPgVaJ7                                                                                                            | https://www.facebook.com/LidiceAldas                                                                                               | es                                                                                                                                 | https://pbs.twimg.com/profile_banners/1260912264/1513133515                                                                        | http://abs.twimg.com/images/themes/theme1/bg.png                                                                                   | http://pbs.twimg.com/profile_images/900653132161658881/C-9QQsNj_normal.jpg                                                         | gop                                                                                                                                | \n",
       "\n",
       "\n"
      ],
      "text/plain": [
       "  user_id    name                screen_name   location\n",
       "1 2986630051 Hank Yamamoto       hank2614              \n",
       "2 1260912264 Lidice Ald<U+00E1>s Lidicealdas64 Ecuador \n",
       "  description                                                                                                                       \n",
       "1                                                                                                                                   \n",
       "2 Concejal de Guayaquil  por Alianza Pais, Zurda tiempo completo. Seguidora de Sabina,  de la Pastorutti y de los amigos de siempre.\n",
       "  url                     protected followers_count friends_count listed_count\n",
       "1 NA                      FALSE        3             74           0           \n",
       "2 https://t.co/ZpkyPgVaJ7 FALSE     1510            774           4           \n",
       "  <U+22EF>   favourites_count account_created_at  verified\n",
       "1 <U+22EF>   3              2015-01-17 07:17:20 FALSE   \n",
       "2 <U+22EF> 139              2013-03-12 02:40:38 FALSE   \n",
       "  profile_url             profile_expanded_url                 account_lang\n",
       "1 NA                      NA                                   ja          \n",
       "2 https://t.co/ZpkyPgVaJ7 https://www.facebook.com/LidiceAldas es          \n",
       "  profile_banner_url                                         \n",
       "1 NA                                                         \n",
       "2 https://pbs.twimg.com/profile_banners/1260912264/1513133515\n",
       "  profile_background_url                          \n",
       "1 http://abs.twimg.com/images/themes/theme1/bg.png\n",
       "2 http://abs.twimg.com/images/themes/theme1/bg.png\n",
       "  profile_image_url                                                         \n",
       "1 http://pbs.twimg.com/profile_images/940847417607499777/nR9u9P1P_normal.jpg\n",
       "2 http://pbs.twimg.com/profile_images/900653132161658881/C-9QQsNj_normal.jpg\n",
       "  partisan\n",
       "1 gop     \n",
       "2 gop     "
      ]
     },
     "metadata": {},
     "output_type": "display_data"
    }
   ],
   "source": [
    "head(data,2)"
   ]
  },
  {
   "cell_type": "markdown",
   "metadata": {},
   "source": [
    "## 7. Group by partisan [group] and summarise the mean number of friends and followers for each group. Print the summary data. "
   ]
  },
  {
   "cell_type": "code",
   "execution_count": 10,
   "metadata": {
    "scrolled": true
   },
   "outputs": [
    {
     "data": {
      "text/html": [
       "<table>\n",
       "<thead><tr><th scope=col>partisan</th><th scope=col>friends</th><th scope=col>followers</th></tr></thead>\n",
       "<tbody>\n",
       "\t<tr><td>dem     </td><td>828.190 </td><td>3183.463</td></tr>\n",
       "\t<tr><td>gop     </td><td>188.604 </td><td> 263.757</td></tr>\n",
       "\t<tr><td>mod     </td><td>170.122 </td><td> 108.838</td></tr>\n",
       "</tbody>\n",
       "</table>\n"
      ],
      "text/latex": [
       "\\begin{tabular}{r|lll}\n",
       " partisan & friends & followers\\\\\n",
       "\\hline\n",
       "\t dem      & 828.190  & 3183.463\\\\\n",
       "\t gop      & 188.604  &  263.757\\\\\n",
       "\t mod      & 170.122  &  108.838\\\\\n",
       "\\end{tabular}\n"
      ],
      "text/markdown": [
       "\n",
       "partisan | friends | followers | \n",
       "|---|---|---|\n",
       "| dem      | 828.190  | 3183.463 | \n",
       "| gop      | 188.604  |  263.757 | \n",
       "| mod      | 170.122  |  108.838 | \n",
       "\n",
       "\n"
      ],
      "text/plain": [
       "  partisan friends followers\n",
       "1 dem      828.190 3183.463 \n",
       "2 gop      188.604  263.757 \n",
       "3 mod      170.122  108.838 "
      ]
     },
     "metadata": {},
     "output_type": "display_data"
    }
   ],
   "source": [
    "## PRINT: group by partisan and summarise friends and followers counts\n",
    "data %>%\n",
    "    group_by(partisan) %>%\n",
    "    summarise(\n",
    "        friends = mean(friends_count, na.rm = TRUE),\n",
    "        followers = mean(followers_count, na.rm = TRUE))"
   ]
  },
  {
   "cell_type": "markdown",
   "metadata": {},
   "source": [
    "## 8. Plot the summary data you calculated in the previous question."
   ]
  },
  {
   "cell_type": "code",
   "execution_count": 11,
   "metadata": {},
   "outputs": [
    {
     "data": {},
     "metadata": {},
     "output_type": "display_data"
    },
    {
     "data": {
      "image/png": "[encoded data removed]",
      "text/plain": [
       "plot without title"
      ]
     },
     "metadata": {},
     "output_type": "display_data"
    }
   ],
   "source": [
    "## PLOT: group by partisan and summarise integer vars\n",
    "data %>%\n",
    "    mutate(Following = factor(partisan, labels = c(\"MSNBC\", \"FoxNews\", \"CNN\"))) %>%\n",
    "    group_by(Following) %>%\n",
    "    summarise(\n",
    "        friends = mean(friends_count, na.rm = TRUE),\n",
    "        followers = mean(followers_count, na.rm = TRUE)) %>%\n",
    "    gather(var, count, -Following) %>%\n",
    "    ggplot(aes(x = Following, y = count, fill = Following)) + \n",
    "    geom_col() + \n",
    "    facet_wrap(~ var, ncol = 2, scales = \"free_y\") + \n",
    "    theme_bw(base_size = 10) + \n",
    "    theme(plot.title = element_text(face = \"bold\")) + \n",
    "    scale_fill_manual(values = c(FoxNews = \"red2\", MSNBC = \"blue\", CNN = \"purple\")) + \n",
    "    labs(\n",
    "        title = \"User stats for followers of MSNBC, FoxNews, and CNN\",\n",
    "        subtitle = \"Mean number of friends and followers by group (n = 1000)\", \n",
    "        x = NULL, y = \"Count\")"
   ]
  },
  {
   "cell_type": "markdown",
   "metadata": {},
   "source": [
    "## 9. From the data returned in the previous three questions, randomly select 5 users from each group (gop, dem, and mod). Prior to sampling, make sure to remove all users that (a) appear in more than one group or (b) have \"protected\" accounts. Combine all sampled users into a single data frame that includes a 'group' variable to identify each observation with its respective group (gop, dem, or mod)."
   ]
  },
  {
   "cell_type": "code",
   "execution_count": 12,
   "metadata": {
    "collapsed": true
   },
   "outputs": [],
   "source": [
    "## function to filter and then randomly sample user IDs\n",
    "rsamp_uq <- function(..., n) {\n",
    "    dots <- list(...)\n",
    "    groups <- names(dots)\n",
    "    user_ids <- lapply(dots, \"[[\", \"user_id\")\n",
    "    for (i in seq_along(dots)) {\n",
    "        ## filter out users found in other groups and protected users\n",
    "        dots[[i]] <- filter(\n",
    "            dots[[i]], \n",
    "            !user_id %in% unlist(user_ids[-i]) & !protected\n",
    "        )\n",
    "        dots[[i]]$group <- groups[i]\n",
    "    }\n",
    "    sample_users <- function(x, n) x[x$user_id %in% sample(x$user_id, n), ]\n",
    "    out <- lapply(dots, sample_users, n)\n",
    "    bind_rows(out)\n",
    "}\n",
    "\n",
    "## filter and sample 5 from each group\n",
    "smps <- rsamp_uq(gop = gop_data, dem = dem_data, mod = mod_data, n = 5)"
   ]
  },
  {
   "cell_type": "markdown",
   "metadata": {},
   "source": [
    "## 10. Get the friends of each account sampled in the previous question. Identify the top 3 accounts followed by users in each group and then print a frequency table with their screen names."
   ]
  },
  {
   "cell_type": "code",
   "execution_count": 13,
   "metadata": {
    "scrolled": false
   },
   "outputs": [
    {
     "data": {
      "text/html": [
       "<table>\n",
       "<thead><tr><th scope=col>group</th><th scope=col>freq</th></tr></thead>\n",
       "<tbody>\n",
       "\t<tr><td>dem                            </td><td>ogtrekkie, amsgarcia, lorabk   </td></tr>\n",
       "\t<tr><td>gop                                              </td><td>AshleyRange3   , andy4neli      , JasonWa52902467</td></tr>\n",
       "\t<tr><td>mod                                              </td><td>muhammadbelal78, Azimk112       , Kojo_CFC       </td></tr>\n",
       "</tbody>\n",
       "</table>\n"
      ],
      "text/latex": [
       "\\begin{tabular}{r|ll}\n",
       " group & freq\\\\\n",
       "\\hline\n",
       "\t dem                             & ogtrekkie, amsgarcia, lorabk   \\\\\n",
       "\t gop                                               & AshleyRange3   , andy4neli      , JasonWa52902467\\\\\n",
       "\t mod                                                 & muhammadbelal78, Azimk112       , Kojo\\_CFC       \\\\\n",
       "\\end{tabular}\n"
      ],
      "text/markdown": [
       "\n",
       "group | freq | \n",
       "|---|---|---|\n",
       "| dem                             | ogtrekkie, amsgarcia, lorabk    | \n",
       "| gop                                               | AshleyRange3   , andy4neli      , JasonWa52902467 | \n",
       "| mod                                               | muhammadbelal78, Azimk112       , Kojo_CFC        | \n",
       "\n",
       "\n"
      ],
      "text/plain": [
       "  group freq                                             \n",
       "1 dem   ogtrekkie, amsgarcia, lorabk                     \n",
       "2 gop   AshleyRange3   , andy4neli      , JasonWa52902467\n",
       "3 mod   muhammadbelal78, Azimk112       , Kojo_CFC       "
      ]
     },
     "metadata": {},
     "output_type": "display_data"
    }
   ],
   "source": [
    "## get friends for each sampled user\n",
    "fds <- lapply(smps$user_id, get_friends, verbose = FALSE)\n",
    "\n",
    "## add the list of data frames to smps as a list column\n",
    "smps$fds <- I(fds)\n",
    "\n",
    "## create function to identify the top 3 accounts and then lookup their screen names\n",
    "get_top_names <- function(x, n = 3) {\n",
    "    tbl <- sort(table(unlist(x)), decreasing = TRUE)\n",
    "    if (length(tbl) > n) {\n",
    "        tbl <- tbl[seq_len(n)]\n",
    "    }\n",
    "    sns <- lookup_users(names(tbl))\n",
    "    sns$screen_name\n",
    "}\n",
    "\n",
    "## print out top 3 screen names associated with each group\n",
    "smps %>% \n",
    "    group_by(group) %>%\n",
    "    summarise(\n",
    "        freq = list(get_top_names(fds))\n",
    "    )"
   ]
  },
  {
   "cell_type": "code",
   "execution_count": null,
   "metadata": {
    "collapsed": true
   },
   "outputs": [],
   "source": []
  }
 ],
 "metadata": {
  "kernelspec": {
   "display_name": "R",
   "language": "R",
   "name": "ir"
  },
  "language_info": {
   "codemirror_mode": "r",
   "file_extension": ".r",
   "mimetype": "text/x-r-source",
   "name": "R",
   "pygments_lexer": "r",
   "version": "3.4.1"
  }
 },
 "nbformat": 4,
 "nbformat_minor": 2
}
