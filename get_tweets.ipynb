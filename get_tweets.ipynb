{
 "cells": [
  {
   "cell_type": "markdown",
   "metadata": {},
   "source": [
    "## Lab 3.3: Tweets\n",
    "\n",
    "This lab (a) [{rtweet}](http://rtweet.info) functions that return data related to Twitter statuses (`search_tweets()`, `get_timeline()`, `get_favorites()`, and `lookup_tweets()`) and (b) provides an overview of features found in tweets data.\n",
    "\n",
    "But, first, make sure rtweet is installed (see: [Lab 3.0: rtweet](rtweet.ipynb)) and loaded."
   ]
  },
  {
   "cell_type": "code",
   "execution_count": 4,
   "metadata": {
    "collapsed": true
   },
   "outputs": [],
   "source": [
    "## source rlib script\n",
    "source(\"../rlib.R\")\n",
    "\n",
    "## load rtweet\n",
    "library(rtweet)"
   ]
  },
  {
   "cell_type": "markdown",
   "metadata": {},
   "source": [
    "### search_tweets\n",
    "\n",
    "The rtweet function we will use to search for tweets is `search_tweets()`. It's similar to the one we built last week, but it has some nice features that make it easier to collect thousands of tweets at a time.\n",
    "\n",
    "To access the `search/tweets` API with rtweet, use the `search_tweets()` function. For a description of the parameters accepted by `search_tweets()`, execute the following code block:"
   ]
  },
  {
   "cell_type": "code",
   "execution_count": 3,
   "metadata": {
    "collapsed": true
   },
   "outputs": [],
   "source": [
    "?search_tweets"
   ]
  },
  {
   "cell_type": "markdown",
   "metadata": {},
   "source": [
    "The example code below uses `search_tweets()` to search for up to 200 statuses using the keyword \"rstats\". I've included `verbose = FALSE` to suppress the processing-notification message (an aesthetically driven decision; the message is a little clumsy and shows up with a red background in jupyterhub)."
   ]
  },
  {
   "cell_type": "code",
   "execution_count": 5,
   "metadata": {},
   "outputs": [],
   "source": [
    "## search tweets (q = search query; n = desired number of tweets to return)\n",
    "rt <- search_tweets(q = \"rstats\", n = 200, verbose = FALSE)"
   ]
  },
  {
   "cell_type": "markdown",
   "metadata": {},
   "source": [
    "There is also some support for advanced query functionality. For example, search for any mention of one or more keywords:"
   ]
  },
  {
   "cell_type": "code",
   "execution_count": 6,
   "metadata": {},
   "outputs": [
    {
     "name": "stderr",
     "output_type": "stream",
     "text": [
      "Searching for tweets...\n",
      "Finished collecting tweets!\n"
     ]
    }
   ],
   "source": [
    "## search for any mention of a list of words\n",
    "rt <- search_tweets(\"statistics OR statistical OR quantitative\")"
   ]
  },
  {
   "cell_type": "markdown",
   "metadata": {},
   "source": [
    "Or drop retweets and specify the language of the tweets to return."
   ]
  },
  {
   "cell_type": "code",
   "execution_count": 7,
   "metadata": {},
   "outputs": [
    {
     "name": "stderr",
     "output_type": "stream",
     "text": [
      "Searching for tweets...\n",
      "Finished collecting tweets!\n"
     ]
    }
   ],
   "source": [
    "## search for tweets in english that are not retweets\n",
    "rt <- search_tweets(\"statistics OR statistical OR quantitative\", lang = \"en\", include_rts = FALSE)"
   ]
  },
  {
   "cell_type": "markdown",
   "metadata": {},
   "source": [
    "### get_timeline\n",
    "\n",
    "To get tweets posted by a specific user, use the `get_timeline()` function. The timeline includes all original, quoted, and retweeted tweets posted by a user. Twitter's API limits us to the most recent 3,200 tweets posted by a user. For a description of the parameters accepted by `get_timeline()`, execute the following code block:"
   ]
  },
  {
   "cell_type": "code",
   "execution_count": 6,
   "metadata": {
    "collapsed": true
   },
   "outputs": [],
   "source": [
    "?get_timeline"
   ]
  },
  {
   "cell_type": "markdown",
   "metadata": {},
   "source": [
    "The use of `get_timeline()` is fairly straight forward. Provide the user ID or screen name of the desired user. And then specify the number of tweets to return, with 3,200 being the max."
   ]
  },
  {
   "cell_type": "code",
   "execution_count": 8,
   "metadata": {
    "collapsed": true
   },
   "outputs": [],
   "source": [
    "cnn <- get_timeline(\"cnn\", n = 3200)"
   ]
  },
  {
   "cell_type": "markdown",
   "metadata": {},
   "source": [
    "### get_favorites\n",
    "\n",
    "To get the tweets favorited by a specific user, use the `get_favorites()` function. Twitter's API limits users to the most recent 3,000 favorited tweets by a user. For a description of the parameters accepted by `get_favorites()`, execute the following code block:"
   ]
  },
  {
   "cell_type": "code",
   "execution_count": 8,
   "metadata": {
    "collapsed": true
   },
   "outputs": [],
   "source": [
    "?get_favorites"
   ]
  },
  {
   "cell_type": "markdown",
   "metadata": {},
   "source": [
    "The use of `get_favorites()` is again fairly straight forward. Provide the user ID or screen name of the desired user. And then specify the number of tweets to return, with 3,000 being the max."
   ]
  },
  {
   "cell_type": "code",
   "execution_count": 9,
   "metadata": {},
   "outputs": [
    {
     "ename": "ERROR",
     "evalue": "Error in (function (user, n = 200, since_id = NULL, max_id = NULL, parse = TRUE, : object 'count' not found\n",
     "output_type": "error",
     "traceback": [
      "Error in (function (user, n = 200, since_id = NULL, max_id = NULL, parse = TRUE, : object 'count' not found\nTraceback:\n",
      "1. get_favorites(\"jack\", n = 3000)",
      "2. do.call(\"get_favorites_call\", args)",
      "3. get_favorites_call(user = \"jack\", n = 3000, since_id = NULL, \n .     max_id = NULL, parse = TRUE, token = NULL)",
      "4. Map(get_favorites_, user = user, n = n, parse = parse, token = list(token))",
      "5. mapply(FUN = f, ..., SIMPLIFY = FALSE)",
      "6. (function (user, n = 200, since_id = NULL, max_id = NULL, parse = TRUE, \n .     token = NULL) \n . {\n .     query <- \"favorites/list\"\n .     if (n > 3000) {\n .         warning(paste0(\"n exceeds max favs returned per \", \"token. Setting n to 3000...\"), \n .             call. = FALSE)\n .         n <- 3000\n .         count <- 200\n .     }\n .     else if (n < 200) {\n .         count <- n\n .     }\n .     n.times <- rate_limit(token, query)[[\"remaining\"]]\n .     if (n.times == 0L) \n .         stop(\"rate limit exceeded\", call. = FALSE)\n .     params <- list(user_type = user, count = count, tweet_mode = \"extended\")\n .     names(params)[1] <- .id_type(user)\n .     url <- make_url(query = query, param = params)\n .     fav <- scroller(url, n, n.times, type = \"timeline\", token)\n .     if (parse) {\n .         fav <- tweets_with_users(fav)\n .         usr <- users_data(fav)\n .         if (nrow(usr) > 0L) {\n .             uq <- !duplicated(usr$user_id)\n .             attr(fav, \"users\") <- usr[uq, ]\n .         }\n .     }\n .     fav\n . })(user = dots[[1L]][[1L]], n = dots[[2L]][[1L]], parse = dots[[3L]][[1L]], \n .     token = dots[[4L]][[1L]])"
     ]
    }
   ],
   "source": [
    "jack_favs <- get_favorites(\"jack\", n = 3000)"
   ]
  },
  {
   "cell_type": "markdown",
   "metadata": {},
   "source": [
    "### lookup_tweets (or lookup_statuses)\n",
    "\n",
    "If you already have a vector of `status_id` and you'd like to fetch their associated data (text of the tweet, time of the tweet, number of favorites and retweets, etc.), use the `lookup_tweets()` (or `lookup_statuses()` an identical function that uses language closer to Twitter's API) function. For a description of the parameters accepted by `lookup_tweets()`, execute the following code block:"
   ]
  },
  {
   "cell_type": "code",
   "execution_count": null,
   "metadata": {
    "collapsed": true
   },
   "outputs": [],
   "source": [
    "?lookup_tweets"
   ]
  },
  {
   "cell_type": "markdown",
   "metadata": {},
   "source": [
    "For a quick example of how `lookup_tweets()` works, the code below looks up tweets data for four different controversial tweets posted by @realDonaldTrump:"
   ]
  },
  {
   "cell_type": "code",
   "execution_count": 10,
   "metadata": {
    "collapsed": true
   },
   "outputs": [],
   "source": [
    "## lookup tweets using status IDs\n",
    "status_ids <- c(\"947235015343202304\", \"947592785519173637\", \"948359545767841792\", \"832945737625387008\")\n",
    "twt <- lookup_tweets(status_ids)"
   ]
  },
  {
   "cell_type": "code",
   "execution_count": null,
   "metadata": {
    "collapsed": true
   },
   "outputs": [],
   "source": []
  }
 ],
 "metadata": {
  "kernelspec": {
   "display_name": "R",
   "language": "R",
   "name": "ir"
  },
  "language_info": {
   "codemirror_mode": "r",
   "file_extension": ".r",
   "mimetype": "text/x-r-source",
   "name": "R",
   "pygments_lexer": "r",
   "version": "3.4.1"
  }
 },
 "nbformat": 4,
 "nbformat_minor": 2
}
